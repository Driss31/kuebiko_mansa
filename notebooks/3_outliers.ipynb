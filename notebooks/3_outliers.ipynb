{
 "cells": [
  {
   "cell_type": "markdown",
   "metadata": {},
   "source": [
    "I have decided to move forward on Problem B: Predict the next week's outgoing given the past 3 months (12 weeks) - for the following reasons:\n",
    "- Aggregating data by week allows to see more seasonality compared to a month aggregation. In one hand, we are allowed to use 12 weeks == 3 months. Hence we might see some seasonality over the first week of each month, or the last. In the other hand we are allowed to use only 6 months, so we can't anticipate some obvious incomes like end of the year bonuses of yearly salary increase...\n",
    "- We have more expenses data (16406 compared to 2439 for incomes)\n",
    "- Having a week without any expense in a group of 12 weeks may be less impactful than having a month without income in a group of 6 months."
   ]
  },
  {
   "cell_type": "code",
   "execution_count": 5,
   "metadata": {},
   "outputs": [
    {
     "data": {
      "application/javascript": [
       "\n",
       "            setTimeout(function() {\n",
       "                var nbb_cell_id = 5;\n",
       "                var nbb_unformatted_code = \"%reload_ext nb_black\";\n",
       "                var nbb_formatted_code = \"%reload_ext nb_black\";\n",
       "                var nbb_cells = Jupyter.notebook.get_cells();\n",
       "                for (var i = 0; i < nbb_cells.length; ++i) {\n",
       "                    if (nbb_cells[i].input_prompt_number == nbb_cell_id) {\n",
       "                        if (nbb_cells[i].get_text() == nbb_unformatted_code) {\n",
       "                             nbb_cells[i].set_text(nbb_formatted_code);\n",
       "                        }\n",
       "                        break;\n",
       "                    }\n",
       "                }\n",
       "            }, 500);\n",
       "            "
      ],
      "text/plain": [
       "<IPython.core.display.Javascript object>"
      ]
     },
     "metadata": {},
     "output_type": "display_data"
    },
    {
     "data": {
      "application/javascript": [
       "\n",
       "            setTimeout(function() {\n",
       "                var nbb_cell_id = 5;\n",
       "                var nbb_unformatted_code = \"%reload_ext nb_black\";\n",
       "                var nbb_formatted_code = \"%reload_ext nb_black\";\n",
       "                var nbb_cells = Jupyter.notebook.get_cells();\n",
       "                for (var i = 0; i < nbb_cells.length; ++i) {\n",
       "                    if (nbb_cells[i].input_prompt_number == nbb_cell_id) {\n",
       "                        if (nbb_cells[i].get_text() == nbb_unformatted_code) {\n",
       "                             nbb_cells[i].set_text(nbb_formatted_code);\n",
       "                        }\n",
       "                        break;\n",
       "                    }\n",
       "                }\n",
       "            }, 500);\n",
       "            "
      ],
      "text/plain": [
       "<IPython.core.display.Javascript object>"
      ]
     },
     "metadata": {},
     "output_type": "display_data"
    }
   ],
   "source": [
    "%reload_ext nb_black"
   ]
  },
  {
   "cell_type": "code",
   "execution_count": 6,
   "metadata": {},
   "outputs": [
    {
     "data": {
      "application/javascript": [
       "\n",
       "            setTimeout(function() {\n",
       "                var nbb_cell_id = 6;\n",
       "                var nbb_unformatted_code = \"import pandas as pd\\n\\npd.set_option(\\\"display.max_rows\\\", 500)\\n\\nimport numpy as np\\nimport matplotlib.pyplot as plt\\n\\n%matplotlib inline\\nimport seaborn as sns\\n\\nsns.set()\\n\\nimport warnings\\n\\nwarnings.filterwarnings(\\\"ignore\\\")\";\n",
       "                var nbb_formatted_code = \"import pandas as pd\\n\\npd.set_option(\\\"display.max_rows\\\", 500)\\n\\nimport numpy as np\\nimport matplotlib.pyplot as plt\\n\\n%matplotlib inline\\nimport seaborn as sns\\n\\nsns.set()\\n\\nimport warnings\\n\\nwarnings.filterwarnings(\\\"ignore\\\")\";\n",
       "                var nbb_cells = Jupyter.notebook.get_cells();\n",
       "                for (var i = 0; i < nbb_cells.length; ++i) {\n",
       "                    if (nbb_cells[i].input_prompt_number == nbb_cell_id) {\n",
       "                        if (nbb_cells[i].get_text() == nbb_unformatted_code) {\n",
       "                             nbb_cells[i].set_text(nbb_formatted_code);\n",
       "                        }\n",
       "                        break;\n",
       "                    }\n",
       "                }\n",
       "            }, 500);\n",
       "            "
      ],
      "text/plain": [
       "<IPython.core.display.Javascript object>"
      ]
     },
     "metadata": {},
     "output_type": "display_data"
    },
    {
     "data": {
      "application/javascript": [
       "\n",
       "            setTimeout(function() {\n",
       "                var nbb_cell_id = 6;\n",
       "                var nbb_unformatted_code = \"import pandas as pd\\n\\npd.set_option(\\\"display.max_rows\\\", 500)\\n\\nimport numpy as np\\nimport matplotlib.pyplot as plt\\n\\n%matplotlib inline\\nimport seaborn as sns\\n\\nsns.set()\\n\\nimport warnings\\n\\nwarnings.filterwarnings(\\\"ignore\\\")\";\n",
       "                var nbb_formatted_code = \"import pandas as pd\\n\\npd.set_option(\\\"display.max_rows\\\", 500)\\n\\nimport numpy as np\\nimport matplotlib.pyplot as plt\\n\\n%matplotlib inline\\nimport seaborn as sns\\n\\nsns.set()\\n\\nimport warnings\\n\\nwarnings.filterwarnings(\\\"ignore\\\")\";\n",
       "                var nbb_cells = Jupyter.notebook.get_cells();\n",
       "                for (var i = 0; i < nbb_cells.length; ++i) {\n",
       "                    if (nbb_cells[i].input_prompt_number == nbb_cell_id) {\n",
       "                        if (nbb_cells[i].get_text() == nbb_unformatted_code) {\n",
       "                             nbb_cells[i].set_text(nbb_formatted_code);\n",
       "                        }\n",
       "                        break;\n",
       "                    }\n",
       "                }\n",
       "            }, 500);\n",
       "            "
      ],
      "text/plain": [
       "<IPython.core.display.Javascript object>"
      ]
     },
     "metadata": {},
     "output_type": "display_data"
    }
   ],
   "source": [
    "import pandas as pd\n",
    "\n",
    "pd.set_option(\"display.max_rows\", 500)\n",
    "\n",
    "import numpy as np\n",
    "import matplotlib.pyplot as plt\n",
    "\n",
    "%matplotlib inline\n",
    "import seaborn as sns\n",
    "\n",
    "sns.set()\n",
    "\n",
    "import warnings\n",
    "\n",
    "warnings.filterwarnings(\"ignore\")"
   ]
  },
  {
   "cell_type": "code",
   "execution_count": 3,
   "metadata": {},
   "outputs": [
    {
     "data": {
      "application/javascript": [
       "\n",
       "            setTimeout(function() {\n",
       "                var nbb_cell_id = 3;\n",
       "                var nbb_unformatted_code = \"df_accounts = pd.read_csv(\\n    \\\"../data/accounts_enough_history.csv\\\", parse_dates=[\\\"update_date\\\"]\\n)\\ndf_transactions = pd.read_csv(\\n    \\\"../data/transactions_enough_history.csv\\\", parse_dates=[\\\"date\\\"]\\n)\";\n",
       "                var nbb_formatted_code = \"df_accounts = pd.read_csv(\\n    \\\"../data/accounts_enough_history.csv\\\", parse_dates=[\\\"update_date\\\"]\\n)\\ndf_transactions = pd.read_csv(\\n    \\\"../data/transactions_enough_history.csv\\\", parse_dates=[\\\"date\\\"]\\n)\";\n",
       "                var nbb_cells = Jupyter.notebook.get_cells();\n",
       "                for (var i = 0; i < nbb_cells.length; ++i) {\n",
       "                    if (nbb_cells[i].input_prompt_number == nbb_cell_id) {\n",
       "                        if (nbb_cells[i].get_text() == nbb_unformatted_code) {\n",
       "                             nbb_cells[i].set_text(nbb_formatted_code);\n",
       "                        }\n",
       "                        break;\n",
       "                    }\n",
       "                }\n",
       "            }, 500);\n",
       "            "
      ],
      "text/plain": [
       "<IPython.core.display.Javascript object>"
      ]
     },
     "metadata": {},
     "output_type": "display_data"
    }
   ],
   "source": [
    "df_accounts = pd.read_csv(\n",
    "    \"../data/accounts_enough_history.csv\", parse_dates=[\"update_date\"]\n",
    ")\n",
    "df_transactions = pd.read_csv(\n",
    "    \"../data/transactions_enough_history.csv\", parse_dates=[\"date\"]\n",
    ")"
   ]
  },
  {
   "cell_type": "code",
   "execution_count": 8,
   "metadata": {},
   "outputs": [
    {
     "data": {
      "application/javascript": [
       "\n",
       "            setTimeout(function() {\n",
       "                var nbb_cell_id = 8;\n",
       "                var nbb_unformatted_code = \"df_transactions = df_transactions[df_transactions[\\\"amount\\\"] < 0]\\ndf_transactions[\\\"amount\\\"] = abs(df_transactions[\\\"amount\\\"])\";\n",
       "                var nbb_formatted_code = \"df_transactions = df_transactions[df_transactions[\\\"amount\\\"] < 0]\\ndf_transactions[\\\"amount\\\"] = abs(df_transactions[\\\"amount\\\"])\";\n",
       "                var nbb_cells = Jupyter.notebook.get_cells();\n",
       "                for (var i = 0; i < nbb_cells.length; ++i) {\n",
       "                    if (nbb_cells[i].input_prompt_number == nbb_cell_id) {\n",
       "                        if (nbb_cells[i].get_text() == nbb_unformatted_code) {\n",
       "                             nbb_cells[i].set_text(nbb_formatted_code);\n",
       "                        }\n",
       "                        break;\n",
       "                    }\n",
       "                }\n",
       "            }, 500);\n",
       "            "
      ],
      "text/plain": [
       "<IPython.core.display.Javascript object>"
      ]
     },
     "metadata": {},
     "output_type": "display_data"
    },
    {
     "data": {
      "application/javascript": [
       "\n",
       "            setTimeout(function() {\n",
       "                var nbb_cell_id = 8;\n",
       "                var nbb_unformatted_code = \"df_transactions = df_transactions[df_transactions[\\\"amount\\\"] < 0]\\ndf_transactions[\\\"amount\\\"] = abs(df_transactions[\\\"amount\\\"])\";\n",
       "                var nbb_formatted_code = \"df_transactions = df_transactions[df_transactions[\\\"amount\\\"] < 0]\\ndf_transactions[\\\"amount\\\"] = abs(df_transactions[\\\"amount\\\"])\";\n",
       "                var nbb_cells = Jupyter.notebook.get_cells();\n",
       "                for (var i = 0; i < nbb_cells.length; ++i) {\n",
       "                    if (nbb_cells[i].input_prompt_number == nbb_cell_id) {\n",
       "                        if (nbb_cells[i].get_text() == nbb_unformatted_code) {\n",
       "                             nbb_cells[i].set_text(nbb_formatted_code);\n",
       "                        }\n",
       "                        break;\n",
       "                    }\n",
       "                }\n",
       "            }, 500);\n",
       "            "
      ],
      "text/plain": [
       "<IPython.core.display.Javascript object>"
      ]
     },
     "metadata": {},
     "output_type": "display_data"
    }
   ],
   "source": [
    "#df_transactions = df_transactions[df_transactions[\"amount\"] < 0]\n",
    "df_transactions[\"amount\"] = abs(df_transactions[\"amount\"])"
   ]
  },
  {
   "cell_type": "markdown",
   "metadata": {},
   "source": [
    "### Expenses values\n",
    "Let us take an `example` and see if it's necessary to remove outliers"
   ]
  },
  {
   "cell_type": "code",
   "execution_count": 10,
   "metadata": {},
   "outputs": [
    {
     "data": {
      "text/plain": [
       "<AxesSubplot:xlabel='amount', ylabel='Density'>"
      ]
     },
     "execution_count": 10,
     "metadata": {},
     "output_type": "execute_result"
    },
    {
     "data": {
      "image/png": "[encoded data removed]",
      "text/plain": [
       "<Figure size 432x288 with 1 Axes>"
      ]
     },
     "metadata": {},
     "output_type": "display_data"
    },
    {
     "data": {
      "application/javascript": [
       "\n",
       "            setTimeout(function() {\n",
       "                var nbb_cell_id = 10;\n",
       "                var nbb_unformatted_code = \"sns.distplot(df_transactions[\\\"amount\\\"])\";\n",
       "                var nbb_formatted_code = \"sns.distplot(df_transactions[\\\"amount\\\"])\";\n",
       "                var nbb_cells = Jupyter.notebook.get_cells();\n",
       "                for (var i = 0; i < nbb_cells.length; ++i) {\n",
       "                    if (nbb_cells[i].input_prompt_number == nbb_cell_id) {\n",
       "                        if (nbb_cells[i].get_text() == nbb_unformatted_code) {\n",
       "                             nbb_cells[i].set_text(nbb_formatted_code);\n",
       "                        }\n",
       "                        break;\n",
       "                    }\n",
       "                }\n",
       "            }, 500);\n",
       "            "
      ],
      "text/plain": [
       "<IPython.core.display.Javascript object>"
      ]
     },
     "metadata": {},
     "output_type": "display_data"
    },
    {
     "data": {
      "application/javascript": [
       "\n",
       "            setTimeout(function() {\n",
       "                var nbb_cell_id = 10;\n",
       "                var nbb_unformatted_code = \"sns.distplot(df_transactions[\\\"amount\\\"])\";\n",
       "                var nbb_formatted_code = \"sns.distplot(df_transactions[\\\"amount\\\"])\";\n",
       "                var nbb_cells = Jupyter.notebook.get_cells();\n",
       "                for (var i = 0; i < nbb_cells.length; ++i) {\n",
       "                    if (nbb_cells[i].input_prompt_number == nbb_cell_id) {\n",
       "                        if (nbb_cells[i].get_text() == nbb_unformatted_code) {\n",
       "                             nbb_cells[i].set_text(nbb_formatted_code);\n",
       "                        }\n",
       "                        break;\n",
       "                    }\n",
       "                }\n",
       "            }, 500);\n",
       "            "
      ],
      "text/plain": [
       "<IPython.core.display.Javascript object>"
      ]
     },
     "metadata": {},
     "output_type": "display_data"
    }
   ],
   "source": [
    "sns.distplot(df_transactions[\"amount\"])"
   ]
  },
  {
   "cell_type": "code",
   "execution_count": 11,
   "metadata": {},
   "outputs": [
    {
     "data": {
      "text/html": [
       "<div>\n",
       "<style scoped>\n",
       "    .dataframe tbody tr th:only-of-type {\n",
       "        vertical-align: middle;\n",
       "    }\n",
       "\n",
       "    .dataframe tbody tr th {\n",
       "        vertical-align: top;\n",
       "    }\n",
       "\n",
       "    .dataframe thead th {\n",
       "        text-align: right;\n",
       "    }\n",
       "</style>\n",
       "<table border=\"1\" class=\"dataframe\">\n",
       "  <thead>\n",
       "    <tr style=\"text-align: right;\">\n",
       "      <th></th>\n",
       "      <th>account_id</th>\n",
       "      <th>amount</th>\n",
       "      <th>date</th>\n",
       "    </tr>\n",
       "  </thead>\n",
       "  <tbody>\n",
       "    <tr>\n",
       "      <th>16595</th>\n",
       "      <td>46</td>\n",
       "      <td>17040.0</td>\n",
       "      <td>2019-11-18</td>\n",
       "    </tr>\n",
       "  </tbody>\n",
       "</table>\n",
       "</div>"
      ],
      "text/plain": [
       "       account_id   amount       date\n",
       "16595          46  17040.0 2019-11-18"
      ]
     },
     "execution_count": 11,
     "metadata": {},
     "output_type": "execute_result"
    },
    {
     "data": {
      "application/javascript": [
       "\n",
       "            setTimeout(function() {\n",
       "                var nbb_cell_id = 11;\n",
       "                var nbb_unformatted_code = \"df_transactions[df_transactions[\\\"amount\\\"] > 15000]\";\n",
       "                var nbb_formatted_code = \"df_transactions[df_transactions[\\\"amount\\\"] > 15000]\";\n",
       "                var nbb_cells = Jupyter.notebook.get_cells();\n",
       "                for (var i = 0; i < nbb_cells.length; ++i) {\n",
       "                    if (nbb_cells[i].input_prompt_number == nbb_cell_id) {\n",
       "                        if (nbb_cells[i].get_text() == nbb_unformatted_code) {\n",
       "                             nbb_cells[i].set_text(nbb_formatted_code);\n",
       "                        }\n",
       "                        break;\n",
       "                    }\n",
       "                }\n",
       "            }, 500);\n",
       "            "
      ],
      "text/plain": [
       "<IPython.core.display.Javascript object>"
      ]
     },
     "metadata": {},
     "output_type": "display_data"
    },
    {
     "data": {
      "application/javascript": [
       "\n",
       "            setTimeout(function() {\n",
       "                var nbb_cell_id = 11;\n",
       "                var nbb_unformatted_code = \"df_transactions[df_transactions[\\\"amount\\\"] > 15000]\";\n",
       "                var nbb_formatted_code = \"df_transactions[df_transactions[\\\"amount\\\"] > 15000]\";\n",
       "                var nbb_cells = Jupyter.notebook.get_cells();\n",
       "                for (var i = 0; i < nbb_cells.length; ++i) {\n",
       "                    if (nbb_cells[i].input_prompt_number == nbb_cell_id) {\n",
       "                        if (nbb_cells[i].get_text() == nbb_unformatted_code) {\n",
       "                             nbb_cells[i].set_text(nbb_formatted_code);\n",
       "                        }\n",
       "                        break;\n",
       "                    }\n",
       "                }\n",
       "            }, 500);\n",
       "            "
      ],
      "text/plain": [
       "<IPython.core.display.Javascript object>"
      ]
     },
     "metadata": {},
     "output_type": "display_data"
    }
   ],
   "source": [
    "df_transactions[df_transactions[\"amount\"] > 15000]"
   ]
  },
  {
   "cell_type": "code",
   "execution_count": 23,
   "metadata": {},
   "outputs": [
    {
     "data": {
      "application/javascript": [
       "\n",
       "            setTimeout(function() {\n",
       "                var nbb_cell_id = 23;\n",
       "                var nbb_unformatted_code = \"df_transactions_46 = df_transactions[df_transactions['account_id'] == 46]\";\n",
       "                var nbb_formatted_code = \"df_transactions_46 = df_transactions[df_transactions[\\\"account_id\\\"] == 46]\";\n",
       "                var nbb_cells = Jupyter.notebook.get_cells();\n",
       "                for (var i = 0; i < nbb_cells.length; ++i) {\n",
       "                    if (nbb_cells[i].input_prompt_number == nbb_cell_id) {\n",
       "                        if (nbb_cells[i].get_text() == nbb_unformatted_code) {\n",
       "                             nbb_cells[i].set_text(nbb_formatted_code);\n",
       "                        }\n",
       "                        break;\n",
       "                    }\n",
       "                }\n",
       "            }, 500);\n",
       "            "
      ],
      "text/plain": [
       "<IPython.core.display.Javascript object>"
      ]
     },
     "metadata": {},
     "output_type": "display_data"
    },
    {
     "data": {
      "application/javascript": [
       "\n",
       "            setTimeout(function() {\n",
       "                var nbb_cell_id = 23;\n",
       "                var nbb_unformatted_code = \"df_transactions_46 = df_transactions[df_transactions['account_id'] == 46]\";\n",
       "                var nbb_formatted_code = \"df_transactions_46 = df_transactions[df_transactions[\\\"account_id\\\"] == 46]\";\n",
       "                var nbb_cells = Jupyter.notebook.get_cells();\n",
       "                for (var i = 0; i < nbb_cells.length; ++i) {\n",
       "                    if (nbb_cells[i].input_prompt_number == nbb_cell_id) {\n",
       "                        if (nbb_cells[i].get_text() == nbb_unformatted_code) {\n",
       "                             nbb_cells[i].set_text(nbb_formatted_code);\n",
       "                        }\n",
       "                        break;\n",
       "                    }\n",
       "                }\n",
       "            }, 500);\n",
       "            "
      ],
      "text/plain": [
       "<IPython.core.display.Javascript object>"
      ]
     },
     "metadata": {},
     "output_type": "display_data"
    }
   ],
   "source": [
    "df_transactions_46 = df_transactions[df_transactions[\"account_id\"] == 46]"
   ]
  },
  {
   "cell_type": "code",
   "execution_count": 24,
   "metadata": {},
   "outputs": [
    {
     "name": "stdout",
     "output_type": "stream",
     "text": [
      "Mean expense: 190.44159944367178\n",
      "Median expense: 18.8\n",
      "Standard deviation expense: 994.437154908764\n"
     ]
    },
    {
     "data": {
      "application/javascript": [
       "\n",
       "            setTimeout(function() {\n",
       "                var nbb_cell_id = 24;\n",
       "                var nbb_unformatted_code = \"print(\\n    f\\\"Mean expense: {df_transactions_46['amount'].mean()}\\\"\\n)\\nprint(\\n    f\\\"Median expense: {df_transactions_46['amount'].median()}\\\"\\n)\\nprint(\\n    f\\\"Standard deviation expense: {df_transactions_46['amount'].std()}\\\"\\n)\";\n",
       "                var nbb_formatted_code = \"print(f\\\"Mean expense: {df_transactions_46['amount'].mean()}\\\")\\nprint(f\\\"Median expense: {df_transactions_46['amount'].median()}\\\")\\nprint(f\\\"Standard deviation expense: {df_transactions_46['amount'].std()}\\\")\";\n",
       "                var nbb_cells = Jupyter.notebook.get_cells();\n",
       "                for (var i = 0; i < nbb_cells.length; ++i) {\n",
       "                    if (nbb_cells[i].input_prompt_number == nbb_cell_id) {\n",
       "                        if (nbb_cells[i].get_text() == nbb_unformatted_code) {\n",
       "                             nbb_cells[i].set_text(nbb_formatted_code);\n",
       "                        }\n",
       "                        break;\n",
       "                    }\n",
       "                }\n",
       "            }, 500);\n",
       "            "
      ],
      "text/plain": [
       "<IPython.core.display.Javascript object>"
      ]
     },
     "metadata": {},
     "output_type": "display_data"
    },
    {
     "data": {
      "application/javascript": [
       "\n",
       "            setTimeout(function() {\n",
       "                var nbb_cell_id = 24;\n",
       "                var nbb_unformatted_code = \"print(\\n    f\\\"Mean expense: {df_transactions_46['amount'].mean()}\\\"\\n)\\nprint(\\n    f\\\"Median expense: {df_transactions_46['amount'].median()}\\\"\\n)\\nprint(\\n    f\\\"Standard deviation expense: {df_transactions_46['amount'].std()}\\\"\\n)\";\n",
       "                var nbb_formatted_code = \"print(f\\\"Mean expense: {df_transactions_46['amount'].mean()}\\\")\\nprint(f\\\"Median expense: {df_transactions_46['amount'].median()}\\\")\\nprint(f\\\"Standard deviation expense: {df_transactions_46['amount'].std()}\\\")\";\n",
       "                var nbb_cells = Jupyter.notebook.get_cells();\n",
       "                for (var i = 0; i < nbb_cells.length; ++i) {\n",
       "                    if (nbb_cells[i].input_prompt_number == nbb_cell_id) {\n",
       "                        if (nbb_cells[i].get_text() == nbb_unformatted_code) {\n",
       "                             nbb_cells[i].set_text(nbb_formatted_code);\n",
       "                        }\n",
       "                        break;\n",
       "                    }\n",
       "                }\n",
       "            }, 500);\n",
       "            "
      ],
      "text/plain": [
       "<IPython.core.display.Javascript object>"
      ]
     },
     "metadata": {},
     "output_type": "display_data"
    }
   ],
   "source": [
    "print(f\"Mean expense: {df_transactions_46['amount'].mean()}\")\n",
    "print(f\"Median expense: {df_transactions_46['amount'].median()}\")\n",
    "print(f\"Standard deviation expense: {df_transactions_46['amount'].std()}\")"
   ]
  },
  {
   "cell_type": "markdown",
   "metadata": {},
   "source": [
    "Having an expense of 17040.0 seems to be way to high "
   ]
  },
  {
   "cell_type": "markdown",
   "metadata": {},
   "source": [
    "Let us see if this expense is seasonal and can be predicted, or if it's only a specific expense that might never happen again."
   ]
  },
  {
   "cell_type": "code",
   "execution_count": 25,
   "metadata": {},
   "outputs": [
    {
     "data": {
      "text/plain": [
       "[<matplotlib.lines.Line2D at 0x126451400>]"
      ]
     },
     "execution_count": 25,
     "metadata": {},
     "output_type": "execute_result"
    },
    {
     "data": {
      "image/png": "[encoded data removed]",
      "text/plain": [
       "<Figure size 1152x432 with 1 Axes>"
      ]
     },
     "metadata": {},
     "output_type": "display_data"
    },
    {
     "data": {
      "application/javascript": [
       "\n",
       "            setTimeout(function() {\n",
       "                var nbb_cell_id = 25;\n",
       "                var nbb_unformatted_code = \"plt.figure(figsize=(16, 6))\\nplt.plot(df_transactions_46[\\\"date\\\"], df_transactions_46[\\\"amount\\\"])\";\n",
       "                var nbb_formatted_code = \"plt.figure(figsize=(16, 6))\\nplt.plot(df_transactions_46[\\\"date\\\"], df_transactions_46[\\\"amount\\\"])\";\n",
       "                var nbb_cells = Jupyter.notebook.get_cells();\n",
       "                for (var i = 0; i < nbb_cells.length; ++i) {\n",
       "                    if (nbb_cells[i].input_prompt_number == nbb_cell_id) {\n",
       "                        if (nbb_cells[i].get_text() == nbb_unformatted_code) {\n",
       "                             nbb_cells[i].set_text(nbb_formatted_code);\n",
       "                        }\n",
       "                        break;\n",
       "                    }\n",
       "                }\n",
       "            }, 500);\n",
       "            "
      ],
      "text/plain": [
       "<IPython.core.display.Javascript object>"
      ]
     },
     "metadata": {},
     "output_type": "display_data"
    },
    {
     "data": {
      "application/javascript": [
       "\n",
       "            setTimeout(function() {\n",
       "                var nbb_cell_id = 25;\n",
       "                var nbb_unformatted_code = \"plt.figure(figsize=(16, 6))\\nplt.plot(df_transactions_46[\\\"date\\\"], df_transactions_46[\\\"amount\\\"])\";\n",
       "                var nbb_formatted_code = \"plt.figure(figsize=(16, 6))\\nplt.plot(df_transactions_46[\\\"date\\\"], df_transactions_46[\\\"amount\\\"])\";\n",
       "                var nbb_cells = Jupyter.notebook.get_cells();\n",
       "                for (var i = 0; i < nbb_cells.length; ++i) {\n",
       "                    if (nbb_cells[i].input_prompt_number == nbb_cell_id) {\n",
       "                        if (nbb_cells[i].get_text() == nbb_unformatted_code) {\n",
       "                             nbb_cells[i].set_text(nbb_formatted_code);\n",
       "                        }\n",
       "                        break;\n",
       "                    }\n",
       "                }\n",
       "            }, 500);\n",
       "            "
      ],
      "text/plain": [
       "<IPython.core.display.Javascript object>"
      ]
     },
     "metadata": {},
     "output_type": "display_data"
    }
   ],
   "source": [
    "plt.figure(figsize=(16, 6))\n",
    "plt.plot(df_transactions_46[\"date\"], df_transactions_46[\"amount\"])"
   ]
  },
  {
   "cell_type": "markdown",
   "metadata": {},
   "source": [
    "We observe that high expenses (compared to neighbouring ones) appear mostly at the end of the year (here at the end of 2018 and 2019).\n",
    "\n",
    "Since we are not allowed to take that much data (only 12 previous weeks), these high expenses seem to be outliers."
   ]
  },
  {
   "cell_type": "markdown",
   "metadata": {},
   "source": [
    "Removing outliers:\n",
    "For a matter of simplicity (and speed): for each month, I will look at the mean and std of expenses, and remove expenses that are higher than the `mean + 3 * std`. I will then see how many data to I remove."
   ]
  },
  {
   "cell_type": "code",
   "execution_count": 31,
   "metadata": {},
   "outputs": [
    {
     "data": {
      "application/javascript": [
       "\n",
       "            setTimeout(function() {\n",
       "                var nbb_cell_id = 31;\n",
       "                var nbb_unformatted_code = \"def remove_outliers(df: pd.DataFrame) -> pd.DataFrame:\\n    df[\\\"year\\\"] = df[\\\"date\\\"].dt.year\\n    df[\\\"month\\\"] = df[\\\"date\\\"].dt.month\\n    df[\\\"year_month\\\"] = df[\\\"year\\\"].astype(\\\"str\\\") + \\\"_\\\" + df[\\\"month\\\"].map(\\\"{:02}\\\".format)\\n\\n    df_month_expenses = (\\n        df.groupby([\\\"account_id\\\", \\\"year_month\\\"])[\\\"amount\\\"]\\n        .agg([\\\"mean\\\", \\\"std\\\"])\\n        .reset_index()\\n    )\\n    df = pd.merge(\\n        df,\\n        df_month_expenses,\\n        on=[\\\"account_id\\\", \\\"year_month\\\"],\\n        how=\\\"left\\\",\\n        sort=False,\\n    )\\n    df[\\\"outlier\\\"] = df[\\\"amount\\\"] > (df[\\\"mean\\\"] + 3 * df[\\\"std\\\"])\\n    return df\";\n",
       "                var nbb_formatted_code = \"def remove_outliers(df: pd.DataFrame) -> pd.DataFrame:\\n    df[\\\"year\\\"] = df[\\\"date\\\"].dt.year\\n    df[\\\"month\\\"] = df[\\\"date\\\"].dt.month\\n    df[\\\"year_month\\\"] = df[\\\"year\\\"].astype(\\\"str\\\") + \\\"_\\\" + df[\\\"month\\\"].map(\\\"{:02}\\\".format)\\n\\n    df_month_expenses = (\\n        df.groupby([\\\"account_id\\\", \\\"year_month\\\"])[\\\"amount\\\"]\\n        .agg([\\\"mean\\\", \\\"std\\\"])\\n        .reset_index()\\n    )\\n    df = pd.merge(\\n        df,\\n        df_month_expenses,\\n        on=[\\\"account_id\\\", \\\"year_month\\\"],\\n        how=\\\"left\\\",\\n        sort=False,\\n    )\\n    df[\\\"outlier\\\"] = df[\\\"amount\\\"] > (df[\\\"mean\\\"] + 3 * df[\\\"std\\\"])\\n    return df\";\n",
       "                var nbb_cells = Jupyter.notebook.get_cells();\n",
       "                for (var i = 0; i < nbb_cells.length; ++i) {\n",
       "                    if (nbb_cells[i].input_prompt_number == nbb_cell_id) {\n",
       "                        if (nbb_cells[i].get_text() == nbb_unformatted_code) {\n",
       "                             nbb_cells[i].set_text(nbb_formatted_code);\n",
       "                        }\n",
       "                        break;\n",
       "                    }\n",
       "                }\n",
       "            }, 500);\n",
       "            "
      ],
      "text/plain": [
       "<IPython.core.display.Javascript object>"
      ]
     },
     "metadata": {},
     "output_type": "display_data"
    },
    {
     "data": {
      "application/javascript": [
       "\n",
       "            setTimeout(function() {\n",
       "                var nbb_cell_id = 31;\n",
       "                var nbb_unformatted_code = \"def remove_outliers(df: pd.DataFrame) -> pd.DataFrame:\\n    df[\\\"year\\\"] = df[\\\"date\\\"].dt.year\\n    df[\\\"month\\\"] = df[\\\"date\\\"].dt.month\\n    df[\\\"year_month\\\"] = df[\\\"year\\\"].astype(\\\"str\\\") + \\\"_\\\" + df[\\\"month\\\"].map(\\\"{:02}\\\".format)\\n\\n    df_month_expenses = (\\n        df.groupby([\\\"account_id\\\", \\\"year_month\\\"])[\\\"amount\\\"]\\n        .agg([\\\"mean\\\", \\\"std\\\"])\\n        .reset_index()\\n    )\\n    df = pd.merge(\\n        df,\\n        df_month_expenses,\\n        on=[\\\"account_id\\\", \\\"year_month\\\"],\\n        how=\\\"left\\\",\\n        sort=False,\\n    )\\n    df[\\\"outlier\\\"] = df[\\\"amount\\\"] > (df[\\\"mean\\\"] + 3 * df[\\\"std\\\"])\\n    return df\";\n",
       "                var nbb_formatted_code = \"def remove_outliers(df: pd.DataFrame) -> pd.DataFrame:\\n    df[\\\"year\\\"] = df[\\\"date\\\"].dt.year\\n    df[\\\"month\\\"] = df[\\\"date\\\"].dt.month\\n    df[\\\"year_month\\\"] = df[\\\"year\\\"].astype(\\\"str\\\") + \\\"_\\\" + df[\\\"month\\\"].map(\\\"{:02}\\\".format)\\n\\n    df_month_expenses = (\\n        df.groupby([\\\"account_id\\\", \\\"year_month\\\"])[\\\"amount\\\"]\\n        .agg([\\\"mean\\\", \\\"std\\\"])\\n        .reset_index()\\n    )\\n    df = pd.merge(\\n        df,\\n        df_month_expenses,\\n        on=[\\\"account_id\\\", \\\"year_month\\\"],\\n        how=\\\"left\\\",\\n        sort=False,\\n    )\\n    df[\\\"outlier\\\"] = df[\\\"amount\\\"] > (df[\\\"mean\\\"] + 3 * df[\\\"std\\\"])\\n    return df\";\n",
       "                var nbb_cells = Jupyter.notebook.get_cells();\n",
       "                for (var i = 0; i < nbb_cells.length; ++i) {\n",
       "                    if (nbb_cells[i].input_prompt_number == nbb_cell_id) {\n",
       "                        if (nbb_cells[i].get_text() == nbb_unformatted_code) {\n",
       "                             nbb_cells[i].set_text(nbb_formatted_code);\n",
       "                        }\n",
       "                        break;\n",
       "                    }\n",
       "                }\n",
       "            }, 500);\n",
       "            "
      ],
      "text/plain": [
       "<IPython.core.display.Javascript object>"
      ]
     },
     "metadata": {},
     "output_type": "display_data"
    }
   ],
   "source": [
    "def remove_outliers(df: pd.DataFrame) -> pd.DataFrame:\n",
    "    df[\"year\"] = df[\"date\"].dt.year\n",
    "    df[\"month\"] = df[\"date\"].dt.month\n",
    "    df[\"year_month\"] = df[\"year\"].astype(\"str\") + \"_\" + df[\"month\"].map(\"{:02}\".format)\n",
    "\n",
    "    df_month_expenses = (\n",
    "        df.groupby([\"account_id\", \"year_month\"])[\"amount\"]\n",
    "        .agg([\"mean\", \"std\"])\n",
    "        .reset_index()\n",
    "    )\n",
    "    df = pd.merge(\n",
    "        df,\n",
    "        df_month_expenses,\n",
    "        on=[\"account_id\", \"year_month\"],\n",
    "        how=\"left\",\n",
    "        sort=False,\n",
    "    )\n",
    "    df[\"outlier\"] = df[\"amount\"] > (df[\"mean\"] + 3 * df[\"std\"])\n",
    "    return df"
   ]
  },
  {
   "cell_type": "code",
   "execution_count": 33,
   "metadata": {},
   "outputs": [
    {
     "data": {
      "text/html": [
       "<div>\n",
       "<style scoped>\n",
       "    .dataframe tbody tr th:only-of-type {\n",
       "        vertical-align: middle;\n",
       "    }\n",
       "\n",
       "    .dataframe tbody tr th {\n",
       "        vertical-align: top;\n",
       "    }\n",
       "\n",
       "    .dataframe thead th {\n",
       "        text-align: right;\n",
       "    }\n",
       "</style>\n",
       "<table border=\"1\" class=\"dataframe\">\n",
       "  <thead>\n",
       "    <tr style=\"text-align: right;\">\n",
       "      <th></th>\n",
       "      <th>account_id</th>\n",
       "      <th>amount</th>\n",
       "      <th>date</th>\n",
       "      <th>year</th>\n",
       "      <th>month</th>\n",
       "      <th>year_month</th>\n",
       "      <th>mean</th>\n",
       "      <th>std</th>\n",
       "      <th>outlier</th>\n",
       "    </tr>\n",
       "  </thead>\n",
       "  <tbody>\n",
       "    <tr>\n",
       "      <th>0</th>\n",
       "      <td>46</td>\n",
       "      <td>315.42</td>\n",
       "      <td>2019-12-19</td>\n",
       "      <td>2019</td>\n",
       "      <td>12</td>\n",
       "      <td>2019_12</td>\n",
       "      <td>389.186486</td>\n",
       "      <td>2057.295731</td>\n",
       "      <td>False</td>\n",
       "    </tr>\n",
       "    <tr>\n",
       "      <th>1</th>\n",
       "      <td>46</td>\n",
       "      <td>12553.76</td>\n",
       "      <td>2019-12-18</td>\n",
       "      <td>2019</td>\n",
       "      <td>12</td>\n",
       "      <td>2019_12</td>\n",
       "      <td>389.186486</td>\n",
       "      <td>2057.295731</td>\n",
       "      <td>True</td>\n",
       "    </tr>\n",
       "    <tr>\n",
       "      <th>2</th>\n",
       "      <td>46</td>\n",
       "      <td>6.40</td>\n",
       "      <td>2019-12-17</td>\n",
       "      <td>2019</td>\n",
       "      <td>12</td>\n",
       "      <td>2019_12</td>\n",
       "      <td>389.186486</td>\n",
       "      <td>2057.295731</td>\n",
       "      <td>False</td>\n",
       "    </tr>\n",
       "    <tr>\n",
       "      <th>3</th>\n",
       "      <td>46</td>\n",
       "      <td>20.79</td>\n",
       "      <td>2019-12-16</td>\n",
       "      <td>2019</td>\n",
       "      <td>12</td>\n",
       "      <td>2019_12</td>\n",
       "      <td>389.186486</td>\n",
       "      <td>2057.295731</td>\n",
       "      <td>False</td>\n",
       "    </tr>\n",
       "    <tr>\n",
       "      <th>4</th>\n",
       "      <td>46</td>\n",
       "      <td>7.30</td>\n",
       "      <td>2019-12-16</td>\n",
       "      <td>2019</td>\n",
       "      <td>12</td>\n",
       "      <td>2019_12</td>\n",
       "      <td>389.186486</td>\n",
       "      <td>2057.295731</td>\n",
       "      <td>False</td>\n",
       "    </tr>\n",
       "  </tbody>\n",
       "</table>\n",
       "</div>"
      ],
      "text/plain": [
       "   account_id    amount       date  year  month year_month        mean  \\\n",
       "0          46    315.42 2019-12-19  2019     12    2019_12  389.186486   \n",
       "1          46  12553.76 2019-12-18  2019     12    2019_12  389.186486   \n",
       "2          46      6.40 2019-12-17  2019     12    2019_12  389.186486   \n",
       "3          46     20.79 2019-12-16  2019     12    2019_12  389.186486   \n",
       "4          46      7.30 2019-12-16  2019     12    2019_12  389.186486   \n",
       "\n",
       "           std  outlier  \n",
       "0  2057.295731    False  \n",
       "1  2057.295731     True  \n",
       "2  2057.295731    False  \n",
       "3  2057.295731    False  \n",
       "4  2057.295731    False  "
      ]
     },
     "execution_count": 33,
     "metadata": {},
     "output_type": "execute_result"
    },
    {
     "data": {
      "application/javascript": [
       "\n",
       "            setTimeout(function() {\n",
       "                var nbb_cell_id = 33;\n",
       "                var nbb_unformatted_code = \"df_transactions_46 = remove_outliers(df=df_transactions_46)\\ndf_transactions_46.head()\";\n",
       "                var nbb_formatted_code = \"df_transactions_46 = remove_outliers(df=df_transactions_46)\\ndf_transactions_46.head()\";\n",
       "                var nbb_cells = Jupyter.notebook.get_cells();\n",
       "                for (var i = 0; i < nbb_cells.length; ++i) {\n",
       "                    if (nbb_cells[i].input_prompt_number == nbb_cell_id) {\n",
       "                        if (nbb_cells[i].get_text() == nbb_unformatted_code) {\n",
       "                             nbb_cells[i].set_text(nbb_formatted_code);\n",
       "                        }\n",
       "                        break;\n",
       "                    }\n",
       "                }\n",
       "            }, 500);\n",
       "            "
      ],
      "text/plain": [
       "<IPython.core.display.Javascript object>"
      ]
     },
     "metadata": {},
     "output_type": "display_data"
    },
    {
     "data": {
      "application/javascript": [
       "\n",
       "            setTimeout(function() {\n",
       "                var nbb_cell_id = 33;\n",
       "                var nbb_unformatted_code = \"df_transactions_46 = remove_outliers(df=df_transactions_46)\\ndf_transactions_46.head()\";\n",
       "                var nbb_formatted_code = \"df_transactions_46 = remove_outliers(df=df_transactions_46)\\ndf_transactions_46.head()\";\n",
       "                var nbb_cells = Jupyter.notebook.get_cells();\n",
       "                for (var i = 0; i < nbb_cells.length; ++i) {\n",
       "                    if (nbb_cells[i].input_prompt_number == nbb_cell_id) {\n",
       "                        if (nbb_cells[i].get_text() == nbb_unformatted_code) {\n",
       "                             nbb_cells[i].set_text(nbb_formatted_code);\n",
       "                        }\n",
       "                        break;\n",
       "                    }\n",
       "                }\n",
       "            }, 500);\n",
       "            "
      ],
      "text/plain": [
       "<IPython.core.display.Javascript object>"
      ]
     },
     "metadata": {},
     "output_type": "display_data"
    }
   ],
   "source": [
    "df_transactions_46 = remove_outliers(df=df_transactions_46)\n",
    "df_transactions_46.head()"
   ]
  },
  {
   "cell_type": "code",
   "execution_count": 38,
   "metadata": {},
   "outputs": [
    {
     "name": "stdout",
     "output_type": "stream",
     "text": [
      "3.05980528511822 % Outliers\n"
     ]
    },
    {
     "data": {
      "application/javascript": [
       "\n",
       "            setTimeout(function() {\n",
       "                var nbb_cell_id = 38;\n",
       "                var nbb_unformatted_code = \"print(f\\\"{df_transactions_46['outlier'].sum() / len(df_transactions_46) * 100} % Outliers\\\")\";\n",
       "                var nbb_formatted_code = \"print(\\n    f\\\"{df_transactions_46['outlier'].sum() / len(df_transactions_46) * 100} % Outliers\\\"\\n)\";\n",
       "                var nbb_cells = Jupyter.notebook.get_cells();\n",
       "                for (var i = 0; i < nbb_cells.length; ++i) {\n",
       "                    if (nbb_cells[i].input_prompt_number == nbb_cell_id) {\n",
       "                        if (nbb_cells[i].get_text() == nbb_unformatted_code) {\n",
       "                             nbb_cells[i].set_text(nbb_formatted_code);\n",
       "                        }\n",
       "                        break;\n",
       "                    }\n",
       "                }\n",
       "            }, 500);\n",
       "            "
      ],
      "text/plain": [
       "<IPython.core.display.Javascript object>"
      ]
     },
     "metadata": {},
     "output_type": "display_data"
    },
    {
     "data": {
      "application/javascript": [
       "\n",
       "            setTimeout(function() {\n",
       "                var nbb_cell_id = 38;\n",
       "                var nbb_unformatted_code = \"print(f\\\"{df_transactions_46['outlier'].sum() / len(df_transactions_46) * 100} % Outliers\\\")\";\n",
       "                var nbb_formatted_code = \"print(\\n    f\\\"{df_transactions_46['outlier'].sum() / len(df_transactions_46) * 100} % Outliers\\\"\\n)\";\n",
       "                var nbb_cells = Jupyter.notebook.get_cells();\n",
       "                for (var i = 0; i < nbb_cells.length; ++i) {\n",
       "                    if (nbb_cells[i].input_prompt_number == nbb_cell_id) {\n",
       "                        if (nbb_cells[i].get_text() == nbb_unformatted_code) {\n",
       "                             nbb_cells[i].set_text(nbb_formatted_code);\n",
       "                        }\n",
       "                        break;\n",
       "                    }\n",
       "                }\n",
       "            }, 500);\n",
       "            "
      ],
      "text/plain": [
       "<IPython.core.display.Javascript object>"
      ]
     },
     "metadata": {},
     "output_type": "display_data"
    }
   ],
   "source": [
    "print(\n",
    "    f\"{df_transactions_46['outlier'].sum() / len(df_transactions_46) * 100} % Outliers\"\n",
    ")"
   ]
  },
  {
   "cell_type": "code",
   "execution_count": 39,
   "metadata": {},
   "outputs": [
    {
     "data": {
      "text/html": [
       "<div>\n",
       "<style scoped>\n",
       "    .dataframe tbody tr th:only-of-type {\n",
       "        vertical-align: middle;\n",
       "    }\n",
       "\n",
       "    .dataframe tbody tr th {\n",
       "        vertical-align: top;\n",
       "    }\n",
       "\n",
       "    .dataframe thead th {\n",
       "        text-align: right;\n",
       "    }\n",
       "</style>\n",
       "<table border=\"1\" class=\"dataframe\">\n",
       "  <thead>\n",
       "    <tr style=\"text-align: right;\">\n",
       "      <th></th>\n",
       "      <th>account_id</th>\n",
       "      <th>amount</th>\n",
       "      <th>date</th>\n",
       "      <th>year</th>\n",
       "      <th>month</th>\n",
       "      <th>year_month</th>\n",
       "      <th>mean</th>\n",
       "      <th>std</th>\n",
       "      <th>outlier</th>\n",
       "    </tr>\n",
       "  </thead>\n",
       "  <tbody>\n",
       "    <tr>\n",
       "      <th>1</th>\n",
       "      <td>46</td>\n",
       "      <td>12553.76</td>\n",
       "      <td>2019-12-18</td>\n",
       "      <td>2019</td>\n",
       "      <td>12</td>\n",
       "      <td>2019_12</td>\n",
       "      <td>389.186486</td>\n",
       "      <td>2057.295731</td>\n",
       "      <td>True</td>\n",
       "    </tr>\n",
       "    <tr>\n",
       "      <th>35</th>\n",
       "      <td>46</td>\n",
       "      <td>17040.00</td>\n",
       "      <td>2019-11-18</td>\n",
       "      <td>2019</td>\n",
       "      <td>11</td>\n",
       "      <td>2019_11</td>\n",
       "      <td>467.242000</td>\n",
       "      <td>2688.528447</td>\n",
       "      <td>True</td>\n",
       "    </tr>\n",
       "    <tr>\n",
       "      <th>94</th>\n",
       "      <td>46</td>\n",
       "      <td>1159.00</td>\n",
       "      <td>2019-10-07</td>\n",
       "      <td>2019</td>\n",
       "      <td>10</td>\n",
       "      <td>2019_10</td>\n",
       "      <td>81.321395</td>\n",
       "      <td>200.052545</td>\n",
       "      <td>True</td>\n",
       "    </tr>\n",
       "    <tr>\n",
       "      <th>122</th>\n",
       "      <td>46</td>\n",
       "      <td>4397.00</td>\n",
       "      <td>2019-09-24</td>\n",
       "      <td>2019</td>\n",
       "      <td>9</td>\n",
       "      <td>2019_09</td>\n",
       "      <td>257.703590</td>\n",
       "      <td>753.342690</td>\n",
       "      <td>True</td>\n",
       "    </tr>\n",
       "    <tr>\n",
       "      <th>151</th>\n",
       "      <td>46</td>\n",
       "      <td>760.00</td>\n",
       "      <td>2019-08-30</td>\n",
       "      <td>2019</td>\n",
       "      <td>8</td>\n",
       "      <td>2019_08</td>\n",
       "      <td>80.763214</td>\n",
       "      <td>165.422343</td>\n",
       "      <td>True</td>\n",
       "    </tr>\n",
       "    <tr>\n",
       "      <th>200</th>\n",
       "      <td>46</td>\n",
       "      <td>6991.13</td>\n",
       "      <td>2019-07-10</td>\n",
       "      <td>2019</td>\n",
       "      <td>7</td>\n",
       "      <td>2019_07</td>\n",
       "      <td>422.590625</td>\n",
       "      <td>1405.453672</td>\n",
       "      <td>True</td>\n",
       "    </tr>\n",
       "    <tr>\n",
       "      <th>237</th>\n",
       "      <td>46</td>\n",
       "      <td>414.00</td>\n",
       "      <td>2019-06-05</td>\n",
       "      <td>2019</td>\n",
       "      <td>6</td>\n",
       "      <td>2019_06</td>\n",
       "      <td>47.589091</td>\n",
       "      <td>73.876129</td>\n",
       "      <td>True</td>\n",
       "    </tr>\n",
       "    <tr>\n",
       "      <th>275</th>\n",
       "      <td>46</td>\n",
       "      <td>1668.00</td>\n",
       "      <td>2019-05-03</td>\n",
       "      <td>2019</td>\n",
       "      <td>5</td>\n",
       "      <td>2019_05</td>\n",
       "      <td>121.545263</td>\n",
       "      <td>275.978373</td>\n",
       "      <td>True</td>\n",
       "    </tr>\n",
       "    <tr>\n",
       "      <th>335</th>\n",
       "      <td>46</td>\n",
       "      <td>3000.00</td>\n",
       "      <td>2019-03-05</td>\n",
       "      <td>2019</td>\n",
       "      <td>3</td>\n",
       "      <td>2019_03</td>\n",
       "      <td>224.068519</td>\n",
       "      <td>605.965606</td>\n",
       "      <td>True</td>\n",
       "    </tr>\n",
       "    <tr>\n",
       "      <th>359</th>\n",
       "      <td>46</td>\n",
       "      <td>3000.00</td>\n",
       "      <td>2019-02-08</td>\n",
       "      <td>2019</td>\n",
       "      <td>2</td>\n",
       "      <td>2019_02</td>\n",
       "      <td>193.903103</td>\n",
       "      <td>560.315164</td>\n",
       "      <td>True</td>\n",
       "    </tr>\n",
       "    <tr>\n",
       "      <th>376</th>\n",
       "      <td>46</td>\n",
       "      <td>450.00</td>\n",
       "      <td>2019-01-29</td>\n",
       "      <td>2019</td>\n",
       "      <td>1</td>\n",
       "      <td>2019_01</td>\n",
       "      <td>62.321163</td>\n",
       "      <td>111.454873</td>\n",
       "      <td>True</td>\n",
       "    </tr>\n",
       "    <tr>\n",
       "      <th>399</th>\n",
       "      <td>46</td>\n",
       "      <td>449.00</td>\n",
       "      <td>2019-01-11</td>\n",
       "      <td>2019</td>\n",
       "      <td>1</td>\n",
       "      <td>2019_01</td>\n",
       "      <td>62.321163</td>\n",
       "      <td>111.454873</td>\n",
       "      <td>True</td>\n",
       "    </tr>\n",
       "    <tr>\n",
       "      <th>401</th>\n",
       "      <td>46</td>\n",
       "      <td>414.00</td>\n",
       "      <td>2019-01-11</td>\n",
       "      <td>2019</td>\n",
       "      <td>1</td>\n",
       "      <td>2019_01</td>\n",
       "      <td>62.321163</td>\n",
       "      <td>111.454873</td>\n",
       "      <td>True</td>\n",
       "    </tr>\n",
       "    <tr>\n",
       "      <th>422</th>\n",
       "      <td>46</td>\n",
       "      <td>6500.00</td>\n",
       "      <td>2018-12-24</td>\n",
       "      <td>2018</td>\n",
       "      <td>12</td>\n",
       "      <td>2018_12</td>\n",
       "      <td>638.082222</td>\n",
       "      <td>1623.293189</td>\n",
       "      <td>True</td>\n",
       "    </tr>\n",
       "    <tr>\n",
       "      <th>459</th>\n",
       "      <td>46</td>\n",
       "      <td>7000.00</td>\n",
       "      <td>2018-11-09</td>\n",
       "      <td>2018</td>\n",
       "      <td>11</td>\n",
       "      <td>2018_11</td>\n",
       "      <td>471.340455</td>\n",
       "      <td>1545.820747</td>\n",
       "      <td>True</td>\n",
       "    </tr>\n",
       "    <tr>\n",
       "      <th>482</th>\n",
       "      <td>46</td>\n",
       "      <td>4000.00</td>\n",
       "      <td>2018-10-15</td>\n",
       "      <td>2018</td>\n",
       "      <td>10</td>\n",
       "      <td>2018_10</td>\n",
       "      <td>182.608611</td>\n",
       "      <td>678.724627</td>\n",
       "      <td>True</td>\n",
       "    </tr>\n",
       "    <tr>\n",
       "      <th>516</th>\n",
       "      <td>46</td>\n",
       "      <td>3000.00</td>\n",
       "      <td>2018-09-11</td>\n",
       "      <td>2018</td>\n",
       "      <td>9</td>\n",
       "      <td>2018_09</td>\n",
       "      <td>143.366452</td>\n",
       "      <td>538.099895</td>\n",
       "      <td>True</td>\n",
       "    </tr>\n",
       "    <tr>\n",
       "      <th>595</th>\n",
       "      <td>46</td>\n",
       "      <td>598.18</td>\n",
       "      <td>2018-07-12</td>\n",
       "      <td>2018</td>\n",
       "      <td>7</td>\n",
       "      <td>2018_07</td>\n",
       "      <td>79.799661</td>\n",
       "      <td>164.933566</td>\n",
       "      <td>True</td>\n",
       "    </tr>\n",
       "    <tr>\n",
       "      <th>596</th>\n",
       "      <td>46</td>\n",
       "      <td>1000.00</td>\n",
       "      <td>2018-07-12</td>\n",
       "      <td>2018</td>\n",
       "      <td>7</td>\n",
       "      <td>2018_07</td>\n",
       "      <td>79.799661</td>\n",
       "      <td>164.933566</td>\n",
       "      <td>True</td>\n",
       "    </tr>\n",
       "    <tr>\n",
       "      <th>623</th>\n",
       "      <td>46</td>\n",
       "      <td>568.40</td>\n",
       "      <td>2018-06-29</td>\n",
       "      <td>2018</td>\n",
       "      <td>6</td>\n",
       "      <td>2018_06</td>\n",
       "      <td>66.302333</td>\n",
       "      <td>127.603322</td>\n",
       "      <td>True</td>\n",
       "    </tr>\n",
       "    <tr>\n",
       "      <th>661</th>\n",
       "      <td>46</td>\n",
       "      <td>1819.00</td>\n",
       "      <td>2018-05-09</td>\n",
       "      <td>2018</td>\n",
       "      <td>5</td>\n",
       "      <td>2018_05</td>\n",
       "      <td>181.600000</td>\n",
       "      <td>517.889494</td>\n",
       "      <td>True</td>\n",
       "    </tr>\n",
       "    <tr>\n",
       "      <th>707</th>\n",
       "      <td>46</td>\n",
       "      <td>414.00</td>\n",
       "      <td>2020-01-09</td>\n",
       "      <td>2020</td>\n",
       "      <td>1</td>\n",
       "      <td>2020_01</td>\n",
       "      <td>59.716154</td>\n",
       "      <td>84.948869</td>\n",
       "      <td>True</td>\n",
       "    </tr>\n",
       "  </tbody>\n",
       "</table>\n",
       "</div>"
      ],
      "text/plain": [
       "     account_id    amount       date  year  month year_month        mean  \\\n",
       "1            46  12553.76 2019-12-18  2019     12    2019_12  389.186486   \n",
       "35           46  17040.00 2019-11-18  2019     11    2019_11  467.242000   \n",
       "94           46   1159.00 2019-10-07  2019     10    2019_10   81.321395   \n",
       "122          46   4397.00 2019-09-24  2019      9    2019_09  257.703590   \n",
       "151          46    760.00 2019-08-30  2019      8    2019_08   80.763214   \n",
       "200          46   6991.13 2019-07-10  2019      7    2019_07  422.590625   \n",
       "237          46    414.00 2019-06-05  2019      6    2019_06   47.589091   \n",
       "275          46   1668.00 2019-05-03  2019      5    2019_05  121.545263   \n",
       "335          46   3000.00 2019-03-05  2019      3    2019_03  224.068519   \n",
       "359          46   3000.00 2019-02-08  2019      2    2019_02  193.903103   \n",
       "376          46    450.00 2019-01-29  2019      1    2019_01   62.321163   \n",
       "399          46    449.00 2019-01-11  2019      1    2019_01   62.321163   \n",
       "401          46    414.00 2019-01-11  2019      1    2019_01   62.321163   \n",
       "422          46   6500.00 2018-12-24  2018     12    2018_12  638.082222   \n",
       "459          46   7000.00 2018-11-09  2018     11    2018_11  471.340455   \n",
       "482          46   4000.00 2018-10-15  2018     10    2018_10  182.608611   \n",
       "516          46   3000.00 2018-09-11  2018      9    2018_09  143.366452   \n",
       "595          46    598.18 2018-07-12  2018      7    2018_07   79.799661   \n",
       "596          46   1000.00 2018-07-12  2018      7    2018_07   79.799661   \n",
       "623          46    568.40 2018-06-29  2018      6    2018_06   66.302333   \n",
       "661          46   1819.00 2018-05-09  2018      5    2018_05  181.600000   \n",
       "707          46    414.00 2020-01-09  2020      1    2020_01   59.716154   \n",
       "\n",
       "             std  outlier  \n",
       "1    2057.295731     True  \n",
       "35   2688.528447     True  \n",
       "94    200.052545     True  \n",
       "122   753.342690     True  \n",
       "151   165.422343     True  \n",
       "200  1405.453672     True  \n",
       "237    73.876129     True  \n",
       "275   275.978373     True  \n",
       "335   605.965606     True  \n",
       "359   560.315164     True  \n",
       "376   111.454873     True  \n",
       "399   111.454873     True  \n",
       "401   111.454873     True  \n",
       "422  1623.293189     True  \n",
       "459  1545.820747     True  \n",
       "482   678.724627     True  \n",
       "516   538.099895     True  \n",
       "595   164.933566     True  \n",
       "596   164.933566     True  \n",
       "623   127.603322     True  \n",
       "661   517.889494     True  \n",
       "707    84.948869     True  "
      ]
     },
     "execution_count": 39,
     "metadata": {},
     "output_type": "execute_result"
    },
    {
     "data": {
      "application/javascript": [
       "\n",
       "            setTimeout(function() {\n",
       "                var nbb_cell_id = 39;\n",
       "                var nbb_unformatted_code = \"df_transactions_46[df_transactions_46['outlier'] == True]\";\n",
       "                var nbb_formatted_code = \"df_transactions_46[df_transactions_46[\\\"outlier\\\"] == True]\";\n",
       "                var nbb_cells = Jupyter.notebook.get_cells();\n",
       "                for (var i = 0; i < nbb_cells.length; ++i) {\n",
       "                    if (nbb_cells[i].input_prompt_number == nbb_cell_id) {\n",
       "                        if (nbb_cells[i].get_text() == nbb_unformatted_code) {\n",
       "                             nbb_cells[i].set_text(nbb_formatted_code);\n",
       "                        }\n",
       "                        break;\n",
       "                    }\n",
       "                }\n",
       "            }, 500);\n",
       "            "
      ],
      "text/plain": [
       "<IPython.core.display.Javascript object>"
      ]
     },
     "metadata": {},
     "output_type": "display_data"
    },
    {
     "data": {
      "application/javascript": [
       "\n",
       "            setTimeout(function() {\n",
       "                var nbb_cell_id = 39;\n",
       "                var nbb_unformatted_code = \"df_transactions_46[df_transactions_46['outlier'] == True]\";\n",
       "                var nbb_formatted_code = \"df_transactions_46[df_transactions_46[\\\"outlier\\\"] == True]\";\n",
       "                var nbb_cells = Jupyter.notebook.get_cells();\n",
       "                for (var i = 0; i < nbb_cells.length; ++i) {\n",
       "                    if (nbb_cells[i].input_prompt_number == nbb_cell_id) {\n",
       "                        if (nbb_cells[i].get_text() == nbb_unformatted_code) {\n",
       "                             nbb_cells[i].set_text(nbb_formatted_code);\n",
       "                        }\n",
       "                        break;\n",
       "                    }\n",
       "                }\n",
       "            }, 500);\n",
       "            "
      ],
      "text/plain": [
       "<IPython.core.display.Javascript object>"
      ]
     },
     "metadata": {},
     "output_type": "display_data"
    }
   ],
   "source": [
    "df_transactions_46[df_transactions_46[\"outlier\"] == True]"
   ]
  },
  {
   "cell_type": "code",
   "execution_count": 41,
   "metadata": {},
   "outputs": [
    {
     "data": {
      "text/plain": [
       "[<matplotlib.lines.Line2D at 0x1267f7d60>]"
      ]
     },
     "execution_count": 41,
     "metadata": {},
     "output_type": "execute_result"
    },
    {
     "data": {
      "image/png": "[encoded data removed]",
      "text/plain": [
       "<Figure size 1152x432 with 1 Axes>"
      ]
     },
     "metadata": {},
     "output_type": "display_data"
    },
    {
     "data": {
      "application/javascript": [
       "\n",
       "            setTimeout(function() {\n",
       "                var nbb_cell_id = 41;\n",
       "                var nbb_unformatted_code = \"df_transactions_46_no_outliers = df_transactions_46[df_transactions_46[\\\"outlier\\\"] == False]\\nplt.figure(figsize=(16, 6))\\nplt.plot(df_transactions_46_no_outliers[\\\"date\\\"], df_transactions_46_no_outliers[\\\"amount\\\"])\";\n",
       "                var nbb_formatted_code = \"df_transactions_46_no_outliers = df_transactions_46[\\n    df_transactions_46[\\\"outlier\\\"] == False\\n]\\nplt.figure(figsize=(16, 6))\\nplt.plot(\\n    df_transactions_46_no_outliers[\\\"date\\\"], df_transactions_46_no_outliers[\\\"amount\\\"]\\n)\";\n",
       "                var nbb_cells = Jupyter.notebook.get_cells();\n",
       "                for (var i = 0; i < nbb_cells.length; ++i) {\n",
       "                    if (nbb_cells[i].input_prompt_number == nbb_cell_id) {\n",
       "                        if (nbb_cells[i].get_text() == nbb_unformatted_code) {\n",
       "                             nbb_cells[i].set_text(nbb_formatted_code);\n",
       "                        }\n",
       "                        break;\n",
       "                    }\n",
       "                }\n",
       "            }, 500);\n",
       "            "
      ],
      "text/plain": [
       "<IPython.core.display.Javascript object>"
      ]
     },
     "metadata": {},
     "output_type": "display_data"
    },
    {
     "data": {
      "application/javascript": [
       "\n",
       "            setTimeout(function() {\n",
       "                var nbb_cell_id = 41;\n",
       "                var nbb_unformatted_code = \"df_transactions_46_no_outliers = df_transactions_46[df_transactions_46[\\\"outlier\\\"] == False]\\nplt.figure(figsize=(16, 6))\\nplt.plot(df_transactions_46_no_outliers[\\\"date\\\"], df_transactions_46_no_outliers[\\\"amount\\\"])\";\n",
       "                var nbb_formatted_code = \"df_transactions_46_no_outliers = df_transactions_46[\\n    df_transactions_46[\\\"outlier\\\"] == False\\n]\\nplt.figure(figsize=(16, 6))\\nplt.plot(\\n    df_transactions_46_no_outliers[\\\"date\\\"], df_transactions_46_no_outliers[\\\"amount\\\"]\\n)\";\n",
       "                var nbb_cells = Jupyter.notebook.get_cells();\n",
       "                for (var i = 0; i < nbb_cells.length; ++i) {\n",
       "                    if (nbb_cells[i].input_prompt_number == nbb_cell_id) {\n",
       "                        if (nbb_cells[i].get_text() == nbb_unformatted_code) {\n",
       "                             nbb_cells[i].set_text(nbb_formatted_code);\n",
       "                        }\n",
       "                        break;\n",
       "                    }\n",
       "                }\n",
       "            }, 500);\n",
       "            "
      ],
      "text/plain": [
       "<IPython.core.display.Javascript object>"
      ]
     },
     "metadata": {},
     "output_type": "display_data"
    }
   ],
   "source": [
    "df_transactions_46_no_outliers = df_transactions_46[\n",
    "    df_transactions_46[\"outlier\"] == False\n",
    "]\n",
    "plt.figure(figsize=(16, 6))\n",
    "plt.plot(\n",
    "    df_transactions_46_no_outliers[\"date\"], df_transactions_46_no_outliers[\"amount\"]\n",
    ")"
   ]
  },
  {
   "cell_type": "markdown",
   "metadata": {},
   "source": [
    "Indeed we removed the very high expenses and only a very small amount of expenses, but we also removed some small ones and that cannot be considered as outliers."
   ]
  },
  {
   "cell_type": "markdown",
   "metadata": {},
   "source": [
    "#### Let us look when we apply this function to the whole dataframe"
   ]
  },
  {
   "cell_type": "code",
   "execution_count": 45,
   "metadata": {},
   "outputs": [
    {
     "data": {
      "text/html": [
       "<div>\n",
       "<style scoped>\n",
       "    .dataframe tbody tr th:only-of-type {\n",
       "        vertical-align: middle;\n",
       "    }\n",
       "\n",
       "    .dataframe tbody tr th {\n",
       "        vertical-align: top;\n",
       "    }\n",
       "\n",
       "    .dataframe thead th {\n",
       "        text-align: right;\n",
       "    }\n",
       "</style>\n",
       "<table border=\"1\" class=\"dataframe\">\n",
       "  <thead>\n",
       "    <tr style=\"text-align: right;\">\n",
       "      <th></th>\n",
       "      <th>account_id</th>\n",
       "      <th>amount</th>\n",
       "      <th>date</th>\n",
       "      <th>year</th>\n",
       "      <th>month</th>\n",
       "      <th>year_month</th>\n",
       "      <th>mean</th>\n",
       "      <th>std</th>\n",
       "      <th>outlier</th>\n",
       "    </tr>\n",
       "  </thead>\n",
       "  <tbody>\n",
       "    <tr>\n",
       "      <th>0</th>\n",
       "      <td>2</td>\n",
       "      <td>60.0</td>\n",
       "      <td>2019-12-04</td>\n",
       "      <td>2019</td>\n",
       "      <td>12</td>\n",
       "      <td>2019_12</td>\n",
       "      <td>25.756667</td>\n",
       "      <td>19.206179</td>\n",
       "      <td>False</td>\n",
       "    </tr>\n",
       "    <tr>\n",
       "      <th>1</th>\n",
       "      <td>2</td>\n",
       "      <td>10.5</td>\n",
       "      <td>2019-11-30</td>\n",
       "      <td>2019</td>\n",
       "      <td>11</td>\n",
       "      <td>2019_11</td>\n",
       "      <td>14.095000</td>\n",
       "      <td>12.218542</td>\n",
       "      <td>False</td>\n",
       "    </tr>\n",
       "    <tr>\n",
       "      <th>2</th>\n",
       "      <td>2</td>\n",
       "      <td>4.7</td>\n",
       "      <td>2019-11-29</td>\n",
       "      <td>2019</td>\n",
       "      <td>11</td>\n",
       "      <td>2019_11</td>\n",
       "      <td>14.095000</td>\n",
       "      <td>12.218542</td>\n",
       "      <td>False</td>\n",
       "    </tr>\n",
       "    <tr>\n",
       "      <th>3</th>\n",
       "      <td>2</td>\n",
       "      <td>15.0</td>\n",
       "      <td>2019-11-29</td>\n",
       "      <td>2019</td>\n",
       "      <td>11</td>\n",
       "      <td>2019_11</td>\n",
       "      <td>14.095000</td>\n",
       "      <td>12.218542</td>\n",
       "      <td>False</td>\n",
       "    </tr>\n",
       "    <tr>\n",
       "      <th>4</th>\n",
       "      <td>2</td>\n",
       "      <td>1.6</td>\n",
       "      <td>2019-11-27</td>\n",
       "      <td>2019</td>\n",
       "      <td>11</td>\n",
       "      <td>2019_11</td>\n",
       "      <td>14.095000</td>\n",
       "      <td>12.218542</td>\n",
       "      <td>False</td>\n",
       "    </tr>\n",
       "  </tbody>\n",
       "</table>\n",
       "</div>"
      ],
      "text/plain": [
       "   account_id  amount       date  year  month year_month       mean  \\\n",
       "0           2    60.0 2019-12-04  2019     12    2019_12  25.756667   \n",
       "1           2    10.5 2019-11-30  2019     11    2019_11  14.095000   \n",
       "2           2     4.7 2019-11-29  2019     11    2019_11  14.095000   \n",
       "3           2    15.0 2019-11-29  2019     11    2019_11  14.095000   \n",
       "4           2     1.6 2019-11-27  2019     11    2019_11  14.095000   \n",
       "\n",
       "         std  outlier  \n",
       "0  19.206179    False  \n",
       "1  12.218542    False  \n",
       "2  12.218542    False  \n",
       "3  12.218542    False  \n",
       "4  12.218542    False  "
      ]
     },
     "execution_count": 45,
     "metadata": {},
     "output_type": "execute_result"
    },
    {
     "data": {
      "application/javascript": [
       "\n",
       "            setTimeout(function() {\n",
       "                var nbb_cell_id = 45;\n",
       "                var nbb_unformatted_code = \"df_no_outliers = remove_outliers(df=df_transactions)\\ndf_no_outliers.head()\";\n",
       "                var nbb_formatted_code = \"df_no_outliers = remove_outliers(df=df_transactions)\\ndf_no_outliers.head()\";\n",
       "                var nbb_cells = Jupyter.notebook.get_cells();\n",
       "                for (var i = 0; i < nbb_cells.length; ++i) {\n",
       "                    if (nbb_cells[i].input_prompt_number == nbb_cell_id) {\n",
       "                        if (nbb_cells[i].get_text() == nbb_unformatted_code) {\n",
       "                             nbb_cells[i].set_text(nbb_formatted_code);\n",
       "                        }\n",
       "                        break;\n",
       "                    }\n",
       "                }\n",
       "            }, 500);\n",
       "            "
      ],
      "text/plain": [
       "<IPython.core.display.Javascript object>"
      ]
     },
     "metadata": {},
     "output_type": "display_data"
    },
    {
     "data": {
      "application/javascript": [
       "\n",
       "            setTimeout(function() {\n",
       "                var nbb_cell_id = 45;\n",
       "                var nbb_unformatted_code = \"df_no_outliers = remove_outliers(df=df_transactions)\\ndf_no_outliers.head()\";\n",
       "                var nbb_formatted_code = \"df_no_outliers = remove_outliers(df=df_transactions)\\ndf_no_outliers.head()\";\n",
       "                var nbb_cells = Jupyter.notebook.get_cells();\n",
       "                for (var i = 0; i < nbb_cells.length; ++i) {\n",
       "                    if (nbb_cells[i].input_prompt_number == nbb_cell_id) {\n",
       "                        if (nbb_cells[i].get_text() == nbb_unformatted_code) {\n",
       "                             nbb_cells[i].set_text(nbb_formatted_code);\n",
       "                        }\n",
       "                        break;\n",
       "                    }\n",
       "                }\n",
       "            }, 500);\n",
       "            "
      ],
      "text/plain": [
       "<IPython.core.display.Javascript object>"
      ]
     },
     "metadata": {},
     "output_type": "display_data"
    }
   ],
   "source": [
    "df_no_outliers = remove_outliers(df=df_transactions)\n",
    "df_no_outliers.head()"
   ]
  },
  {
   "cell_type": "code",
   "execution_count": 46,
   "metadata": {},
   "outputs": [
    {
     "name": "stdout",
     "output_type": "stream",
     "text": [
      "2.450323052541753 % Outliers\n"
     ]
    },
    {
     "data": {
      "application/javascript": [
       "\n",
       "            setTimeout(function() {\n",
       "                var nbb_cell_id = 46;\n",
       "                var nbb_unformatted_code = \"print(\\n    f\\\"{df_no_outliers['outlier'].sum() / len(df_no_outliers) * 100} % Outliers\\\"\\n)\";\n",
       "                var nbb_formatted_code = \"print(f\\\"{df_no_outliers['outlier'].sum() / len(df_no_outliers) * 100} % Outliers\\\")\";\n",
       "                var nbb_cells = Jupyter.notebook.get_cells();\n",
       "                for (var i = 0; i < nbb_cells.length; ++i) {\n",
       "                    if (nbb_cells[i].input_prompt_number == nbb_cell_id) {\n",
       "                        if (nbb_cells[i].get_text() == nbb_unformatted_code) {\n",
       "                             nbb_cells[i].set_text(nbb_formatted_code);\n",
       "                        }\n",
       "                        break;\n",
       "                    }\n",
       "                }\n",
       "            }, 500);\n",
       "            "
      ],
      "text/plain": [
       "<IPython.core.display.Javascript object>"
      ]
     },
     "metadata": {},
     "output_type": "display_data"
    },
    {
     "data": {
      "application/javascript": [
       "\n",
       "            setTimeout(function() {\n",
       "                var nbb_cell_id = 46;\n",
       "                var nbb_unformatted_code = \"print(\\n    f\\\"{df_no_outliers['outlier'].sum() / len(df_no_outliers) * 100} % Outliers\\\"\\n)\";\n",
       "                var nbb_formatted_code = \"print(f\\\"{df_no_outliers['outlier'].sum() / len(df_no_outliers) * 100} % Outliers\\\")\";\n",
       "                var nbb_cells = Jupyter.notebook.get_cells();\n",
       "                for (var i = 0; i < nbb_cells.length; ++i) {\n",
       "                    if (nbb_cells[i].input_prompt_number == nbb_cell_id) {\n",
       "                        if (nbb_cells[i].get_text() == nbb_unformatted_code) {\n",
       "                             nbb_cells[i].set_text(nbb_formatted_code);\n",
       "                        }\n",
       "                        break;\n",
       "                    }\n",
       "                }\n",
       "            }, 500);\n",
       "            "
      ],
      "text/plain": [
       "<IPython.core.display.Javascript object>"
      ]
     },
     "metadata": {},
     "output_type": "display_data"
    }
   ],
   "source": [
    "print(f\"{df_no_outliers['outlier'].sum() / len(df_no_outliers) * 100} % Outliers\")"
   ]
  },
  {
   "cell_type": "markdown",
   "metadata": {},
   "source": [
    "- We only removed 2.45% of data"
   ]
  },
  {
   "cell_type": "code",
   "execution_count": 57,
   "metadata": {},
   "outputs": [
    {
     "data": {
      "text/plain": [
       "<matplotlib.legend.Legend at 0x126ad81c0>"
      ]
     },
     "execution_count": 57,
     "metadata": {},
     "output_type": "execute_result"
    },
    {
     "data": {
      "image/png": "[encoded data removed]",
      "text/plain": [
       "<Figure size 432x288 with 1 Axes>"
      ]
     },
     "metadata": {},
     "output_type": "display_data"
    },
    {
     "data": {
      "application/javascript": [
       "\n",
       "            setTimeout(function() {\n",
       "                var nbb_cell_id = 57;\n",
       "                var nbb_unformatted_code = \"sns.distplot(df_no_outliers[df_no_outliers[\\\"outlier\\\"] == True][\\\"amount\\\"], \\n             label = f\\\"median = {df_no_outliers[df_no_outliers['outlier'] == True]['amount'].median()}\\\")\\nplt.legend()\";\n",
       "                var nbb_formatted_code = \"sns.distplot(\\n    df_no_outliers[df_no_outliers[\\\"outlier\\\"] == True][\\\"amount\\\"],\\n    label=f\\\"median = {df_no_outliers[df_no_outliers['outlier'] == True]['amount'].median()}\\\",\\n)\\nplt.legend()\";\n",
       "                var nbb_cells = Jupyter.notebook.get_cells();\n",
       "                for (var i = 0; i < nbb_cells.length; ++i) {\n",
       "                    if (nbb_cells[i].input_prompt_number == nbb_cell_id) {\n",
       "                        if (nbb_cells[i].get_text() == nbb_unformatted_code) {\n",
       "                             nbb_cells[i].set_text(nbb_formatted_code);\n",
       "                        }\n",
       "                        break;\n",
       "                    }\n",
       "                }\n",
       "            }, 500);\n",
       "            "
      ],
      "text/plain": [
       "<IPython.core.display.Javascript object>"
      ]
     },
     "metadata": {},
     "output_type": "display_data"
    },
    {
     "data": {
      "application/javascript": [
       "\n",
       "            setTimeout(function() {\n",
       "                var nbb_cell_id = 57;\n",
       "                var nbb_unformatted_code = \"sns.distplot(df_no_outliers[df_no_outliers[\\\"outlier\\\"] == True][\\\"amount\\\"], \\n             label = f\\\"median = {df_no_outliers[df_no_outliers['outlier'] == True]['amount'].median()}\\\")\\nplt.legend()\";\n",
       "                var nbb_formatted_code = \"sns.distplot(\\n    df_no_outliers[df_no_outliers[\\\"outlier\\\"] == True][\\\"amount\\\"],\\n    label=f\\\"median = {df_no_outliers[df_no_outliers['outlier'] == True]['amount'].median()}\\\",\\n)\\nplt.legend()\";\n",
       "                var nbb_cells = Jupyter.notebook.get_cells();\n",
       "                for (var i = 0; i < nbb_cells.length; ++i) {\n",
       "                    if (nbb_cells[i].input_prompt_number == nbb_cell_id) {\n",
       "                        if (nbb_cells[i].get_text() == nbb_unformatted_code) {\n",
       "                             nbb_cells[i].set_text(nbb_formatted_code);\n",
       "                        }\n",
       "                        break;\n",
       "                    }\n",
       "                }\n",
       "            }, 500);\n",
       "            "
      ],
      "text/plain": [
       "<IPython.core.display.Javascript object>"
      ]
     },
     "metadata": {},
     "output_type": "display_data"
    }
   ],
   "source": [
    "sns.distplot(df_no_outliers[df_no_outliers[\"outlier\"] == True][\"amount\"], \n",
    "             label = f\"median = {df_no_outliers[df_no_outliers['outlier'] == True]['amount'].median()}\")\n",
    "plt.legend()\n"
   ]
  },
  {
   "cell_type": "markdown",
   "metadata": {},
   "source": [
    "We observe that the 2.45% of data contains many low values that can be kept.\n",
    "We might keep this way of filtering and consider that we only remove few data. But let us see how the outliers removal works if we aggregate by year instead of by month."
   ]
  },
  {
   "cell_type": "code",
   "execution_count": 49,
   "metadata": {},
   "outputs": [
    {
     "data": {
      "application/javascript": [
       "\n",
       "            setTimeout(function() {\n",
       "                var nbb_cell_id = 49;\n",
       "                var nbb_unformatted_code = \"def remove_outliers_year_aggregation(df: pd.DataFrame) -> pd.DataFrame:\\n    df[\\\"year\\\"] = df[\\\"date\\\"].dt.year\\n\\n    df_month_expenses = (\\n        df.groupby([\\\"account_id\\\", \\\"year\\\"])[\\\"amount\\\"]\\n        .agg([\\\"mean\\\", \\\"std\\\"])\\n        .reset_index()\\n    )\\n    df = pd.merge(\\n        df,\\n        df_month_expenses,\\n        on=[\\\"account_id\\\", \\\"year\\\"],\\n        how=\\\"left\\\",\\n        sort=False,\\n    )\\n    df[\\\"outlier\\\"] = df[\\\"amount\\\"] > (df[\\\"mean\\\"] + 3 * df[\\\"std\\\"])\\n    return df\";\n",
       "                var nbb_formatted_code = \"def remove_outliers_year_aggregation(df: pd.DataFrame) -> pd.DataFrame:\\n    df[\\\"year\\\"] = df[\\\"date\\\"].dt.year\\n\\n    df_month_expenses = (\\n        df.groupby([\\\"account_id\\\", \\\"year\\\"])[\\\"amount\\\"].agg([\\\"mean\\\", \\\"std\\\"]).reset_index()\\n    )\\n    df = pd.merge(\\n        df,\\n        df_month_expenses,\\n        on=[\\\"account_id\\\", \\\"year\\\"],\\n        how=\\\"left\\\",\\n        sort=False,\\n    )\\n    df[\\\"outlier\\\"] = df[\\\"amount\\\"] > (df[\\\"mean\\\"] + 3 * df[\\\"std\\\"])\\n    return df\";\n",
       "                var nbb_cells = Jupyter.notebook.get_cells();\n",
       "                for (var i = 0; i < nbb_cells.length; ++i) {\n",
       "                    if (nbb_cells[i].input_prompt_number == nbb_cell_id) {\n",
       "                        if (nbb_cells[i].get_text() == nbb_unformatted_code) {\n",
       "                             nbb_cells[i].set_text(nbb_formatted_code);\n",
       "                        }\n",
       "                        break;\n",
       "                    }\n",
       "                }\n",
       "            }, 500);\n",
       "            "
      ],
      "text/plain": [
       "<IPython.core.display.Javascript object>"
      ]
     },
     "metadata": {},
     "output_type": "display_data"
    },
    {
     "data": {
      "application/javascript": [
       "\n",
       "            setTimeout(function() {\n",
       "                var nbb_cell_id = 49;\n",
       "                var nbb_unformatted_code = \"def remove_outliers_year_aggregation(df: pd.DataFrame) -> pd.DataFrame:\\n    df[\\\"year\\\"] = df[\\\"date\\\"].dt.year\\n\\n    df_month_expenses = (\\n        df.groupby([\\\"account_id\\\", \\\"year\\\"])[\\\"amount\\\"]\\n        .agg([\\\"mean\\\", \\\"std\\\"])\\n        .reset_index()\\n    )\\n    df = pd.merge(\\n        df,\\n        df_month_expenses,\\n        on=[\\\"account_id\\\", \\\"year\\\"],\\n        how=\\\"left\\\",\\n        sort=False,\\n    )\\n    df[\\\"outlier\\\"] = df[\\\"amount\\\"] > (df[\\\"mean\\\"] + 3 * df[\\\"std\\\"])\\n    return df\";\n",
       "                var nbb_formatted_code = \"def remove_outliers_year_aggregation(df: pd.DataFrame) -> pd.DataFrame:\\n    df[\\\"year\\\"] = df[\\\"date\\\"].dt.year\\n\\n    df_month_expenses = (\\n        df.groupby([\\\"account_id\\\", \\\"year\\\"])[\\\"amount\\\"].agg([\\\"mean\\\", \\\"std\\\"]).reset_index()\\n    )\\n    df = pd.merge(\\n        df,\\n        df_month_expenses,\\n        on=[\\\"account_id\\\", \\\"year\\\"],\\n        how=\\\"left\\\",\\n        sort=False,\\n    )\\n    df[\\\"outlier\\\"] = df[\\\"amount\\\"] > (df[\\\"mean\\\"] + 3 * df[\\\"std\\\"])\\n    return df\";\n",
       "                var nbb_cells = Jupyter.notebook.get_cells();\n",
       "                for (var i = 0; i < nbb_cells.length; ++i) {\n",
       "                    if (nbb_cells[i].input_prompt_number == nbb_cell_id) {\n",
       "                        if (nbb_cells[i].get_text() == nbb_unformatted_code) {\n",
       "                             nbb_cells[i].set_text(nbb_formatted_code);\n",
       "                        }\n",
       "                        break;\n",
       "                    }\n",
       "                }\n",
       "            }, 500);\n",
       "            "
      ],
      "text/plain": [
       "<IPython.core.display.Javascript object>"
      ]
     },
     "metadata": {},
     "output_type": "display_data"
    }
   ],
   "source": [
    "def remove_outliers_year_aggregation(df: pd.DataFrame) -> pd.DataFrame:\n",
    "    df[\"year\"] = df[\"date\"].dt.year\n",
    "\n",
    "    df_month_expenses = (\n",
    "        df.groupby([\"account_id\", \"year\"])[\"amount\"].agg([\"mean\", \"std\"]).reset_index()\n",
    "    )\n",
    "    df = pd.merge(\n",
    "        df,\n",
    "        df_month_expenses,\n",
    "        on=[\"account_id\", \"year\"],\n",
    "        how=\"left\",\n",
    "        sort=False,\n",
    "    )\n",
    "    df[\"outlier\"] = df[\"amount\"] > (df[\"mean\"] + 3 * df[\"std\"])\n",
    "    return df"
   ]
  },
  {
   "cell_type": "code",
   "execution_count": 51,
   "metadata": {},
   "outputs": [
    {
     "data": {
      "application/javascript": [
       "\n",
       "            setTimeout(function() {\n",
       "                var nbb_cell_id = 51;\n",
       "                var nbb_unformatted_code = \"df_no_outliers_year_agg = remove_outliers_year_aggregation(df=df_transactions)\";\n",
       "                var nbb_formatted_code = \"df_no_outliers_year_agg = remove_outliers_year_aggregation(df=df_transactions)\";\n",
       "                var nbb_cells = Jupyter.notebook.get_cells();\n",
       "                for (var i = 0; i < nbb_cells.length; ++i) {\n",
       "                    if (nbb_cells[i].input_prompt_number == nbb_cell_id) {\n",
       "                        if (nbb_cells[i].get_text() == nbb_unformatted_code) {\n",
       "                             nbb_cells[i].set_text(nbb_formatted_code);\n",
       "                        }\n",
       "                        break;\n",
       "                    }\n",
       "                }\n",
       "            }, 500);\n",
       "            "
      ],
      "text/plain": [
       "<IPython.core.display.Javascript object>"
      ]
     },
     "metadata": {},
     "output_type": "display_data"
    },
    {
     "data": {
      "application/javascript": [
       "\n",
       "            setTimeout(function() {\n",
       "                var nbb_cell_id = 51;\n",
       "                var nbb_unformatted_code = \"df_no_outliers_year_agg = remove_outliers_year_aggregation(df=df_transactions)\";\n",
       "                var nbb_formatted_code = \"df_no_outliers_year_agg = remove_outliers_year_aggregation(df=df_transactions)\";\n",
       "                var nbb_cells = Jupyter.notebook.get_cells();\n",
       "                for (var i = 0; i < nbb_cells.length; ++i) {\n",
       "                    if (nbb_cells[i].input_prompt_number == nbb_cell_id) {\n",
       "                        if (nbb_cells[i].get_text() == nbb_unformatted_code) {\n",
       "                             nbb_cells[i].set_text(nbb_formatted_code);\n",
       "                        }\n",
       "                        break;\n",
       "                    }\n",
       "                }\n",
       "            }, 500);\n",
       "            "
      ],
      "text/plain": [
       "<IPython.core.display.Javascript object>"
      ]
     },
     "metadata": {},
     "output_type": "display_data"
    }
   ],
   "source": [
    "df_no_outliers_year_agg = remove_outliers_year_aggregation(df=df_transactions)"
   ]
  },
  {
   "cell_type": "code",
   "execution_count": 52,
   "metadata": {},
   "outputs": [
    {
     "name": "stdout",
     "output_type": "stream",
     "text": [
      "1.8712666097769108 % Outliers\n"
     ]
    },
    {
     "data": {
      "application/javascript": [
       "\n",
       "            setTimeout(function() {\n",
       "                var nbb_cell_id = 52;\n",
       "                var nbb_unformatted_code = \"print(f\\\"{df_no_outliers_year_agg['outlier'].sum() / len(df_no_outliers_year_agg) * 100} % Outliers\\\")\";\n",
       "                var nbb_formatted_code = \"print(\\n    f\\\"{df_no_outliers_year_agg['outlier'].sum() / len(df_no_outliers_year_agg) * 100} % Outliers\\\"\\n)\";\n",
       "                var nbb_cells = Jupyter.notebook.get_cells();\n",
       "                for (var i = 0; i < nbb_cells.length; ++i) {\n",
       "                    if (nbb_cells[i].input_prompt_number == nbb_cell_id) {\n",
       "                        if (nbb_cells[i].get_text() == nbb_unformatted_code) {\n",
       "                             nbb_cells[i].set_text(nbb_formatted_code);\n",
       "                        }\n",
       "                        break;\n",
       "                    }\n",
       "                }\n",
       "            }, 500);\n",
       "            "
      ],
      "text/plain": [
       "<IPython.core.display.Javascript object>"
      ]
     },
     "metadata": {},
     "output_type": "display_data"
    },
    {
     "data": {
      "application/javascript": [
       "\n",
       "            setTimeout(function() {\n",
       "                var nbb_cell_id = 52;\n",
       "                var nbb_unformatted_code = \"print(f\\\"{df_no_outliers_year_agg['outlier'].sum() / len(df_no_outliers_year_agg) * 100} % Outliers\\\")\";\n",
       "                var nbb_formatted_code = \"print(\\n    f\\\"{df_no_outliers_year_agg['outlier'].sum() / len(df_no_outliers_year_agg) * 100} % Outliers\\\"\\n)\";\n",
       "                var nbb_cells = Jupyter.notebook.get_cells();\n",
       "                for (var i = 0; i < nbb_cells.length; ++i) {\n",
       "                    if (nbb_cells[i].input_prompt_number == nbb_cell_id) {\n",
       "                        if (nbb_cells[i].get_text() == nbb_unformatted_code) {\n",
       "                             nbb_cells[i].set_text(nbb_formatted_code);\n",
       "                        }\n",
       "                        break;\n",
       "                    }\n",
       "                }\n",
       "            }, 500);\n",
       "            "
      ],
      "text/plain": [
       "<IPython.core.display.Javascript object>"
      ]
     },
     "metadata": {},
     "output_type": "display_data"
    }
   ],
   "source": [
    "print(\n",
    "    f\"{df_no_outliers_year_agg['outlier'].sum() / len(df_no_outliers_year_agg) * 100} % Outliers\"\n",
    ")"
   ]
  },
  {
   "cell_type": "code",
   "execution_count": 59,
   "metadata": {},
   "outputs": [
    {
     "data": {
      "text/plain": [
       "<matplotlib.legend.Legend at 0x126c1b430>"
      ]
     },
     "execution_count": 59,
     "metadata": {},
     "output_type": "execute_result"
    },
    {
     "data": {
      "image/png": "[encoded data removed]",
      "text/plain": [
       "<Figure size 432x288 with 1 Axes>"
      ]
     },
     "metadata": {},
     "output_type": "display_data"
    },
    {
     "data": {
      "application/javascript": [
       "\n",
       "            setTimeout(function() {\n",
       "                var nbb_cell_id = 59;\n",
       "                var nbb_unformatted_code = \"sns.distplot(\\n    df_no_outliers_year_agg[df_no_outliers_year_agg[\\\"outlier\\\"] == True][\\\"amount\\\"],\\n    label=f\\\"median = {df_no_outliers_year_agg[df_no_outliers_year_agg['outlier'] == True]['amount'].median()}\\\",\\n)\\nplt.legend()\";\n",
       "                var nbb_formatted_code = \"sns.distplot(\\n    df_no_outliers_year_agg[df_no_outliers_year_agg[\\\"outlier\\\"] == True][\\\"amount\\\"],\\n    label=f\\\"median = {df_no_outliers_year_agg[df_no_outliers_year_agg['outlier'] == True]['amount'].median()}\\\",\\n)\\nplt.legend()\";\n",
       "                var nbb_cells = Jupyter.notebook.get_cells();\n",
       "                for (var i = 0; i < nbb_cells.length; ++i) {\n",
       "                    if (nbb_cells[i].input_prompt_number == nbb_cell_id) {\n",
       "                        if (nbb_cells[i].get_text() == nbb_unformatted_code) {\n",
       "                             nbb_cells[i].set_text(nbb_formatted_code);\n",
       "                        }\n",
       "                        break;\n",
       "                    }\n",
       "                }\n",
       "            }, 500);\n",
       "            "
      ],
      "text/plain": [
       "<IPython.core.display.Javascript object>"
      ]
     },
     "metadata": {},
     "output_type": "display_data"
    },
    {
     "data": {
      "application/javascript": [
       "\n",
       "            setTimeout(function() {\n",
       "                var nbb_cell_id = 59;\n",
       "                var nbb_unformatted_code = \"sns.distplot(\\n    df_no_outliers_year_agg[df_no_outliers_year_agg[\\\"outlier\\\"] == True][\\\"amount\\\"],\\n    label=f\\\"median = {df_no_outliers_year_agg[df_no_outliers_year_agg['outlier'] == True]['amount'].median()}\\\",\\n)\\nplt.legend()\";\n",
       "                var nbb_formatted_code = \"sns.distplot(\\n    df_no_outliers_year_agg[df_no_outliers_year_agg[\\\"outlier\\\"] == True][\\\"amount\\\"],\\n    label=f\\\"median = {df_no_outliers_year_agg[df_no_outliers_year_agg['outlier'] == True]['amount'].median()}\\\",\\n)\\nplt.legend()\";\n",
       "                var nbb_cells = Jupyter.notebook.get_cells();\n",
       "                for (var i = 0; i < nbb_cells.length; ++i) {\n",
       "                    if (nbb_cells[i].input_prompt_number == nbb_cell_id) {\n",
       "                        if (nbb_cells[i].get_text() == nbb_unformatted_code) {\n",
       "                             nbb_cells[i].set_text(nbb_formatted_code);\n",
       "                        }\n",
       "                        break;\n",
       "                    }\n",
       "                }\n",
       "            }, 500);\n",
       "            "
      ],
      "text/plain": [
       "<IPython.core.display.Javascript object>"
      ]
     },
     "metadata": {},
     "output_type": "display_data"
    }
   ],
   "source": [
    "sns.distplot(\n",
    "    df_no_outliers_year_agg[df_no_outliers_year_agg[\"outlier\"] == True][\"amount\"],\n",
    "    label=f\"median = {df_no_outliers_year_agg[df_no_outliers_year_agg['outlier'] == True]['amount'].median()}\",\n",
    ")\n",
    "plt.legend()"
   ]
  },
  {
   "cell_type": "markdown",
   "metadata": {},
   "source": [
    "Here we get a higher median, which may be better. "
   ]
  },
  {
   "cell_type": "markdown",
   "metadata": {},
   "source": [
    "Let check again by looking at account 46"
   ]
  },
  {
   "cell_type": "code",
   "execution_count": 62,
   "metadata": {},
   "outputs": [
    {
     "data": {
      "text/html": [
       "<div>\n",
       "<style scoped>\n",
       "    .dataframe tbody tr th:only-of-type {\n",
       "        vertical-align: middle;\n",
       "    }\n",
       "\n",
       "    .dataframe tbody tr th {\n",
       "        vertical-align: top;\n",
       "    }\n",
       "\n",
       "    .dataframe thead th {\n",
       "        text-align: right;\n",
       "    }\n",
       "</style>\n",
       "<table border=\"1\" class=\"dataframe\">\n",
       "  <thead>\n",
       "    <tr style=\"text-align: right;\">\n",
       "      <th></th>\n",
       "      <th>account_id</th>\n",
       "      <th>amount</th>\n",
       "      <th>date</th>\n",
       "      <th>year</th>\n",
       "      <th>month</th>\n",
       "      <th>year_month</th>\n",
       "      <th>mean</th>\n",
       "      <th>std</th>\n",
       "      <th>outlier</th>\n",
       "    </tr>\n",
       "  </thead>\n",
       "  <tbody>\n",
       "    <tr>\n",
       "      <th>1</th>\n",
       "      <td>46</td>\n",
       "      <td>12553.76</td>\n",
       "      <td>2019-12-18</td>\n",
       "      <td>2019</td>\n",
       "      <td>12</td>\n",
       "      <td>2019_12</td>\n",
       "      <td>201.477136</td>\n",
       "      <td>1138.779909</td>\n",
       "      <td>True</td>\n",
       "    </tr>\n",
       "    <tr>\n",
       "      <th>35</th>\n",
       "      <td>46</td>\n",
       "      <td>17040.00</td>\n",
       "      <td>2019-11-18</td>\n",
       "      <td>2019</td>\n",
       "      <td>11</td>\n",
       "      <td>2019_11</td>\n",
       "      <td>201.477136</td>\n",
       "      <td>1138.779909</td>\n",
       "      <td>True</td>\n",
       "    </tr>\n",
       "    <tr>\n",
       "      <th>122</th>\n",
       "      <td>46</td>\n",
       "      <td>4397.00</td>\n",
       "      <td>2019-09-24</td>\n",
       "      <td>2019</td>\n",
       "      <td>9</td>\n",
       "      <td>2019_09</td>\n",
       "      <td>201.477136</td>\n",
       "      <td>1138.779909</td>\n",
       "      <td>True</td>\n",
       "    </tr>\n",
       "    <tr>\n",
       "      <th>184</th>\n",
       "      <td>46</td>\n",
       "      <td>4162.00</td>\n",
       "      <td>2019-07-24</td>\n",
       "      <td>2019</td>\n",
       "      <td>7</td>\n",
       "      <td>2019_07</td>\n",
       "      <td>201.477136</td>\n",
       "      <td>1138.779909</td>\n",
       "      <td>True</td>\n",
       "    </tr>\n",
       "    <tr>\n",
       "      <th>200</th>\n",
       "      <td>46</td>\n",
       "      <td>6991.13</td>\n",
       "      <td>2019-07-10</td>\n",
       "      <td>2019</td>\n",
       "      <td>7</td>\n",
       "      <td>2019_07</td>\n",
       "      <td>201.477136</td>\n",
       "      <td>1138.779909</td>\n",
       "      <td>True</td>\n",
       "    </tr>\n",
       "    <tr>\n",
       "      <th>420</th>\n",
       "      <td>46</td>\n",
       "      <td>5000.00</td>\n",
       "      <td>2018-12-27</td>\n",
       "      <td>2018</td>\n",
       "      <td>12</td>\n",
       "      <td>2018_12</td>\n",
       "      <td>185.564157</td>\n",
       "      <td>771.198296</td>\n",
       "      <td>True</td>\n",
       "    </tr>\n",
       "    <tr>\n",
       "      <th>422</th>\n",
       "      <td>46</td>\n",
       "      <td>6500.00</td>\n",
       "      <td>2018-12-24</td>\n",
       "      <td>2018</td>\n",
       "      <td>12</td>\n",
       "      <td>2018_12</td>\n",
       "      <td>185.564157</td>\n",
       "      <td>771.198296</td>\n",
       "      <td>True</td>\n",
       "    </tr>\n",
       "    <tr>\n",
       "      <th>441</th>\n",
       "      <td>46</td>\n",
       "      <td>3200.00</td>\n",
       "      <td>2018-12-06</td>\n",
       "      <td>2018</td>\n",
       "      <td>12</td>\n",
       "      <td>2018_12</td>\n",
       "      <td>185.564157</td>\n",
       "      <td>771.198296</td>\n",
       "      <td>True</td>\n",
       "    </tr>\n",
       "    <tr>\n",
       "      <th>459</th>\n",
       "      <td>46</td>\n",
       "      <td>7000.00</td>\n",
       "      <td>2018-11-09</td>\n",
       "      <td>2018</td>\n",
       "      <td>11</td>\n",
       "      <td>2018_11</td>\n",
       "      <td>185.564157</td>\n",
       "      <td>771.198296</td>\n",
       "      <td>True</td>\n",
       "    </tr>\n",
       "    <tr>\n",
       "      <th>482</th>\n",
       "      <td>46</td>\n",
       "      <td>4000.00</td>\n",
       "      <td>2018-10-15</td>\n",
       "      <td>2018</td>\n",
       "      <td>10</td>\n",
       "      <td>2018_10</td>\n",
       "      <td>185.564157</td>\n",
       "      <td>771.198296</td>\n",
       "      <td>True</td>\n",
       "    </tr>\n",
       "    <tr>\n",
       "      <th>516</th>\n",
       "      <td>46</td>\n",
       "      <td>3000.00</td>\n",
       "      <td>2018-09-11</td>\n",
       "      <td>2018</td>\n",
       "      <td>9</td>\n",
       "      <td>2018_09</td>\n",
       "      <td>185.564157</td>\n",
       "      <td>771.198296</td>\n",
       "      <td>True</td>\n",
       "    </tr>\n",
       "    <tr>\n",
       "      <th>707</th>\n",
       "      <td>46</td>\n",
       "      <td>414.00</td>\n",
       "      <td>2020-01-09</td>\n",
       "      <td>2020</td>\n",
       "      <td>1</td>\n",
       "      <td>2020_01</td>\n",
       "      <td>59.716154</td>\n",
       "      <td>84.948869</td>\n",
       "      <td>True</td>\n",
       "    </tr>\n",
       "  </tbody>\n",
       "</table>\n",
       "</div>"
      ],
      "text/plain": [
       "     account_id    amount       date  year  month year_month        mean  \\\n",
       "1            46  12553.76 2019-12-18  2019     12    2019_12  201.477136   \n",
       "35           46  17040.00 2019-11-18  2019     11    2019_11  201.477136   \n",
       "122          46   4397.00 2019-09-24  2019      9    2019_09  201.477136   \n",
       "184          46   4162.00 2019-07-24  2019      7    2019_07  201.477136   \n",
       "200          46   6991.13 2019-07-10  2019      7    2019_07  201.477136   \n",
       "420          46   5000.00 2018-12-27  2018     12    2018_12  185.564157   \n",
       "422          46   6500.00 2018-12-24  2018     12    2018_12  185.564157   \n",
       "441          46   3200.00 2018-12-06  2018     12    2018_12  185.564157   \n",
       "459          46   7000.00 2018-11-09  2018     11    2018_11  185.564157   \n",
       "482          46   4000.00 2018-10-15  2018     10    2018_10  185.564157   \n",
       "516          46   3000.00 2018-09-11  2018      9    2018_09  185.564157   \n",
       "707          46    414.00 2020-01-09  2020      1    2020_01   59.716154   \n",
       "\n",
       "             std  outlier  \n",
       "1    1138.779909     True  \n",
       "35   1138.779909     True  \n",
       "122  1138.779909     True  \n",
       "184  1138.779909     True  \n",
       "200  1138.779909     True  \n",
       "420   771.198296     True  \n",
       "422   771.198296     True  \n",
       "441   771.198296     True  \n",
       "459   771.198296     True  \n",
       "482   771.198296     True  \n",
       "516   771.198296     True  \n",
       "707    84.948869     True  "
      ]
     },
     "execution_count": 62,
     "metadata": {},
     "output_type": "execute_result"
    },
    {
     "data": {
      "application/javascript": [
       "\n",
       "            setTimeout(function() {\n",
       "                var nbb_cell_id = 62;\n",
       "                var nbb_unformatted_code = \"df_transactions_46 = df_transactions[df_transactions[\\\"account_id\\\"] == 46]\\ndf_transactions_46 = remove_outliers_year_aggregation(df=df_transactions_46)\\ndf_transactions_46[df_transactions_46[\\\"outlier\\\"] == True]\";\n",
       "                var nbb_formatted_code = \"df_transactions_46 = df_transactions[df_transactions[\\\"account_id\\\"] == 46]\\ndf_transactions_46 = remove_outliers_year_aggregation(df=df_transactions_46)\\ndf_transactions_46[df_transactions_46[\\\"outlier\\\"] == True]\";\n",
       "                var nbb_cells = Jupyter.notebook.get_cells();\n",
       "                for (var i = 0; i < nbb_cells.length; ++i) {\n",
       "                    if (nbb_cells[i].input_prompt_number == nbb_cell_id) {\n",
       "                        if (nbb_cells[i].get_text() == nbb_unformatted_code) {\n",
       "                             nbb_cells[i].set_text(nbb_formatted_code);\n",
       "                        }\n",
       "                        break;\n",
       "                    }\n",
       "                }\n",
       "            }, 500);\n",
       "            "
      ],
      "text/plain": [
       "<IPython.core.display.Javascript object>"
      ]
     },
     "metadata": {},
     "output_type": "display_data"
    },
    {
     "data": {
      "application/javascript": [
       "\n",
       "            setTimeout(function() {\n",
       "                var nbb_cell_id = 62;\n",
       "                var nbb_unformatted_code = \"df_transactions_46 = df_transactions[df_transactions[\\\"account_id\\\"] == 46]\\ndf_transactions_46 = remove_outliers_year_aggregation(df=df_transactions_46)\\ndf_transactions_46[df_transactions_46[\\\"outlier\\\"] == True]\";\n",
       "                var nbb_formatted_code = \"df_transactions_46 = df_transactions[df_transactions[\\\"account_id\\\"] == 46]\\ndf_transactions_46 = remove_outliers_year_aggregation(df=df_transactions_46)\\ndf_transactions_46[df_transactions_46[\\\"outlier\\\"] == True]\";\n",
       "                var nbb_cells = Jupyter.notebook.get_cells();\n",
       "                for (var i = 0; i < nbb_cells.length; ++i) {\n",
       "                    if (nbb_cells[i].input_prompt_number == nbb_cell_id) {\n",
       "                        if (nbb_cells[i].get_text() == nbb_unformatted_code) {\n",
       "                             nbb_cells[i].set_text(nbb_formatted_code);\n",
       "                        }\n",
       "                        break;\n",
       "                    }\n",
       "                }\n",
       "            }, 500);\n",
       "            "
      ],
      "text/plain": [
       "<IPython.core.display.Javascript object>"
      ]
     },
     "metadata": {},
     "output_type": "display_data"
    }
   ],
   "source": [
    "df_transactions_46 = df_transactions[df_transactions[\"account_id\"] == 46]\n",
    "df_transactions_46 = remove_outliers_year_aggregation(df=df_transactions_46)\n",
    "df_transactions_46[df_transactions_46[\"outlier\"] == True]"
   ]
  },
  {
   "cell_type": "markdown",
   "metadata": {},
   "source": [
    "Here we see that we remove mainly the very high values."
   ]
  },
  {
   "cell_type": "markdown",
   "metadata": {},
   "source": [
    "`I will hence use the outliers removal function that aggregates by year: *remove_outliers_year_aggregation*` "
   ]
  },
  {
   "cell_type": "code",
   "execution_count": 67,
   "metadata": {},
   "outputs": [
    {
     "data": {
      "application/javascript": [
       "\n",
       "            setTimeout(function() {\n",
       "                var nbb_cell_id = 67;\n",
       "                var nbb_unformatted_code = \"# Save new dataset\\ndf_no_outliers_year_agg[df_no_outliers_year_agg[\\\"outlier\\\"] == False].to_csv(\\n    \\\"../data/transactions_no_outliers.csv\\\", index=False\\n)\";\n",
       "                var nbb_formatted_code = \"# Save new dataset\\ndf_no_outliers_year_agg[df_no_outliers_year_agg[\\\"outlier\\\"] == False].to_csv(\\n    \\\"../data/transactions_no_outliers.csv\\\", index=False\\n)\";\n",
       "                var nbb_cells = Jupyter.notebook.get_cells();\n",
       "                for (var i = 0; i < nbb_cells.length; ++i) {\n",
       "                    if (nbb_cells[i].input_prompt_number == nbb_cell_id) {\n",
       "                        if (nbb_cells[i].get_text() == nbb_unformatted_code) {\n",
       "                             nbb_cells[i].set_text(nbb_formatted_code);\n",
       "                        }\n",
       "                        break;\n",
       "                    }\n",
       "                }\n",
       "            }, 500);\n",
       "            "
      ],
      "text/plain": [
       "<IPython.core.display.Javascript object>"
      ]
     },
     "metadata": {},
     "output_type": "display_data"
    },
    {
     "data": {
      "application/javascript": [
       "\n",
       "            setTimeout(function() {\n",
       "                var nbb_cell_id = 67;\n",
       "                var nbb_unformatted_code = \"# Save new dataset\\ndf_no_outliers_year_agg[df_no_outliers_year_agg[\\\"outlier\\\"] == False].to_csv(\\n    \\\"../data/transactions_no_outliers.csv\\\", index=False\\n)\";\n",
       "                var nbb_formatted_code = \"# Save new dataset\\ndf_no_outliers_year_agg[df_no_outliers_year_agg[\\\"outlier\\\"] == False].to_csv(\\n    \\\"../data/transactions_no_outliers.csv\\\", index=False\\n)\";\n",
       "                var nbb_cells = Jupyter.notebook.get_cells();\n",
       "                for (var i = 0; i < nbb_cells.length; ++i) {\n",
       "                    if (nbb_cells[i].input_prompt_number == nbb_cell_id) {\n",
       "                        if (nbb_cells[i].get_text() == nbb_unformatted_code) {\n",
       "                             nbb_cells[i].set_text(nbb_formatted_code);\n",
       "                        }\n",
       "                        break;\n",
       "                    }\n",
       "                }\n",
       "            }, 500);\n",
       "            "
      ],
      "text/plain": [
       "<IPython.core.display.Javascript object>"
      ]
     },
     "metadata": {},
     "output_type": "display_data"
    }
   ],
   "source": [
    "# Save new dataset\n",
    "df_no_outliers_year_agg[df_no_outliers_year_agg[\"outlier\"] == False].to_csv(\n",
    "    \"../data/transactions_no_outliers.csv\", index=False\n",
    ")"
   ]
  },
  {
   "cell_type": "code",
   "execution_count": null,
   "metadata": {},
   "outputs": [],
   "source": []
  }
 ],
 "metadata": {
  "kernelspec": {
   "display_name": "Python 3",
   "language": "python",
   "name": "python3"
  },
  "language_info": {
   "codemirror_mode": {
    "name": "ipython",
    "version": 3
   },
   "file_extension": ".py",
   "mimetype": "text/x-python",
   "name": "python",
   "nbconvert_exporter": "python",
   "pygments_lexer": "ipython3",
   "version": "3.8.2"
  }
 },
 "nbformat": 4,
 "nbformat_minor": 4
}

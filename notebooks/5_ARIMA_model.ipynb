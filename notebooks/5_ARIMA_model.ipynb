{
 "cells": [
  {
   "cell_type": "markdown",
   "metadata": {},
   "source": [
    "For each account I will train multiple ARIMA models on the train set. Then I will compute the MAPE for each window and keep the model taht performs best. I will then use it over the test set to get a final score to compare to other models.\n",
    "\n",
    "Concerning the use of ARIMA models, there is no need to split data into train/validate/test, but only train/test."
   ]
  },
  {
   "cell_type": "code",
   "execution_count": 79,
   "metadata": {},
   "outputs": [
    {
     "data": {
      "application/javascript": [
       "\n",
       "            setTimeout(function() {\n",
       "                var nbb_cell_id = 79;\n",
       "                var nbb_unformatted_code = \"%reload_ext nb_black\";\n",
       "                var nbb_formatted_code = \"%reload_ext nb_black\";\n",
       "                var nbb_cells = Jupyter.notebook.get_cells();\n",
       "                for (var i = 0; i < nbb_cells.length; ++i) {\n",
       "                    if (nbb_cells[i].input_prompt_number == nbb_cell_id) {\n",
       "                        if (nbb_cells[i].get_text() == nbb_unformatted_code) {\n",
       "                             nbb_cells[i].set_text(nbb_formatted_code);\n",
       "                        }\n",
       "                        break;\n",
       "                    }\n",
       "                }\n",
       "            }, 500);\n",
       "            "
      ],
      "text/plain": [
       "<IPython.core.display.Javascript object>"
      ]
     },
     "metadata": {},
     "output_type": "display_data"
    },
    {
     "data": {
      "application/javascript": [
       "\n",
       "            setTimeout(function() {\n",
       "                var nbb_cell_id = 79;\n",
       "                var nbb_unformatted_code = \"%reload_ext nb_black\";\n",
       "                var nbb_formatted_code = \"%reload_ext nb_black\";\n",
       "                var nbb_cells = Jupyter.notebook.get_cells();\n",
       "                for (var i = 0; i < nbb_cells.length; ++i) {\n",
       "                    if (nbb_cells[i].input_prompt_number == nbb_cell_id) {\n",
       "                        if (nbb_cells[i].get_text() == nbb_unformatted_code) {\n",
       "                             nbb_cells[i].set_text(nbb_formatted_code);\n",
       "                        }\n",
       "                        break;\n",
       "                    }\n",
       "                }\n",
       "            }, 500);\n",
       "            "
      ],
      "text/plain": [
       "<IPython.core.display.Javascript object>"
      ]
     },
     "metadata": {},
     "output_type": "display_data"
    },
    {
     "data": {
      "application/javascript": [
       "\n",
       "            setTimeout(function() {\n",
       "                var nbb_cell_id = 79;\n",
       "                var nbb_unformatted_code = \"%reload_ext nb_black\";\n",
       "                var nbb_formatted_code = \"%reload_ext nb_black\";\n",
       "                var nbb_cells = Jupyter.notebook.get_cells();\n",
       "                for (var i = 0; i < nbb_cells.length; ++i) {\n",
       "                    if (nbb_cells[i].input_prompt_number == nbb_cell_id) {\n",
       "                        if (nbb_cells[i].get_text() == nbb_unformatted_code) {\n",
       "                             nbb_cells[i].set_text(nbb_formatted_code);\n",
       "                        }\n",
       "                        break;\n",
       "                    }\n",
       "                }\n",
       "            }, 500);\n",
       "            "
      ],
      "text/plain": [
       "<IPython.core.display.Javascript object>"
      ]
     },
     "metadata": {},
     "output_type": "display_data"
    }
   ],
   "source": [
    "%reload_ext nb_black"
   ]
  },
  {
   "cell_type": "code",
   "execution_count": 80,
   "metadata": {},
   "outputs": [
    {
     "data": {
      "application/javascript": [
       "\n",
       "            setTimeout(function() {\n",
       "                var nbb_cell_id = 80;\n",
       "                var nbb_unformatted_code = \"import pandas as pd\\n\\npd.set_option(\\\"display.max_rows\\\", 500)\\n\\nimport numpy as np\\nimport matplotlib.pyplot as plt\\n\\n%matplotlib inline\\nimport seaborn as sns\\n\\nsns.set()\\n\\nimport warnings\\n\\nwarnings.filterwarnings(\\\"ignore\\\")\\n\\nfrom typing import Tuple\\n\\nfrom statsmodels.tsa.arima_model import ARIMA\\nfrom sklearn.metrics import mean_absolute_error\\n\\nimport itertools\";\n",
       "                var nbb_formatted_code = \"import pandas as pd\\n\\npd.set_option(\\\"display.max_rows\\\", 500)\\n\\nimport numpy as np\\nimport matplotlib.pyplot as plt\\n\\n%matplotlib inline\\nimport seaborn as sns\\n\\nsns.set()\\n\\nimport warnings\\n\\nwarnings.filterwarnings(\\\"ignore\\\")\\n\\nfrom typing import Tuple\\n\\nfrom statsmodels.tsa.arima_model import ARIMA\\nfrom sklearn.metrics import mean_absolute_error\\n\\nimport itertools\";\n",
       "                var nbb_cells = Jupyter.notebook.get_cells();\n",
       "                for (var i = 0; i < nbb_cells.length; ++i) {\n",
       "                    if (nbb_cells[i].input_prompt_number == nbb_cell_id) {\n",
       "                        if (nbb_cells[i].get_text() == nbb_unformatted_code) {\n",
       "                             nbb_cells[i].set_text(nbb_formatted_code);\n",
       "                        }\n",
       "                        break;\n",
       "                    }\n",
       "                }\n",
       "            }, 500);\n",
       "            "
      ],
      "text/plain": [
       "<IPython.core.display.Javascript object>"
      ]
     },
     "metadata": {},
     "output_type": "display_data"
    },
    {
     "data": {
      "application/javascript": [
       "\n",
       "            setTimeout(function() {\n",
       "                var nbb_cell_id = 80;\n",
       "                var nbb_unformatted_code = \"import pandas as pd\\n\\npd.set_option(\\\"display.max_rows\\\", 500)\\n\\nimport numpy as np\\nimport matplotlib.pyplot as plt\\n\\n%matplotlib inline\\nimport seaborn as sns\\n\\nsns.set()\\n\\nimport warnings\\n\\nwarnings.filterwarnings(\\\"ignore\\\")\\n\\nfrom typing import Tuple\\n\\nfrom statsmodels.tsa.arima_model import ARIMA\\nfrom sklearn.metrics import mean_absolute_error\\n\\nimport itertools\";\n",
       "                var nbb_formatted_code = \"import pandas as pd\\n\\npd.set_option(\\\"display.max_rows\\\", 500)\\n\\nimport numpy as np\\nimport matplotlib.pyplot as plt\\n\\n%matplotlib inline\\nimport seaborn as sns\\n\\nsns.set()\\n\\nimport warnings\\n\\nwarnings.filterwarnings(\\\"ignore\\\")\\n\\nfrom typing import Tuple\\n\\nfrom statsmodels.tsa.arima_model import ARIMA\\nfrom sklearn.metrics import mean_absolute_error\\n\\nimport itertools\";\n",
       "                var nbb_cells = Jupyter.notebook.get_cells();\n",
       "                for (var i = 0; i < nbb_cells.length; ++i) {\n",
       "                    if (nbb_cells[i].input_prompt_number == nbb_cell_id) {\n",
       "                        if (nbb_cells[i].get_text() == nbb_unformatted_code) {\n",
       "                             nbb_cells[i].set_text(nbb_formatted_code);\n",
       "                        }\n",
       "                        break;\n",
       "                    }\n",
       "                }\n",
       "            }, 500);\n",
       "            "
      ],
      "text/plain": [
       "<IPython.core.display.Javascript object>"
      ]
     },
     "metadata": {},
     "output_type": "display_data"
    },
    {
     "data": {
      "application/javascript": [
       "\n",
       "            setTimeout(function() {\n",
       "                var nbb_cell_id = 80;\n",
       "                var nbb_unformatted_code = \"import pandas as pd\\n\\npd.set_option(\\\"display.max_rows\\\", 500)\\n\\nimport numpy as np\\nimport matplotlib.pyplot as plt\\n\\n%matplotlib inline\\nimport seaborn as sns\\n\\nsns.set()\\n\\nimport warnings\\n\\nwarnings.filterwarnings(\\\"ignore\\\")\\n\\nfrom typing import Tuple\\n\\nfrom statsmodels.tsa.arima_model import ARIMA\\nfrom sklearn.metrics import mean_absolute_error\\n\\nimport itertools\";\n",
       "                var nbb_formatted_code = \"import pandas as pd\\n\\npd.set_option(\\\"display.max_rows\\\", 500)\\n\\nimport numpy as np\\nimport matplotlib.pyplot as plt\\n\\n%matplotlib inline\\nimport seaborn as sns\\n\\nsns.set()\\n\\nimport warnings\\n\\nwarnings.filterwarnings(\\\"ignore\\\")\\n\\nfrom typing import Tuple\\n\\nfrom statsmodels.tsa.arima_model import ARIMA\\nfrom sklearn.metrics import mean_absolute_error\\n\\nimport itertools\";\n",
       "                var nbb_cells = Jupyter.notebook.get_cells();\n",
       "                for (var i = 0; i < nbb_cells.length; ++i) {\n",
       "                    if (nbb_cells[i].input_prompt_number == nbb_cell_id) {\n",
       "                        if (nbb_cells[i].get_text() == nbb_unformatted_code) {\n",
       "                             nbb_cells[i].set_text(nbb_formatted_code);\n",
       "                        }\n",
       "                        break;\n",
       "                    }\n",
       "                }\n",
       "            }, 500);\n",
       "            "
      ],
      "text/plain": [
       "<IPython.core.display.Javascript object>"
      ]
     },
     "metadata": {},
     "output_type": "display_data"
    }
   ],
   "source": [
    "import pandas as pd\n",
    "\n",
    "pd.set_option(\"display.max_rows\", 500)\n",
    "\n",
    "import numpy as np\n",
    "import matplotlib.pyplot as plt\n",
    "\n",
    "%matplotlib inline\n",
    "import seaborn as sns\n",
    "\n",
    "sns.set()\n",
    "\n",
    "import warnings\n",
    "\n",
    "warnings.filterwarnings(\"ignore\")\n",
    "\n",
    "from typing import Tuple\n",
    "\n",
    "from statsmodels.tsa.arima_model import ARIMA\n",
    "from sklearn.metrics import mean_absolute_error\n",
    "\n",
    "import itertools"
   ]
  },
  {
   "cell_type": "code",
   "execution_count": 81,
   "metadata": {},
   "outputs": [
    {
     "data": {
      "application/javascript": [
       "\n",
       "            setTimeout(function() {\n",
       "                var nbb_cell_id = 81;\n",
       "                var nbb_unformatted_code = \"df_final = pd.read_csv(\\\"../data/transactions_final_set.csv\\\")\";\n",
       "                var nbb_formatted_code = \"df_final = pd.read_csv(\\\"../data/transactions_final_set.csv\\\")\";\n",
       "                var nbb_cells = Jupyter.notebook.get_cells();\n",
       "                for (var i = 0; i < nbb_cells.length; ++i) {\n",
       "                    if (nbb_cells[i].input_prompt_number == nbb_cell_id) {\n",
       "                        if (nbb_cells[i].get_text() == nbb_unformatted_code) {\n",
       "                             nbb_cells[i].set_text(nbb_formatted_code);\n",
       "                        }\n",
       "                        break;\n",
       "                    }\n",
       "                }\n",
       "            }, 500);\n",
       "            "
      ],
      "text/plain": [
       "<IPython.core.display.Javascript object>"
      ]
     },
     "metadata": {},
     "output_type": "display_data"
    },
    {
     "data": {
      "application/javascript": [
       "\n",
       "            setTimeout(function() {\n",
       "                var nbb_cell_id = 81;\n",
       "                var nbb_unformatted_code = \"df_final = pd.read_csv(\\\"../data/transactions_final_set.csv\\\")\";\n",
       "                var nbb_formatted_code = \"df_final = pd.read_csv(\\\"../data/transactions_final_set.csv\\\")\";\n",
       "                var nbb_cells = Jupyter.notebook.get_cells();\n",
       "                for (var i = 0; i < nbb_cells.length; ++i) {\n",
       "                    if (nbb_cells[i].input_prompt_number == nbb_cell_id) {\n",
       "                        if (nbb_cells[i].get_text() == nbb_unformatted_code) {\n",
       "                             nbb_cells[i].set_text(nbb_formatted_code);\n",
       "                        }\n",
       "                        break;\n",
       "                    }\n",
       "                }\n",
       "            }, 500);\n",
       "            "
      ],
      "text/plain": [
       "<IPython.core.display.Javascript object>"
      ]
     },
     "metadata": {},
     "output_type": "display_data"
    },
    {
     "data": {
      "application/javascript": [
       "\n",
       "            setTimeout(function() {\n",
       "                var nbb_cell_id = 81;\n",
       "                var nbb_unformatted_code = \"df_final = pd.read_csv(\\\"../data/transactions_final_set.csv\\\")\";\n",
       "                var nbb_formatted_code = \"df_final = pd.read_csv(\\\"../data/transactions_final_set.csv\\\")\";\n",
       "                var nbb_cells = Jupyter.notebook.get_cells();\n",
       "                for (var i = 0; i < nbb_cells.length; ++i) {\n",
       "                    if (nbb_cells[i].input_prompt_number == nbb_cell_id) {\n",
       "                        if (nbb_cells[i].get_text() == nbb_unformatted_code) {\n",
       "                             nbb_cells[i].set_text(nbb_formatted_code);\n",
       "                        }\n",
       "                        break;\n",
       "                    }\n",
       "                }\n",
       "            }, 500);\n",
       "            "
      ],
      "text/plain": [
       "<IPython.core.display.Javascript object>"
      ]
     },
     "metadata": {},
     "output_type": "display_data"
    }
   ],
   "source": [
    "df_final = pd.read_csv(\"../data/transactions_final_set.csv\")"
   ]
  },
  {
   "cell_type": "markdown",
   "metadata": {},
   "source": [
    "### Split train / test"
   ]
  },
  {
   "cell_type": "code",
   "execution_count": 115,
   "metadata": {},
   "outputs": [
    {
     "data": {
      "application/javascript": [
       "\n",
       "            setTimeout(function() {\n",
       "                var nbb_cell_id = 115;\n",
       "                var nbb_unformatted_code = \"def split_train_validation_test(\\n    df: pd.DataFrame, ratio_train: float, ratio_validation: float\\n) -> Tuple[pd.DataFrame]:\\n    \\\"\\\"\\\"\\n    Return a tuple of 3 DataFrames containing train, validation and test sets.\\n    The split must respect the chronological order.\\n    \\\"\\\"\\\"\\n    dfs_train = []\\n    dfs_validation = []\\n    dfs_test = []\\n\\n    for account_id in df[\\\"account_id\\\"].unique():\\n        df_temp = (\\n            df[df[\\\"account_id\\\"] == account_id]\\n            .sort_values(by=\\\"date\\\")\\n            .reset_index(drop=True)\\n        )\\n        index_train, index_validation = int(len(df_temp) * ratio_train), int(\\n            len(df_temp) * (ratio_validation + ratio_train)\\n        )\\n        dfs_train.append(df_temp[:index_train])\\n        dfs_validation.append(df_temp[index_train:index_validation])\\n        dfs_test.append(df_temp[index_validation:])\\n\\n    return (\\n        pd.concat(dfs_train, ignore_index=True),\\n        pd.concat(dfs_validation, ignore_index=True),\\n        pd.concat(dfs_test, ignore_index=True),\\n    )\\n\\n\\ndf_train, df_test, _ = split_train_validation_test(\\n    df=df_final, ratio_train=0.8, ratio_validation=0.2\\n)\";\n",
       "                var nbb_formatted_code = \"def split_train_validation_test(\\n    df: pd.DataFrame, ratio_train: float, ratio_validation: float\\n) -> Tuple[pd.DataFrame]:\\n    \\\"\\\"\\\"\\n    Return a tuple of 3 DataFrames containing train, validation and test sets.\\n    The split must respect the chronological order.\\n    \\\"\\\"\\\"\\n    dfs_train = []\\n    dfs_validation = []\\n    dfs_test = []\\n\\n    for account_id in df[\\\"account_id\\\"].unique():\\n        df_temp = (\\n            df[df[\\\"account_id\\\"] == account_id]\\n            .sort_values(by=\\\"date\\\")\\n            .reset_index(drop=True)\\n        )\\n        index_train, index_validation = int(len(df_temp) * ratio_train), int(\\n            len(df_temp) * (ratio_validation + ratio_train)\\n        )\\n        dfs_train.append(df_temp[:index_train])\\n        dfs_validation.append(df_temp[index_train:index_validation])\\n        dfs_test.append(df_temp[index_validation:])\\n\\n    return (\\n        pd.concat(dfs_train, ignore_index=True),\\n        pd.concat(dfs_validation, ignore_index=True),\\n        pd.concat(dfs_test, ignore_index=True),\\n    )\\n\\n\\ndf_train, df_test, _ = split_train_validation_test(\\n    df=df_final, ratio_train=0.8, ratio_validation=0.2\\n)\";\n",
       "                var nbb_cells = Jupyter.notebook.get_cells();\n",
       "                for (var i = 0; i < nbb_cells.length; ++i) {\n",
       "                    if (nbb_cells[i].input_prompt_number == nbb_cell_id) {\n",
       "                        if (nbb_cells[i].get_text() == nbb_unformatted_code) {\n",
       "                             nbb_cells[i].set_text(nbb_formatted_code);\n",
       "                        }\n",
       "                        break;\n",
       "                    }\n",
       "                }\n",
       "            }, 500);\n",
       "            "
      ],
      "text/plain": [
       "<IPython.core.display.Javascript object>"
      ]
     },
     "metadata": {},
     "output_type": "display_data"
    },
    {
     "data": {
      "application/javascript": [
       "\n",
       "            setTimeout(function() {\n",
       "                var nbb_cell_id = 115;\n",
       "                var nbb_unformatted_code = \"def split_train_validation_test(\\n    df: pd.DataFrame, ratio_train: float, ratio_validation: float\\n) -> Tuple[pd.DataFrame]:\\n    \\\"\\\"\\\"\\n    Return a tuple of 3 DataFrames containing train, validation and test sets.\\n    The split must respect the chronological order.\\n    \\\"\\\"\\\"\\n    dfs_train = []\\n    dfs_validation = []\\n    dfs_test = []\\n\\n    for account_id in df[\\\"account_id\\\"].unique():\\n        df_temp = (\\n            df[df[\\\"account_id\\\"] == account_id]\\n            .sort_values(by=\\\"date\\\")\\n            .reset_index(drop=True)\\n        )\\n        index_train, index_validation = int(len(df_temp) * ratio_train), int(\\n            len(df_temp) * (ratio_validation + ratio_train)\\n        )\\n        dfs_train.append(df_temp[:index_train])\\n        dfs_validation.append(df_temp[index_train:index_validation])\\n        dfs_test.append(df_temp[index_validation:])\\n\\n    return (\\n        pd.concat(dfs_train, ignore_index=True),\\n        pd.concat(dfs_validation, ignore_index=True),\\n        pd.concat(dfs_test, ignore_index=True),\\n    )\\n\\n\\ndf_train, df_test, _ = split_train_validation_test(\\n    df=df_final, ratio_train=0.8, ratio_validation=0.2\\n)\";\n",
       "                var nbb_formatted_code = \"def split_train_validation_test(\\n    df: pd.DataFrame, ratio_train: float, ratio_validation: float\\n) -> Tuple[pd.DataFrame]:\\n    \\\"\\\"\\\"\\n    Return a tuple of 3 DataFrames containing train, validation and test sets.\\n    The split must respect the chronological order.\\n    \\\"\\\"\\\"\\n    dfs_train = []\\n    dfs_validation = []\\n    dfs_test = []\\n\\n    for account_id in df[\\\"account_id\\\"].unique():\\n        df_temp = (\\n            df[df[\\\"account_id\\\"] == account_id]\\n            .sort_values(by=\\\"date\\\")\\n            .reset_index(drop=True)\\n        )\\n        index_train, index_validation = int(len(df_temp) * ratio_train), int(\\n            len(df_temp) * (ratio_validation + ratio_train)\\n        )\\n        dfs_train.append(df_temp[:index_train])\\n        dfs_validation.append(df_temp[index_train:index_validation])\\n        dfs_test.append(df_temp[index_validation:])\\n\\n    return (\\n        pd.concat(dfs_train, ignore_index=True),\\n        pd.concat(dfs_validation, ignore_index=True),\\n        pd.concat(dfs_test, ignore_index=True),\\n    )\\n\\n\\ndf_train, df_test, _ = split_train_validation_test(\\n    df=df_final, ratio_train=0.8, ratio_validation=0.2\\n)\";\n",
       "                var nbb_cells = Jupyter.notebook.get_cells();\n",
       "                for (var i = 0; i < nbb_cells.length; ++i) {\n",
       "                    if (nbb_cells[i].input_prompt_number == nbb_cell_id) {\n",
       "                        if (nbb_cells[i].get_text() == nbb_unformatted_code) {\n",
       "                             nbb_cells[i].set_text(nbb_formatted_code);\n",
       "                        }\n",
       "                        break;\n",
       "                    }\n",
       "                }\n",
       "            }, 500);\n",
       "            "
      ],
      "text/plain": [
       "<IPython.core.display.Javascript object>"
      ]
     },
     "metadata": {},
     "output_type": "display_data"
    },
    {
     "data": {
      "application/javascript": [
       "\n",
       "            setTimeout(function() {\n",
       "                var nbb_cell_id = 115;\n",
       "                var nbb_unformatted_code = \"def split_train_validation_test(\\n    df: pd.DataFrame, ratio_train: float, ratio_validation: float\\n) -> Tuple[pd.DataFrame]:\\n    \\\"\\\"\\\"\\n    Return a tuple of 3 DataFrames containing train, validation and test sets.\\n    The split must respect the chronological order.\\n    \\\"\\\"\\\"\\n    dfs_train = []\\n    dfs_validation = []\\n    dfs_test = []\\n\\n    for account_id in df[\\\"account_id\\\"].unique():\\n        df_temp = (\\n            df[df[\\\"account_id\\\"] == account_id]\\n            .sort_values(by=\\\"date\\\")\\n            .reset_index(drop=True)\\n        )\\n        index_train, index_validation = int(len(df_temp) * ratio_train), int(\\n            len(df_temp) * (ratio_validation + ratio_train)\\n        )\\n        dfs_train.append(df_temp[:index_train])\\n        dfs_validation.append(df_temp[index_train:index_validation])\\n        dfs_test.append(df_temp[index_validation:])\\n\\n    return (\\n        pd.concat(dfs_train, ignore_index=True),\\n        pd.concat(dfs_validation, ignore_index=True),\\n        pd.concat(dfs_test, ignore_index=True),\\n    )\\n\\n\\ndf_train, df_test, _ = split_train_validation_test(\\n    df=df_final, ratio_train=0.8, ratio_validation=0.2\\n)\";\n",
       "                var nbb_formatted_code = \"def split_train_validation_test(\\n    df: pd.DataFrame, ratio_train: float, ratio_validation: float\\n) -> Tuple[pd.DataFrame]:\\n    \\\"\\\"\\\"\\n    Return a tuple of 3 DataFrames containing train, validation and test sets.\\n    The split must respect the chronological order.\\n    \\\"\\\"\\\"\\n    dfs_train = []\\n    dfs_validation = []\\n    dfs_test = []\\n\\n    for account_id in df[\\\"account_id\\\"].unique():\\n        df_temp = (\\n            df[df[\\\"account_id\\\"] == account_id]\\n            .sort_values(by=\\\"date\\\")\\n            .reset_index(drop=True)\\n        )\\n        index_train, index_validation = int(len(df_temp) * ratio_train), int(\\n            len(df_temp) * (ratio_validation + ratio_train)\\n        )\\n        dfs_train.append(df_temp[:index_train])\\n        dfs_validation.append(df_temp[index_train:index_validation])\\n        dfs_test.append(df_temp[index_validation:])\\n\\n    return (\\n        pd.concat(dfs_train, ignore_index=True),\\n        pd.concat(dfs_validation, ignore_index=True),\\n        pd.concat(dfs_test, ignore_index=True),\\n    )\\n\\n\\ndf_train, df_test, _ = split_train_validation_test(\\n    df=df_final, ratio_train=0.8, ratio_validation=0.2\\n)\";\n",
       "                var nbb_cells = Jupyter.notebook.get_cells();\n",
       "                for (var i = 0; i < nbb_cells.length; ++i) {\n",
       "                    if (nbb_cells[i].input_prompt_number == nbb_cell_id) {\n",
       "                        if (nbb_cells[i].get_text() == nbb_unformatted_code) {\n",
       "                             nbb_cells[i].set_text(nbb_formatted_code);\n",
       "                        }\n",
       "                        break;\n",
       "                    }\n",
       "                }\n",
       "            }, 500);\n",
       "            "
      ],
      "text/plain": [
       "<IPython.core.display.Javascript object>"
      ]
     },
     "metadata": {},
     "output_type": "display_data"
    }
   ],
   "source": [
    "def split_train_validation_test(\n",
    "    df: pd.DataFrame, ratio_train: float, ratio_validation: float\n",
    ") -> Tuple[pd.DataFrame]:\n",
    "    \"\"\"\n",
    "    Return a tuple of 3 DataFrames containing train, validation and test sets.\n",
    "    The split must respect the chronological order.\n",
    "    \"\"\"\n",
    "    dfs_train = []\n",
    "    dfs_validation = []\n",
    "    dfs_test = []\n",
    "\n",
    "    for account_id in df[\"account_id\"].unique():\n",
    "        df_temp = (\n",
    "            df[df[\"account_id\"] == account_id]\n",
    "            .sort_values(by=\"date\")\n",
    "            .reset_index(drop=True)\n",
    "        )\n",
    "        index_train, index_validation = int(len(df_temp) * ratio_train), int(\n",
    "            len(df_temp) * (ratio_validation + ratio_train)\n",
    "        )\n",
    "        dfs_train.append(df_temp[:index_train])\n",
    "        dfs_validation.append(df_temp[index_train:index_validation])\n",
    "        dfs_test.append(df_temp[index_validation:])\n",
    "\n",
    "    return (\n",
    "        pd.concat(dfs_train, ignore_index=True),\n",
    "        pd.concat(dfs_validation, ignore_index=True),\n",
    "        pd.concat(dfs_test, ignore_index=True),\n",
    "    )\n",
    "\n",
    "\n",
    "df_train, df_test, _ = split_train_validation_test(\n",
    "    df=df_final, ratio_train=0.8, ratio_validation=0.2\n",
    ")"
   ]
  },
  {
   "cell_type": "code",
   "execution_count": 126,
   "metadata": {},
   "outputs": [
    {
     "data": {
      "application/javascript": [
       "\n",
       "            setTimeout(function() {\n",
       "                var nbb_cell_id = 126;\n",
       "                var nbb_unformatted_code = \"def mean_absolute_percentage_error(y_true: np.ndarray, y_pred: np.ndarray) -> float:\\n    return np.mean(np.abs((y_true - y_pred) / y_true)[np.isfinite(np.abs((y_true - y_pred) / y_true))]) * 100\\n\\ndef evaluate_arima_model(df: pd.DataFrame, arima_order: Tuple[int]) -> float:\\n    predictions = []\\n    for _, row in df.iterrows():\\n        train_row = [row[f\\\"previous_amount_{i}\\\"] for i in range(12, 0, -1)]\\n        model = ARIMA(train_row, order=arima_order)\\n        model_fit = model.fit()\\n        y_pred = model_fit.forecast()[0]\\n        predictions.append(y_pred)\\n    mape_error = mean_absolute_percentage_error(\\n        df[\\\"amount\\\"].values, np.array(predictions)\\n    )\\n    mae_error = mean_absolute_error(df[\\\"amount\\\"].values, np.array(predictions))\\n\\n    return mape_error, mae_error\";\n",
       "                var nbb_formatted_code = \"def mean_absolute_percentage_error(y_true: np.ndarray, y_pred: np.ndarray) -> float:\\n    return (\\n        np.mean(\\n            np.abs((y_true - y_pred) / y_true)[\\n                np.isfinite(np.abs((y_true - y_pred) / y_true))\\n            ]\\n        )\\n        * 100\\n    )\\n\\n\\ndef evaluate_arima_model(df: pd.DataFrame, arima_order: Tuple[int]) -> float:\\n    predictions = []\\n    for _, row in df.iterrows():\\n        train_row = [row[f\\\"previous_amount_{i}\\\"] for i in range(12, 0, -1)]\\n        model = ARIMA(train_row, order=arima_order)\\n        model_fit = model.fit()\\n        y_pred = model_fit.forecast()[0]\\n        predictions.append(y_pred)\\n    mape_error = mean_absolute_percentage_error(\\n        df[\\\"amount\\\"].values, np.array(predictions)\\n    )\\n    mae_error = mean_absolute_error(df[\\\"amount\\\"].values, np.array(predictions))\\n\\n    return mape_error, mae_error\";\n",
       "                var nbb_cells = Jupyter.notebook.get_cells();\n",
       "                for (var i = 0; i < nbb_cells.length; ++i) {\n",
       "                    if (nbb_cells[i].input_prompt_number == nbb_cell_id) {\n",
       "                        if (nbb_cells[i].get_text() == nbb_unformatted_code) {\n",
       "                             nbb_cells[i].set_text(nbb_formatted_code);\n",
       "                        }\n",
       "                        break;\n",
       "                    }\n",
       "                }\n",
       "            }, 500);\n",
       "            "
      ],
      "text/plain": [
       "<IPython.core.display.Javascript object>"
      ]
     },
     "metadata": {},
     "output_type": "display_data"
    },
    {
     "data": {
      "application/javascript": [
       "\n",
       "            setTimeout(function() {\n",
       "                var nbb_cell_id = 126;\n",
       "                var nbb_unformatted_code = \"def mean_absolute_percentage_error(y_true: np.ndarray, y_pred: np.ndarray) -> float:\\n    return np.mean(np.abs((y_true - y_pred) / y_true)[np.isfinite(np.abs((y_true - y_pred) / y_true))]) * 100\\n\\ndef evaluate_arima_model(df: pd.DataFrame, arima_order: Tuple[int]) -> float:\\n    predictions = []\\n    for _, row in df.iterrows():\\n        train_row = [row[f\\\"previous_amount_{i}\\\"] for i in range(12, 0, -1)]\\n        model = ARIMA(train_row, order=arima_order)\\n        model_fit = model.fit()\\n        y_pred = model_fit.forecast()[0]\\n        predictions.append(y_pred)\\n    mape_error = mean_absolute_percentage_error(\\n        df[\\\"amount\\\"].values, np.array(predictions)\\n    )\\n    mae_error = mean_absolute_error(df[\\\"amount\\\"].values, np.array(predictions))\\n\\n    return mape_error, mae_error\";\n",
       "                var nbb_formatted_code = \"def mean_absolute_percentage_error(y_true: np.ndarray, y_pred: np.ndarray) -> float:\\n    return (\\n        np.mean(\\n            np.abs((y_true - y_pred) / y_true)[\\n                np.isfinite(np.abs((y_true - y_pred) / y_true))\\n            ]\\n        )\\n        * 100\\n    )\\n\\n\\ndef evaluate_arima_model(df: pd.DataFrame, arima_order: Tuple[int]) -> float:\\n    predictions = []\\n    for _, row in df.iterrows():\\n        train_row = [row[f\\\"previous_amount_{i}\\\"] for i in range(12, 0, -1)]\\n        model = ARIMA(train_row, order=arima_order)\\n        model_fit = model.fit()\\n        y_pred = model_fit.forecast()[0]\\n        predictions.append(y_pred)\\n    mape_error = mean_absolute_percentage_error(\\n        df[\\\"amount\\\"].values, np.array(predictions)\\n    )\\n    mae_error = mean_absolute_error(df[\\\"amount\\\"].values, np.array(predictions))\\n\\n    return mape_error, mae_error\";\n",
       "                var nbb_cells = Jupyter.notebook.get_cells();\n",
       "                for (var i = 0; i < nbb_cells.length; ++i) {\n",
       "                    if (nbb_cells[i].input_prompt_number == nbb_cell_id) {\n",
       "                        if (nbb_cells[i].get_text() == nbb_unformatted_code) {\n",
       "                             nbb_cells[i].set_text(nbb_formatted_code);\n",
       "                        }\n",
       "                        break;\n",
       "                    }\n",
       "                }\n",
       "            }, 500);\n",
       "            "
      ],
      "text/plain": [
       "<IPython.core.display.Javascript object>"
      ]
     },
     "metadata": {},
     "output_type": "display_data"
    },
    {
     "data": {
      "application/javascript": [
       "\n",
       "            setTimeout(function() {\n",
       "                var nbb_cell_id = 126;\n",
       "                var nbb_unformatted_code = \"def mean_absolute_percentage_error(y_true: np.ndarray, y_pred: np.ndarray) -> float:\\n    return np.mean(np.abs((y_true - y_pred) / y_true)[np.isfinite(np.abs((y_true - y_pred) / y_true))]) * 100\\n\\ndef evaluate_arima_model(df: pd.DataFrame, arima_order: Tuple[int]) -> float:\\n    predictions = []\\n    for _, row in df.iterrows():\\n        train_row = [row[f\\\"previous_amount_{i}\\\"] for i in range(12, 0, -1)]\\n        model = ARIMA(train_row, order=arima_order)\\n        model_fit = model.fit()\\n        y_pred = model_fit.forecast()[0]\\n        predictions.append(y_pred)\\n    mape_error = mean_absolute_percentage_error(\\n        df[\\\"amount\\\"].values, np.array(predictions)\\n    )\\n    mae_error = mean_absolute_error(df[\\\"amount\\\"].values, np.array(predictions))\\n\\n    return mape_error, mae_error\";\n",
       "                var nbb_formatted_code = \"def mean_absolute_percentage_error(y_true: np.ndarray, y_pred: np.ndarray) -> float:\\n    return (\\n        np.mean(\\n            np.abs((y_true - y_pred) / y_true)[\\n                np.isfinite(np.abs((y_true - y_pred) / y_true))\\n            ]\\n        )\\n        * 100\\n    )\\n\\n\\ndef evaluate_arima_model(df: pd.DataFrame, arima_order: Tuple[int]) -> float:\\n    predictions = []\\n    for _, row in df.iterrows():\\n        train_row = [row[f\\\"previous_amount_{i}\\\"] for i in range(12, 0, -1)]\\n        model = ARIMA(train_row, order=arima_order)\\n        model_fit = model.fit()\\n        y_pred = model_fit.forecast()[0]\\n        predictions.append(y_pred)\\n    mape_error = mean_absolute_percentage_error(\\n        df[\\\"amount\\\"].values, np.array(predictions)\\n    )\\n    mae_error = mean_absolute_error(df[\\\"amount\\\"].values, np.array(predictions))\\n\\n    return mape_error, mae_error\";\n",
       "                var nbb_cells = Jupyter.notebook.get_cells();\n",
       "                for (var i = 0; i < nbb_cells.length; ++i) {\n",
       "                    if (nbb_cells[i].input_prompt_number == nbb_cell_id) {\n",
       "                        if (nbb_cells[i].get_text() == nbb_unformatted_code) {\n",
       "                             nbb_cells[i].set_text(nbb_formatted_code);\n",
       "                        }\n",
       "                        break;\n",
       "                    }\n",
       "                }\n",
       "            }, 500);\n",
       "            "
      ],
      "text/plain": [
       "<IPython.core.display.Javascript object>"
      ]
     },
     "metadata": {},
     "output_type": "display_data"
    }
   ],
   "source": [
    "def mean_absolute_percentage_error(y_true: np.ndarray, y_pred: np.ndarray) -> float:\n",
    "    return (\n",
    "        np.mean(\n",
    "            np.abs((y_true - y_pred) / y_true)[\n",
    "                np.isfinite(np.abs((y_true - y_pred) / y_true))\n",
    "            ]\n",
    "        )\n",
    "        * 100\n",
    "    )\n",
    "\n",
    "\n",
    "def evaluate_arima_model(df: pd.DataFrame, arima_order: Tuple[int]) -> float:\n",
    "    predictions = []\n",
    "    for _, row in df.iterrows():\n",
    "        train_row = [row[f\"previous_amount_{i}\"] for i in range(12, 0, -1)]\n",
    "        model = ARIMA(train_row, order=arima_order)\n",
    "        model_fit = model.fit()\n",
    "        y_pred = model_fit.forecast()[0]\n",
    "        predictions.append(y_pred)\n",
    "    mape_error = mean_absolute_percentage_error(\n",
    "        df[\"amount\"].values, np.array(predictions)\n",
    "    )\n",
    "    mae_error = mean_absolute_error(df[\"amount\"].values, np.array(predictions))\n",
    "\n",
    "    return mape_error, mae_error"
   ]
  },
  {
   "cell_type": "code",
   "execution_count": 127,
   "metadata": {},
   "outputs": [
    {
     "data": {
      "application/javascript": [
       "\n",
       "            setTimeout(function() {\n",
       "                var nbb_cell_id = 127;\n",
       "                var nbb_unformatted_code = \"p = d = q = range(0, 2)\\npdq = list(itertools.product(p, d, q))\";\n",
       "                var nbb_formatted_code = \"p = d = q = range(0, 2)\\npdq = list(itertools.product(p, d, q))\";\n",
       "                var nbb_cells = Jupyter.notebook.get_cells();\n",
       "                for (var i = 0; i < nbb_cells.length; ++i) {\n",
       "                    if (nbb_cells[i].input_prompt_number == nbb_cell_id) {\n",
       "                        if (nbb_cells[i].get_text() == nbb_unformatted_code) {\n",
       "                             nbb_cells[i].set_text(nbb_formatted_code);\n",
       "                        }\n",
       "                        break;\n",
       "                    }\n",
       "                }\n",
       "            }, 500);\n",
       "            "
      ],
      "text/plain": [
       "<IPython.core.display.Javascript object>"
      ]
     },
     "metadata": {},
     "output_type": "display_data"
    },
    {
     "data": {
      "application/javascript": [
       "\n",
       "            setTimeout(function() {\n",
       "                var nbb_cell_id = 127;\n",
       "                var nbb_unformatted_code = \"p = d = q = range(0, 2)\\npdq = list(itertools.product(p, d, q))\";\n",
       "                var nbb_formatted_code = \"p = d = q = range(0, 2)\\npdq = list(itertools.product(p, d, q))\";\n",
       "                var nbb_cells = Jupyter.notebook.get_cells();\n",
       "                for (var i = 0; i < nbb_cells.length; ++i) {\n",
       "                    if (nbb_cells[i].input_prompt_number == nbb_cell_id) {\n",
       "                        if (nbb_cells[i].get_text() == nbb_unformatted_code) {\n",
       "                             nbb_cells[i].set_text(nbb_formatted_code);\n",
       "                        }\n",
       "                        break;\n",
       "                    }\n",
       "                }\n",
       "            }, 500);\n",
       "            "
      ],
      "text/plain": [
       "<IPython.core.display.Javascript object>"
      ]
     },
     "metadata": {},
     "output_type": "display_data"
    },
    {
     "data": {
      "application/javascript": [
       "\n",
       "            setTimeout(function() {\n",
       "                var nbb_cell_id = 127;\n",
       "                var nbb_unformatted_code = \"p = d = q = range(0, 2)\\npdq = list(itertools.product(p, d, q))\";\n",
       "                var nbb_formatted_code = \"p = d = q = range(0, 2)\\npdq = list(itertools.product(p, d, q))\";\n",
       "                var nbb_cells = Jupyter.notebook.get_cells();\n",
       "                for (var i = 0; i < nbb_cells.length; ++i) {\n",
       "                    if (nbb_cells[i].input_prompt_number == nbb_cell_id) {\n",
       "                        if (nbb_cells[i].get_text() == nbb_unformatted_code) {\n",
       "                             nbb_cells[i].set_text(nbb_formatted_code);\n",
       "                        }\n",
       "                        break;\n",
       "                    }\n",
       "                }\n",
       "            }, 500);\n",
       "            "
      ],
      "text/plain": [
       "<IPython.core.display.Javascript object>"
      ]
     },
     "metadata": {},
     "output_type": "display_data"
    }
   ],
   "source": [
    "p = d = q = range(0, 2)\n",
    "pdq = list(itertools.product(p, d, q))"
   ]
  },
  {
   "cell_type": "code",
   "execution_count": 128,
   "metadata": {},
   "outputs": [
    {
     "data": {
      "text/plain": [
       "[(0, 0, 0),\n",
       " (0, 0, 1),\n",
       " (0, 1, 0),\n",
       " (0, 1, 1),\n",
       " (1, 0, 0),\n",
       " (1, 0, 1),\n",
       " (1, 1, 0),\n",
       " (1, 1, 1)]"
      ]
     },
     "execution_count": 128,
     "metadata": {},
     "output_type": "execute_result"
    },
    {
     "data": {
      "application/javascript": [
       "\n",
       "            setTimeout(function() {\n",
       "                var nbb_cell_id = 128;\n",
       "                var nbb_unformatted_code = \"pdq\";\n",
       "                var nbb_formatted_code = \"pdq\";\n",
       "                var nbb_cells = Jupyter.notebook.get_cells();\n",
       "                for (var i = 0; i < nbb_cells.length; ++i) {\n",
       "                    if (nbb_cells[i].input_prompt_number == nbb_cell_id) {\n",
       "                        if (nbb_cells[i].get_text() == nbb_unformatted_code) {\n",
       "                             nbb_cells[i].set_text(nbb_formatted_code);\n",
       "                        }\n",
       "                        break;\n",
       "                    }\n",
       "                }\n",
       "            }, 500);\n",
       "            "
      ],
      "text/plain": [
       "<IPython.core.display.Javascript object>"
      ]
     },
     "metadata": {},
     "output_type": "display_data"
    },
    {
     "data": {
      "application/javascript": [
       "\n",
       "            setTimeout(function() {\n",
       "                var nbb_cell_id = 128;\n",
       "                var nbb_unformatted_code = \"pdq\";\n",
       "                var nbb_formatted_code = \"pdq\";\n",
       "                var nbb_cells = Jupyter.notebook.get_cells();\n",
       "                for (var i = 0; i < nbb_cells.length; ++i) {\n",
       "                    if (nbb_cells[i].input_prompt_number == nbb_cell_id) {\n",
       "                        if (nbb_cells[i].get_text() == nbb_unformatted_code) {\n",
       "                             nbb_cells[i].set_text(nbb_formatted_code);\n",
       "                        }\n",
       "                        break;\n",
       "                    }\n",
       "                }\n",
       "            }, 500);\n",
       "            "
      ],
      "text/plain": [
       "<IPython.core.display.Javascript object>"
      ]
     },
     "metadata": {},
     "output_type": "display_data"
    },
    {
     "data": {
      "application/javascript": [
       "\n",
       "            setTimeout(function() {\n",
       "                var nbb_cell_id = 128;\n",
       "                var nbb_unformatted_code = \"pdq\";\n",
       "                var nbb_formatted_code = \"pdq\";\n",
       "                var nbb_cells = Jupyter.notebook.get_cells();\n",
       "                for (var i = 0; i < nbb_cells.length; ++i) {\n",
       "                    if (nbb_cells[i].input_prompt_number == nbb_cell_id) {\n",
       "                        if (nbb_cells[i].get_text() == nbb_unformatted_code) {\n",
       "                             nbb_cells[i].set_text(nbb_formatted_code);\n",
       "                        }\n",
       "                        break;\n",
       "                    }\n",
       "                }\n",
       "            }, 500);\n",
       "            "
      ],
      "text/plain": [
       "<IPython.core.display.Javascript object>"
      ]
     },
     "metadata": {},
     "output_type": "display_data"
    }
   ],
   "source": [
    "pdq"
   ]
  },
  {
   "cell_type": "code",
   "execution_count": 129,
   "metadata": {},
   "outputs": [
    {
     "name": "stdout",
     "output_type": "stream",
     "text": [
      "Didn't work - (0, 0, 1) - Input contains NaN, infinity or a value too large for dtype('float64').\n",
      "Didn't work - (0, 0, 1) - Input contains NaN, infinity or a value too large for dtype('float64').\n",
      "Didn't work - (0, 0, 1) - Input contains NaN, infinity or a value too large for dtype('float64').\n",
      "Didn't work - (0, 0, 1) - Input contains NaN, infinity or a value too large for dtype('float64').\n",
      "Didn't work - (0, 0, 1) - Input contains NaN, infinity or a value too large for dtype('float64').\n",
      "Didn't work - (0, 1, 1) - Input contains NaN, infinity or a value too large for dtype('float64').\n",
      "Didn't work - (0, 1, 1) - Input contains NaN, infinity or a value too large for dtype('float64').\n",
      "Didn't work - (0, 1, 1) - Input contains NaN, infinity or a value too large for dtype('float64').\n",
      "Didn't work - (0, 1, 1) - Input contains NaN, infinity or a value too large for dtype('float64').\n",
      "Didn't work - (1, 0, 1) - The model specification cannot be estimated. The model contains 7 regressors (0 trend, 0 seasonal, 7 lags) but after adjustment for hold_back and creation of the lags, there are only 5 data points available to estimate parameters.\n",
      "Didn't work - (1, 0, 1) - The model specification cannot be estimated. The model contains 7 regressors (0 trend, 0 seasonal, 7 lags) but after adjustment for hold_back and creation of the lags, there are only 5 data points available to estimate parameters.\n",
      "Didn't work - (1, 0, 1) - The model specification cannot be estimated. The model contains 7 regressors (0 trend, 0 seasonal, 7 lags) but after adjustment for hold_back and creation of the lags, there are only 5 data points available to estimate parameters.\n",
      "Didn't work - (1, 0, 1) - The model specification cannot be estimated. The model contains 7 regressors (0 trend, 0 seasonal, 7 lags) but after adjustment for hold_back and creation of the lags, there are only 5 data points available to estimate parameters.\n",
      "Didn't work - (1, 0, 1) - The model specification cannot be estimated. The model contains 7 regressors (0 trend, 0 seasonal, 7 lags) but after adjustment for hold_back and creation of the lags, there are only 5 data points available to estimate parameters.\n",
      "Didn't work - (1, 0, 1) - The model specification cannot be estimated. The model contains 7 regressors (0 trend, 0 seasonal, 7 lags) but after adjustment for hold_back and creation of the lags, there are only 5 data points available to estimate parameters.\n",
      "Didn't work - (1, 0, 1) - The model specification cannot be estimated. The model contains 7 regressors (0 trend, 0 seasonal, 7 lags) but after adjustment for hold_back and creation of the lags, there are only 5 data points available to estimate parameters.\n",
      "Didn't work - (1, 0, 1) - The model specification cannot be estimated. The model contains 7 regressors (0 trend, 0 seasonal, 7 lags) but after adjustment for hold_back and creation of the lags, there are only 5 data points available to estimate parameters.\n",
      "Didn't work - (1, 0, 1) - The model specification cannot be estimated. The model contains 7 regressors (0 trend, 0 seasonal, 7 lags) but after adjustment for hold_back and creation of the lags, there are only 5 data points available to estimate parameters.\n",
      "Didn't work - (1, 0, 1) - The model specification cannot be estimated. The model contains 7 regressors (0 trend, 0 seasonal, 7 lags) but after adjustment for hold_back and creation of the lags, there are only 5 data points available to estimate parameters.\n",
      "Didn't work - (1, 0, 1) - The model specification cannot be estimated. The model contains 7 regressors (0 trend, 0 seasonal, 7 lags) but after adjustment for hold_back and creation of the lags, there are only 5 data points available to estimate parameters.\n",
      "Didn't work - (1, 0, 1) - The model specification cannot be estimated. The model contains 7 regressors (0 trend, 0 seasonal, 7 lags) but after adjustment for hold_back and creation of the lags, there are only 5 data points available to estimate parameters.\n",
      "Didn't work - (1, 0, 1) - The model specification cannot be estimated. The model contains 7 regressors (0 trend, 0 seasonal, 7 lags) but after adjustment for hold_back and creation of the lags, there are only 5 data points available to estimate parameters.\n",
      "Didn't work - (1, 0, 1) - The model specification cannot be estimated. The model contains 7 regressors (0 trend, 0 seasonal, 7 lags) but after adjustment for hold_back and creation of the lags, there are only 5 data points available to estimate parameters.\n",
      "Didn't work - (1, 0, 1) - The model specification cannot be estimated. The model contains 7 regressors (0 trend, 0 seasonal, 7 lags) but after adjustment for hold_back and creation of the lags, there are only 5 data points available to estimate parameters.\n",
      "Didn't work - (1, 0, 1) - The model specification cannot be estimated. The model contains 7 regressors (0 trend, 0 seasonal, 7 lags) but after adjustment for hold_back and creation of the lags, there are only 5 data points available to estimate parameters.\n",
      "Didn't work - (1, 0, 1) - The model specification cannot be estimated. The model contains 7 regressors (0 trend, 0 seasonal, 7 lags) but after adjustment for hold_back and creation of the lags, there are only 5 data points available to estimate parameters.\n",
      "Didn't work - (1, 0, 1) - The model specification cannot be estimated. The model contains 7 regressors (0 trend, 0 seasonal, 7 lags) but after adjustment for hold_back and creation of the lags, there are only 5 data points available to estimate parameters.\n",
      "Didn't work - (1, 0, 1) - The model specification cannot be estimated. The model contains 7 regressors (0 trend, 0 seasonal, 7 lags) but after adjustment for hold_back and creation of the lags, there are only 5 data points available to estimate parameters.\n",
      "Didn't work - (1, 0, 1) - The model specification cannot be estimated. The model contains 7 regressors (0 trend, 0 seasonal, 7 lags) but after adjustment for hold_back and creation of the lags, there are only 5 data points available to estimate parameters.\n",
      "Didn't work - (1, 0, 1) - The model specification cannot be estimated. The model contains 7 regressors (0 trend, 0 seasonal, 7 lags) but after adjustment for hold_back and creation of the lags, there are only 5 data points available to estimate parameters.\n",
      "Didn't work - (1, 0, 1) - The model specification cannot be estimated. The model contains 7 regressors (0 trend, 0 seasonal, 7 lags) but after adjustment for hold_back and creation of the lags, there are only 5 data points available to estimate parameters.\n",
      "Didn't work - (1, 0, 1) - The model specification cannot be estimated. The model contains 7 regressors (0 trend, 0 seasonal, 7 lags) but after adjustment for hold_back and creation of the lags, there are only 5 data points available to estimate parameters.\n",
      "Didn't work - (1, 0, 1) - The model specification cannot be estimated. The model contains 7 regressors (0 trend, 0 seasonal, 7 lags) but after adjustment for hold_back and creation of the lags, there are only 5 data points available to estimate parameters.\n",
      "Didn't work - (1, 0, 1) - The model specification cannot be estimated. The model contains 7 regressors (0 trend, 0 seasonal, 7 lags) but after adjustment for hold_back and creation of the lags, there are only 5 data points available to estimate parameters.\n",
      "Didn't work - (1, 0, 1) - The model specification cannot be estimated. The model contains 7 regressors (0 trend, 0 seasonal, 7 lags) but after adjustment for hold_back and creation of the lags, there are only 5 data points available to estimate parameters.\n",
      "Didn't work - (1, 0, 1) - The model specification cannot be estimated. The model contains 7 regressors (0 trend, 0 seasonal, 7 lags) but after adjustment for hold_back and creation of the lags, there are only 5 data points available to estimate parameters.\n",
      "Didn't work - (1, 0, 1) - The model specification cannot be estimated. The model contains 7 regressors (0 trend, 0 seasonal, 7 lags) but after adjustment for hold_back and creation of the lags, there are only 5 data points available to estimate parameters.\n",
      "Didn't work - (1, 0, 1) - The model specification cannot be estimated. The model contains 7 regressors (0 trend, 0 seasonal, 7 lags) but after adjustment for hold_back and creation of the lags, there are only 5 data points available to estimate parameters.\n",
      "Didn't work - (1, 0, 1) - The model specification cannot be estimated. The model contains 7 regressors (0 trend, 0 seasonal, 7 lags) but after adjustment for hold_back and creation of the lags, there are only 5 data points available to estimate parameters.\n",
      "Didn't work - (1, 0, 1) - The model specification cannot be estimated. The model contains 7 regressors (0 trend, 0 seasonal, 7 lags) but after adjustment for hold_back and creation of the lags, there are only 5 data points available to estimate parameters.\n"
     ]
    },
    {
     "name": "stdout",
     "output_type": "stream",
     "text": [
      "Didn't work - (1, 1, 1) - The model specification cannot be estimated. The model contains 7 regressors (0 trend, 0 seasonal, 7 lags) but after adjustment for hold_back and creation of the lags, there are only 4 data points available to estimate parameters.\n",
      "Didn't work - (1, 1, 1) - The model specification cannot be estimated. The model contains 7 regressors (0 trend, 0 seasonal, 7 lags) but after adjustment for hold_back and creation of the lags, there are only 4 data points available to estimate parameters.\n",
      "Didn't work - (1, 1, 1) - The model specification cannot be estimated. The model contains 7 regressors (0 trend, 0 seasonal, 7 lags) but after adjustment for hold_back and creation of the lags, there are only 4 data points available to estimate parameters.\n",
      "Didn't work - (1, 1, 1) - The model specification cannot be estimated. The model contains 7 regressors (0 trend, 0 seasonal, 7 lags) but after adjustment for hold_back and creation of the lags, there are only 4 data points available to estimate parameters.\n",
      "Didn't work - (1, 1, 1) - The model specification cannot be estimated. The model contains 7 regressors (0 trend, 0 seasonal, 7 lags) but after adjustment for hold_back and creation of the lags, there are only 4 data points available to estimate parameters.\n",
      "Didn't work - (1, 1, 1) - The model specification cannot be estimated. The model contains 7 regressors (0 trend, 0 seasonal, 7 lags) but after adjustment for hold_back and creation of the lags, there are only 4 data points available to estimate parameters.\n",
      "Didn't work - (1, 1, 1) - The model specification cannot be estimated. The model contains 7 regressors (0 trend, 0 seasonal, 7 lags) but after adjustment for hold_back and creation of the lags, there are only 4 data points available to estimate parameters.\n",
      "Didn't work - (1, 1, 1) - The model specification cannot be estimated. The model contains 7 regressors (0 trend, 0 seasonal, 7 lags) but after adjustment for hold_back and creation of the lags, there are only 4 data points available to estimate parameters.\n",
      "Didn't work - (1, 1, 1) - The model specification cannot be estimated. The model contains 7 regressors (0 trend, 0 seasonal, 7 lags) but after adjustment for hold_back and creation of the lags, there are only 4 data points available to estimate parameters.\n",
      "Didn't work - (1, 1, 1) - The model specification cannot be estimated. The model contains 7 regressors (0 trend, 0 seasonal, 7 lags) but after adjustment for hold_back and creation of the lags, there are only 4 data points available to estimate parameters.\n",
      "Didn't work - (1, 1, 1) - The model specification cannot be estimated. The model contains 7 regressors (0 trend, 0 seasonal, 7 lags) but after adjustment for hold_back and creation of the lags, there are only 4 data points available to estimate parameters.\n",
      "Didn't work - (1, 1, 1) - The model specification cannot be estimated. The model contains 7 regressors (0 trend, 0 seasonal, 7 lags) but after adjustment for hold_back and creation of the lags, there are only 4 data points available to estimate parameters.\n",
      "Didn't work - (1, 1, 1) - The model specification cannot be estimated. The model contains 7 regressors (0 trend, 0 seasonal, 7 lags) but after adjustment for hold_back and creation of the lags, there are only 4 data points available to estimate parameters.\n",
      "Didn't work - (1, 1, 1) - The model specification cannot be estimated. The model contains 7 regressors (0 trend, 0 seasonal, 7 lags) but after adjustment for hold_back and creation of the lags, there are only 4 data points available to estimate parameters.\n",
      "Didn't work - (1, 1, 1) - The model specification cannot be estimated. The model contains 7 regressors (0 trend, 0 seasonal, 7 lags) but after adjustment for hold_back and creation of the lags, there are only 4 data points available to estimate parameters.\n",
      "Didn't work - (1, 1, 1) - The model specification cannot be estimated. The model contains 7 regressors (0 trend, 0 seasonal, 7 lags) but after adjustment for hold_back and creation of the lags, there are only 4 data points available to estimate parameters.\n",
      "Didn't work - (1, 1, 1) - The model specification cannot be estimated. The model contains 7 regressors (0 trend, 0 seasonal, 7 lags) but after adjustment for hold_back and creation of the lags, there are only 4 data points available to estimate parameters.\n",
      "Didn't work - (1, 1, 1) - The model specification cannot be estimated. The model contains 7 regressors (0 trend, 0 seasonal, 7 lags) but after adjustment for hold_back and creation of the lags, there are only 4 data points available to estimate parameters.\n",
      "Didn't work - (1, 1, 1) - The model specification cannot be estimated. The model contains 7 regressors (0 trend, 0 seasonal, 7 lags) but after adjustment for hold_back and creation of the lags, there are only 4 data points available to estimate parameters.\n",
      "Didn't work - (1, 1, 1) - The model specification cannot be estimated. The model contains 7 regressors (0 trend, 0 seasonal, 7 lags) but after adjustment for hold_back and creation of the lags, there are only 4 data points available to estimate parameters.\n",
      "Didn't work - (1, 1, 1) - The model specification cannot be estimated. The model contains 7 regressors (0 trend, 0 seasonal, 7 lags) but after adjustment for hold_back and creation of the lags, there are only 4 data points available to estimate parameters.\n",
      "Didn't work - (1, 1, 1) - The model specification cannot be estimated. The model contains 7 regressors (0 trend, 0 seasonal, 7 lags) but after adjustment for hold_back and creation of the lags, there are only 4 data points available to estimate parameters.\n",
      "Didn't work - (1, 1, 1) - The model specification cannot be estimated. The model contains 7 regressors (0 trend, 0 seasonal, 7 lags) but after adjustment for hold_back and creation of the lags, there are only 4 data points available to estimate parameters.\n",
      "Didn't work - (1, 1, 1) - The model specification cannot be estimated. The model contains 7 regressors (0 trend, 0 seasonal, 7 lags) but after adjustment for hold_back and creation of the lags, there are only 4 data points available to estimate parameters.\n",
      "Didn't work - (1, 1, 1) - The model specification cannot be estimated. The model contains 7 regressors (0 trend, 0 seasonal, 7 lags) but after adjustment for hold_back and creation of the lags, there are only 4 data points available to estimate parameters.\n",
      "Didn't work - (1, 1, 1) - The model specification cannot be estimated. The model contains 7 regressors (0 trend, 0 seasonal, 7 lags) but after adjustment for hold_back and creation of the lags, there are only 4 data points available to estimate parameters.\n",
      "Didn't work - (1, 1, 1) - The model specification cannot be estimated. The model contains 7 regressors (0 trend, 0 seasonal, 7 lags) but after adjustment for hold_back and creation of the lags, there are only 4 data points available to estimate parameters.\n",
      "Didn't work - (1, 1, 1) - The model specification cannot be estimated. The model contains 7 regressors (0 trend, 0 seasonal, 7 lags) but after adjustment for hold_back and creation of the lags, there are only 4 data points available to estimate parameters.\n",
      "Didn't work - (1, 1, 1) - The model specification cannot be estimated. The model contains 7 regressors (0 trend, 0 seasonal, 7 lags) but after adjustment for hold_back and creation of the lags, there are only 4 data points available to estimate parameters.\n",
      "Didn't work - (1, 1, 1) - The model specification cannot be estimated. The model contains 7 regressors (0 trend, 0 seasonal, 7 lags) but after adjustment for hold_back and creation of the lags, there are only 4 data points available to estimate parameters.\n",
      "Didn't work - (1, 1, 1) - The model specification cannot be estimated. The model contains 7 regressors (0 trend, 0 seasonal, 7 lags) but after adjustment for hold_back and creation of the lags, there are only 4 data points available to estimate parameters.\n"
     ]
    },
    {
     "data": {
      "application/javascript": [
       "\n",
       "            setTimeout(function() {\n",
       "                var nbb_cell_id = 129;\n",
       "                var nbb_unformatted_code = \"models_mape_errors = {}\\nmodels_mae_errors = {}\\n\\n\\ndef add_prediction_to_dict(predictions_dict: dict, key: str, val: float) -> None:\\n    try:\\n        predictions_dict[key].append(val)\\n    except KeyError:\\n        predictions_dict[key] = [val]\\n    return None\\n\\n\\nfor order in pdq:\\n    for account_id in df_train[\\\"account_id\\\"].unique():\\n        df_temp = df_train[df_train[\\\"account_id\\\"] == account_id]\\n        try:\\n            mape_error, mae_error = evaluate_arima_model(df=df_temp, arima_order=order)\\n            add_prediction_to_dict(\\n                predictions_dict=models_mape_errors, key=f\\\"{order}\\\", val=mape_error\\n            )\\n            add_prediction_to_dict(\\n                predictions_dict=models_mae_errors, key=f\\\"{order}\\\", val=mae_error\\n            )\\n        except Exception as e:\\n            print(f\\\"Didn't work - {order} - {e}\\\")\";\n",
       "                var nbb_formatted_code = \"models_mape_errors = {}\\nmodels_mae_errors = {}\\n\\n\\ndef add_prediction_to_dict(predictions_dict: dict, key: str, val: float) -> None:\\n    try:\\n        predictions_dict[key].append(val)\\n    except KeyError:\\n        predictions_dict[key] = [val]\\n    return None\\n\\n\\nfor order in pdq:\\n    for account_id in df_train[\\\"account_id\\\"].unique():\\n        df_temp = df_train[df_train[\\\"account_id\\\"] == account_id]\\n        try:\\n            mape_error, mae_error = evaluate_arima_model(df=df_temp, arima_order=order)\\n            add_prediction_to_dict(\\n                predictions_dict=models_mape_errors, key=f\\\"{order}\\\", val=mape_error\\n            )\\n            add_prediction_to_dict(\\n                predictions_dict=models_mae_errors, key=f\\\"{order}\\\", val=mae_error\\n            )\\n        except Exception as e:\\n            print(f\\\"Didn't work - {order} - {e}\\\")\";\n",
       "                var nbb_cells = Jupyter.notebook.get_cells();\n",
       "                for (var i = 0; i < nbb_cells.length; ++i) {\n",
       "                    if (nbb_cells[i].input_prompt_number == nbb_cell_id) {\n",
       "                        if (nbb_cells[i].get_text() == nbb_unformatted_code) {\n",
       "                             nbb_cells[i].set_text(nbb_formatted_code);\n",
       "                        }\n",
       "                        break;\n",
       "                    }\n",
       "                }\n",
       "            }, 500);\n",
       "            "
      ],
      "text/plain": [
       "<IPython.core.display.Javascript object>"
      ]
     },
     "metadata": {},
     "output_type": "display_data"
    },
    {
     "data": {
      "application/javascript": [
       "\n",
       "            setTimeout(function() {\n",
       "                var nbb_cell_id = 129;\n",
       "                var nbb_unformatted_code = \"models_mape_errors = {}\\nmodels_mae_errors = {}\\n\\n\\ndef add_prediction_to_dict(predictions_dict: dict, key: str, val: float) -> None:\\n    try:\\n        predictions_dict[key].append(val)\\n    except KeyError:\\n        predictions_dict[key] = [val]\\n    return None\\n\\n\\nfor order in pdq:\\n    for account_id in df_train[\\\"account_id\\\"].unique():\\n        df_temp = df_train[df_train[\\\"account_id\\\"] == account_id]\\n        try:\\n            mape_error, mae_error = evaluate_arima_model(df=df_temp, arima_order=order)\\n            add_prediction_to_dict(\\n                predictions_dict=models_mape_errors, key=f\\\"{order}\\\", val=mape_error\\n            )\\n            add_prediction_to_dict(\\n                predictions_dict=models_mae_errors, key=f\\\"{order}\\\", val=mae_error\\n            )\\n        except Exception as e:\\n            print(f\\\"Didn't work - {order} - {e}\\\")\";\n",
       "                var nbb_formatted_code = \"models_mape_errors = {}\\nmodels_mae_errors = {}\\n\\n\\ndef add_prediction_to_dict(predictions_dict: dict, key: str, val: float) -> None:\\n    try:\\n        predictions_dict[key].append(val)\\n    except KeyError:\\n        predictions_dict[key] = [val]\\n    return None\\n\\n\\nfor order in pdq:\\n    for account_id in df_train[\\\"account_id\\\"].unique():\\n        df_temp = df_train[df_train[\\\"account_id\\\"] == account_id]\\n        try:\\n            mape_error, mae_error = evaluate_arima_model(df=df_temp, arima_order=order)\\n            add_prediction_to_dict(\\n                predictions_dict=models_mape_errors, key=f\\\"{order}\\\", val=mape_error\\n            )\\n            add_prediction_to_dict(\\n                predictions_dict=models_mae_errors, key=f\\\"{order}\\\", val=mae_error\\n            )\\n        except Exception as e:\\n            print(f\\\"Didn't work - {order} - {e}\\\")\";\n",
       "                var nbb_cells = Jupyter.notebook.get_cells();\n",
       "                for (var i = 0; i < nbb_cells.length; ++i) {\n",
       "                    if (nbb_cells[i].input_prompt_number == nbb_cell_id) {\n",
       "                        if (nbb_cells[i].get_text() == nbb_unformatted_code) {\n",
       "                             nbb_cells[i].set_text(nbb_formatted_code);\n",
       "                        }\n",
       "                        break;\n",
       "                    }\n",
       "                }\n",
       "            }, 500);\n",
       "            "
      ],
      "text/plain": [
       "<IPython.core.display.Javascript object>"
      ]
     },
     "metadata": {},
     "output_type": "display_data"
    },
    {
     "data": {
      "application/javascript": [
       "\n",
       "            setTimeout(function() {\n",
       "                var nbb_cell_id = 129;\n",
       "                var nbb_unformatted_code = \"models_mape_errors = {}\\nmodels_mae_errors = {}\\n\\n\\ndef add_prediction_to_dict(predictions_dict: dict, key: str, val: float) -> None:\\n    try:\\n        predictions_dict[key].append(val)\\n    except KeyError:\\n        predictions_dict[key] = [val]\\n    return None\\n\\n\\nfor order in pdq:\\n    for account_id in df_train[\\\"account_id\\\"].unique():\\n        df_temp = df_train[df_train[\\\"account_id\\\"] == account_id]\\n        try:\\n            mape_error, mae_error = evaluate_arima_model(df=df_temp, arima_order=order)\\n            add_prediction_to_dict(\\n                predictions_dict=models_mape_errors, key=f\\\"{order}\\\", val=mape_error\\n            )\\n            add_prediction_to_dict(\\n                predictions_dict=models_mae_errors, key=f\\\"{order}\\\", val=mae_error\\n            )\\n        except Exception as e:\\n            print(f\\\"Didn't work - {order} - {e}\\\")\";\n",
       "                var nbb_formatted_code = \"models_mape_errors = {}\\nmodels_mae_errors = {}\\n\\n\\ndef add_prediction_to_dict(predictions_dict: dict, key: str, val: float) -> None:\\n    try:\\n        predictions_dict[key].append(val)\\n    except KeyError:\\n        predictions_dict[key] = [val]\\n    return None\\n\\n\\nfor order in pdq:\\n    for account_id in df_train[\\\"account_id\\\"].unique():\\n        df_temp = df_train[df_train[\\\"account_id\\\"] == account_id]\\n        try:\\n            mape_error, mae_error = evaluate_arima_model(df=df_temp, arima_order=order)\\n            add_prediction_to_dict(\\n                predictions_dict=models_mape_errors, key=f\\\"{order}\\\", val=mape_error\\n            )\\n            add_prediction_to_dict(\\n                predictions_dict=models_mae_errors, key=f\\\"{order}\\\", val=mae_error\\n            )\\n        except Exception as e:\\n            print(f\\\"Didn't work - {order} - {e}\\\")\";\n",
       "                var nbb_cells = Jupyter.notebook.get_cells();\n",
       "                for (var i = 0; i < nbb_cells.length; ++i) {\n",
       "                    if (nbb_cells[i].input_prompt_number == nbb_cell_id) {\n",
       "                        if (nbb_cells[i].get_text() == nbb_unformatted_code) {\n",
       "                             nbb_cells[i].set_text(nbb_formatted_code);\n",
       "                        }\n",
       "                        break;\n",
       "                    }\n",
       "                }\n",
       "            }, 500);\n",
       "            "
      ],
      "text/plain": [
       "<IPython.core.display.Javascript object>"
      ]
     },
     "metadata": {},
     "output_type": "display_data"
    }
   ],
   "source": [
    "models_mape_errors = {}\n",
    "models_mae_errors = {}\n",
    "\n",
    "\n",
    "def add_prediction_to_dict(predictions_dict: dict, key: str, val: float) -> None:\n",
    "    try:\n",
    "        predictions_dict[key].append(val)\n",
    "    except KeyError:\n",
    "        predictions_dict[key] = [val]\n",
    "    return None\n",
    "\n",
    "\n",
    "for order in pdq:\n",
    "    for account_id in df_train[\"account_id\"].unique():\n",
    "        df_temp = df_train[df_train[\"account_id\"] == account_id]\n",
    "        try:\n",
    "            mape_error, mae_error = evaluate_arima_model(df=df_temp, arima_order=order)\n",
    "            add_prediction_to_dict(\n",
    "                predictions_dict=models_mape_errors, key=f\"{order}\", val=mape_error\n",
    "            )\n",
    "            add_prediction_to_dict(\n",
    "                predictions_dict=models_mae_errors, key=f\"{order}\", val=mae_error\n",
    "            )\n",
    "        except Exception as e:\n",
    "            print(f\"Didn't work - {order} - {e}\")"
   ]
  },
  {
   "cell_type": "markdown",
   "metadata": {},
   "source": [
    "Since I did not standardize data here, compute the mean of error here does not bring much information. \n",
    "In the graph bellow we can see that data is spread over a big range. Aggregating the errors using the mean or the median would not be really accurate.\n",
    "\n",
    "In the other hand, we have many observations with a zero as target value. Computing the MAPE would give an inf whatever the prediction. I could add 1 in. the denominator to avoid that, but an error of 2 euros would give a 200% error, which is not great at all.\n",
    "\n",
    "For a matter of time I will only compute MAPE on observations without 0. This is not great, especially when we have a lot of zeros. But here, it only represent 5% of data which is not that high. "
   ]
  },
  {
   "cell_type": "code",
   "execution_count": 130,
   "metadata": {},
   "outputs": [
    {
     "data": {
      "text/plain": [
       "<AxesSubplot:xlabel='amount', ylabel='Density'>"
      ]
     },
     "execution_count": 130,
     "metadata": {},
     "output_type": "execute_result"
    },
    {
     "data": {
      "image/png": "[encoded data removed]",
      "text/plain": [
       "<Figure size 432x288 with 1 Axes>"
      ]
     },
     "metadata": {},
     "output_type": "display_data"
    },
    {
     "data": {
      "application/javascript": [
       "\n",
       "            setTimeout(function() {\n",
       "                var nbb_cell_id = 130;\n",
       "                var nbb_unformatted_code = \"sns.distplot(df_train[\\\"amount\\\"])\";\n",
       "                var nbb_formatted_code = \"sns.distplot(df_train[\\\"amount\\\"])\";\n",
       "                var nbb_cells = Jupyter.notebook.get_cells();\n",
       "                for (var i = 0; i < nbb_cells.length; ++i) {\n",
       "                    if (nbb_cells[i].input_prompt_number == nbb_cell_id) {\n",
       "                        if (nbb_cells[i].get_text() == nbb_unformatted_code) {\n",
       "                             nbb_cells[i].set_text(nbb_formatted_code);\n",
       "                        }\n",
       "                        break;\n",
       "                    }\n",
       "                }\n",
       "            }, 500);\n",
       "            "
      ],
      "text/plain": [
       "<IPython.core.display.Javascript object>"
      ]
     },
     "metadata": {},
     "output_type": "display_data"
    },
    {
     "data": {
      "application/javascript": [
       "\n",
       "            setTimeout(function() {\n",
       "                var nbb_cell_id = 130;\n",
       "                var nbb_unformatted_code = \"sns.distplot(df_train[\\\"amount\\\"])\";\n",
       "                var nbb_formatted_code = \"sns.distplot(df_train[\\\"amount\\\"])\";\n",
       "                var nbb_cells = Jupyter.notebook.get_cells();\n",
       "                for (var i = 0; i < nbb_cells.length; ++i) {\n",
       "                    if (nbb_cells[i].input_prompt_number == nbb_cell_id) {\n",
       "                        if (nbb_cells[i].get_text() == nbb_unformatted_code) {\n",
       "                             nbb_cells[i].set_text(nbb_formatted_code);\n",
       "                        }\n",
       "                        break;\n",
       "                    }\n",
       "                }\n",
       "            }, 500);\n",
       "            "
      ],
      "text/plain": [
       "<IPython.core.display.Javascript object>"
      ]
     },
     "metadata": {},
     "output_type": "display_data"
    },
    {
     "data": {
      "application/javascript": [
       "\n",
       "            setTimeout(function() {\n",
       "                var nbb_cell_id = 130;\n",
       "                var nbb_unformatted_code = \"sns.distplot(df_train[\\\"amount\\\"])\";\n",
       "                var nbb_formatted_code = \"sns.distplot(df_train[\\\"amount\\\"])\";\n",
       "                var nbb_cells = Jupyter.notebook.get_cells();\n",
       "                for (var i = 0; i < nbb_cells.length; ++i) {\n",
       "                    if (nbb_cells[i].input_prompt_number == nbb_cell_id) {\n",
       "                        if (nbb_cells[i].get_text() == nbb_unformatted_code) {\n",
       "                             nbb_cells[i].set_text(nbb_formatted_code);\n",
       "                        }\n",
       "                        break;\n",
       "                    }\n",
       "                }\n",
       "            }, 500);\n",
       "            "
      ],
      "text/plain": [
       "<IPython.core.display.Javascript object>"
      ]
     },
     "metadata": {},
     "output_type": "display_data"
    }
   ],
   "source": [
    "sns.distplot(df_train[\"amount\"])"
   ]
  },
  {
   "cell_type": "code",
   "execution_count": 124,
   "metadata": {},
   "outputs": [
    {
     "name": "stdout",
     "output_type": "stream",
     "text": [
      "There is only 5.4 % of targets equal to zero.\n"
     ]
    },
    {
     "data": {
      "application/javascript": [
       "\n",
       "            setTimeout(function() {\n",
       "                var nbb_cell_id = 124;\n",
       "                var nbb_unformatted_code = \"percentage_zero_target = round(\\n    len(df_train[df_train[\\\"amount\\\"] == 0]) / len(df_train) * 100, 1\\n)\\nprint(f\\\"There is only {percentage_zero_target} % of targets equal to zero.\\\")\";\n",
       "                var nbb_formatted_code = \"percentage_zero_target = round(\\n    len(df_train[df_train[\\\"amount\\\"] == 0]) / len(df_train) * 100, 1\\n)\\nprint(f\\\"There is only {percentage_zero_target} % of targets equal to zero.\\\")\";\n",
       "                var nbb_cells = Jupyter.notebook.get_cells();\n",
       "                for (var i = 0; i < nbb_cells.length; ++i) {\n",
       "                    if (nbb_cells[i].input_prompt_number == nbb_cell_id) {\n",
       "                        if (nbb_cells[i].get_text() == nbb_unformatted_code) {\n",
       "                             nbb_cells[i].set_text(nbb_formatted_code);\n",
       "                        }\n",
       "                        break;\n",
       "                    }\n",
       "                }\n",
       "            }, 500);\n",
       "            "
      ],
      "text/plain": [
       "<IPython.core.display.Javascript object>"
      ]
     },
     "metadata": {},
     "output_type": "display_data"
    },
    {
     "data": {
      "application/javascript": [
       "\n",
       "            setTimeout(function() {\n",
       "                var nbb_cell_id = 124;\n",
       "                var nbb_unformatted_code = \"percentage_zero_target = round(\\n    len(df_train[df_train[\\\"amount\\\"] == 0]) / len(df_train) * 100, 1\\n)\\nprint(f\\\"There is only {percentage_zero_target} % of targets equal to zero.\\\")\";\n",
       "                var nbb_formatted_code = \"percentage_zero_target = round(\\n    len(df_train[df_train[\\\"amount\\\"] == 0]) / len(df_train) * 100, 1\\n)\\nprint(f\\\"There is only {percentage_zero_target} % of targets equal to zero.\\\")\";\n",
       "                var nbb_cells = Jupyter.notebook.get_cells();\n",
       "                for (var i = 0; i < nbb_cells.length; ++i) {\n",
       "                    if (nbb_cells[i].input_prompt_number == nbb_cell_id) {\n",
       "                        if (nbb_cells[i].get_text() == nbb_unformatted_code) {\n",
       "                             nbb_cells[i].set_text(nbb_formatted_code);\n",
       "                        }\n",
       "                        break;\n",
       "                    }\n",
       "                }\n",
       "            }, 500);\n",
       "            "
      ],
      "text/plain": [
       "<IPython.core.display.Javascript object>"
      ]
     },
     "metadata": {},
     "output_type": "display_data"
    },
    {
     "data": {
      "application/javascript": [
       "\n",
       "            setTimeout(function() {\n",
       "                var nbb_cell_id = 124;\n",
       "                var nbb_unformatted_code = \"percentage_zero_target = round(\\n    len(df_train[df_train[\\\"amount\\\"] == 0]) / len(df_train) * 100, 1\\n)\\nprint(f\\\"There is only {percentage_zero_target} % of targets equal to zero.\\\")\";\n",
       "                var nbb_formatted_code = \"percentage_zero_target = round(\\n    len(df_train[df_train[\\\"amount\\\"] == 0]) / len(df_train) * 100, 1\\n)\\nprint(f\\\"There is only {percentage_zero_target} % of targets equal to zero.\\\")\";\n",
       "                var nbb_cells = Jupyter.notebook.get_cells();\n",
       "                for (var i = 0; i < nbb_cells.length; ++i) {\n",
       "                    if (nbb_cells[i].input_prompt_number == nbb_cell_id) {\n",
       "                        if (nbb_cells[i].get_text() == nbb_unformatted_code) {\n",
       "                             nbb_cells[i].set_text(nbb_formatted_code);\n",
       "                        }\n",
       "                        break;\n",
       "                    }\n",
       "                }\n",
       "            }, 500);\n",
       "            "
      ],
      "text/plain": [
       "<IPython.core.display.Javascript object>"
      ]
     },
     "metadata": {},
     "output_type": "display_data"
    }
   ],
   "source": [
    "percentage_zero_target = round(\n",
    "    len(df_train[df_train[\"amount\"] == 0]) / len(df_train) * 100, 1\n",
    ")\n",
    "print(f\"There is only {percentage_zero_target} % of targets equal to zero.\")"
   ]
  },
  {
   "cell_type": "markdown",
   "metadata": {},
   "source": [
    "#### Plot errors"
   ]
  },
  {
   "cell_type": "code",
   "execution_count": 142,
   "metadata": {},
   "outputs": [
    {
     "data": {
      "text/plain": [
       "{'(0, 0, 0)': [421.36400704579785,\n",
       "  255.0399166666667,\n",
       "  1281.923611111111,\n",
       "  196.86169117647066,\n",
       "  430.2263371372539,\n",
       "  279.5095572231552,\n",
       "  543.5378602627707,\n",
       "  233.3809490519169,\n",
       "  1391.8160416666672,\n",
       "  2228.3093287864467,\n",
       "  263.95852706105535,\n",
       "  146.6915697681456,\n",
       "  275.85668650793656,\n",
       "  155.74900793650795,\n",
       "  179.53738095238094,\n",
       "  175.53410407602672,\n",
       "  1242.7657407731701,\n",
       "  844.1809057971013,\n",
       "  280.33479166666666,\n",
       "  223.4930416666667,\n",
       "  547.7414166666666,\n",
       "  872.9042499455857,\n",
       "  1083.788675722004,\n",
       "  472.4274621212122,\n",
       "  762.9180416666668,\n",
       "  81.25174999819147,\n",
       "  639.1613333333333,\n",
       "  104.39075,\n",
       "  639.687986061399,\n",
       "  560.2369443035147,\n",
       "  306.20000000000005],\n",
       " '(0, 0, 1)': [292.3786176600144,\n",
       "  1489.4188663876203,\n",
       "  218.1274056453693,\n",
       "  488.2257049992146,\n",
       "  331.4583964322701,\n",
       "  423.09076069403056,\n",
       "  271.99596122994154,\n",
       "  3451.529037737758,\n",
       "  258.6384356127932,\n",
       "  159.30621411700773,\n",
       "  240.0381938254762,\n",
       "  171.88832522210714,\n",
       "  212.00918972638993,\n",
       "  184.5672266573873,\n",
       "  987.0316240534557,\n",
       "  355.4802230738318,\n",
       "  237.37306426343957,\n",
       "  654.0064669390542,\n",
       "  916.435335040513,\n",
       "  449.7892062995361,\n",
       "  1072.4666758605085,\n",
       "  103.97845309535163,\n",
       "  108.48684038371398,\n",
       "  793.1009491653505,\n",
       "  718.1984746025058,\n",
       "  358.9537335635992],\n",
       " '(0, 1, 0)': [470.7382978634273,\n",
       "  337.6275454545455,\n",
       "  1649.5315910664274,\n",
       "  231.32481286569381,\n",
       "  540.6143764772588,\n",
       "  297.22332387477996,\n",
       "  379.8711794388171,\n",
       "  296.9062247877836,\n",
       "  134.54545454545448,\n",
       "  2942.155050467942,\n",
       "  391.8897463002114,\n",
       "  193.42255819442585,\n",
       "  368.3956926406927,\n",
       "  216.97722943722832,\n",
       "  256.6348051948052,\n",
       "  229.7863635715818,\n",
       "  1768.9569822950511,\n",
       "  1348.8912253952574,\n",
       "  477.5449091187369,\n",
       "  355.41409090909093,\n",
       "  703.3137727272726,\n",
       "  1208.6962954545456,\n",
       "  1563.2692902337078,\n",
       "  536.9388015123892,\n",
       "  1191.1940000000002,\n",
       "  100.67661037949195,\n",
       "  838.1414545631587,\n",
       "  140.3552273167117,\n",
       "  940.4242045454545,\n",
       "  853.1401684081706,\n",
       "  60.98181818181826],\n",
       " '(0, 1, 1)': [495.8807916729125,\n",
       "  348.3461098230448,\n",
       "  220.91539143727223,\n",
       "  498.95475816612145,\n",
       "  250.1578642142984,\n",
       "  457.3269861449181,\n",
       "  243.2466834089987,\n",
       "  677.1094584630757,\n",
       "  196.59827781640942,\n",
       "  286.3430920590058,\n",
       "  179.37476386784,\n",
       "  219.9054381158408,\n",
       "  194.04179987587344,\n",
       "  1633.305936808844,\n",
       "  1163.9193464680168,\n",
       "  334.3169237630972,\n",
       "  308.2929481736283,\n",
       "  659.3081017876133,\n",
       "  1028.4015501424758,\n",
       "  1256.1535562452013,\n",
       "  609.5033803904148,\n",
       "  96.45332573411967,\n",
       "  720.1457694942807,\n",
       "  124.68146309404929,\n",
       "  761.2338104321416,\n",
       "  705.1680628605673,\n",
       "  156.9693765967222],\n",
       " '(1, 0, 0)': [419.92836514945566,\n",
       "  288.8266227376538,\n",
       "  1390.3416734837876,\n",
       "  204.99312140000816,\n",
       "  433.47863217616765,\n",
       "  285.26496960549275,\n",
       "  385.9133685884911,\n",
       "  259.80831711852977,\n",
       "  1831.132177486791,\n",
       "  2281.77695820724,\n",
       "  266.43237357276337,\n",
       "  165.649685326521,\n",
       "  269.6261799669622,\n",
       "  164.84895611793354,\n",
       "  205.1617688184709,\n",
       "  186.8869117941278,\n",
       "  1364.7943959001568,\n",
       "  906.7777069356209,\n",
       "  303.3854093463019,\n",
       "  229.43205287087667,\n",
       "  603.0202874193733,\n",
       "  906.5484207951658,\n",
       "  1074.8327178807788,\n",
       "  505.18841792087517,\n",
       "  831.3611387007662,\n",
       "  87.19232620879541,\n",
       "  700.9394769239054,\n",
       "  110.62569541204728,\n",
       "  653.3729876635584,\n",
       "  599.125703665407,\n",
       "  403.10745220670645],\n",
       " '(1, 1, 0)': [526.5846000637301,\n",
       "  367.64078759590404,\n",
       "  1569.685086633253,\n",
       "  233.86955544552418,\n",
       "  521.1364071458858,\n",
       "  286.99228576599694,\n",
       "  390.2093474717452,\n",
       "  292.1153720330918,\n",
       "  874.8658795766206,\n",
       "  2833.618343379935,\n",
       "  389.5169154168916,\n",
       "  196.42527534807837,\n",
       "  416.593813485801,\n",
       "  191.62973517213814,\n",
       "  219.35159388856417,\n",
       "  189.88270034902388,\n",
       "  1792.5136334725512,\n",
       "  1407.0815478118907,\n",
       "  418.6256373323592,\n",
       "  387.9620886949379,\n",
       "  647.9447970190737,\n",
       "  1214.9268795824523,\n",
       "  1500.4835019392067,\n",
       "  568.9419621452126,\n",
       "  1305.5040022396242,\n",
       "  108.9850461504753,\n",
       "  897.8876392580586,\n",
       "  151.44189460031706,\n",
       "  935.5878499634138,\n",
       "  932.3358286732798,\n",
       "  266.69041996958805]}"
      ]
     },
     "execution_count": 142,
     "metadata": {},
     "output_type": "execute_result"
    },
    {
     "data": {
      "application/javascript": [
       "\n",
       "            setTimeout(function() {\n",
       "                var nbb_cell_id = 142;\n",
       "                var nbb_unformatted_code = \"models_mae_errors\";\n",
       "                var nbb_formatted_code = \"models_mae_errors\";\n",
       "                var nbb_cells = Jupyter.notebook.get_cells();\n",
       "                for (var i = 0; i < nbb_cells.length; ++i) {\n",
       "                    if (nbb_cells[i].input_prompt_number == nbb_cell_id) {\n",
       "                        if (nbb_cells[i].get_text() == nbb_unformatted_code) {\n",
       "                             nbb_cells[i].set_text(nbb_formatted_code);\n",
       "                        }\n",
       "                        break;\n",
       "                    }\n",
       "                }\n",
       "            }, 500);\n",
       "            "
      ],
      "text/plain": [
       "<IPython.core.display.Javascript object>"
      ]
     },
     "metadata": {},
     "output_type": "display_data"
    },
    {
     "data": {
      "application/javascript": [
       "\n",
       "            setTimeout(function() {\n",
       "                var nbb_cell_id = 142;\n",
       "                var nbb_unformatted_code = \"models_mae_errors\";\n",
       "                var nbb_formatted_code = \"models_mae_errors\";\n",
       "                var nbb_cells = Jupyter.notebook.get_cells();\n",
       "                for (var i = 0; i < nbb_cells.length; ++i) {\n",
       "                    if (nbb_cells[i].input_prompt_number == nbb_cell_id) {\n",
       "                        if (nbb_cells[i].get_text() == nbb_unformatted_code) {\n",
       "                             nbb_cells[i].set_text(nbb_formatted_code);\n",
       "                        }\n",
       "                        break;\n",
       "                    }\n",
       "                }\n",
       "            }, 500);\n",
       "            "
      ],
      "text/plain": [
       "<IPython.core.display.Javascript object>"
      ]
     },
     "metadata": {},
     "output_type": "display_data"
    },
    {
     "data": {
      "application/javascript": [
       "\n",
       "            setTimeout(function() {\n",
       "                var nbb_cell_id = 142;\n",
       "                var nbb_unformatted_code = \"models_mae_errors\";\n",
       "                var nbb_formatted_code = \"models_mae_errors\";\n",
       "                var nbb_cells = Jupyter.notebook.get_cells();\n",
       "                for (var i = 0; i < nbb_cells.length; ++i) {\n",
       "                    if (nbb_cells[i].input_prompt_number == nbb_cell_id) {\n",
       "                        if (nbb_cells[i].get_text() == nbb_unformatted_code) {\n",
       "                             nbb_cells[i].set_text(nbb_formatted_code);\n",
       "                        }\n",
       "                        break;\n",
       "                    }\n",
       "                }\n",
       "            }, 500);\n",
       "            "
      ],
      "text/plain": [
       "<IPython.core.display.Javascript object>"
      ]
     },
     "metadata": {},
     "output_type": "display_data"
    }
   ],
   "source": [
    "models_mae_errors"
   ]
  },
  {
   "cell_type": "code",
   "execution_count": 139,
   "metadata": {},
   "outputs": [
    {
     "data": {
      "application/javascript": [
       "\n",
       "            setTimeout(function() {\n",
       "                var nbb_cell_id = 139;\n",
       "                var nbb_unformatted_code = \"FLOAT_FORMAT = \\\"{:.2f}\\\"\\n\\n\\ndef compute_error_quantiles(\\n    errors: np.ndarray, quantiles: list, order: str\\n) -> pd.DataFrame:\\n    columns_names = [FLOAT_FORMAT.format(quantile) for quantile in quantiles]\\n    return pd.DataFrame(\\n        data=np.quantile(errors, quantiles, interpolation=\\\"linear\\\"),\\n        index=columns_names,\\n        columns=[f\\\"quantiles_{order}\\\"],\\n    )\\n\\n\\nQUANTILES = [0.05 * i for i in range(1, 20)]\\n\\nquantiles_errors = []\\nfor order, mape_errors in models_mape_errors.items():\\n    quantiles_errors.append(\\n        compute_error_quantiles(\\n            errors=mape_errors, quantiles=QUANTILES, order=f\\\"{order}\\\"\\n        )\\n    )\";\n",
       "                var nbb_formatted_code = \"FLOAT_FORMAT = \\\"{:.2f}\\\"\\n\\n\\ndef compute_error_quantiles(\\n    errors: np.ndarray, quantiles: list, order: str\\n) -> pd.DataFrame:\\n    columns_names = [FLOAT_FORMAT.format(quantile) for quantile in quantiles]\\n    return pd.DataFrame(\\n        data=np.quantile(errors, quantiles, interpolation=\\\"linear\\\"),\\n        index=columns_names,\\n        columns=[f\\\"quantiles_{order}\\\"],\\n    )\\n\\n\\nQUANTILES = [0.05 * i for i in range(1, 20)]\\n\\nquantiles_errors = []\\nfor order, mape_errors in models_mape_errors.items():\\n    quantiles_errors.append(\\n        compute_error_quantiles(\\n            errors=mape_errors, quantiles=QUANTILES, order=f\\\"{order}\\\"\\n        )\\n    )\";\n",
       "                var nbb_cells = Jupyter.notebook.get_cells();\n",
       "                for (var i = 0; i < nbb_cells.length; ++i) {\n",
       "                    if (nbb_cells[i].input_prompt_number == nbb_cell_id) {\n",
       "                        if (nbb_cells[i].get_text() == nbb_unformatted_code) {\n",
       "                             nbb_cells[i].set_text(nbb_formatted_code);\n",
       "                        }\n",
       "                        break;\n",
       "                    }\n",
       "                }\n",
       "            }, 500);\n",
       "            "
      ],
      "text/plain": [
       "<IPython.core.display.Javascript object>"
      ]
     },
     "metadata": {},
     "output_type": "display_data"
    },
    {
     "data": {
      "application/javascript": [
       "\n",
       "            setTimeout(function() {\n",
       "                var nbb_cell_id = 139;\n",
       "                var nbb_unformatted_code = \"FLOAT_FORMAT = \\\"{:.2f}\\\"\\n\\n\\ndef compute_error_quantiles(\\n    errors: np.ndarray, quantiles: list, order: str\\n) -> pd.DataFrame:\\n    columns_names = [FLOAT_FORMAT.format(quantile) for quantile in quantiles]\\n    return pd.DataFrame(\\n        data=np.quantile(errors, quantiles, interpolation=\\\"linear\\\"),\\n        index=columns_names,\\n        columns=[f\\\"quantiles_{order}\\\"],\\n    )\\n\\n\\nQUANTILES = [0.05 * i for i in range(1, 20)]\\n\\nquantiles_errors = []\\nfor order, mape_errors in models_mape_errors.items():\\n    quantiles_errors.append(\\n        compute_error_quantiles(\\n            errors=mape_errors, quantiles=QUANTILES, order=f\\\"{order}\\\"\\n        )\\n    )\";\n",
       "                var nbb_formatted_code = \"FLOAT_FORMAT = \\\"{:.2f}\\\"\\n\\n\\ndef compute_error_quantiles(\\n    errors: np.ndarray, quantiles: list, order: str\\n) -> pd.DataFrame:\\n    columns_names = [FLOAT_FORMAT.format(quantile) for quantile in quantiles]\\n    return pd.DataFrame(\\n        data=np.quantile(errors, quantiles, interpolation=\\\"linear\\\"),\\n        index=columns_names,\\n        columns=[f\\\"quantiles_{order}\\\"],\\n    )\\n\\n\\nQUANTILES = [0.05 * i for i in range(1, 20)]\\n\\nquantiles_errors = []\\nfor order, mape_errors in models_mape_errors.items():\\n    quantiles_errors.append(\\n        compute_error_quantiles(\\n            errors=mape_errors, quantiles=QUANTILES, order=f\\\"{order}\\\"\\n        )\\n    )\";\n",
       "                var nbb_cells = Jupyter.notebook.get_cells();\n",
       "                for (var i = 0; i < nbb_cells.length; ++i) {\n",
       "                    if (nbb_cells[i].input_prompt_number == nbb_cell_id) {\n",
       "                        if (nbb_cells[i].get_text() == nbb_unformatted_code) {\n",
       "                             nbb_cells[i].set_text(nbb_formatted_code);\n",
       "                        }\n",
       "                        break;\n",
       "                    }\n",
       "                }\n",
       "            }, 500);\n",
       "            "
      ],
      "text/plain": [
       "<IPython.core.display.Javascript object>"
      ]
     },
     "metadata": {},
     "output_type": "display_data"
    },
    {
     "data": {
      "application/javascript": [
       "\n",
       "            setTimeout(function() {\n",
       "                var nbb_cell_id = 139;\n",
       "                var nbb_unformatted_code = \"FLOAT_FORMAT = \\\"{:.2f}\\\"\\n\\n\\ndef compute_error_quantiles(\\n    errors: np.ndarray, quantiles: list, order: str\\n) -> pd.DataFrame:\\n    columns_names = [FLOAT_FORMAT.format(quantile) for quantile in quantiles]\\n    return pd.DataFrame(\\n        data=np.quantile(errors, quantiles, interpolation=\\\"linear\\\"),\\n        index=columns_names,\\n        columns=[f\\\"quantiles_{order}\\\"],\\n    )\\n\\n\\nQUANTILES = [0.05 * i for i in range(1, 20)]\\n\\nquantiles_errors = []\\nfor order, mape_errors in models_mape_errors.items():\\n    quantiles_errors.append(\\n        compute_error_quantiles(\\n            errors=mape_errors, quantiles=QUANTILES, order=f\\\"{order}\\\"\\n        )\\n    )\";\n",
       "                var nbb_formatted_code = \"FLOAT_FORMAT = \\\"{:.2f}\\\"\\n\\n\\ndef compute_error_quantiles(\\n    errors: np.ndarray, quantiles: list, order: str\\n) -> pd.DataFrame:\\n    columns_names = [FLOAT_FORMAT.format(quantile) for quantile in quantiles]\\n    return pd.DataFrame(\\n        data=np.quantile(errors, quantiles, interpolation=\\\"linear\\\"),\\n        index=columns_names,\\n        columns=[f\\\"quantiles_{order}\\\"],\\n    )\\n\\n\\nQUANTILES = [0.05 * i for i in range(1, 20)]\\n\\nquantiles_errors = []\\nfor order, mape_errors in models_mape_errors.items():\\n    quantiles_errors.append(\\n        compute_error_quantiles(\\n            errors=mape_errors, quantiles=QUANTILES, order=f\\\"{order}\\\"\\n        )\\n    )\";\n",
       "                var nbb_cells = Jupyter.notebook.get_cells();\n",
       "                for (var i = 0; i < nbb_cells.length; ++i) {\n",
       "                    if (nbb_cells[i].input_prompt_number == nbb_cell_id) {\n",
       "                        if (nbb_cells[i].get_text() == nbb_unformatted_code) {\n",
       "                             nbb_cells[i].set_text(nbb_formatted_code);\n",
       "                        }\n",
       "                        break;\n",
       "                    }\n",
       "                }\n",
       "            }, 500);\n",
       "            "
      ],
      "text/plain": [
       "<IPython.core.display.Javascript object>"
      ]
     },
     "metadata": {},
     "output_type": "display_data"
    }
   ],
   "source": [
    "FLOAT_FORMAT = \"{:.2f}\"\n",
    "\n",
    "\n",
    "def compute_error_quantiles(\n",
    "    errors: np.ndarray, quantiles: list, order: str\n",
    ") -> pd.DataFrame:\n",
    "    columns_names = [FLOAT_FORMAT.format(quantile) for quantile in quantiles]\n",
    "    return pd.DataFrame(\n",
    "        data=np.quantile(errors, quantiles, interpolation=\"linear\"),\n",
    "        index=columns_names,\n",
    "        columns=[f\"quantiles_{order}\"],\n",
    "    )\n",
    "\n",
    "\n",
    "QUANTILES = [0.05 * i for i in range(1, 20)]\n",
    "\n",
    "quantiles_errors = []\n",
    "for order, mape_errors in models_mape_errors.items():\n",
    "    quantiles_errors.append(\n",
    "        compute_error_quantiles(\n",
    "            errors=mape_errors, quantiles=QUANTILES, order=f\"{order}\"\n",
    "        )\n",
    "    )"
   ]
  },
  {
   "cell_type": "code",
   "execution_count": 140,
   "metadata": {},
   "outputs": [
    {
     "data": {
      "text/html": [
       "<div>\n",
       "<style scoped>\n",
       "    .dataframe tbody tr th:only-of-type {\n",
       "        vertical-align: middle;\n",
       "    }\n",
       "\n",
       "    .dataframe tbody tr th {\n",
       "        vertical-align: top;\n",
       "    }\n",
       "\n",
       "    .dataframe thead th {\n",
       "        text-align: right;\n",
       "    }\n",
       "</style>\n",
       "<table border=\"1\" class=\"dataframe\">\n",
       "  <thead>\n",
       "    <tr style=\"text-align: right;\">\n",
       "      <th></th>\n",
       "      <th>quantiles_(0, 0, 0)</th>\n",
       "      <th>quantiles_(0, 0, 1)</th>\n",
       "      <th>quantiles_(0, 1, 0)</th>\n",
       "      <th>quantiles_(0, 1, 1)</th>\n",
       "      <th>quantiles_(1, 0, 0)</th>\n",
       "      <th>quantiles_(1, 1, 0)</th>\n",
       "    </tr>\n",
       "  </thead>\n",
       "  <tbody>\n",
       "    <tr>\n",
       "      <th>0.05</th>\n",
       "      <td>61.699581</td>\n",
       "      <td>65.572677</td>\n",
       "      <td>78.463363</td>\n",
       "      <td>83.501942</td>\n",
       "      <td>64.132928</td>\n",
       "      <td>75.194330</td>\n",
       "    </tr>\n",
       "    <tr>\n",
       "      <th>0.10</th>\n",
       "      <td>67.203090</td>\n",
       "      <td>81.830276</td>\n",
       "      <td>101.636364</td>\n",
       "      <td>102.228931</td>\n",
       "      <td>79.076776</td>\n",
       "      <td>111.552293</td>\n",
       "    </tr>\n",
       "    <tr>\n",
       "      <th>0.15</th>\n",
       "      <td>83.826401</td>\n",
       "      <td>94.190203</td>\n",
       "      <td>116.461163</td>\n",
       "      <td>135.046285</td>\n",
       "      <td>98.263214</td>\n",
       "      <td>120.139352</td>\n",
       "    </tr>\n",
       "    <tr>\n",
       "      <th>0.20</th>\n",
       "      <td>139.007743</td>\n",
       "      <td>104.055009</td>\n",
       "      <td>128.450493</td>\n",
       "      <td>225.254444</td>\n",
       "      <td>159.779100</td>\n",
       "      <td>211.237136</td>\n",
       "    </tr>\n",
       "    <tr>\n",
       "      <th>0.25</th>\n",
       "      <td>194.763370</td>\n",
       "      <td>205.640190</td>\n",
       "      <td>218.279557</td>\n",
       "      <td>240.593030</td>\n",
       "      <td>201.595011</td>\n",
       "      <td>247.412243</td>\n",
       "    </tr>\n",
       "    <tr>\n",
       "      <th>0.30</th>\n",
       "      <td>225.583181</td>\n",
       "      <td>233.608559</td>\n",
       "      <td>227.358593</td>\n",
       "      <td>250.064052</td>\n",
       "      <td>213.870233</td>\n",
       "      <td>257.664685</td>\n",
       "    </tr>\n",
       "    <tr>\n",
       "      <th>0.35</th>\n",
       "      <td>240.030186</td>\n",
       "      <td>254.504943</td>\n",
       "      <td>259.315089</td>\n",
       "      <td>263.568388</td>\n",
       "      <td>252.913521</td>\n",
       "      <td>295.386054</td>\n",
       "    </tr>\n",
       "    <tr>\n",
       "      <th>0.40</th>\n",
       "      <td>261.790596</td>\n",
       "      <td>267.955146</td>\n",
       "      <td>333.724405</td>\n",
       "      <td>303.267651</td>\n",
       "      <td>264.342289</td>\n",
       "      <td>405.190804</td>\n",
       "    </tr>\n",
       "    <tr>\n",
       "      <th>0.45</th>\n",
       "      <td>314.465856</td>\n",
       "      <td>280.808961</td>\n",
       "      <td>398.839834</td>\n",
       "      <td>360.025311</td>\n",
       "      <td>329.131874</td>\n",
       "      <td>446.502394</td>\n",
       "    </tr>\n",
       "    <tr>\n",
       "      <th>0.50</th>\n",
       "      <td>366.030144</td>\n",
       "      <td>339.667940</td>\n",
       "      <td>452.714419</td>\n",
       "      <td>414.961090</td>\n",
       "      <td>380.164363</td>\n",
       "      <td>462.978606</td>\n",
       "    </tr>\n",
       "    <tr>\n",
       "      <th>0.55</th>\n",
       "      <td>388.799485</td>\n",
       "      <td>455.824416</td>\n",
       "      <td>455.773656</td>\n",
       "      <td>446.134980</td>\n",
       "      <td>397.748234</td>\n",
       "      <td>486.252389</td>\n",
       "    </tr>\n",
       "    <tr>\n",
       "      <th>0.60</th>\n",
       "      <td>510.333333</td>\n",
       "      <td>478.655977</td>\n",
       "      <td>461.058151</td>\n",
       "      <td>473.833425</td>\n",
       "      <td>408.919215</td>\n",
       "      <td>512.105031</td>\n",
       "    </tr>\n",
       "    <tr>\n",
       "      <th>0.65</th>\n",
       "      <td>534.994571</td>\n",
       "      <td>540.899989</td>\n",
       "      <td>591.165714</td>\n",
       "      <td>513.724831</td>\n",
       "      <td>552.980758</td>\n",
       "      <td>605.702414</td>\n",
       "    </tr>\n",
       "    <tr>\n",
       "      <th>0.70</th>\n",
       "      <td>546.506799</td>\n",
       "      <td>595.179220</td>\n",
       "      <td>610.730671</td>\n",
       "      <td>614.650977</td>\n",
       "      <td>558.012811</td>\n",
       "      <td>719.507795</td>\n",
       "    </tr>\n",
       "    <tr>\n",
       "      <th>0.75</th>\n",
       "      <td>624.279879</td>\n",
       "      <td>732.340596</td>\n",
       "      <td>712.894745</td>\n",
       "      <td>692.972784</td>\n",
       "      <td>689.405357</td>\n",
       "      <td>750.495417</td>\n",
       "    </tr>\n",
       "    <tr>\n",
       "      <th>0.80</th>\n",
       "      <td>711.680918</td>\n",
       "      <td>864.162465</td>\n",
       "      <td>770.437186</td>\n",
       "      <td>746.253530</td>\n",
       "      <td>722.119017</td>\n",
       "      <td>794.621425</td>\n",
       "    </tr>\n",
       "    <tr>\n",
       "      <th>0.85</th>\n",
       "      <td>802.581862</td>\n",
       "      <td>911.474819</td>\n",
       "      <td>790.475070</td>\n",
       "      <td>774.992446</td>\n",
       "      <td>798.610646</td>\n",
       "      <td>959.665859</td>\n",
       "    </tr>\n",
       "    <tr>\n",
       "      <th>0.90</th>\n",
       "      <td>1198.280303</td>\n",
       "      <td>1158.767780</td>\n",
       "      <td>1012.836665</td>\n",
       "      <td>869.335056</td>\n",
       "      <td>1166.901332</td>\n",
       "      <td>1645.888826</td>\n",
       "    </tr>\n",
       "    <tr>\n",
       "      <th>0.95</th>\n",
       "      <td>3962.963660</td>\n",
       "      <td>1770.210481</td>\n",
       "      <td>1669.608882</td>\n",
       "      <td>1468.040412</td>\n",
       "      <td>4974.818614</td>\n",
       "      <td>2992.056606</td>\n",
       "    </tr>\n",
       "  </tbody>\n",
       "</table>\n",
       "</div>"
      ],
      "text/plain": [
       "      quantiles_(0, 0, 0)  quantiles_(0, 0, 1)  quantiles_(0, 1, 0)  \\\n",
       "0.05            61.699581            65.572677            78.463363   \n",
       "0.10            67.203090            81.830276           101.636364   \n",
       "0.15            83.826401            94.190203           116.461163   \n",
       "0.20           139.007743           104.055009           128.450493   \n",
       "0.25           194.763370           205.640190           218.279557   \n",
       "0.30           225.583181           233.608559           227.358593   \n",
       "0.35           240.030186           254.504943           259.315089   \n",
       "0.40           261.790596           267.955146           333.724405   \n",
       "0.45           314.465856           280.808961           398.839834   \n",
       "0.50           366.030144           339.667940           452.714419   \n",
       "0.55           388.799485           455.824416           455.773656   \n",
       "0.60           510.333333           478.655977           461.058151   \n",
       "0.65           534.994571           540.899989           591.165714   \n",
       "0.70           546.506799           595.179220           610.730671   \n",
       "0.75           624.279879           732.340596           712.894745   \n",
       "0.80           711.680918           864.162465           770.437186   \n",
       "0.85           802.581862           911.474819           790.475070   \n",
       "0.90          1198.280303          1158.767780          1012.836665   \n",
       "0.95          3962.963660          1770.210481          1669.608882   \n",
       "\n",
       "      quantiles_(0, 1, 1)  quantiles_(1, 0, 0)  quantiles_(1, 1, 0)  \n",
       "0.05            83.501942            64.132928            75.194330  \n",
       "0.10           102.228931            79.076776           111.552293  \n",
       "0.15           135.046285            98.263214           120.139352  \n",
       "0.20           225.254444           159.779100           211.237136  \n",
       "0.25           240.593030           201.595011           247.412243  \n",
       "0.30           250.064052           213.870233           257.664685  \n",
       "0.35           263.568388           252.913521           295.386054  \n",
       "0.40           303.267651           264.342289           405.190804  \n",
       "0.45           360.025311           329.131874           446.502394  \n",
       "0.50           414.961090           380.164363           462.978606  \n",
       "0.55           446.134980           397.748234           486.252389  \n",
       "0.60           473.833425           408.919215           512.105031  \n",
       "0.65           513.724831           552.980758           605.702414  \n",
       "0.70           614.650977           558.012811           719.507795  \n",
       "0.75           692.972784           689.405357           750.495417  \n",
       "0.80           746.253530           722.119017           794.621425  \n",
       "0.85           774.992446           798.610646           959.665859  \n",
       "0.90           869.335056          1166.901332          1645.888826  \n",
       "0.95          1468.040412          4974.818614          2992.056606  "
      ]
     },
     "execution_count": 140,
     "metadata": {},
     "output_type": "execute_result"
    },
    {
     "data": {
      "application/javascript": [
       "\n",
       "            setTimeout(function() {\n",
       "                var nbb_cell_id = 140;\n",
       "                var nbb_unformatted_code = \"pd.concat(quantiles_errors, axis=1)\";\n",
       "                var nbb_formatted_code = \"pd.concat(quantiles_errors, axis=1)\";\n",
       "                var nbb_cells = Jupyter.notebook.get_cells();\n",
       "                for (var i = 0; i < nbb_cells.length; ++i) {\n",
       "                    if (nbb_cells[i].input_prompt_number == nbb_cell_id) {\n",
       "                        if (nbb_cells[i].get_text() == nbb_unformatted_code) {\n",
       "                             nbb_cells[i].set_text(nbb_formatted_code);\n",
       "                        }\n",
       "                        break;\n",
       "                    }\n",
       "                }\n",
       "            }, 500);\n",
       "            "
      ],
      "text/plain": [
       "<IPython.core.display.Javascript object>"
      ]
     },
     "metadata": {},
     "output_type": "display_data"
    },
    {
     "data": {
      "application/javascript": [
       "\n",
       "            setTimeout(function() {\n",
       "                var nbb_cell_id = 140;\n",
       "                var nbb_unformatted_code = \"pd.concat(quantiles_errors, axis=1)\";\n",
       "                var nbb_formatted_code = \"pd.concat(quantiles_errors, axis=1)\";\n",
       "                var nbb_cells = Jupyter.notebook.get_cells();\n",
       "                for (var i = 0; i < nbb_cells.length; ++i) {\n",
       "                    if (nbb_cells[i].input_prompt_number == nbb_cell_id) {\n",
       "                        if (nbb_cells[i].get_text() == nbb_unformatted_code) {\n",
       "                             nbb_cells[i].set_text(nbb_formatted_code);\n",
       "                        }\n",
       "                        break;\n",
       "                    }\n",
       "                }\n",
       "            }, 500);\n",
       "            "
      ],
      "text/plain": [
       "<IPython.core.display.Javascript object>"
      ]
     },
     "metadata": {},
     "output_type": "display_data"
    },
    {
     "data": {
      "application/javascript": [
       "\n",
       "            setTimeout(function() {\n",
       "                var nbb_cell_id = 140;\n",
       "                var nbb_unformatted_code = \"pd.concat(quantiles_errors, axis=1)\";\n",
       "                var nbb_formatted_code = \"pd.concat(quantiles_errors, axis=1)\";\n",
       "                var nbb_cells = Jupyter.notebook.get_cells();\n",
       "                for (var i = 0; i < nbb_cells.length; ++i) {\n",
       "                    if (nbb_cells[i].input_prompt_number == nbb_cell_id) {\n",
       "                        if (nbb_cells[i].get_text() == nbb_unformatted_code) {\n",
       "                             nbb_cells[i].set_text(nbb_formatted_code);\n",
       "                        }\n",
       "                        break;\n",
       "                    }\n",
       "                }\n",
       "            }, 500);\n",
       "            "
      ],
      "text/plain": [
       "<IPython.core.display.Javascript object>"
      ]
     },
     "metadata": {},
     "output_type": "display_data"
    }
   ],
   "source": [
    "pd.concat(quantiles_errors, axis=1)"
   ]
  },
  {
   "cell_type": "code",
   "execution_count": 141,
   "metadata": {},
   "outputs": [
    {
     "data": {
      "text/plain": [
       "<matplotlib.legend.Legend at 0x124e3cac0>"
      ]
     },
     "execution_count": 141,
     "metadata": {},
     "output_type": "execute_result"
    },
    {
     "data": {
      "image/png": "[encoded data removed]",
      "text/plain": [
       "<Figure size 1152x432 with 1 Axes>"
      ]
     },
     "metadata": {},
     "output_type": "display_data"
    },
    {
     "data": {
      "application/javascript": [
       "\n",
       "            setTimeout(function() {\n",
       "                var nbb_cell_id = 141;\n",
       "                var nbb_unformatted_code = \"mape_errors_df_quantiles = pd.concat(quantiles_errors, axis=1)\\nplt.figure(figsize=(16, 6))\\nfor column in mape_errors_df_quantiles.columns:\\n    sns.distplot(mape_errors_df_quantiles[column], label=column)\\nplt.legend()\";\n",
       "                var nbb_formatted_code = \"mape_errors_df_quantiles = pd.concat(quantiles_errors, axis=1)\\nplt.figure(figsize=(16, 6))\\nfor column in mape_errors_df_quantiles.columns:\\n    sns.distplot(mape_errors_df_quantiles[column], label=column)\\nplt.legend()\";\n",
       "                var nbb_cells = Jupyter.notebook.get_cells();\n",
       "                for (var i = 0; i < nbb_cells.length; ++i) {\n",
       "                    if (nbb_cells[i].input_prompt_number == nbb_cell_id) {\n",
       "                        if (nbb_cells[i].get_text() == nbb_unformatted_code) {\n",
       "                             nbb_cells[i].set_text(nbb_formatted_code);\n",
       "                        }\n",
       "                        break;\n",
       "                    }\n",
       "                }\n",
       "            }, 500);\n",
       "            "
      ],
      "text/plain": [
       "<IPython.core.display.Javascript object>"
      ]
     },
     "metadata": {},
     "output_type": "display_data"
    },
    {
     "data": {
      "application/javascript": [
       "\n",
       "            setTimeout(function() {\n",
       "                var nbb_cell_id = 141;\n",
       "                var nbb_unformatted_code = \"mape_errors_df_quantiles = pd.concat(quantiles_errors, axis=1)\\nplt.figure(figsize=(16, 6))\\nfor column in mape_errors_df_quantiles.columns:\\n    sns.distplot(mape_errors_df_quantiles[column], label=column)\\nplt.legend()\";\n",
       "                var nbb_formatted_code = \"mape_errors_df_quantiles = pd.concat(quantiles_errors, axis=1)\\nplt.figure(figsize=(16, 6))\\nfor column in mape_errors_df_quantiles.columns:\\n    sns.distplot(mape_errors_df_quantiles[column], label=column)\\nplt.legend()\";\n",
       "                var nbb_cells = Jupyter.notebook.get_cells();\n",
       "                for (var i = 0; i < nbb_cells.length; ++i) {\n",
       "                    if (nbb_cells[i].input_prompt_number == nbb_cell_id) {\n",
       "                        if (nbb_cells[i].get_text() == nbb_unformatted_code) {\n",
       "                             nbb_cells[i].set_text(nbb_formatted_code);\n",
       "                        }\n",
       "                        break;\n",
       "                    }\n",
       "                }\n",
       "            }, 500);\n",
       "            "
      ],
      "text/plain": [
       "<IPython.core.display.Javascript object>"
      ]
     },
     "metadata": {},
     "output_type": "display_data"
    },
    {
     "data": {
      "application/javascript": [
       "\n",
       "            setTimeout(function() {\n",
       "                var nbb_cell_id = 141;\n",
       "                var nbb_unformatted_code = \"mape_errors_df_quantiles = pd.concat(quantiles_errors, axis=1)\\nplt.figure(figsize=(16, 6))\\nfor column in mape_errors_df_quantiles.columns:\\n    sns.distplot(mape_errors_df_quantiles[column], label=column)\\nplt.legend()\";\n",
       "                var nbb_formatted_code = \"mape_errors_df_quantiles = pd.concat(quantiles_errors, axis=1)\\nplt.figure(figsize=(16, 6))\\nfor column in mape_errors_df_quantiles.columns:\\n    sns.distplot(mape_errors_df_quantiles[column], label=column)\\nplt.legend()\";\n",
       "                var nbb_cells = Jupyter.notebook.get_cells();\n",
       "                for (var i = 0; i < nbb_cells.length; ++i) {\n",
       "                    if (nbb_cells[i].input_prompt_number == nbb_cell_id) {\n",
       "                        if (nbb_cells[i].get_text() == nbb_unformatted_code) {\n",
       "                             nbb_cells[i].set_text(nbb_formatted_code);\n",
       "                        }\n",
       "                        break;\n",
       "                    }\n",
       "                }\n",
       "            }, 500);\n",
       "            "
      ],
      "text/plain": [
       "<IPython.core.display.Javascript object>"
      ]
     },
     "metadata": {},
     "output_type": "display_data"
    }
   ],
   "source": [
    "mape_errors_df_quantiles = pd.concat(quantiles_errors, axis=1)\n",
    "plt.figure(figsize=(16, 6))\n",
    "for column in mape_errors_df_quantiles.columns:\n",
    "    sns.distplot(mape_errors_df_quantiles[column], label=column)\n",
    "\n",
    "plt.legend()"
   ]
  },
  {
   "cell_type": "markdown",
   "metadata": {},
   "source": [
    "Here we observe that the orange and red graphs are the most performing models when looking at the MAPE qauntiles. \n",
    "The orange curve have a lower median, but is more spread than the red one.\n"
   ]
  },
  {
   "cell_type": "markdown",
   "metadata": {},
   "source": [
    "Let us look at the MAE"
   ]
  },
  {
   "cell_type": "code",
   "execution_count": 146,
   "metadata": {},
   "outputs": [
    {
     "data": {
      "text/plain": [
       "<matplotlib.legend.Legend at 0x124790640>"
      ]
     },
     "execution_count": 146,
     "metadata": {},
     "output_type": "execute_result"
    },
    {
     "data": {
      "image/png": "[encoded data removed]",
      "text/plain": [
       "<Figure size 1152x432 with 1 Axes>"
      ]
     },
     "metadata": {},
     "output_type": "display_data"
    },
    {
     "data": {
      "application/javascript": [
       "\n",
       "            setTimeout(function() {\n",
       "                var nbb_cell_id = 146;\n",
       "                var nbb_unformatted_code = \"plt.figure(figsize=(16, 6))\\nfor order, error in models_mae_errors.items():\\n    sns.distplot(error, label=order)\\n\\nplt.legend()\";\n",
       "                var nbb_formatted_code = \"plt.figure(figsize=(16, 6))\\nfor order, error in models_mae_errors.items():\\n    sns.distplot(error, label=order)\\n\\nplt.legend()\";\n",
       "                var nbb_cells = Jupyter.notebook.get_cells();\n",
       "                for (var i = 0; i < nbb_cells.length; ++i) {\n",
       "                    if (nbb_cells[i].input_prompt_number == nbb_cell_id) {\n",
       "                        if (nbb_cells[i].get_text() == nbb_unformatted_code) {\n",
       "                             nbb_cells[i].set_text(nbb_formatted_code);\n",
       "                        }\n",
       "                        break;\n",
       "                    }\n",
       "                }\n",
       "            }, 500);\n",
       "            "
      ],
      "text/plain": [
       "<IPython.core.display.Javascript object>"
      ]
     },
     "metadata": {},
     "output_type": "display_data"
    },
    {
     "data": {
      "application/javascript": [
       "\n",
       "            setTimeout(function() {\n",
       "                var nbb_cell_id = 146;\n",
       "                var nbb_unformatted_code = \"plt.figure(figsize=(16, 6))\\nfor order, error in models_mae_errors.items():\\n    sns.distplot(error, label=order)\\n\\nplt.legend()\";\n",
       "                var nbb_formatted_code = \"plt.figure(figsize=(16, 6))\\nfor order, error in models_mae_errors.items():\\n    sns.distplot(error, label=order)\\n\\nplt.legend()\";\n",
       "                var nbb_cells = Jupyter.notebook.get_cells();\n",
       "                for (var i = 0; i < nbb_cells.length; ++i) {\n",
       "                    if (nbb_cells[i].input_prompt_number == nbb_cell_id) {\n",
       "                        if (nbb_cells[i].get_text() == nbb_unformatted_code) {\n",
       "                             nbb_cells[i].set_text(nbb_formatted_code);\n",
       "                        }\n",
       "                        break;\n",
       "                    }\n",
       "                }\n",
       "            }, 500);\n",
       "            "
      ],
      "text/plain": [
       "<IPython.core.display.Javascript object>"
      ]
     },
     "metadata": {},
     "output_type": "display_data"
    },
    {
     "data": {
      "application/javascript": [
       "\n",
       "            setTimeout(function() {\n",
       "                var nbb_cell_id = 146;\n",
       "                var nbb_unformatted_code = \"plt.figure(figsize=(16, 6))\\nfor order, error in models_mae_errors.items():\\n    sns.distplot(error, label=order)\\n\\nplt.legend()\";\n",
       "                var nbb_formatted_code = \"plt.figure(figsize=(16, 6))\\nfor order, error in models_mae_errors.items():\\n    sns.distplot(error, label=order)\\n\\nplt.legend()\";\n",
       "                var nbb_cells = Jupyter.notebook.get_cells();\n",
       "                for (var i = 0; i < nbb_cells.length; ++i) {\n",
       "                    if (nbb_cells[i].input_prompt_number == nbb_cell_id) {\n",
       "                        if (nbb_cells[i].get_text() == nbb_unformatted_code) {\n",
       "                             nbb_cells[i].set_text(nbb_formatted_code);\n",
       "                        }\n",
       "                        break;\n",
       "                    }\n",
       "                }\n",
       "            }, 500);\n",
       "            "
      ],
      "text/plain": [
       "<IPython.core.display.Javascript object>"
      ]
     },
     "metadata": {},
     "output_type": "display_data"
    }
   ],
   "source": [
    "plt.figure(figsize=(16, 6))\n",
    "for order, error in models_mae_errors.items():\n",
    "    sns.distplot(error, label=order)\n",
    "\n",
    "plt.legend()"
   ]
  },
  {
   "cell_type": "markdown",
   "metadata": {},
   "source": [
    "The red curve seems to be the most performing one when looking at the distribution of MAE for each model.\n",
    "\n",
    "Looking at the MAE is important too: the goal of the model could be to have the lowest error it total (and not by account). \n",
    "\n",
    "We can also look at the relative error, since a case might be better worse than the otehr. In my opinion underestimating the expenses is worse. The percentage of higher predictions might be an additional indicator of the performance of the models."
   ]
  },
  {
   "cell_type": "markdown",
   "metadata": {},
   "source": [
    "#### CONCLUSION : We keep ARIMA(0, 1, 1)"
   ]
  },
  {
   "cell_type": "markdown",
   "metadata": {},
   "source": [
    "Let us apply the model on the test set."
   ]
  },
  {
   "cell_type": "code",
   "execution_count": 147,
   "metadata": {},
   "outputs": [
    {
     "data": {
      "application/javascript": [
       "\n",
       "            setTimeout(function() {\n",
       "                var nbb_cell_id = 147;\n",
       "                var nbb_unformatted_code = \"test_mape_errors = {}\\ntest_mae_errors = {}\\n\\nfor account_id in df_test[\\\"account_id\\\"].unique():\\n    df_temp = df_test[df_test[\\\"account_id\\\"] == account_id]\\n    try:\\n        mape_error, mae_error = evaluate_arima_model(df=df_temp, arima_order=(0, 1, 1))\\n        add_prediction_to_dict(\\n            predictions_dict=test_mape_errors, key=f\\\"{(0, 1, 1)}\\\", val=mape_error\\n        )\\n        add_prediction_to_dict(\\n            predictions_dict=test_mae_errors, key=f\\\"{(0, 1, 1)}\\\", val=mae_error\\n        )\\n    except:\\n        continue\";\n",
       "                var nbb_formatted_code = \"test_mape_errors = {}\\ntest_mae_errors = {}\\n\\nfor account_id in df_test[\\\"account_id\\\"].unique():\\n    df_temp = df_test[df_test[\\\"account_id\\\"] == account_id]\\n    try:\\n        mape_error, mae_error = evaluate_arima_model(df=df_temp, arima_order=(0, 1, 1))\\n        add_prediction_to_dict(\\n            predictions_dict=test_mape_errors, key=f\\\"{(0, 1, 1)}\\\", val=mape_error\\n        )\\n        add_prediction_to_dict(\\n            predictions_dict=test_mae_errors, key=f\\\"{(0, 1, 1)}\\\", val=mae_error\\n        )\\n    except:\\n        continue\";\n",
       "                var nbb_cells = Jupyter.notebook.get_cells();\n",
       "                for (var i = 0; i < nbb_cells.length; ++i) {\n",
       "                    if (nbb_cells[i].input_prompt_number == nbb_cell_id) {\n",
       "                        if (nbb_cells[i].get_text() == nbb_unformatted_code) {\n",
       "                             nbb_cells[i].set_text(nbb_formatted_code);\n",
       "                        }\n",
       "                        break;\n",
       "                    }\n",
       "                }\n",
       "            }, 500);\n",
       "            "
      ],
      "text/plain": [
       "<IPython.core.display.Javascript object>"
      ]
     },
     "metadata": {},
     "output_type": "display_data"
    },
    {
     "data": {
      "application/javascript": [
       "\n",
       "            setTimeout(function() {\n",
       "                var nbb_cell_id = 147;\n",
       "                var nbb_unformatted_code = \"test_mape_errors = {}\\ntest_mae_errors = {}\\n\\nfor account_id in df_test[\\\"account_id\\\"].unique():\\n    df_temp = df_test[df_test[\\\"account_id\\\"] == account_id]\\n    try:\\n        mape_error, mae_error = evaluate_arima_model(df=df_temp, arima_order=(0, 1, 1))\\n        add_prediction_to_dict(\\n            predictions_dict=test_mape_errors, key=f\\\"{(0, 1, 1)}\\\", val=mape_error\\n        )\\n        add_prediction_to_dict(\\n            predictions_dict=test_mae_errors, key=f\\\"{(0, 1, 1)}\\\", val=mae_error\\n        )\\n    except:\\n        continue\";\n",
       "                var nbb_formatted_code = \"test_mape_errors = {}\\ntest_mae_errors = {}\\n\\nfor account_id in df_test[\\\"account_id\\\"].unique():\\n    df_temp = df_test[df_test[\\\"account_id\\\"] == account_id]\\n    try:\\n        mape_error, mae_error = evaluate_arima_model(df=df_temp, arima_order=(0, 1, 1))\\n        add_prediction_to_dict(\\n            predictions_dict=test_mape_errors, key=f\\\"{(0, 1, 1)}\\\", val=mape_error\\n        )\\n        add_prediction_to_dict(\\n            predictions_dict=test_mae_errors, key=f\\\"{(0, 1, 1)}\\\", val=mae_error\\n        )\\n    except:\\n        continue\";\n",
       "                var nbb_cells = Jupyter.notebook.get_cells();\n",
       "                for (var i = 0; i < nbb_cells.length; ++i) {\n",
       "                    if (nbb_cells[i].input_prompt_number == nbb_cell_id) {\n",
       "                        if (nbb_cells[i].get_text() == nbb_unformatted_code) {\n",
       "                             nbb_cells[i].set_text(nbb_formatted_code);\n",
       "                        }\n",
       "                        break;\n",
       "                    }\n",
       "                }\n",
       "            }, 500);\n",
       "            "
      ],
      "text/plain": [
       "<IPython.core.display.Javascript object>"
      ]
     },
     "metadata": {},
     "output_type": "display_data"
    },
    {
     "data": {
      "application/javascript": [
       "\n",
       "            setTimeout(function() {\n",
       "                var nbb_cell_id = 147;\n",
       "                var nbb_unformatted_code = \"test_mape_errors = {}\\ntest_mae_errors = {}\\n\\nfor account_id in df_test[\\\"account_id\\\"].unique():\\n    df_temp = df_test[df_test[\\\"account_id\\\"] == account_id]\\n    try:\\n        mape_error, mae_error = evaluate_arima_model(df=df_temp, arima_order=(0, 1, 1))\\n        add_prediction_to_dict(\\n            predictions_dict=test_mape_errors, key=f\\\"{(0, 1, 1)}\\\", val=mape_error\\n        )\\n        add_prediction_to_dict(\\n            predictions_dict=test_mae_errors, key=f\\\"{(0, 1, 1)}\\\", val=mae_error\\n        )\\n    except:\\n        continue\";\n",
       "                var nbb_formatted_code = \"test_mape_errors = {}\\ntest_mae_errors = {}\\n\\nfor account_id in df_test[\\\"account_id\\\"].unique():\\n    df_temp = df_test[df_test[\\\"account_id\\\"] == account_id]\\n    try:\\n        mape_error, mae_error = evaluate_arima_model(df=df_temp, arima_order=(0, 1, 1))\\n        add_prediction_to_dict(\\n            predictions_dict=test_mape_errors, key=f\\\"{(0, 1, 1)}\\\", val=mape_error\\n        )\\n        add_prediction_to_dict(\\n            predictions_dict=test_mae_errors, key=f\\\"{(0, 1, 1)}\\\", val=mae_error\\n        )\\n    except:\\n        continue\";\n",
       "                var nbb_cells = Jupyter.notebook.get_cells();\n",
       "                for (var i = 0; i < nbb_cells.length; ++i) {\n",
       "                    if (nbb_cells[i].input_prompt_number == nbb_cell_id) {\n",
       "                        if (nbb_cells[i].get_text() == nbb_unformatted_code) {\n",
       "                             nbb_cells[i].set_text(nbb_formatted_code);\n",
       "                        }\n",
       "                        break;\n",
       "                    }\n",
       "                }\n",
       "            }, 500);\n",
       "            "
      ],
      "text/plain": [
       "<IPython.core.display.Javascript object>"
      ]
     },
     "metadata": {},
     "output_type": "display_data"
    }
   ],
   "source": [
    "test_mape_errors = {}\n",
    "test_mae_errors = {}\n",
    "\n",
    "for account_id in df_test[\"account_id\"].unique():\n",
    "    df_temp = df_test[df_test[\"account_id\"] == account_id]\n",
    "    try:\n",
    "        mape_error, mae_error = evaluate_arima_model(df=df_temp, arima_order=(0, 1, 1))\n",
    "        add_prediction_to_dict(\n",
    "            predictions_dict=test_mape_errors, key=f\"{(0, 1, 1)}\", val=mape_error\n",
    "        )\n",
    "        add_prediction_to_dict(\n",
    "            predictions_dict=test_mae_errors, key=f\"{(0, 1, 1)}\", val=mae_error\n",
    "        )\n",
    "    except:\n",
    "        continue"
   ]
  },
  {
   "cell_type": "code",
   "execution_count": 151,
   "metadata": {},
   "outputs": [
    {
     "data": {
      "text/plain": [
       "{'(0, 1, 1)': [336.14098731792734,\n",
       "  153.6175074125006,\n",
       "  2382.9750233187497,\n",
       "  153.7547557671951,\n",
       "  371.37884551430466,\n",
       "  237.44304590069527,\n",
       "  420.38756094932035,\n",
       "  190.81144651558938,\n",
       "  451.0097457165651,\n",
       "  334.6183839067951,\n",
       "  171.52652786207162,\n",
       "  391.58013624404686,\n",
       "  117.56720338079766,\n",
       "  298.13606416321124,\n",
       "  200.64030535420918,\n",
       "  301.4255232866706,\n",
       "  126.53187941008416,\n",
       "  507.89522450794084,\n",
       "  1019.1259780844498,\n",
       "  1125.454274940196,\n",
       "  652.3693777033931,\n",
       "  54.27263286573272,\n",
       "  437.5738972300412,\n",
       "  223.64221543972678,\n",
       "  614.7569621602685,\n",
       "  667.823851442396,\n",
       "  304.2546955640534]}"
      ]
     },
     "execution_count": 151,
     "metadata": {},
     "output_type": "execute_result"
    },
    {
     "data": {
      "application/javascript": [
       "\n",
       "            setTimeout(function() {\n",
       "                var nbb_cell_id = 151;\n",
       "                var nbb_unformatted_code = \"test_mae_errors\";\n",
       "                var nbb_formatted_code = \"test_mae_errors\";\n",
       "                var nbb_cells = Jupyter.notebook.get_cells();\n",
       "                for (var i = 0; i < nbb_cells.length; ++i) {\n",
       "                    if (nbb_cells[i].input_prompt_number == nbb_cell_id) {\n",
       "                        if (nbb_cells[i].get_text() == nbb_unformatted_code) {\n",
       "                             nbb_cells[i].set_text(nbb_formatted_code);\n",
       "                        }\n",
       "                        break;\n",
       "                    }\n",
       "                }\n",
       "            }, 500);\n",
       "            "
      ],
      "text/plain": [
       "<IPython.core.display.Javascript object>"
      ]
     },
     "metadata": {},
     "output_type": "display_data"
    },
    {
     "data": {
      "application/javascript": [
       "\n",
       "            setTimeout(function() {\n",
       "                var nbb_cell_id = 151;\n",
       "                var nbb_unformatted_code = \"test_mae_errors\";\n",
       "                var nbb_formatted_code = \"test_mae_errors\";\n",
       "                var nbb_cells = Jupyter.notebook.get_cells();\n",
       "                for (var i = 0; i < nbb_cells.length; ++i) {\n",
       "                    if (nbb_cells[i].input_prompt_number == nbb_cell_id) {\n",
       "                        if (nbb_cells[i].get_text() == nbb_unformatted_code) {\n",
       "                             nbb_cells[i].set_text(nbb_formatted_code);\n",
       "                        }\n",
       "                        break;\n",
       "                    }\n",
       "                }\n",
       "            }, 500);\n",
       "            "
      ],
      "text/plain": [
       "<IPython.core.display.Javascript object>"
      ]
     },
     "metadata": {},
     "output_type": "display_data"
    },
    {
     "data": {
      "application/javascript": [
       "\n",
       "            setTimeout(function() {\n",
       "                var nbb_cell_id = 151;\n",
       "                var nbb_unformatted_code = \"test_mae_errors\";\n",
       "                var nbb_formatted_code = \"test_mae_errors\";\n",
       "                var nbb_cells = Jupyter.notebook.get_cells();\n",
       "                for (var i = 0; i < nbb_cells.length; ++i) {\n",
       "                    if (nbb_cells[i].input_prompt_number == nbb_cell_id) {\n",
       "                        if (nbb_cells[i].get_text() == nbb_unformatted_code) {\n",
       "                             nbb_cells[i].set_text(nbb_formatted_code);\n",
       "                        }\n",
       "                        break;\n",
       "                    }\n",
       "                }\n",
       "            }, 500);\n",
       "            "
      ],
      "text/plain": [
       "<IPython.core.display.Javascript object>"
      ]
     },
     "metadata": {},
     "output_type": "display_data"
    }
   ],
   "source": [
    "test_mae_errors"
   ]
  },
  {
   "cell_type": "code",
   "execution_count": null,
   "metadata": {},
   "outputs": [],
   "source": []
  },
  {
   "cell_type": "code",
   "execution_count": 152,
   "metadata": {},
   "outputs": [
    {
     "data": {
      "text/html": [
       "<div>\n",
       "<style scoped>\n",
       "    .dataframe tbody tr th:only-of-type {\n",
       "        vertical-align: middle;\n",
       "    }\n",
       "\n",
       "    .dataframe tbody tr th {\n",
       "        vertical-align: top;\n",
       "    }\n",
       "\n",
       "    .dataframe thead th {\n",
       "        text-align: right;\n",
       "    }\n",
       "</style>\n",
       "<table border=\"1\" class=\"dataframe\">\n",
       "  <thead>\n",
       "    <tr style=\"text-align: right;\">\n",
       "      <th></th>\n",
       "      <th>quantiles_(0, 1, 1)</th>\n",
       "    </tr>\n",
       "  </thead>\n",
       "  <tbody>\n",
       "    <tr>\n",
       "      <th>0.05</th>\n",
       "      <td>120.256606</td>\n",
       "    </tr>\n",
       "    <tr>\n",
       "      <th>0.10</th>\n",
       "      <td>142.783256</td>\n",
       "    </tr>\n",
       "    <tr>\n",
       "      <th>0.15</th>\n",
       "      <td>153.741031</td>\n",
       "    </tr>\n",
       "    <tr>\n",
       "      <th>0.20</th>\n",
       "      <td>175.383512</td>\n",
       "    </tr>\n",
       "    <tr>\n",
       "      <th>0.25</th>\n",
       "      <td>195.725876</td>\n",
       "    </tr>\n",
       "    <tr>\n",
       "      <th>0.30</th>\n",
       "      <td>219.041833</td>\n",
       "    </tr>\n",
       "    <tr>\n",
       "      <th>0.35</th>\n",
       "      <td>243.512348</td>\n",
       "    </tr>\n",
       "    <tr>\n",
       "      <th>0.40</th>\n",
       "      <td>299.451848</td>\n",
       "    </tr>\n",
       "    <tr>\n",
       "      <th>0.45</th>\n",
       "      <td>303.405944</td>\n",
       "    </tr>\n",
       "    <tr>\n",
       "      <th>0.50</th>\n",
       "      <td>334.618384</td>\n",
       "    </tr>\n",
       "    <tr>\n",
       "      <th>0.55</th>\n",
       "      <td>346.712345</td>\n",
       "    </tr>\n",
       "    <tr>\n",
       "      <th>0.60</th>\n",
       "      <td>383.499620</td>\n",
       "    </tr>\n",
       "    <tr>\n",
       "      <th>0.65</th>\n",
       "      <td>417.506818</td>\n",
       "    </tr>\n",
       "    <tr>\n",
       "      <th>0.70</th>\n",
       "      <td>440.261067</td>\n",
       "    </tr>\n",
       "    <tr>\n",
       "      <th>0.75</th>\n",
       "      <td>479.452485</td>\n",
       "    </tr>\n",
       "    <tr>\n",
       "      <th>0.80</th>\n",
       "      <td>593.384615</td>\n",
       "    </tr>\n",
       "    <tr>\n",
       "      <th>0.85</th>\n",
       "      <td>653.914825</td>\n",
       "    </tr>\n",
       "    <tr>\n",
       "      <th>0.90</th>\n",
       "      <td>808.344702</td>\n",
       "    </tr>\n",
       "    <tr>\n",
       "      <th>0.95</th>\n",
       "      <td>1093.555786</td>\n",
       "    </tr>\n",
       "  </tbody>\n",
       "</table>\n",
       "</div>"
      ],
      "text/plain": [
       "      quantiles_(0, 1, 1)\n",
       "0.05           120.256606\n",
       "0.10           142.783256\n",
       "0.15           153.741031\n",
       "0.20           175.383512\n",
       "0.25           195.725876\n",
       "0.30           219.041833\n",
       "0.35           243.512348\n",
       "0.40           299.451848\n",
       "0.45           303.405944\n",
       "0.50           334.618384\n",
       "0.55           346.712345\n",
       "0.60           383.499620\n",
       "0.65           417.506818\n",
       "0.70           440.261067\n",
       "0.75           479.452485\n",
       "0.80           593.384615\n",
       "0.85           653.914825\n",
       "0.90           808.344702\n",
       "0.95          1093.555786"
      ]
     },
     "execution_count": 152,
     "metadata": {},
     "output_type": "execute_result"
    },
    {
     "data": {
      "application/javascript": [
       "\n",
       "            setTimeout(function() {\n",
       "                var nbb_cell_id = 152;\n",
       "                var nbb_unformatted_code = \"# MAE errors\\n\\ncompute_error_quantiles(\\n    errors=test_mae_errors['(0, 1, 1)'], quantiles=QUANTILES, order=f\\\"{(0, 1, 1)}\\\"\\n)\";\n",
       "                var nbb_formatted_code = \"# MAE errors\\n\\ncompute_error_quantiles(\\n    errors=test_mae_errors[\\\"(0, 1, 1)\\\"], quantiles=QUANTILES, order=f\\\"{(0, 1, 1)}\\\"\\n)\";\n",
       "                var nbb_cells = Jupyter.notebook.get_cells();\n",
       "                for (var i = 0; i < nbb_cells.length; ++i) {\n",
       "                    if (nbb_cells[i].input_prompt_number == nbb_cell_id) {\n",
       "                        if (nbb_cells[i].get_text() == nbb_unformatted_code) {\n",
       "                             nbb_cells[i].set_text(nbb_formatted_code);\n",
       "                        }\n",
       "                        break;\n",
       "                    }\n",
       "                }\n",
       "            }, 500);\n",
       "            "
      ],
      "text/plain": [
       "<IPython.core.display.Javascript object>"
      ]
     },
     "metadata": {},
     "output_type": "display_data"
    },
    {
     "data": {
      "application/javascript": [
       "\n",
       "            setTimeout(function() {\n",
       "                var nbb_cell_id = 152;\n",
       "                var nbb_unformatted_code = \"# MAE errors\\n\\ncompute_error_quantiles(\\n    errors=test_mae_errors['(0, 1, 1)'], quantiles=QUANTILES, order=f\\\"{(0, 1, 1)}\\\"\\n)\";\n",
       "                var nbb_formatted_code = \"# MAE errors\\n\\ncompute_error_quantiles(\\n    errors=test_mae_errors[\\\"(0, 1, 1)\\\"], quantiles=QUANTILES, order=f\\\"{(0, 1, 1)}\\\"\\n)\";\n",
       "                var nbb_cells = Jupyter.notebook.get_cells();\n",
       "                for (var i = 0; i < nbb_cells.length; ++i) {\n",
       "                    if (nbb_cells[i].input_prompt_number == nbb_cell_id) {\n",
       "                        if (nbb_cells[i].get_text() == nbb_unformatted_code) {\n",
       "                             nbb_cells[i].set_text(nbb_formatted_code);\n",
       "                        }\n",
       "                        break;\n",
       "                    }\n",
       "                }\n",
       "            }, 500);\n",
       "            "
      ],
      "text/plain": [
       "<IPython.core.display.Javascript object>"
      ]
     },
     "metadata": {},
     "output_type": "display_data"
    },
    {
     "data": {
      "application/javascript": [
       "\n",
       "            setTimeout(function() {\n",
       "                var nbb_cell_id = 152;\n",
       "                var nbb_unformatted_code = \"# MAE errors\\n\\ncompute_error_quantiles(\\n    errors=test_mae_errors['(0, 1, 1)'], quantiles=QUANTILES, order=f\\\"{(0, 1, 1)}\\\"\\n)\";\n",
       "                var nbb_formatted_code = \"# MAE errors\\n\\ncompute_error_quantiles(\\n    errors=test_mae_errors[\\\"(0, 1, 1)\\\"], quantiles=QUANTILES, order=f\\\"{(0, 1, 1)}\\\"\\n)\";\n",
       "                var nbb_cells = Jupyter.notebook.get_cells();\n",
       "                for (var i = 0; i < nbb_cells.length; ++i) {\n",
       "                    if (nbb_cells[i].input_prompt_number == nbb_cell_id) {\n",
       "                        if (nbb_cells[i].get_text() == nbb_unformatted_code) {\n",
       "                             nbb_cells[i].set_text(nbb_formatted_code);\n",
       "                        }\n",
       "                        break;\n",
       "                    }\n",
       "                }\n",
       "            }, 500);\n",
       "            "
      ],
      "text/plain": [
       "<IPython.core.display.Javascript object>"
      ]
     },
     "metadata": {},
     "output_type": "display_data"
    }
   ],
   "source": [
    "# MAE errors\n",
    "\n",
    "compute_error_quantiles(\n",
    "    errors=test_mae_errors['(0, 1, 1)'], quantiles=QUANTILES, order=f\"{(0, 1, 1)}\"\n",
    ")\n"
   ]
  },
  {
   "cell_type": "code",
   "execution_count": 154,
   "metadata": {},
   "outputs": [
    {
     "data": {
      "text/html": [
       "<div>\n",
       "<style scoped>\n",
       "    .dataframe tbody tr th:only-of-type {\n",
       "        vertical-align: middle;\n",
       "    }\n",
       "\n",
       "    .dataframe tbody tr th {\n",
       "        vertical-align: top;\n",
       "    }\n",
       "\n",
       "    .dataframe thead th {\n",
       "        text-align: right;\n",
       "    }\n",
       "</style>\n",
       "<table border=\"1\" class=\"dataframe\">\n",
       "  <thead>\n",
       "    <tr style=\"text-align: right;\">\n",
       "      <th></th>\n",
       "      <th>quantiles_(0, 1, 1)</th>\n",
       "    </tr>\n",
       "  </thead>\n",
       "  <tbody>\n",
       "    <tr>\n",
       "      <th>0.05</th>\n",
       "      <td>120.256606</td>\n",
       "    </tr>\n",
       "    <tr>\n",
       "      <th>0.10</th>\n",
       "      <td>142.783256</td>\n",
       "    </tr>\n",
       "    <tr>\n",
       "      <th>0.15</th>\n",
       "      <td>153.741031</td>\n",
       "    </tr>\n",
       "    <tr>\n",
       "      <th>0.20</th>\n",
       "      <td>175.383512</td>\n",
       "    </tr>\n",
       "    <tr>\n",
       "      <th>0.25</th>\n",
       "      <td>195.725876</td>\n",
       "    </tr>\n",
       "    <tr>\n",
       "      <th>0.30</th>\n",
       "      <td>219.041833</td>\n",
       "    </tr>\n",
       "    <tr>\n",
       "      <th>0.35</th>\n",
       "      <td>243.512348</td>\n",
       "    </tr>\n",
       "    <tr>\n",
       "      <th>0.40</th>\n",
       "      <td>299.451848</td>\n",
       "    </tr>\n",
       "    <tr>\n",
       "      <th>0.45</th>\n",
       "      <td>303.405944</td>\n",
       "    </tr>\n",
       "    <tr>\n",
       "      <th>0.50</th>\n",
       "      <td>334.618384</td>\n",
       "    </tr>\n",
       "    <tr>\n",
       "      <th>0.55</th>\n",
       "      <td>346.712345</td>\n",
       "    </tr>\n",
       "    <tr>\n",
       "      <th>0.60</th>\n",
       "      <td>383.499620</td>\n",
       "    </tr>\n",
       "    <tr>\n",
       "      <th>0.65</th>\n",
       "      <td>417.506818</td>\n",
       "    </tr>\n",
       "    <tr>\n",
       "      <th>0.70</th>\n",
       "      <td>440.261067</td>\n",
       "    </tr>\n",
       "    <tr>\n",
       "      <th>0.75</th>\n",
       "      <td>479.452485</td>\n",
       "    </tr>\n",
       "    <tr>\n",
       "      <th>0.80</th>\n",
       "      <td>593.384615</td>\n",
       "    </tr>\n",
       "    <tr>\n",
       "      <th>0.85</th>\n",
       "      <td>653.914825</td>\n",
       "    </tr>\n",
       "    <tr>\n",
       "      <th>0.90</th>\n",
       "      <td>808.344702</td>\n",
       "    </tr>\n",
       "    <tr>\n",
       "      <th>0.95</th>\n",
       "      <td>1093.555786</td>\n",
       "    </tr>\n",
       "  </tbody>\n",
       "</table>\n",
       "</div>"
      ],
      "text/plain": [
       "      quantiles_(0, 1, 1)\n",
       "0.05           120.256606\n",
       "0.10           142.783256\n",
       "0.15           153.741031\n",
       "0.20           175.383512\n",
       "0.25           195.725876\n",
       "0.30           219.041833\n",
       "0.35           243.512348\n",
       "0.40           299.451848\n",
       "0.45           303.405944\n",
       "0.50           334.618384\n",
       "0.55           346.712345\n",
       "0.60           383.499620\n",
       "0.65           417.506818\n",
       "0.70           440.261067\n",
       "0.75           479.452485\n",
       "0.80           593.384615\n",
       "0.85           653.914825\n",
       "0.90           808.344702\n",
       "0.95          1093.555786"
      ]
     },
     "execution_count": 154,
     "metadata": {},
     "output_type": "execute_result"
    },
    {
     "data": {
      "application/javascript": [
       "\n",
       "            setTimeout(function() {\n",
       "                var nbb_cell_id = 154;\n",
       "                var nbb_unformatted_code = \"# MAPE errors\\n\\ncompute_error_quantiles(\\n    errors=[x for x in test_mae_errors['(0, 1, 1)'] if x == x], quantiles=QUANTILES, order=f\\\"{(0, 1, 1)}\\\"\\n)\";\n",
       "                var nbb_formatted_code = \"# MAPE errors\\n\\ncompute_error_quantiles(\\n    errors=[x for x in test_mae_errors[\\\"(0, 1, 1)\\\"] if x == x],\\n    quantiles=QUANTILES,\\n    order=f\\\"{(0, 1, 1)}\\\",\\n)\";\n",
       "                var nbb_cells = Jupyter.notebook.get_cells();\n",
       "                for (var i = 0; i < nbb_cells.length; ++i) {\n",
       "                    if (nbb_cells[i].input_prompt_number == nbb_cell_id) {\n",
       "                        if (nbb_cells[i].get_text() == nbb_unformatted_code) {\n",
       "                             nbb_cells[i].set_text(nbb_formatted_code);\n",
       "                        }\n",
       "                        break;\n",
       "                    }\n",
       "                }\n",
       "            }, 500);\n",
       "            "
      ],
      "text/plain": [
       "<IPython.core.display.Javascript object>"
      ]
     },
     "metadata": {},
     "output_type": "display_data"
    },
    {
     "data": {
      "application/javascript": [
       "\n",
       "            setTimeout(function() {\n",
       "                var nbb_cell_id = 154;\n",
       "                var nbb_unformatted_code = \"# MAPE errors\\n\\ncompute_error_quantiles(\\n    errors=[x for x in test_mae_errors['(0, 1, 1)'] if x == x], quantiles=QUANTILES, order=f\\\"{(0, 1, 1)}\\\"\\n)\";\n",
       "                var nbb_formatted_code = \"# MAPE errors\\n\\ncompute_error_quantiles(\\n    errors=[x for x in test_mae_errors[\\\"(0, 1, 1)\\\"] if x == x],\\n    quantiles=QUANTILES,\\n    order=f\\\"{(0, 1, 1)}\\\",\\n)\";\n",
       "                var nbb_cells = Jupyter.notebook.get_cells();\n",
       "                for (var i = 0; i < nbb_cells.length; ++i) {\n",
       "                    if (nbb_cells[i].input_prompt_number == nbb_cell_id) {\n",
       "                        if (nbb_cells[i].get_text() == nbb_unformatted_code) {\n",
       "                             nbb_cells[i].set_text(nbb_formatted_code);\n",
       "                        }\n",
       "                        break;\n",
       "                    }\n",
       "                }\n",
       "            }, 500);\n",
       "            "
      ],
      "text/plain": [
       "<IPython.core.display.Javascript object>"
      ]
     },
     "metadata": {},
     "output_type": "display_data"
    },
    {
     "data": {
      "application/javascript": [
       "\n",
       "            setTimeout(function() {\n",
       "                var nbb_cell_id = 154;\n",
       "                var nbb_unformatted_code = \"# MAPE errors\\n\\ncompute_error_quantiles(\\n    errors=[x for x in test_mae_errors['(0, 1, 1)'] if x == x], quantiles=QUANTILES, order=f\\\"{(0, 1, 1)}\\\"\\n)\";\n",
       "                var nbb_formatted_code = \"# MAPE errors\\n\\ncompute_error_quantiles(\\n    errors=[x for x in test_mae_errors[\\\"(0, 1, 1)\\\"] if x == x],\\n    quantiles=QUANTILES,\\n    order=f\\\"{(0, 1, 1)}\\\",\\n)\";\n",
       "                var nbb_cells = Jupyter.notebook.get_cells();\n",
       "                for (var i = 0; i < nbb_cells.length; ++i) {\n",
       "                    if (nbb_cells[i].input_prompt_number == nbb_cell_id) {\n",
       "                        if (nbb_cells[i].get_text() == nbb_unformatted_code) {\n",
       "                             nbb_cells[i].set_text(nbb_formatted_code);\n",
       "                        }\n",
       "                        break;\n",
       "                    }\n",
       "                }\n",
       "            }, 500);\n",
       "            "
      ],
      "text/plain": [
       "<IPython.core.display.Javascript object>"
      ]
     },
     "metadata": {},
     "output_type": "display_data"
    }
   ],
   "source": [
    "# MAPE errors\n",
    "\n",
    "compute_error_quantiles(\n",
    "    errors=[x for x in test_mae_errors['(0, 1, 1)'] if x == x], quantiles=QUANTILES, order=f\"{(0, 1, 1)}\"\n",
    ")\n"
   ]
  },
  {
   "cell_type": "code",
   "execution_count": null,
   "metadata": {},
   "outputs": [],
   "source": []
  }
 ],
 "metadata": {
  "kernelspec": {
   "display_name": "Python 3",
   "language": "python",
   "name": "python3"
  },
  "language_info": {
   "codemirror_mode": {
    "name": "ipython",
    "version": 3
   },
   "file_extension": ".py",
   "mimetype": "text/x-python",
   "name": "python",
   "nbconvert_exporter": "python",
   "pygments_lexer": "ipython3",
   "version": "3.8.2"
  }
 },
 "nbformat": 4,
 "nbformat_minor": 4
}

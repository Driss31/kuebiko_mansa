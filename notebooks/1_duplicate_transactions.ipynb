{
 "cells": [
  {
   "cell_type": "code",
   "execution_count": 60,
   "metadata": {},
   "outputs": [
    {
     "data": {
      "application/javascript": [
       "\n",
       "            setTimeout(function() {\n",
       "                var nbb_cell_id = 60;\n",
       "                var nbb_unformatted_code = \"%reload_ext nb_black\";\n",
       "                var nbb_formatted_code = \"%reload_ext nb_black\";\n",
       "                var nbb_cells = Jupyter.notebook.get_cells();\n",
       "                for (var i = 0; i < nbb_cells.length; ++i) {\n",
       "                    if (nbb_cells[i].input_prompt_number == nbb_cell_id) {\n",
       "                        if (nbb_cells[i].get_text() == nbb_unformatted_code) {\n",
       "                             nbb_cells[i].set_text(nbb_formatted_code);\n",
       "                        }\n",
       "                        break;\n",
       "                    }\n",
       "                }\n",
       "            }, 500);\n",
       "            "
      ],
      "text/plain": [
       "<IPython.core.display.Javascript object>"
      ]
     },
     "metadata": {},
     "output_type": "display_data"
    },
    {
     "data": {
      "application/javascript": [
       "\n",
       "            setTimeout(function() {\n",
       "                var nbb_cell_id = 60;\n",
       "                var nbb_unformatted_code = \"%reload_ext nb_black\";\n",
       "                var nbb_formatted_code = \"%reload_ext nb_black\";\n",
       "                var nbb_cells = Jupyter.notebook.get_cells();\n",
       "                for (var i = 0; i < nbb_cells.length; ++i) {\n",
       "                    if (nbb_cells[i].input_prompt_number == nbb_cell_id) {\n",
       "                        if (nbb_cells[i].get_text() == nbb_unformatted_code) {\n",
       "                             nbb_cells[i].set_text(nbb_formatted_code);\n",
       "                        }\n",
       "                        break;\n",
       "                    }\n",
       "                }\n",
       "            }, 500);\n",
       "            "
      ],
      "text/plain": [
       "<IPython.core.display.Javascript object>"
      ]
     },
     "metadata": {},
     "output_type": "display_data"
    },
    {
     "data": {
      "application/javascript": [
       "\n",
       "            setTimeout(function() {\n",
       "                var nbb_cell_id = 60;\n",
       "                var nbb_unformatted_code = \"%reload_ext nb_black\";\n",
       "                var nbb_formatted_code = \"%reload_ext nb_black\";\n",
       "                var nbb_cells = Jupyter.notebook.get_cells();\n",
       "                for (var i = 0; i < nbb_cells.length; ++i) {\n",
       "                    if (nbb_cells[i].input_prompt_number == nbb_cell_id) {\n",
       "                        if (nbb_cells[i].get_text() == nbb_unformatted_code) {\n",
       "                             nbb_cells[i].set_text(nbb_formatted_code);\n",
       "                        }\n",
       "                        break;\n",
       "                    }\n",
       "                }\n",
       "            }, 500);\n",
       "            "
      ],
      "text/plain": [
       "<IPython.core.display.Javascript object>"
      ]
     },
     "metadata": {},
     "output_type": "display_data"
    }
   ],
   "source": [
    "%reload_ext nb_black"
   ]
  },
  {
   "cell_type": "code",
   "execution_count": 61,
   "metadata": {},
   "outputs": [
    {
     "data": {
      "application/javascript": [
       "\n",
       "            setTimeout(function() {\n",
       "                var nbb_cell_id = 61;\n",
       "                var nbb_unformatted_code = \"import pandas as pd\\n\\npd.set_option(\\\"display.max_rows\\\", 500)\\n\\nimport matplotlib.pyplot as plt\\nimport seaborn as sns\\n\\nsns.set()\";\n",
       "                var nbb_formatted_code = \"import pandas as pd\\n\\npd.set_option(\\\"display.max_rows\\\", 500)\\n\\nimport matplotlib.pyplot as plt\\nimport seaborn as sns\\n\\nsns.set()\";\n",
       "                var nbb_cells = Jupyter.notebook.get_cells();\n",
       "                for (var i = 0; i < nbb_cells.length; ++i) {\n",
       "                    if (nbb_cells[i].input_prompt_number == nbb_cell_id) {\n",
       "                        if (nbb_cells[i].get_text() == nbb_unformatted_code) {\n",
       "                             nbb_cells[i].set_text(nbb_formatted_code);\n",
       "                        }\n",
       "                        break;\n",
       "                    }\n",
       "                }\n",
       "            }, 500);\n",
       "            "
      ],
      "text/plain": [
       "<IPython.core.display.Javascript object>"
      ]
     },
     "metadata": {},
     "output_type": "display_data"
    },
    {
     "data": {
      "application/javascript": [
       "\n",
       "            setTimeout(function() {\n",
       "                var nbb_cell_id = 61;\n",
       "                var nbb_unformatted_code = \"import pandas as pd\\n\\npd.set_option(\\\"display.max_rows\\\", 500)\\n\\nimport matplotlib.pyplot as plt\\nimport seaborn as sns\\n\\nsns.set()\";\n",
       "                var nbb_formatted_code = \"import pandas as pd\\n\\npd.set_option(\\\"display.max_rows\\\", 500)\\n\\nimport matplotlib.pyplot as plt\\nimport seaborn as sns\\n\\nsns.set()\";\n",
       "                var nbb_cells = Jupyter.notebook.get_cells();\n",
       "                for (var i = 0; i < nbb_cells.length; ++i) {\n",
       "                    if (nbb_cells[i].input_prompt_number == nbb_cell_id) {\n",
       "                        if (nbb_cells[i].get_text() == nbb_unformatted_code) {\n",
       "                             nbb_cells[i].set_text(nbb_formatted_code);\n",
       "                        }\n",
       "                        break;\n",
       "                    }\n",
       "                }\n",
       "            }, 500);\n",
       "            "
      ],
      "text/plain": [
       "<IPython.core.display.Javascript object>"
      ]
     },
     "metadata": {},
     "output_type": "display_data"
    },
    {
     "data": {
      "application/javascript": [
       "\n",
       "            setTimeout(function() {\n",
       "                var nbb_cell_id = 61;\n",
       "                var nbb_unformatted_code = \"import pandas as pd\\n\\npd.set_option(\\\"display.max_rows\\\", 500)\\n\\nimport matplotlib.pyplot as plt\\nimport seaborn as sns\\n\\nsns.set()\";\n",
       "                var nbb_formatted_code = \"import pandas as pd\\n\\npd.set_option(\\\"display.max_rows\\\", 500)\\n\\nimport matplotlib.pyplot as plt\\nimport seaborn as sns\\n\\nsns.set()\";\n",
       "                var nbb_cells = Jupyter.notebook.get_cells();\n",
       "                for (var i = 0; i < nbb_cells.length; ++i) {\n",
       "                    if (nbb_cells[i].input_prompt_number == nbb_cell_id) {\n",
       "                        if (nbb_cells[i].get_text() == nbb_unformatted_code) {\n",
       "                             nbb_cells[i].set_text(nbb_formatted_code);\n",
       "                        }\n",
       "                        break;\n",
       "                    }\n",
       "                }\n",
       "            }, 500);\n",
       "            "
      ],
      "text/plain": [
       "<IPython.core.display.Javascript object>"
      ]
     },
     "metadata": {},
     "output_type": "display_data"
    }
   ],
   "source": [
    "import pandas as pd\n",
    "\n",
    "pd.set_option(\"display.max_rows\", 500)\n",
    "\n",
    "import matplotlib.pyplot as plt\n",
    "import seaborn as sns\n",
    "\n",
    "sns.set()"
   ]
  },
  {
   "cell_type": "markdown",
   "metadata": {},
   "source": [
    "### Read filtered data"
   ]
  },
  {
   "cell_type": "code",
   "execution_count": 62,
   "metadata": {},
   "outputs": [
    {
     "data": {
      "application/javascript": [
       "\n",
       "            setTimeout(function() {\n",
       "                var nbb_cell_id = 62;\n",
       "                var nbb_unformatted_code = \"df_accounts = pd.read_csv(\\n    \\\"../data/accounts_enough_history.csv\\\", parse_dates=[\\\"update_date\\\"]\\n)\\ndf_transactions = pd.read_csv(\\n    \\\"../data/transactions_enough_history.csv\\\", parse_dates=[\\\"date\\\"]\\n)\";\n",
       "                var nbb_formatted_code = \"df_accounts = pd.read_csv(\\n    \\\"../data/accounts_enough_history.csv\\\", parse_dates=[\\\"update_date\\\"]\\n)\\ndf_transactions = pd.read_csv(\\n    \\\"../data/transactions_enough_history.csv\\\", parse_dates=[\\\"date\\\"]\\n)\";\n",
       "                var nbb_cells = Jupyter.notebook.get_cells();\n",
       "                for (var i = 0; i < nbb_cells.length; ++i) {\n",
       "                    if (nbb_cells[i].input_prompt_number == nbb_cell_id) {\n",
       "                        if (nbb_cells[i].get_text() == nbb_unformatted_code) {\n",
       "                             nbb_cells[i].set_text(nbb_formatted_code);\n",
       "                        }\n",
       "                        break;\n",
       "                    }\n",
       "                }\n",
       "            }, 500);\n",
       "            "
      ],
      "text/plain": [
       "<IPython.core.display.Javascript object>"
      ]
     },
     "metadata": {},
     "output_type": "display_data"
    },
    {
     "data": {
      "application/javascript": [
       "\n",
       "            setTimeout(function() {\n",
       "                var nbb_cell_id = 62;\n",
       "                var nbb_unformatted_code = \"df_accounts = pd.read_csv(\\n    \\\"../data/accounts_enough_history.csv\\\", parse_dates=[\\\"update_date\\\"]\\n)\\ndf_transactions = pd.read_csv(\\n    \\\"../data/transactions_enough_history.csv\\\", parse_dates=[\\\"date\\\"]\\n)\";\n",
       "                var nbb_formatted_code = \"df_accounts = pd.read_csv(\\n    \\\"../data/accounts_enough_history.csv\\\", parse_dates=[\\\"update_date\\\"]\\n)\\ndf_transactions = pd.read_csv(\\n    \\\"../data/transactions_enough_history.csv\\\", parse_dates=[\\\"date\\\"]\\n)\";\n",
       "                var nbb_cells = Jupyter.notebook.get_cells();\n",
       "                for (var i = 0; i < nbb_cells.length; ++i) {\n",
       "                    if (nbb_cells[i].input_prompt_number == nbb_cell_id) {\n",
       "                        if (nbb_cells[i].get_text() == nbb_unformatted_code) {\n",
       "                             nbb_cells[i].set_text(nbb_formatted_code);\n",
       "                        }\n",
       "                        break;\n",
       "                    }\n",
       "                }\n",
       "            }, 500);\n",
       "            "
      ],
      "text/plain": [
       "<IPython.core.display.Javascript object>"
      ]
     },
     "metadata": {},
     "output_type": "display_data"
    },
    {
     "data": {
      "application/javascript": [
       "\n",
       "            setTimeout(function() {\n",
       "                var nbb_cell_id = 62;\n",
       "                var nbb_unformatted_code = \"df_accounts = pd.read_csv(\\n    \\\"../data/accounts_enough_history.csv\\\", parse_dates=[\\\"update_date\\\"]\\n)\\ndf_transactions = pd.read_csv(\\n    \\\"../data/transactions_enough_history.csv\\\", parse_dates=[\\\"date\\\"]\\n)\";\n",
       "                var nbb_formatted_code = \"df_accounts = pd.read_csv(\\n    \\\"../data/accounts_enough_history.csv\\\", parse_dates=[\\\"update_date\\\"]\\n)\\ndf_transactions = pd.read_csv(\\n    \\\"../data/transactions_enough_history.csv\\\", parse_dates=[\\\"date\\\"]\\n)\";\n",
       "                var nbb_cells = Jupyter.notebook.get_cells();\n",
       "                for (var i = 0; i < nbb_cells.length; ++i) {\n",
       "                    if (nbb_cells[i].input_prompt_number == nbb_cell_id) {\n",
       "                        if (nbb_cells[i].get_text() == nbb_unformatted_code) {\n",
       "                             nbb_cells[i].set_text(nbb_formatted_code);\n",
       "                        }\n",
       "                        break;\n",
       "                    }\n",
       "                }\n",
       "            }, 500);\n",
       "            "
      ],
      "text/plain": [
       "<IPython.core.display.Javascript object>"
      ]
     },
     "metadata": {},
     "output_type": "display_data"
    }
   ],
   "source": [
    "df_accounts = pd.read_csv(\n",
    "    \"../data/accounts_enough_history.csv\", parse_dates=[\"update_date\"]\n",
    ")\n",
    "df_transactions = pd.read_csv(\n",
    "    \"../data/transactions_enough_history.csv\", parse_dates=[\"date\"]\n",
    ")"
   ]
  },
  {
   "cell_type": "markdown",
   "metadata": {},
   "source": [
    "### Duplicate transactions"
   ]
  },
  {
   "cell_type": "code",
   "execution_count": 63,
   "metadata": {},
   "outputs": [
    {
     "data": {
      "text/html": [
       "<div>\n",
       "<style scoped>\n",
       "    .dataframe tbody tr th:only-of-type {\n",
       "        vertical-align: middle;\n",
       "    }\n",
       "\n",
       "    .dataframe tbody tr th {\n",
       "        vertical-align: top;\n",
       "    }\n",
       "\n",
       "    .dataframe thead th {\n",
       "        text-align: right;\n",
       "    }\n",
       "</style>\n",
       "<table border=\"1\" class=\"dataframe\">\n",
       "  <thead>\n",
       "    <tr style=\"text-align: right;\">\n",
       "      <th></th>\n",
       "      <th>account_id</th>\n",
       "      <th>amount</th>\n",
       "      <th>date</th>\n",
       "      <th>size</th>\n",
       "    </tr>\n",
       "  </thead>\n",
       "  <tbody>\n",
       "    <tr>\n",
       "      <th>24</th>\n",
       "      <td>2</td>\n",
       "      <td>-1000.00</td>\n",
       "      <td>2018-02-21</td>\n",
       "      <td>2</td>\n",
       "    </tr>\n",
       "    <tr>\n",
       "      <th>9756</th>\n",
       "      <td>25</td>\n",
       "      <td>-10.00</td>\n",
       "      <td>2019-01-28</td>\n",
       "      <td>2</td>\n",
       "    </tr>\n",
       "    <tr>\n",
       "      <th>9730</th>\n",
       "      <td>25</td>\n",
       "      <td>-11.00</td>\n",
       "      <td>2019-08-26</td>\n",
       "      <td>2</td>\n",
       "    </tr>\n",
       "    <tr>\n",
       "      <th>9652</th>\n",
       "      <td>25</td>\n",
       "      <td>-14.00</td>\n",
       "      <td>2019-08-26</td>\n",
       "      <td>2</td>\n",
       "    </tr>\n",
       "    <tr>\n",
       "      <th>9580</th>\n",
       "      <td>25</td>\n",
       "      <td>-20.00</td>\n",
       "      <td>2019-12-31</td>\n",
       "      <td>2</td>\n",
       "    </tr>\n",
       "    <tr>\n",
       "      <th>...</th>\n",
       "      <td>...</td>\n",
       "      <td>...</td>\n",
       "      <td>...</td>\n",
       "      <td>...</td>\n",
       "    </tr>\n",
       "    <tr>\n",
       "      <th>2607</th>\n",
       "      <td>8</td>\n",
       "      <td>-7.42</td>\n",
       "      <td>2020-01-06</td>\n",
       "      <td>18</td>\n",
       "    </tr>\n",
       "    <tr>\n",
       "      <th>2783</th>\n",
       "      <td>8</td>\n",
       "      <td>-2.73</td>\n",
       "      <td>2019-06-05</td>\n",
       "      <td>27</td>\n",
       "    </tr>\n",
       "    <tr>\n",
       "      <th>2744</th>\n",
       "      <td>8</td>\n",
       "      <td>-3.20</td>\n",
       "      <td>2019-06-09</td>\n",
       "      <td>37</td>\n",
       "    </tr>\n",
       "    <tr>\n",
       "      <th>2780</th>\n",
       "      <td>8</td>\n",
       "      <td>-2.74</td>\n",
       "      <td>2019-06-04</td>\n",
       "      <td>64</td>\n",
       "    </tr>\n",
       "    <tr>\n",
       "      <th>2779</th>\n",
       "      <td>8</td>\n",
       "      <td>-2.74</td>\n",
       "      <td>2019-06-03</td>\n",
       "      <td>73</td>\n",
       "    </tr>\n",
       "  </tbody>\n",
       "</table>\n",
       "<p>619 rows × 4 columns</p>\n",
       "</div>"
      ],
      "text/plain": [
       "      account_id   amount       date  size\n",
       "24             2 -1000.00 2018-02-21     2\n",
       "9756          25   -10.00 2019-01-28     2\n",
       "9730          25   -11.00 2019-08-26     2\n",
       "9652          25   -14.00 2019-08-26     2\n",
       "9580          25   -20.00 2019-12-31     2\n",
       "...          ...      ...        ...   ...\n",
       "2607           8    -7.42 2020-01-06    18\n",
       "2783           8    -2.73 2019-06-05    27\n",
       "2744           8    -3.20 2019-06-09    37\n",
       "2780           8    -2.74 2019-06-04    64\n",
       "2779           8    -2.74 2019-06-03    73\n",
       "\n",
       "[619 rows x 4 columns]"
      ]
     },
     "execution_count": 63,
     "metadata": {},
     "output_type": "execute_result"
    },
    {
     "data": {
      "application/javascript": [
       "\n",
       "            setTimeout(function() {\n",
       "                var nbb_cell_id = 63;\n",
       "                var nbb_unformatted_code = \"df_count_occurrences = df_transactions.groupby(\\n    df_transactions.columns.tolist(), as_index=False\\n).size()\\ndf_count_occurrences = df_count_occurrences[df_count_occurrences[\\\"size\\\"] > 1]\\ndf_count_occurrences.sort_values(by=\\\"size\\\")\";\n",
       "                var nbb_formatted_code = \"df_count_occurrences = df_transactions.groupby(\\n    df_transactions.columns.tolist(), as_index=False\\n).size()\\ndf_count_occurrences = df_count_occurrences[df_count_occurrences[\\\"size\\\"] > 1]\\ndf_count_occurrences.sort_values(by=\\\"size\\\")\";\n",
       "                var nbb_cells = Jupyter.notebook.get_cells();\n",
       "                for (var i = 0; i < nbb_cells.length; ++i) {\n",
       "                    if (nbb_cells[i].input_prompt_number == nbb_cell_id) {\n",
       "                        if (nbb_cells[i].get_text() == nbb_unformatted_code) {\n",
       "                             nbb_cells[i].set_text(nbb_formatted_code);\n",
       "                        }\n",
       "                        break;\n",
       "                    }\n",
       "                }\n",
       "            }, 500);\n",
       "            "
      ],
      "text/plain": [
       "<IPython.core.display.Javascript object>"
      ]
     },
     "metadata": {},
     "output_type": "display_data"
    },
    {
     "data": {
      "application/javascript": [
       "\n",
       "            setTimeout(function() {\n",
       "                var nbb_cell_id = 63;\n",
       "                var nbb_unformatted_code = \"df_count_occurrences = df_transactions.groupby(\\n    df_transactions.columns.tolist(), as_index=False\\n).size()\\ndf_count_occurrences = df_count_occurrences[df_count_occurrences[\\\"size\\\"] > 1]\\ndf_count_occurrences.sort_values(by=\\\"size\\\")\";\n",
       "                var nbb_formatted_code = \"df_count_occurrences = df_transactions.groupby(\\n    df_transactions.columns.tolist(), as_index=False\\n).size()\\ndf_count_occurrences = df_count_occurrences[df_count_occurrences[\\\"size\\\"] > 1]\\ndf_count_occurrences.sort_values(by=\\\"size\\\")\";\n",
       "                var nbb_cells = Jupyter.notebook.get_cells();\n",
       "                for (var i = 0; i < nbb_cells.length; ++i) {\n",
       "                    if (nbb_cells[i].input_prompt_number == nbb_cell_id) {\n",
       "                        if (nbb_cells[i].get_text() == nbb_unformatted_code) {\n",
       "                             nbb_cells[i].set_text(nbb_formatted_code);\n",
       "                        }\n",
       "                        break;\n",
       "                    }\n",
       "                }\n",
       "            }, 500);\n",
       "            "
      ],
      "text/plain": [
       "<IPython.core.display.Javascript object>"
      ]
     },
     "metadata": {},
     "output_type": "display_data"
    },
    {
     "data": {
      "application/javascript": [
       "\n",
       "            setTimeout(function() {\n",
       "                var nbb_cell_id = 63;\n",
       "                var nbb_unformatted_code = \"df_count_occurrences = df_transactions.groupby(\\n    df_transactions.columns.tolist(), as_index=False\\n).size()\\ndf_count_occurrences = df_count_occurrences[df_count_occurrences[\\\"size\\\"] > 1]\\ndf_count_occurrences.sort_values(by=\\\"size\\\")\";\n",
       "                var nbb_formatted_code = \"df_count_occurrences = df_transactions.groupby(\\n    df_transactions.columns.tolist(), as_index=False\\n).size()\\ndf_count_occurrences = df_count_occurrences[df_count_occurrences[\\\"size\\\"] > 1]\\ndf_count_occurrences.sort_values(by=\\\"size\\\")\";\n",
       "                var nbb_cells = Jupyter.notebook.get_cells();\n",
       "                for (var i = 0; i < nbb_cells.length; ++i) {\n",
       "                    if (nbb_cells[i].input_prompt_number == nbb_cell_id) {\n",
       "                        if (nbb_cells[i].get_text() == nbb_unformatted_code) {\n",
       "                             nbb_cells[i].set_text(nbb_formatted_code);\n",
       "                        }\n",
       "                        break;\n",
       "                    }\n",
       "                }\n",
       "            }, 500);\n",
       "            "
      ],
      "text/plain": [
       "<IPython.core.display.Javascript object>"
      ]
     },
     "metadata": {},
     "output_type": "display_data"
    }
   ],
   "source": [
    "df_count_occurrences = df_transactions.groupby(\n",
    "    df_transactions.columns.tolist(), as_index=False\n",
    ").size()\n",
    "df_count_occurrences = df_count_occurrences[df_count_occurrences[\"size\"] > 1]\n",
    "df_count_occurrences.sort_values(by=\"size\")"
   ]
  },
  {
   "cell_type": "code",
   "execution_count": 64,
   "metadata": {},
   "outputs": [
    {
     "name": "stderr",
     "output_type": "stream",
     "text": [
      "/Users/drissdebbaghnour/.pyenv/versions/3.8.2/envs/mansa_test/lib/python3.8/site-packages/seaborn/distributions.py:2551: FutureWarning: `distplot` is a deprecated function and will be removed in a future version. Please adapt your code to use either `displot` (a figure-level function with similar flexibility) or `histplot` (an axes-level function for histograms).\n",
      "  warnings.warn(msg, FutureWarning)\n"
     ]
    },
    {
     "data": {
      "text/plain": [
       "<AxesSubplot:xlabel='size', ylabel='Density'>"
      ]
     },
     "execution_count": 64,
     "metadata": {},
     "output_type": "execute_result"
    },
    {
     "data": {
      "image/png": "[encoded data removed]",
      "text/plain": [
       "<Figure size 432x288 with 1 Axes>"
      ]
     },
     "metadata": {},
     "output_type": "display_data"
    },
    {
     "data": {
      "application/javascript": [
       "\n",
       "            setTimeout(function() {\n",
       "                var nbb_cell_id = 64;\n",
       "                var nbb_unformatted_code = \"sns.distplot(a[\\\"size\\\"])\";\n",
       "                var nbb_formatted_code = \"sns.distplot(a[\\\"size\\\"])\";\n",
       "                var nbb_cells = Jupyter.notebook.get_cells();\n",
       "                for (var i = 0; i < nbb_cells.length; ++i) {\n",
       "                    if (nbb_cells[i].input_prompt_number == nbb_cell_id) {\n",
       "                        if (nbb_cells[i].get_text() == nbb_unformatted_code) {\n",
       "                             nbb_cells[i].set_text(nbb_formatted_code);\n",
       "                        }\n",
       "                        break;\n",
       "                    }\n",
       "                }\n",
       "            }, 500);\n",
       "            "
      ],
      "text/plain": [
       "<IPython.core.display.Javascript object>"
      ]
     },
     "metadata": {},
     "output_type": "display_data"
    },
    {
     "data": {
      "application/javascript": [
       "\n",
       "            setTimeout(function() {\n",
       "                var nbb_cell_id = 64;\n",
       "                var nbb_unformatted_code = \"sns.distplot(a[\\\"size\\\"])\";\n",
       "                var nbb_formatted_code = \"sns.distplot(a[\\\"size\\\"])\";\n",
       "                var nbb_cells = Jupyter.notebook.get_cells();\n",
       "                for (var i = 0; i < nbb_cells.length; ++i) {\n",
       "                    if (nbb_cells[i].input_prompt_number == nbb_cell_id) {\n",
       "                        if (nbb_cells[i].get_text() == nbb_unformatted_code) {\n",
       "                             nbb_cells[i].set_text(nbb_formatted_code);\n",
       "                        }\n",
       "                        break;\n",
       "                    }\n",
       "                }\n",
       "            }, 500);\n",
       "            "
      ],
      "text/plain": [
       "<IPython.core.display.Javascript object>"
      ]
     },
     "metadata": {},
     "output_type": "display_data"
    },
    {
     "data": {
      "application/javascript": [
       "\n",
       "            setTimeout(function() {\n",
       "                var nbb_cell_id = 64;\n",
       "                var nbb_unformatted_code = \"sns.distplot(a[\\\"size\\\"])\";\n",
       "                var nbb_formatted_code = \"sns.distplot(a[\\\"size\\\"])\";\n",
       "                var nbb_cells = Jupyter.notebook.get_cells();\n",
       "                for (var i = 0; i < nbb_cells.length; ++i) {\n",
       "                    if (nbb_cells[i].input_prompt_number == nbb_cell_id) {\n",
       "                        if (nbb_cells[i].get_text() == nbb_unformatted_code) {\n",
       "                             nbb_cells[i].set_text(nbb_formatted_code);\n",
       "                        }\n",
       "                        break;\n",
       "                    }\n",
       "                }\n",
       "            }, 500);\n",
       "            "
      ],
      "text/plain": [
       "<IPython.core.display.Javascript object>"
      ]
     },
     "metadata": {},
     "output_type": "display_data"
    }
   ],
   "source": [
    "sns.distplot(a[\"size\"])"
   ]
  },
  {
   "cell_type": "markdown",
   "metadata": {},
   "source": [
    "- The same transactions happen at different days for the same account. It might be some regular expenses. \n",
    "- Moreover, some transactions are sometimes duplicated a lot of times. \n",
    "- They are probably not duplicates. Hence, I won't delete any of them. \n",
    "- Having the time of the transactions and some metadata about the accounts might help to understand these duplicates."
   ]
  },
  {
   "cell_type": "code",
   "execution_count": 65,
   "metadata": {},
   "outputs": [
    {
     "data": {
      "text/html": [
       "<div>\n",
       "<style scoped>\n",
       "    .dataframe tbody tr th:only-of-type {\n",
       "        vertical-align: middle;\n",
       "    }\n",
       "\n",
       "    .dataframe tbody tr th {\n",
       "        vertical-align: top;\n",
       "    }\n",
       "\n",
       "    .dataframe thead th {\n",
       "        text-align: right;\n",
       "    }\n",
       "</style>\n",
       "<table border=\"1\" class=\"dataframe\">\n",
       "  <thead>\n",
       "    <tr style=\"text-align: right;\">\n",
       "      <th></th>\n",
       "      <th>account_id</th>\n",
       "      <th>amount</th>\n",
       "      <th>date</th>\n",
       "    </tr>\n",
       "  </thead>\n",
       "  <tbody>\n",
       "    <tr>\n",
       "      <th>10778</th>\n",
       "      <td>28</td>\n",
       "      <td>-48.00</td>\n",
       "      <td>2018-04-13</td>\n",
       "    </tr>\n",
       "    <tr>\n",
       "      <th>10779</th>\n",
       "      <td>28</td>\n",
       "      <td>-5000.84</td>\n",
       "      <td>2018-04-13</td>\n",
       "    </tr>\n",
       "    <tr>\n",
       "      <th>10780</th>\n",
       "      <td>28</td>\n",
       "      <td>5000.84</td>\n",
       "      <td>2018-04-13</td>\n",
       "    </tr>\n",
       "    <tr>\n",
       "      <th>10493</th>\n",
       "      <td>28</td>\n",
       "      <td>-31.35</td>\n",
       "      <td>2018-09-27</td>\n",
       "    </tr>\n",
       "    <tr>\n",
       "      <th>10494</th>\n",
       "      <td>28</td>\n",
       "      <td>1842.50</td>\n",
       "      <td>2018-09-27</td>\n",
       "    </tr>\n",
       "    <tr>\n",
       "      <th>10495</th>\n",
       "      <td>28</td>\n",
       "      <td>-1842.50</td>\n",
       "      <td>2018-09-27</td>\n",
       "    </tr>\n",
       "  </tbody>\n",
       "</table>\n",
       "</div>"
      ],
      "text/plain": [
       "       account_id   amount       date\n",
       "10778          28   -48.00 2018-04-13\n",
       "10779          28 -5000.84 2018-04-13\n",
       "10780          28  5000.84 2018-04-13\n",
       "10493          28   -31.35 2018-09-27\n",
       "10494          28  1842.50 2018-09-27\n",
       "10495          28 -1842.50 2018-09-27"
      ]
     },
     "execution_count": 65,
     "metadata": {},
     "output_type": "execute_result"
    },
    {
     "data": {
      "application/javascript": [
       "\n",
       "            setTimeout(function() {\n",
       "                var nbb_cell_id = 65;\n",
       "                var nbb_unformatted_code = \"df_transactions[\\n    (df_transactions[\\\"account_id\\\"] == 28)\\n    & (df_transactions[\\\"date\\\"].isin([\\\"2018-09-27\\\", \\\"2018-04-13\\\"]))\\n].sort_values(by=\\\"date\\\")\";\n",
       "                var nbb_formatted_code = \"df_transactions[\\n    (df_transactions[\\\"account_id\\\"] == 28)\\n    & (df_transactions[\\\"date\\\"].isin([\\\"2018-09-27\\\", \\\"2018-04-13\\\"]))\\n].sort_values(by=\\\"date\\\")\";\n",
       "                var nbb_cells = Jupyter.notebook.get_cells();\n",
       "                for (var i = 0; i < nbb_cells.length; ++i) {\n",
       "                    if (nbb_cells[i].input_prompt_number == nbb_cell_id) {\n",
       "                        if (nbb_cells[i].get_text() == nbb_unformatted_code) {\n",
       "                             nbb_cells[i].set_text(nbb_formatted_code);\n",
       "                        }\n",
       "                        break;\n",
       "                    }\n",
       "                }\n",
       "            }, 500);\n",
       "            "
      ],
      "text/plain": [
       "<IPython.core.display.Javascript object>"
      ]
     },
     "metadata": {},
     "output_type": "display_data"
    },
    {
     "data": {
      "application/javascript": [
       "\n",
       "            setTimeout(function() {\n",
       "                var nbb_cell_id = 65;\n",
       "                var nbb_unformatted_code = \"df_transactions[\\n    (df_transactions[\\\"account_id\\\"] == 28)\\n    & (df_transactions[\\\"date\\\"].isin([\\\"2018-09-27\\\", \\\"2018-04-13\\\"]))\\n].sort_values(by=\\\"date\\\")\";\n",
       "                var nbb_formatted_code = \"df_transactions[\\n    (df_transactions[\\\"account_id\\\"] == 28)\\n    & (df_transactions[\\\"date\\\"].isin([\\\"2018-09-27\\\", \\\"2018-04-13\\\"]))\\n].sort_values(by=\\\"date\\\")\";\n",
       "                var nbb_cells = Jupyter.notebook.get_cells();\n",
       "                for (var i = 0; i < nbb_cells.length; ++i) {\n",
       "                    if (nbb_cells[i].input_prompt_number == nbb_cell_id) {\n",
       "                        if (nbb_cells[i].get_text() == nbb_unformatted_code) {\n",
       "                             nbb_cells[i].set_text(nbb_formatted_code);\n",
       "                        }\n",
       "                        break;\n",
       "                    }\n",
       "                }\n",
       "            }, 500);\n",
       "            "
      ],
      "text/plain": [
       "<IPython.core.display.Javascript object>"
      ]
     },
     "metadata": {},
     "output_type": "display_data"
    },
    {
     "data": {
      "application/javascript": [
       "\n",
       "            setTimeout(function() {\n",
       "                var nbb_cell_id = 65;\n",
       "                var nbb_unformatted_code = \"df_transactions[\\n    (df_transactions[\\\"account_id\\\"] == 28)\\n    & (df_transactions[\\\"date\\\"].isin([\\\"2018-09-27\\\", \\\"2018-04-13\\\"]))\\n].sort_values(by=\\\"date\\\")\";\n",
       "                var nbb_formatted_code = \"df_transactions[\\n    (df_transactions[\\\"account_id\\\"] == 28)\\n    & (df_transactions[\\\"date\\\"].isin([\\\"2018-09-27\\\", \\\"2018-04-13\\\"]))\\n].sort_values(by=\\\"date\\\")\";\n",
       "                var nbb_cells = Jupyter.notebook.get_cells();\n",
       "                for (var i = 0; i < nbb_cells.length; ++i) {\n",
       "                    if (nbb_cells[i].input_prompt_number == nbb_cell_id) {\n",
       "                        if (nbb_cells[i].get_text() == nbb_unformatted_code) {\n",
       "                             nbb_cells[i].set_text(nbb_formatted_code);\n",
       "                        }\n",
       "                        break;\n",
       "                    }\n",
       "                }\n",
       "            }, 500);\n",
       "            "
      ],
      "text/plain": [
       "<IPython.core.display.Javascript object>"
      ]
     },
     "metadata": {},
     "output_type": "display_data"
    }
   ],
   "source": [
    "df_transactions[\n",
    "    (df_transactions[\"account_id\"] == 28)\n",
    "    & (df_transactions[\"date\"].isin([\"2018-09-27\", \"2018-04-13\"]))\n",
    "].sort_values(by=\"date\")"
   ]
  },
  {
   "cell_type": "markdown",
   "metadata": {},
   "source": [
    "- The data contains sometimes expenses and incomes that happen the same day and have the exact absolute value: -5000.84 / +5000.84 or +1842.50/-1842.50.\n",
    "- This might be transactions to clean:\n",
    "1. Let say we expect a high expense, so we make a transfer of money to our main account to back up the expense. However, the chances that we do it the same day are very low because (usually we make a transfer before it appears in our bank account).\n",
    "2. These expenses aren't seasonal, hence they are not regular expenses that can be planned in advance and for which the date is known (repayment of a loan for example).\n",
    "\n",
    "- I guess that the objective behind predicting the income of the next month or the expenses of the next week, is to know if an account balance is positive enough to pay back a credit. Hence, having these kind of transactions that happen the same day and in a non-seasonal way might be confusing and lead to poor predictions.\n",
    "\n",
    "- A better understanding of Mansa's business can help me understand the meaning of these transactions. They may be due to something else."
   ]
  },
  {
   "cell_type": "code",
   "execution_count": 66,
   "metadata": {},
   "outputs": [
    {
     "data": {
      "text/html": [
       "<div>\n",
       "<style scoped>\n",
       "    .dataframe tbody tr th:only-of-type {\n",
       "        vertical-align: middle;\n",
       "    }\n",
       "\n",
       "    .dataframe tbody tr th {\n",
       "        vertical-align: top;\n",
       "    }\n",
       "\n",
       "    .dataframe thead th {\n",
       "        text-align: right;\n",
       "    }\n",
       "</style>\n",
       "<table border=\"1\" class=\"dataframe\">\n",
       "  <thead>\n",
       "    <tr style=\"text-align: right;\">\n",
       "      <th></th>\n",
       "      <th>account_id</th>\n",
       "      <th>amount</th>\n",
       "      <th>date</th>\n",
       "    </tr>\n",
       "  </thead>\n",
       "  <tbody>\n",
       "    <tr>\n",
       "      <th>10800</th>\n",
       "      <td>28</td>\n",
       "      <td>-109.99</td>\n",
       "      <td>2018-04-03</td>\n",
       "    </tr>\n",
       "    <tr>\n",
       "      <th>10810</th>\n",
       "      <td>28</td>\n",
       "      <td>-109.99</td>\n",
       "      <td>2018-04-03</td>\n",
       "    </tr>\n",
       "    <tr>\n",
       "      <th>10809</th>\n",
       "      <td>28</td>\n",
       "      <td>-109.99</td>\n",
       "      <td>2018-04-03</td>\n",
       "    </tr>\n",
       "    <tr>\n",
       "      <th>10808</th>\n",
       "      <td>28</td>\n",
       "      <td>-35.50</td>\n",
       "      <td>2018-04-03</td>\n",
       "    </tr>\n",
       "    <tr>\n",
       "      <th>10807</th>\n",
       "      <td>28</td>\n",
       "      <td>-109.99</td>\n",
       "      <td>2018-04-03</td>\n",
       "    </tr>\n",
       "    <tr>\n",
       "      <th>10806</th>\n",
       "      <td>28</td>\n",
       "      <td>-13.80</td>\n",
       "      <td>2018-04-03</td>\n",
       "    </tr>\n",
       "    <tr>\n",
       "      <th>10805</th>\n",
       "      <td>28</td>\n",
       "      <td>-51.50</td>\n",
       "      <td>2018-04-03</td>\n",
       "    </tr>\n",
       "    <tr>\n",
       "      <th>10804</th>\n",
       "      <td>28</td>\n",
       "      <td>-26.00</td>\n",
       "      <td>2018-04-03</td>\n",
       "    </tr>\n",
       "    <tr>\n",
       "      <th>10803</th>\n",
       "      <td>28</td>\n",
       "      <td>-32.99</td>\n",
       "      <td>2018-04-03</td>\n",
       "    </tr>\n",
       "    <tr>\n",
       "      <th>10802</th>\n",
       "      <td>28</td>\n",
       "      <td>-85.83</td>\n",
       "      <td>2018-04-03</td>\n",
       "    </tr>\n",
       "    <tr>\n",
       "      <th>10801</th>\n",
       "      <td>28</td>\n",
       "      <td>-74.99</td>\n",
       "      <td>2018-04-03</td>\n",
       "    </tr>\n",
       "    <tr>\n",
       "      <th>10812</th>\n",
       "      <td>28</td>\n",
       "      <td>-9.68</td>\n",
       "      <td>2018-04-03</td>\n",
       "    </tr>\n",
       "    <tr>\n",
       "      <th>10811</th>\n",
       "      <td>28</td>\n",
       "      <td>-0.20</td>\n",
       "      <td>2018-04-03</td>\n",
       "    </tr>\n",
       "    <tr>\n",
       "      <th>10797</th>\n",
       "      <td>28</td>\n",
       "      <td>-9.40</td>\n",
       "      <td>2018-04-05</td>\n",
       "    </tr>\n",
       "    <tr>\n",
       "      <th>10796</th>\n",
       "      <td>28</td>\n",
       "      <td>-8.00</td>\n",
       "      <td>2018-04-05</td>\n",
       "    </tr>\n",
       "    <tr>\n",
       "      <th>10795</th>\n",
       "      <td>28</td>\n",
       "      <td>74.99</td>\n",
       "      <td>2018-04-05</td>\n",
       "    </tr>\n",
       "    <tr>\n",
       "      <th>10794</th>\n",
       "      <td>28</td>\n",
       "      <td>32.99</td>\n",
       "      <td>2018-04-05</td>\n",
       "    </tr>\n",
       "    <tr>\n",
       "      <th>10793</th>\n",
       "      <td>28</td>\n",
       "      <td>109.99</td>\n",
       "      <td>2018-04-05</td>\n",
       "    </tr>\n",
       "    <tr>\n",
       "      <th>10792</th>\n",
       "      <td>28</td>\n",
       "      <td>109.99</td>\n",
       "      <td>2018-04-05</td>\n",
       "    </tr>\n",
       "    <tr>\n",
       "      <th>10791</th>\n",
       "      <td>28</td>\n",
       "      <td>109.99</td>\n",
       "      <td>2018-04-05</td>\n",
       "    </tr>\n",
       "    <tr>\n",
       "      <th>10790</th>\n",
       "      <td>28</td>\n",
       "      <td>109.99</td>\n",
       "      <td>2018-04-05</td>\n",
       "    </tr>\n",
       "    <tr>\n",
       "      <th>10787</th>\n",
       "      <td>28</td>\n",
       "      <td>-109.99</td>\n",
       "      <td>2018-04-09</td>\n",
       "    </tr>\n",
       "    <tr>\n",
       "      <th>10786</th>\n",
       "      <td>28</td>\n",
       "      <td>-109.99</td>\n",
       "      <td>2018-04-09</td>\n",
       "    </tr>\n",
       "    <tr>\n",
       "      <th>10785</th>\n",
       "      <td>28</td>\n",
       "      <td>-37.70</td>\n",
       "      <td>2018-04-09</td>\n",
       "    </tr>\n",
       "  </tbody>\n",
       "</table>\n",
       "</div>"
      ],
      "text/plain": [
       "       account_id  amount       date\n",
       "10800          28 -109.99 2018-04-03\n",
       "10810          28 -109.99 2018-04-03\n",
       "10809          28 -109.99 2018-04-03\n",
       "10808          28  -35.50 2018-04-03\n",
       "10807          28 -109.99 2018-04-03\n",
       "10806          28  -13.80 2018-04-03\n",
       "10805          28  -51.50 2018-04-03\n",
       "10804          28  -26.00 2018-04-03\n",
       "10803          28  -32.99 2018-04-03\n",
       "10802          28  -85.83 2018-04-03\n",
       "10801          28  -74.99 2018-04-03\n",
       "10812          28   -9.68 2018-04-03\n",
       "10811          28   -0.20 2018-04-03\n",
       "10797          28   -9.40 2018-04-05\n",
       "10796          28   -8.00 2018-04-05\n",
       "10795          28   74.99 2018-04-05\n",
       "10794          28   32.99 2018-04-05\n",
       "10793          28  109.99 2018-04-05\n",
       "10792          28  109.99 2018-04-05\n",
       "10791          28  109.99 2018-04-05\n",
       "10790          28  109.99 2018-04-05\n",
       "10787          28 -109.99 2018-04-09\n",
       "10786          28 -109.99 2018-04-09\n",
       "10785          28  -37.70 2018-04-09"
      ]
     },
     "execution_count": 66,
     "metadata": {},
     "output_type": "execute_result"
    },
    {
     "data": {
      "application/javascript": [
       "\n",
       "            setTimeout(function() {\n",
       "                var nbb_cell_id = 66;\n",
       "                var nbb_unformatted_code = \"df_transactions[\\n    (df_transactions[\\\"account_id\\\"] == 28)\\n    & (df_transactions[\\\"date\\\"].isin([\\\"2018-04-05\\\", \\\"2018-04-09\\\", \\\"2018-04-03\\\"]))\\n].sort_values(by=\\\"date\\\")\";\n",
       "                var nbb_formatted_code = \"df_transactions[\\n    (df_transactions[\\\"account_id\\\"] == 28)\\n    & (df_transactions[\\\"date\\\"].isin([\\\"2018-04-05\\\", \\\"2018-04-09\\\", \\\"2018-04-03\\\"]))\\n].sort_values(by=\\\"date\\\")\";\n",
       "                var nbb_cells = Jupyter.notebook.get_cells();\n",
       "                for (var i = 0; i < nbb_cells.length; ++i) {\n",
       "                    if (nbb_cells[i].input_prompt_number == nbb_cell_id) {\n",
       "                        if (nbb_cells[i].get_text() == nbb_unformatted_code) {\n",
       "                             nbb_cells[i].set_text(nbb_formatted_code);\n",
       "                        }\n",
       "                        break;\n",
       "                    }\n",
       "                }\n",
       "            }, 500);\n",
       "            "
      ],
      "text/plain": [
       "<IPython.core.display.Javascript object>"
      ]
     },
     "metadata": {},
     "output_type": "display_data"
    },
    {
     "data": {
      "application/javascript": [
       "\n",
       "            setTimeout(function() {\n",
       "                var nbb_cell_id = 66;\n",
       "                var nbb_unformatted_code = \"df_transactions[\\n    (df_transactions[\\\"account_id\\\"] == 28)\\n    & (df_transactions[\\\"date\\\"].isin([\\\"2018-04-05\\\", \\\"2018-04-09\\\", \\\"2018-04-03\\\"]))\\n].sort_values(by=\\\"date\\\")\";\n",
       "                var nbb_formatted_code = \"df_transactions[\\n    (df_transactions[\\\"account_id\\\"] == 28)\\n    & (df_transactions[\\\"date\\\"].isin([\\\"2018-04-05\\\", \\\"2018-04-09\\\", \\\"2018-04-03\\\"]))\\n].sort_values(by=\\\"date\\\")\";\n",
       "                var nbb_cells = Jupyter.notebook.get_cells();\n",
       "                for (var i = 0; i < nbb_cells.length; ++i) {\n",
       "                    if (nbb_cells[i].input_prompt_number == nbb_cell_id) {\n",
       "                        if (nbb_cells[i].get_text() == nbb_unformatted_code) {\n",
       "                             nbb_cells[i].set_text(nbb_formatted_code);\n",
       "                        }\n",
       "                        break;\n",
       "                    }\n",
       "                }\n",
       "            }, 500);\n",
       "            "
      ],
      "text/plain": [
       "<IPython.core.display.Javascript object>"
      ]
     },
     "metadata": {},
     "output_type": "display_data"
    },
    {
     "data": {
      "application/javascript": [
       "\n",
       "            setTimeout(function() {\n",
       "                var nbb_cell_id = 66;\n",
       "                var nbb_unformatted_code = \"df_transactions[\\n    (df_transactions[\\\"account_id\\\"] == 28)\\n    & (df_transactions[\\\"date\\\"].isin([\\\"2018-04-05\\\", \\\"2018-04-09\\\", \\\"2018-04-03\\\"]))\\n].sort_values(by=\\\"date\\\")\";\n",
       "                var nbb_formatted_code = \"df_transactions[\\n    (df_transactions[\\\"account_id\\\"] == 28)\\n    & (df_transactions[\\\"date\\\"].isin([\\\"2018-04-05\\\", \\\"2018-04-09\\\", \\\"2018-04-03\\\"]))\\n].sort_values(by=\\\"date\\\")\";\n",
       "                var nbb_cells = Jupyter.notebook.get_cells();\n",
       "                for (var i = 0; i < nbb_cells.length; ++i) {\n",
       "                    if (nbb_cells[i].input_prompt_number == nbb_cell_id) {\n",
       "                        if (nbb_cells[i].get_text() == nbb_unformatted_code) {\n",
       "                             nbb_cells[i].set_text(nbb_formatted_code);\n",
       "                        }\n",
       "                        break;\n",
       "                    }\n",
       "                }\n",
       "            }, 500);\n",
       "            "
      ],
      "text/plain": [
       "<IPython.core.display.Javascript object>"
      ]
     },
     "metadata": {},
     "output_type": "display_data"
    }
   ],
   "source": [
    "df_transactions[\n",
    "    (df_transactions[\"account_id\"] == 28)\n",
    "    & (df_transactions[\"date\"].isin([\"2018-04-05\", \"2018-04-09\", \"2018-04-03\"]))\n",
    "].sort_values(by=\"date\")"
   ]
  },
  {
   "cell_type": "markdown",
   "metadata": {},
   "source": [
    "- In the other hand there are transactions that do not happen in the same day, but show the exact pattern as mentionned before: very specific positive values taht equal to negative values: +109.99/-109.99.\n",
    "\n",
    "- These transactions need more time to be analyzed in order to take a decision about whether to keep or remove them.\n",
    "\n",
    "- Conclusion: I will keep them."
   ]
  },
  {
   "cell_type": "code",
   "execution_count": null,
   "metadata": {},
   "outputs": [],
   "source": []
  }
 ],
 "metadata": {
  "kernelspec": {
   "display_name": "Python 3",
   "language": "python",
   "name": "python3"
  },
  "language_info": {
   "codemirror_mode": {
    "name": "ipython",
    "version": 3
   },
   "file_extension": ".py",
   "mimetype": "text/x-python",
   "name": "python",
   "nbconvert_exporter": "python",
   "pygments_lexer": "ipython3",
   "version": "3.8.2"
  }
 },
 "nbformat": 4,
 "nbformat_minor": 4
}

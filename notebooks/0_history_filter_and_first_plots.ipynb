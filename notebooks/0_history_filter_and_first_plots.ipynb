{
 "cells": [
  {
   "cell_type": "code",
   "execution_count": 22,
   "metadata": {},
   "outputs": [
    {
     "data": {
      "application/javascript": [
       "\n",
       "            setTimeout(function() {\n",
       "                var nbb_cell_id = 22;\n",
       "                var nbb_unformatted_code = \"%reload_ext nb_black\";\n",
       "                var nbb_formatted_code = \"%reload_ext nb_black\";\n",
       "                var nbb_cells = Jupyter.notebook.get_cells();\n",
       "                for (var i = 0; i < nbb_cells.length; ++i) {\n",
       "                    if (nbb_cells[i].input_prompt_number == nbb_cell_id) {\n",
       "                        if (nbb_cells[i].get_text() == nbb_unformatted_code) {\n",
       "                             nbb_cells[i].set_text(nbb_formatted_code);\n",
       "                        }\n",
       "                        break;\n",
       "                    }\n",
       "                }\n",
       "            }, 500);\n",
       "            "
      ],
      "text/plain": [
       "<IPython.core.display.Javascript object>"
      ]
     },
     "metadata": {},
     "output_type": "display_data"
    }
   ],
   "source": [
    "%reload_ext nb_black"
   ]
  },
  {
   "cell_type": "code",
   "execution_count": 122,
   "metadata": {},
   "outputs": [
    {
     "data": {
      "application/javascript": [
       "\n",
       "            setTimeout(function() {\n",
       "                var nbb_cell_id = 122;\n",
       "                var nbb_unformatted_code = \"from typing import Tuple, List\\n\\nimport pandas as pd\\n\\nimport matplotlib.pyplot as plt\\nimport seaborn as sns\\n\\nfrom pandas.testing import assert_frame_equal\\n\\nsns.set()\";\n",
       "                var nbb_formatted_code = \"from typing import Tuple, List\\n\\nimport pandas as pd\\n\\nimport matplotlib.pyplot as plt\\nimport seaborn as sns\\n\\nfrom pandas.testing import assert_frame_equal\\n\\nsns.set()\";\n",
       "                var nbb_cells = Jupyter.notebook.get_cells();\n",
       "                for (var i = 0; i < nbb_cells.length; ++i) {\n",
       "                    if (nbb_cells[i].input_prompt_number == nbb_cell_id) {\n",
       "                        if (nbb_cells[i].get_text() == nbb_unformatted_code) {\n",
       "                             nbb_cells[i].set_text(nbb_formatted_code);\n",
       "                        }\n",
       "                        break;\n",
       "                    }\n",
       "                }\n",
       "            }, 500);\n",
       "            "
      ],
      "text/plain": [
       "<IPython.core.display.Javascript object>"
      ]
     },
     "metadata": {},
     "output_type": "display_data"
    }
   ],
   "source": [
    "from typing import Tuple, List\n",
    "\n",
    "import pandas as pd\n",
    "\n",
    "import matplotlib.pyplot as plt\n",
    "import seaborn as sns\n",
    "\n",
    "from pandas.testing import assert_frame_equal\n",
    "\n",
    "sns.set()"
   ]
  },
  {
   "cell_type": "markdown",
   "metadata": {},
   "source": [
    "### Read data"
   ]
  },
  {
   "cell_type": "code",
   "execution_count": 125,
   "metadata": {},
   "outputs": [
    {
     "data": {
      "application/javascript": [
       "\n",
       "            setTimeout(function() {\n",
       "                var nbb_cell_id = 125;\n",
       "                var nbb_unformatted_code = \"df_accounts = pd.read_csv(\\\"../data/accounts.csv\\\", parse_dates=[\\\"update_date\\\"])\\ndf_transactions = pd.read_csv(\\\"../data/transactions.csv\\\", parse_dates=[\\\"date\\\"]).drop(\\n    [\\\"Unnamed: 0\\\"], axis=1\\n)\";\n",
       "                var nbb_formatted_code = \"df_accounts = pd.read_csv(\\\"../data/accounts.csv\\\", parse_dates=[\\\"update_date\\\"])\\ndf_transactions = pd.read_csv(\\\"../data/transactions.csv\\\", parse_dates=[\\\"date\\\"]).drop(\\n    [\\\"Unnamed: 0\\\"], axis=1\\n)\";\n",
       "                var nbb_cells = Jupyter.notebook.get_cells();\n",
       "                for (var i = 0; i < nbb_cells.length; ++i) {\n",
       "                    if (nbb_cells[i].input_prompt_number == nbb_cell_id) {\n",
       "                        if (nbb_cells[i].get_text() == nbb_unformatted_code) {\n",
       "                             nbb_cells[i].set_text(nbb_formatted_code);\n",
       "                        }\n",
       "                        break;\n",
       "                    }\n",
       "                }\n",
       "            }, 500);\n",
       "            "
      ],
      "text/plain": [
       "<IPython.core.display.Javascript object>"
      ]
     },
     "metadata": {},
     "output_type": "display_data"
    }
   ],
   "source": [
    "df_accounts = pd.read_csv(\"../data/accounts.csv\", parse_dates=[\"update_date\"])\n",
    "df_transactions = pd.read_csv(\"../data/transactions.csv\", parse_dates=[\"date\"]).drop(\n",
    "    [\"Unnamed: 0\"], axis=1\n",
    ")"
   ]
  },
  {
   "cell_type": "code",
   "execution_count": 150,
   "metadata": {},
   "outputs": [
    {
     "data": {
      "text/plain": [
       "account_id    0\n",
       "amount        0\n",
       "date          0\n",
       "dtype: int64"
      ]
     },
     "execution_count": 150,
     "metadata": {},
     "output_type": "execute_result"
    },
    {
     "data": {
      "application/javascript": [
       "\n",
       "            setTimeout(function() {\n",
       "                var nbb_cell_id = 150;\n",
       "                var nbb_unformatted_code = \"df_transactions.isna().sum()\";\n",
       "                var nbb_formatted_code = \"df_transactions.isna().sum()\";\n",
       "                var nbb_cells = Jupyter.notebook.get_cells();\n",
       "                for (var i = 0; i < nbb_cells.length; ++i) {\n",
       "                    if (nbb_cells[i].input_prompt_number == nbb_cell_id) {\n",
       "                        if (nbb_cells[i].get_text() == nbb_unformatted_code) {\n",
       "                             nbb_cells[i].set_text(nbb_formatted_code);\n",
       "                        }\n",
       "                        break;\n",
       "                    }\n",
       "                }\n",
       "            }, 500);\n",
       "            "
      ],
      "text/plain": [
       "<IPython.core.display.Javascript object>"
      ]
     },
     "metadata": {},
     "output_type": "display_data"
    }
   ],
   "source": [
    "df_transactions.isna().sum()"
   ]
  },
  {
   "cell_type": "markdown",
   "metadata": {},
   "source": [
    "### Filter data by number of hitory days"
   ]
  },
  {
   "cell_type": "code",
   "execution_count": 126,
   "metadata": {},
   "outputs": [
    {
     "data": {
      "application/javascript": [
       "\n",
       "            setTimeout(function() {\n",
       "                var nbb_cell_id = 126;\n",
       "                var nbb_unformatted_code = \"def keep_accounts_by_history(\\n    df: pd.DataFrame, min_days: int\\n) -> Tuple[pd.DataFrame, List[int]]:\\n    \\\"\\\"\\\"\\n    Returns number of history days per account while keepong only those having more than `min_days`,\\n    and returns a list of these acounts ids.\\n    \\\"\\\"\\\"\\n    df_transactions_by_account = (\\n        df.groupby(\\\"account_id\\\")[\\\"date\\\"].agg([\\\"size\\\", \\\"min\\\", \\\"max\\\"]).reset_index()\\n    )\\n    df_transactions_by_account[\\\"count_days_of_history\\\"] = (\\n        df_transactions_by_account[\\\"max\\\"] - df_transactions_by_account[\\\"min\\\"]\\n    ).dt.days\\n\\n    df_enough_history = df_transactions_by_account[\\n        df_transactions_by_account[\\\"count_days_of_history\\\"] > min_days\\n    ]\\n\\n    df_transactions_by_account[\\n        \\\"avg_count_transactions_month\\\"\\n    ] = df_transactions_by_account[\\\"size\\\"] / (\\n        df_transactions_by_account[\\\"count_days_of_history\\\"] / 30.0\\n    )\\n\\n    return df_enough_history, list(df_enough_history[\\\"account_id\\\"].unique())\";\n",
       "                var nbb_formatted_code = \"def keep_accounts_by_history(\\n    df: pd.DataFrame, min_days: int\\n) -> Tuple[pd.DataFrame, List[int]]:\\n    \\\"\\\"\\\"\\n    Returns number of history days per account while keepong only those having more than `min_days`,\\n    and returns a list of these acounts ids.\\n    \\\"\\\"\\\"\\n    df_transactions_by_account = (\\n        df.groupby(\\\"account_id\\\")[\\\"date\\\"].agg([\\\"size\\\", \\\"min\\\", \\\"max\\\"]).reset_index()\\n    )\\n    df_transactions_by_account[\\\"count_days_of_history\\\"] = (\\n        df_transactions_by_account[\\\"max\\\"] - df_transactions_by_account[\\\"min\\\"]\\n    ).dt.days\\n\\n    df_enough_history = df_transactions_by_account[\\n        df_transactions_by_account[\\\"count_days_of_history\\\"] > min_days\\n    ]\\n\\n    df_transactions_by_account[\\n        \\\"avg_count_transactions_month\\\"\\n    ] = df_transactions_by_account[\\\"size\\\"] / (\\n        df_transactions_by_account[\\\"count_days_of_history\\\"] / 30.0\\n    )\\n\\n    return df_enough_history, list(df_enough_history[\\\"account_id\\\"].unique())\";\n",
       "                var nbb_cells = Jupyter.notebook.get_cells();\n",
       "                for (var i = 0; i < nbb_cells.length; ++i) {\n",
       "                    if (nbb_cells[i].input_prompt_number == nbb_cell_id) {\n",
       "                        if (nbb_cells[i].get_text() == nbb_unformatted_code) {\n",
       "                             nbb_cells[i].set_text(nbb_formatted_code);\n",
       "                        }\n",
       "                        break;\n",
       "                    }\n",
       "                }\n",
       "            }, 500);\n",
       "            "
      ],
      "text/plain": [
       "<IPython.core.display.Javascript object>"
      ]
     },
     "metadata": {},
     "output_type": "display_data"
    }
   ],
   "source": [
    "def keep_accounts_by_history(\n",
    "    df: pd.DataFrame, min_days: int\n",
    ") -> Tuple[pd.DataFrame, List[int]]:\n",
    "    \"\"\"\n",
    "    Returns number of history days per account while keepong only those having more than `min_days`,\n",
    "    and returns a list of these acounts ids.\n",
    "    \"\"\"\n",
    "    df_transactions_by_account = (\n",
    "        df.groupby(\"account_id\")[\"date\"].agg([\"size\", \"min\", \"max\"]).reset_index()\n",
    "    )\n",
    "    df_transactions_by_account[\"count_days_of_history\"] = (\n",
    "        df_transactions_by_account[\"max\"] - df_transactions_by_account[\"min\"]\n",
    "    ).dt.days\n",
    "\n",
    "    df_enough_history = df_transactions_by_account[\n",
    "        df_transactions_by_account[\"count_days_of_history\"] > min_days\n",
    "    ]\n",
    "\n",
    "    df_transactions_by_account[\n",
    "        \"avg_count_transactions_month\"\n",
    "    ] = df_transactions_by_account[\"size\"] / (\n",
    "        df_transactions_by_account[\"count_days_of_history\"] / 30.0\n",
    "    )\n",
    "\n",
    "    return df_enough_history, list(df_enough_history[\"account_id\"].unique())"
   ]
  },
  {
   "cell_type": "code",
   "execution_count": 127,
   "metadata": {},
   "outputs": [
    {
     "name": "stdout",
     "output_type": "stream",
     "text": [
      "Number of accounts kept: 33\n",
      "[2, 3, 5, 7, 8, 9, 12, 13, 14, 15, 16, 18, 19, 20, 22, 24, 25, 28, 29, 30, 31, 33, 34, 37, 38, 40, 41, 42, 43, 45, 46, 47, 49]\n"
     ]
    },
    {
     "data": {
      "application/javascript": [
       "\n",
       "            setTimeout(function() {\n",
       "                var nbb_cell_id = 127;\n",
       "                var nbb_unformatted_code = \"# Keep only accounts for which we have more than 180 days of data\\nMIN_DAYS = 180\\ndf_transactions_by_account, acounts_to_keep_list = keep_accounts_by_history(\\n    df=df_transactions, min_days=MIN_DAYS\\n)\\nprint(f\\\"Number of accounts kept: {len(acounts_to_keep_list)}\\\\n{acounts_to_keep_list}\\\")\";\n",
       "                var nbb_formatted_code = \"# Keep only accounts for which we have more than 180 days of data\\nMIN_DAYS = 180\\ndf_transactions_by_account, acounts_to_keep_list = keep_accounts_by_history(\\n    df=df_transactions, min_days=MIN_DAYS\\n)\\nprint(f\\\"Number of accounts kept: {len(acounts_to_keep_list)}\\\\n{acounts_to_keep_list}\\\")\";\n",
       "                var nbb_cells = Jupyter.notebook.get_cells();\n",
       "                for (var i = 0; i < nbb_cells.length; ++i) {\n",
       "                    if (nbb_cells[i].input_prompt_number == nbb_cell_id) {\n",
       "                        if (nbb_cells[i].get_text() == nbb_unformatted_code) {\n",
       "                             nbb_cells[i].set_text(nbb_formatted_code);\n",
       "                        }\n",
       "                        break;\n",
       "                    }\n",
       "                }\n",
       "            }, 500);\n",
       "            "
      ],
      "text/plain": [
       "<IPython.core.display.Javascript object>"
      ]
     },
     "metadata": {},
     "output_type": "display_data"
    }
   ],
   "source": [
    "# Keep only accounts for which we have more than 180 days of data\n",
    "MIN_DAYS = 180\n",
    "df_transactions_by_account, acounts_to_keep_list = keep_accounts_by_history(\n",
    "    df=df_transactions, min_days=MIN_DAYS\n",
    ")\n",
    "print(f\"Number of accounts kept: {len(acounts_to_keep_list)}\\n{acounts_to_keep_list}\")"
   ]
  },
  {
   "cell_type": "code",
   "execution_count": 148,
   "metadata": {},
   "outputs": [
    {
     "data": {
      "text/html": [
       "<div>\n",
       "<style scoped>\n",
       "    .dataframe tbody tr th:only-of-type {\n",
       "        vertical-align: middle;\n",
       "    }\n",
       "\n",
       "    .dataframe tbody tr th {\n",
       "        vertical-align: top;\n",
       "    }\n",
       "\n",
       "    .dataframe thead th {\n",
       "        text-align: right;\n",
       "    }\n",
       "</style>\n",
       "<table border=\"1\" class=\"dataframe\">\n",
       "  <thead>\n",
       "    <tr style=\"text-align: right;\">\n",
       "      <th></th>\n",
       "      <th>account_id</th>\n",
       "      <th>size</th>\n",
       "      <th>min</th>\n",
       "      <th>max</th>\n",
       "      <th>count_days_of_history</th>\n",
       "    </tr>\n",
       "  </thead>\n",
       "  <tbody>\n",
       "    <tr>\n",
       "      <th>0</th>\n",
       "      <td>2</td>\n",
       "      <td>1032</td>\n",
       "      <td>2017-05-26</td>\n",
       "      <td>2020-01-16</td>\n",
       "      <td>965</td>\n",
       "    </tr>\n",
       "    <tr>\n",
       "      <th>1</th>\n",
       "      <td>3</td>\n",
       "      <td>518</td>\n",
       "      <td>2019-06-20</td>\n",
       "      <td>2020-01-21</td>\n",
       "      <td>215</td>\n",
       "    </tr>\n",
       "    <tr>\n",
       "      <th>2</th>\n",
       "      <td>5</td>\n",
       "      <td>216</td>\n",
       "      <td>2018-12-19</td>\n",
       "      <td>2019-12-23</td>\n",
       "      <td>369</td>\n",
       "    </tr>\n",
       "    <tr>\n",
       "      <th>3</th>\n",
       "      <td>7</td>\n",
       "      <td>344</td>\n",
       "      <td>2018-12-05</td>\n",
       "      <td>2020-01-22</td>\n",
       "      <td>413</td>\n",
       "    </tr>\n",
       "    <tr>\n",
       "      <th>4</th>\n",
       "      <td>8</td>\n",
       "      <td>1744</td>\n",
       "      <td>2018-10-15</td>\n",
       "      <td>2020-01-23</td>\n",
       "      <td>465</td>\n",
       "    </tr>\n",
       "  </tbody>\n",
       "</table>\n",
       "</div>"
      ],
      "text/plain": [
       "   account_id  size        min        max  count_days_of_history\n",
       "0           2  1032 2017-05-26 2020-01-16                    965\n",
       "1           3   518 2019-06-20 2020-01-21                    215\n",
       "2           5   216 2018-12-19 2019-12-23                    369\n",
       "3           7   344 2018-12-05 2020-01-22                    413\n",
       "4           8  1744 2018-10-15 2020-01-23                    465"
      ]
     },
     "execution_count": 148,
     "metadata": {},
     "output_type": "execute_result"
    },
    {
     "data": {
      "application/javascript": [
       "\n",
       "            setTimeout(function() {\n",
       "                var nbb_cell_id = 148;\n",
       "                var nbb_unformatted_code = \"df_transactions_by_account.head()\";\n",
       "                var nbb_formatted_code = \"df_transactions_by_account.head()\";\n",
       "                var nbb_cells = Jupyter.notebook.get_cells();\n",
       "                for (var i = 0; i < nbb_cells.length; ++i) {\n",
       "                    if (nbb_cells[i].input_prompt_number == nbb_cell_id) {\n",
       "                        if (nbb_cells[i].get_text() == nbb_unformatted_code) {\n",
       "                             nbb_cells[i].set_text(nbb_formatted_code);\n",
       "                        }\n",
       "                        break;\n",
       "                    }\n",
       "                }\n",
       "            }, 500);\n",
       "            "
      ],
      "text/plain": [
       "<IPython.core.display.Javascript object>"
      ]
     },
     "metadata": {},
     "output_type": "display_data"
    }
   ],
   "source": [
    "df_transactions_by_account.head()"
   ]
  },
  {
   "cell_type": "code",
   "execution_count": 128,
   "metadata": {},
   "outputs": [
    {
     "data": {
      "application/javascript": [
       "\n",
       "            setTimeout(function() {\n",
       "                var nbb_cell_id = 128;\n",
       "                var nbb_unformatted_code = \"# Update input data\\ndf_transactions = df_transactions[\\n    df_transactions[\\\"account_id\\\"].isin(acounts_to_keep_list)\\n]\\ndf_accounts = df_accounts[df_accounts[\\\"id\\\"].isin(acounts_to_keep_list)]\\n\\n# Save new data sets\\ndf_transactions.to_csv(\\\"../data/transactions_enough_history.csv\\\", index=False)\\ndf_accounts.to_csv(\\\"../data/accounts_enough_history.csv\\\", index=False)\";\n",
       "                var nbb_formatted_code = \"# Update input data\\ndf_transactions = df_transactions[\\n    df_transactions[\\\"account_id\\\"].isin(acounts_to_keep_list)\\n]\\ndf_accounts = df_accounts[df_accounts[\\\"id\\\"].isin(acounts_to_keep_list)]\\n\\n# Save new data sets\\ndf_transactions.to_csv(\\\"../data/transactions_enough_history.csv\\\", index=False)\\ndf_accounts.to_csv(\\\"../data/accounts_enough_history.csv\\\", index=False)\";\n",
       "                var nbb_cells = Jupyter.notebook.get_cells();\n",
       "                for (var i = 0; i < nbb_cells.length; ++i) {\n",
       "                    if (nbb_cells[i].input_prompt_number == nbb_cell_id) {\n",
       "                        if (nbb_cells[i].get_text() == nbb_unformatted_code) {\n",
       "                             nbb_cells[i].set_text(nbb_formatted_code);\n",
       "                        }\n",
       "                        break;\n",
       "                    }\n",
       "                }\n",
       "            }, 500);\n",
       "            "
      ],
      "text/plain": [
       "<IPython.core.display.Javascript object>"
      ]
     },
     "metadata": {},
     "output_type": "display_data"
    }
   ],
   "source": [
    "# Update input data\n",
    "df_transactions = df_transactions[\n",
    "    df_transactions[\"account_id\"].isin(acounts_to_keep_list)\n",
    "]\n",
    "df_accounts = df_accounts[df_accounts[\"id\"].isin(acounts_to_keep_list)]\n",
    "\n",
    "# Save new data sets\n",
    "df_transactions.to_csv(\"../data/transactions_enough_history.csv\", index=False)\n",
    "df_accounts.to_csv(\"../data/accounts_enough_history.csv\", index=False)"
   ]
  },
  {
   "cell_type": "markdown",
   "metadata": {},
   "source": [
    "### Did all transactions happen before the balance update date ?"
   ]
  },
  {
   "cell_type": "code",
   "execution_count": 129,
   "metadata": {},
   "outputs": [
    {
     "name": "stdout",
     "output_type": "stream",
     "text": [
      "Do we have transactions that happened after the balance update ? False\n"
     ]
    },
    {
     "data": {
      "application/javascript": [
       "\n",
       "            setTimeout(function() {\n",
       "                var nbb_cell_id = 129;\n",
       "                var nbb_unformatted_code = \"df_transactions_and_balance_by_account = pd.merge(\\n    df_transactions_by_account,\\n    df_accounts,\\n    how=\\\"left\\\",\\n    left_on=\\\"account_id\\\",\\n    right_on=\\\"id\\\",\\n    sort=False,\\n)\\nprint(f\\\"Do we have transactions that happened after the balance update ? \\\\\\n{((df_transactions_by_account['max'] - df_transactions_by_account['min']).dt.days < 0).any()}\\\")\";\n",
       "                var nbb_formatted_code = \"df_transactions_and_balance_by_account = pd.merge(\\n    df_transactions_by_account,\\n    df_accounts,\\n    how=\\\"left\\\",\\n    left_on=\\\"account_id\\\",\\n    right_on=\\\"id\\\",\\n    sort=False,\\n)\\nprint(\\n    f\\\"Do we have transactions that happened after the balance update ? \\\\\\n{((df_transactions_by_account['max'] - df_transactions_by_account['min']).dt.days < 0).any()}\\\"\\n)\";\n",
       "                var nbb_cells = Jupyter.notebook.get_cells();\n",
       "                for (var i = 0; i < nbb_cells.length; ++i) {\n",
       "                    if (nbb_cells[i].input_prompt_number == nbb_cell_id) {\n",
       "                        if (nbb_cells[i].get_text() == nbb_unformatted_code) {\n",
       "                             nbb_cells[i].set_text(nbb_formatted_code);\n",
       "                        }\n",
       "                        break;\n",
       "                    }\n",
       "                }\n",
       "            }, 500);\n",
       "            "
      ],
      "text/plain": [
       "<IPython.core.display.Javascript object>"
      ]
     },
     "metadata": {},
     "output_type": "display_data"
    }
   ],
   "source": [
    "df_transactions_and_balance_by_account = pd.merge(\n",
    "    df_transactions_by_account,\n",
    "    df_accounts,\n",
    "    how=\"left\",\n",
    "    left_on=\"account_id\",\n",
    "    right_on=\"id\",\n",
    "    sort=False,\n",
    ")\n",
    "print(f\"Do we have transactions that happened after the balance update ? \\\n",
    "{((df_transactions_by_account['max'] - df_transactions_by_account['min']).dt.days < 0).any()}\")\n"
   ]
  },
  {
   "cell_type": "code",
   "execution_count": 151,
   "metadata": {},
   "outputs": [
    {
     "data": {
      "text/html": [
       "<div>\n",
       "<style scoped>\n",
       "    .dataframe tbody tr th:only-of-type {\n",
       "        vertical-align: middle;\n",
       "    }\n",
       "\n",
       "    .dataframe tbody tr th {\n",
       "        vertical-align: top;\n",
       "    }\n",
       "\n",
       "    .dataframe thead th {\n",
       "        text-align: right;\n",
       "    }\n",
       "</style>\n",
       "<table border=\"1\" class=\"dataframe\">\n",
       "  <thead>\n",
       "    <tr style=\"text-align: right;\">\n",
       "      <th></th>\n",
       "      <th>account_id</th>\n",
       "      <th>size</th>\n",
       "      <th>min</th>\n",
       "      <th>max</th>\n",
       "      <th>count_days_of_history</th>\n",
       "      <th>id</th>\n",
       "      <th>balance</th>\n",
       "      <th>update_date</th>\n",
       "    </tr>\n",
       "  </thead>\n",
       "  <tbody>\n",
       "    <tr>\n",
       "      <th>0</th>\n",
       "      <td>2</td>\n",
       "      <td>1032</td>\n",
       "      <td>2017-05-26</td>\n",
       "      <td>2020-01-16</td>\n",
       "      <td>965</td>\n",
       "      <td>2</td>\n",
       "      <td>3.52</td>\n",
       "      <td>2020-01-16</td>\n",
       "    </tr>\n",
       "    <tr>\n",
       "      <th>1</th>\n",
       "      <td>3</td>\n",
       "      <td>518</td>\n",
       "      <td>2019-06-20</td>\n",
       "      <td>2020-01-21</td>\n",
       "      <td>215</td>\n",
       "      <td>3</td>\n",
       "      <td>-125.57</td>\n",
       "      <td>2020-01-23</td>\n",
       "    </tr>\n",
       "    <tr>\n",
       "      <th>2</th>\n",
       "      <td>5</td>\n",
       "      <td>216</td>\n",
       "      <td>2018-12-19</td>\n",
       "      <td>2019-12-23</td>\n",
       "      <td>369</td>\n",
       "      <td>5</td>\n",
       "      <td>90893.52</td>\n",
       "      <td>2019-12-23</td>\n",
       "    </tr>\n",
       "    <tr>\n",
       "      <th>3</th>\n",
       "      <td>7</td>\n",
       "      <td>344</td>\n",
       "      <td>2018-12-05</td>\n",
       "      <td>2020-01-22</td>\n",
       "      <td>413</td>\n",
       "      <td>7</td>\n",
       "      <td>2.53</td>\n",
       "      <td>2020-01-24</td>\n",
       "    </tr>\n",
       "    <tr>\n",
       "      <th>4</th>\n",
       "      <td>8</td>\n",
       "      <td>1744</td>\n",
       "      <td>2018-10-15</td>\n",
       "      <td>2020-01-23</td>\n",
       "      <td>465</td>\n",
       "      <td>8</td>\n",
       "      <td>2989.05</td>\n",
       "      <td>2020-01-24</td>\n",
       "    </tr>\n",
       "    <tr>\n",
       "      <th>5</th>\n",
       "      <td>9</td>\n",
       "      <td>1008</td>\n",
       "      <td>2019-02-12</td>\n",
       "      <td>2020-01-21</td>\n",
       "      <td>343</td>\n",
       "      <td>9</td>\n",
       "      <td>0.69</td>\n",
       "      <td>2020-01-24</td>\n",
       "    </tr>\n",
       "    <tr>\n",
       "      <th>6</th>\n",
       "      <td>12</td>\n",
       "      <td>485</td>\n",
       "      <td>2018-12-24</td>\n",
       "      <td>2020-01-06</td>\n",
       "      <td>378</td>\n",
       "      <td>12</td>\n",
       "      <td>-321.75</td>\n",
       "      <td>2019-12-24</td>\n",
       "    </tr>\n",
       "    <tr>\n",
       "      <th>7</th>\n",
       "      <td>13</td>\n",
       "      <td>536</td>\n",
       "      <td>2018-02-05</td>\n",
       "      <td>2019-12-12</td>\n",
       "      <td>675</td>\n",
       "      <td>13</td>\n",
       "      <td>-688.47</td>\n",
       "      <td>2019-12-18</td>\n",
       "    </tr>\n",
       "    <tr>\n",
       "      <th>8</th>\n",
       "      <td>14</td>\n",
       "      <td>26</td>\n",
       "      <td>2019-03-14</td>\n",
       "      <td>2019-12-09</td>\n",
       "      <td>270</td>\n",
       "      <td>14</td>\n",
       "      <td>29.58</td>\n",
       "      <td>2019-12-18</td>\n",
       "    </tr>\n",
       "    <tr>\n",
       "      <th>9</th>\n",
       "      <td>15</td>\n",
       "      <td>1244</td>\n",
       "      <td>2018-02-19</td>\n",
       "      <td>2020-01-24</td>\n",
       "      <td>704</td>\n",
       "      <td>15</td>\n",
       "      <td>719.27</td>\n",
       "      <td>2020-01-24</td>\n",
       "    </tr>\n",
       "    <tr>\n",
       "      <th>10</th>\n",
       "      <td>16</td>\n",
       "      <td>1358</td>\n",
       "      <td>2018-12-03</td>\n",
       "      <td>2020-01-23</td>\n",
       "      <td>416</td>\n",
       "      <td>16</td>\n",
       "      <td>228.82</td>\n",
       "      <td>2020-01-24</td>\n",
       "    </tr>\n",
       "    <tr>\n",
       "      <th>11</th>\n",
       "      <td>18</td>\n",
       "      <td>860</td>\n",
       "      <td>2018-12-01</td>\n",
       "      <td>2020-01-23</td>\n",
       "      <td>418</td>\n",
       "      <td>18</td>\n",
       "      <td>39.31</td>\n",
       "      <td>2020-01-24</td>\n",
       "    </tr>\n",
       "    <tr>\n",
       "      <th>12</th>\n",
       "      <td>19</td>\n",
       "      <td>49</td>\n",
       "      <td>2018-12-01</td>\n",
       "      <td>2020-01-11</td>\n",
       "      <td>406</td>\n",
       "      <td>19</td>\n",
       "      <td>1047.10</td>\n",
       "      <td>2020-01-24</td>\n",
       "    </tr>\n",
       "    <tr>\n",
       "      <th>13</th>\n",
       "      <td>20</td>\n",
       "      <td>103</td>\n",
       "      <td>2018-12-05</td>\n",
       "      <td>2020-01-23</td>\n",
       "      <td>414</td>\n",
       "      <td>20</td>\n",
       "      <td>157.99</td>\n",
       "      <td>2020-01-24</td>\n",
       "    </tr>\n",
       "    <tr>\n",
       "      <th>14</th>\n",
       "      <td>22</td>\n",
       "      <td>551</td>\n",
       "      <td>2018-12-03</td>\n",
       "      <td>2020-01-20</td>\n",
       "      <td>413</td>\n",
       "      <td>22</td>\n",
       "      <td>0.91</td>\n",
       "      <td>2020-01-24</td>\n",
       "    </tr>\n",
       "    <tr>\n",
       "      <th>15</th>\n",
       "      <td>24</td>\n",
       "      <td>68</td>\n",
       "      <td>2019-06-05</td>\n",
       "      <td>2020-01-23</td>\n",
       "      <td>232</td>\n",
       "      <td>24</td>\n",
       "      <td>368.56</td>\n",
       "      <td>2020-01-24</td>\n",
       "    </tr>\n",
       "    <tr>\n",
       "      <th>16</th>\n",
       "      <td>25</td>\n",
       "      <td>1440</td>\n",
       "      <td>2018-12-19</td>\n",
       "      <td>2020-01-24</td>\n",
       "      <td>401</td>\n",
       "      <td>25</td>\n",
       "      <td>40.00</td>\n",
       "      <td>2020-01-24</td>\n",
       "    </tr>\n",
       "    <tr>\n",
       "      <th>17</th>\n",
       "      <td>28</td>\n",
       "      <td>1266</td>\n",
       "      <td>2018-02-19</td>\n",
       "      <td>2020-01-24</td>\n",
       "      <td>704</td>\n",
       "      <td>28</td>\n",
       "      <td>13851.00</td>\n",
       "      <td>2020-01-24</td>\n",
       "    </tr>\n",
       "    <tr>\n",
       "      <th>18</th>\n",
       "      <td>29</td>\n",
       "      <td>250</td>\n",
       "      <td>2019-04-30</td>\n",
       "      <td>2020-01-23</td>\n",
       "      <td>268</td>\n",
       "      <td>29</td>\n",
       "      <td>1410.25</td>\n",
       "      <td>2020-01-24</td>\n",
       "    </tr>\n",
       "    <tr>\n",
       "      <th>19</th>\n",
       "      <td>30</td>\n",
       "      <td>357</td>\n",
       "      <td>2019-06-17</td>\n",
       "      <td>2020-01-23</td>\n",
       "      <td>220</td>\n",
       "      <td>30</td>\n",
       "      <td>1565.46</td>\n",
       "      <td>2020-01-24</td>\n",
       "    </tr>\n",
       "    <tr>\n",
       "      <th>20</th>\n",
       "      <td>31</td>\n",
       "      <td>263</td>\n",
       "      <td>2019-06-24</td>\n",
       "      <td>2020-01-23</td>\n",
       "      <td>213</td>\n",
       "      <td>31</td>\n",
       "      <td>13590.59</td>\n",
       "      <td>2020-01-23</td>\n",
       "    </tr>\n",
       "    <tr>\n",
       "      <th>21</th>\n",
       "      <td>33</td>\n",
       "      <td>1207</td>\n",
       "      <td>2018-12-20</td>\n",
       "      <td>2020-01-23</td>\n",
       "      <td>399</td>\n",
       "      <td>33</td>\n",
       "      <td>3899.29</td>\n",
       "      <td>2020-01-23</td>\n",
       "    </tr>\n",
       "    <tr>\n",
       "      <th>22</th>\n",
       "      <td>34</td>\n",
       "      <td>261</td>\n",
       "      <td>2018-12-20</td>\n",
       "      <td>2020-01-28</td>\n",
       "      <td>404</td>\n",
       "      <td>34</td>\n",
       "      <td>1830.71</td>\n",
       "      <td>2020-01-23</td>\n",
       "    </tr>\n",
       "    <tr>\n",
       "      <th>23</th>\n",
       "      <td>37</td>\n",
       "      <td>548</td>\n",
       "      <td>2018-02-27</td>\n",
       "      <td>2020-01-22</td>\n",
       "      <td>694</td>\n",
       "      <td>37</td>\n",
       "      <td>3957.71</td>\n",
       "      <td>2020-01-24</td>\n",
       "    </tr>\n",
       "    <tr>\n",
       "      <th>24</th>\n",
       "      <td>38</td>\n",
       "      <td>462</td>\n",
       "      <td>2019-06-03</td>\n",
       "      <td>2020-01-23</td>\n",
       "      <td>234</td>\n",
       "      <td>38</td>\n",
       "      <td>6708.67</td>\n",
       "      <td>2020-01-24</td>\n",
       "    </tr>\n",
       "    <tr>\n",
       "      <th>25</th>\n",
       "      <td>40</td>\n",
       "      <td>132</td>\n",
       "      <td>2019-05-31</td>\n",
       "      <td>2020-01-15</td>\n",
       "      <td>229</td>\n",
       "      <td>40</td>\n",
       "      <td>2199.23</td>\n",
       "      <td>2020-01-24</td>\n",
       "    </tr>\n",
       "    <tr>\n",
       "      <th>26</th>\n",
       "      <td>41</td>\n",
       "      <td>391</td>\n",
       "      <td>2018-03-08</td>\n",
       "      <td>2020-01-23</td>\n",
       "      <td>686</td>\n",
       "      <td>41</td>\n",
       "      <td>2.88</td>\n",
       "      <td>2020-01-24</td>\n",
       "    </tr>\n",
       "    <tr>\n",
       "      <th>27</th>\n",
       "      <td>42</td>\n",
       "      <td>1065</td>\n",
       "      <td>2018-09-28</td>\n",
       "      <td>2020-01-23</td>\n",
       "      <td>482</td>\n",
       "      <td>42</td>\n",
       "      <td>6433.23</td>\n",
       "      <td>2020-01-24</td>\n",
       "    </tr>\n",
       "    <tr>\n",
       "      <th>28</th>\n",
       "      <td>43</td>\n",
       "      <td>141</td>\n",
       "      <td>2019-01-03</td>\n",
       "      <td>2019-12-30</td>\n",
       "      <td>361</td>\n",
       "      <td>43</td>\n",
       "      <td>28.26</td>\n",
       "      <td>2019-12-31</td>\n",
       "    </tr>\n",
       "    <tr>\n",
       "      <th>29</th>\n",
       "      <td>45</td>\n",
       "      <td>1358</td>\n",
       "      <td>2018-12-03</td>\n",
       "      <td>2020-01-23</td>\n",
       "      <td>416</td>\n",
       "      <td>45</td>\n",
       "      <td>228.82</td>\n",
       "      <td>2020-01-24</td>\n",
       "    </tr>\n",
       "    <tr>\n",
       "      <th>30</th>\n",
       "      <td>46</td>\n",
       "      <td>794</td>\n",
       "      <td>2018-02-09</td>\n",
       "      <td>2020-01-23</td>\n",
       "      <td>713</td>\n",
       "      <td>46</td>\n",
       "      <td>8581.75</td>\n",
       "      <td>2020-01-24</td>\n",
       "    </tr>\n",
       "    <tr>\n",
       "      <th>31</th>\n",
       "      <td>47</td>\n",
       "      <td>171</td>\n",
       "      <td>2018-07-24</td>\n",
       "      <td>2020-01-20</td>\n",
       "      <td>545</td>\n",
       "      <td>47</td>\n",
       "      <td>2187.22</td>\n",
       "      <td>2020-01-24</td>\n",
       "    </tr>\n",
       "    <tr>\n",
       "      <th>32</th>\n",
       "      <td>49</td>\n",
       "      <td>35</td>\n",
       "      <td>2019-06-07</td>\n",
       "      <td>2020-01-21</td>\n",
       "      <td>228</td>\n",
       "      <td>49</td>\n",
       "      <td>538.84</td>\n",
       "      <td>2020-01-24</td>\n",
       "    </tr>\n",
       "  </tbody>\n",
       "</table>\n",
       "</div>"
      ],
      "text/plain": [
       "    account_id  size        min        max  count_days_of_history  id  \\\n",
       "0            2  1032 2017-05-26 2020-01-16                    965   2   \n",
       "1            3   518 2019-06-20 2020-01-21                    215   3   \n",
       "2            5   216 2018-12-19 2019-12-23                    369   5   \n",
       "3            7   344 2018-12-05 2020-01-22                    413   7   \n",
       "4            8  1744 2018-10-15 2020-01-23                    465   8   \n",
       "5            9  1008 2019-02-12 2020-01-21                    343   9   \n",
       "6           12   485 2018-12-24 2020-01-06                    378  12   \n",
       "7           13   536 2018-02-05 2019-12-12                    675  13   \n",
       "8           14    26 2019-03-14 2019-12-09                    270  14   \n",
       "9           15  1244 2018-02-19 2020-01-24                    704  15   \n",
       "10          16  1358 2018-12-03 2020-01-23                    416  16   \n",
       "11          18   860 2018-12-01 2020-01-23                    418  18   \n",
       "12          19    49 2018-12-01 2020-01-11                    406  19   \n",
       "13          20   103 2018-12-05 2020-01-23                    414  20   \n",
       "14          22   551 2018-12-03 2020-01-20                    413  22   \n",
       "15          24    68 2019-06-05 2020-01-23                    232  24   \n",
       "16          25  1440 2018-12-19 2020-01-24                    401  25   \n",
       "17          28  1266 2018-02-19 2020-01-24                    704  28   \n",
       "18          29   250 2019-04-30 2020-01-23                    268  29   \n",
       "19          30   357 2019-06-17 2020-01-23                    220  30   \n",
       "20          31   263 2019-06-24 2020-01-23                    213  31   \n",
       "21          33  1207 2018-12-20 2020-01-23                    399  33   \n",
       "22          34   261 2018-12-20 2020-01-28                    404  34   \n",
       "23          37   548 2018-02-27 2020-01-22                    694  37   \n",
       "24          38   462 2019-06-03 2020-01-23                    234  38   \n",
       "25          40   132 2019-05-31 2020-01-15                    229  40   \n",
       "26          41   391 2018-03-08 2020-01-23                    686  41   \n",
       "27          42  1065 2018-09-28 2020-01-23                    482  42   \n",
       "28          43   141 2019-01-03 2019-12-30                    361  43   \n",
       "29          45  1358 2018-12-03 2020-01-23                    416  45   \n",
       "30          46   794 2018-02-09 2020-01-23                    713  46   \n",
       "31          47   171 2018-07-24 2020-01-20                    545  47   \n",
       "32          49    35 2019-06-07 2020-01-21                    228  49   \n",
       "\n",
       "     balance update_date  \n",
       "0       3.52  2020-01-16  \n",
       "1    -125.57  2020-01-23  \n",
       "2   90893.52  2019-12-23  \n",
       "3       2.53  2020-01-24  \n",
       "4    2989.05  2020-01-24  \n",
       "5       0.69  2020-01-24  \n",
       "6    -321.75  2019-12-24  \n",
       "7    -688.47  2019-12-18  \n",
       "8      29.58  2019-12-18  \n",
       "9     719.27  2020-01-24  \n",
       "10    228.82  2020-01-24  \n",
       "11     39.31  2020-01-24  \n",
       "12   1047.10  2020-01-24  \n",
       "13    157.99  2020-01-24  \n",
       "14      0.91  2020-01-24  \n",
       "15    368.56  2020-01-24  \n",
       "16     40.00  2020-01-24  \n",
       "17  13851.00  2020-01-24  \n",
       "18   1410.25  2020-01-24  \n",
       "19   1565.46  2020-01-24  \n",
       "20  13590.59  2020-01-23  \n",
       "21   3899.29  2020-01-23  \n",
       "22   1830.71  2020-01-23  \n",
       "23   3957.71  2020-01-24  \n",
       "24   6708.67  2020-01-24  \n",
       "25   2199.23  2020-01-24  \n",
       "26      2.88  2020-01-24  \n",
       "27   6433.23  2020-01-24  \n",
       "28     28.26  2019-12-31  \n",
       "29    228.82  2020-01-24  \n",
       "30   8581.75  2020-01-24  \n",
       "31   2187.22  2020-01-24  \n",
       "32    538.84  2020-01-24  "
      ]
     },
     "execution_count": 151,
     "metadata": {},
     "output_type": "execute_result"
    },
    {
     "data": {
      "application/javascript": [
       "\n",
       "            setTimeout(function() {\n",
       "                var nbb_cell_id = 151;\n",
       "                var nbb_unformatted_code = \"df_transactions_and_balance_by_account\";\n",
       "                var nbb_formatted_code = \"df_transactions_and_balance_by_account\";\n",
       "                var nbb_cells = Jupyter.notebook.get_cells();\n",
       "                for (var i = 0; i < nbb_cells.length; ++i) {\n",
       "                    if (nbb_cells[i].input_prompt_number == nbb_cell_id) {\n",
       "                        if (nbb_cells[i].get_text() == nbb_unformatted_code) {\n",
       "                             nbb_cells[i].set_text(nbb_formatted_code);\n",
       "                        }\n",
       "                        break;\n",
       "                    }\n",
       "                }\n",
       "            }, 500);\n",
       "            "
      ],
      "text/plain": [
       "<IPython.core.display.Javascript object>"
      ]
     },
     "metadata": {},
     "output_type": "display_data"
    }
   ],
   "source": [
    "df_transactions_and_balance_by_account"
   ]
  },
  {
   "cell_type": "markdown",
   "metadata": {},
   "source": [
    "- We can use all transactions to compute accounts balance up to their last transactions."
   ]
  },
  {
   "cell_type": "markdown",
   "metadata": {},
   "source": [
    "### Similar accounts"
   ]
  },
  {
   "cell_type": "markdown",
   "metadata": {},
   "source": [
    "When looking at the DataFrame used previously, if seems like there are two very similar accounts: 16 and 45."
   ]
  },
  {
   "cell_type": "code",
   "execution_count": 130,
   "metadata": {
    "scrolled": true
   },
   "outputs": [
    {
     "data": {
      "text/html": [
       "<div>\n",
       "<style scoped>\n",
       "    .dataframe tbody tr th:only-of-type {\n",
       "        vertical-align: middle;\n",
       "    }\n",
       "\n",
       "    .dataframe tbody tr th {\n",
       "        vertical-align: top;\n",
       "    }\n",
       "\n",
       "    .dataframe thead th {\n",
       "        text-align: right;\n",
       "    }\n",
       "</style>\n",
       "<table border=\"1\" class=\"dataframe\">\n",
       "  <thead>\n",
       "    <tr style=\"text-align: right;\">\n",
       "      <th></th>\n",
       "      <th>account_id</th>\n",
       "      <th>size</th>\n",
       "      <th>min</th>\n",
       "      <th>max</th>\n",
       "      <th>count_days_of_history</th>\n",
       "      <th>id</th>\n",
       "      <th>balance</th>\n",
       "      <th>update_date</th>\n",
       "    </tr>\n",
       "  </thead>\n",
       "  <tbody>\n",
       "    <tr>\n",
       "      <th>7</th>\n",
       "      <td>13</td>\n",
       "      <td>536</td>\n",
       "      <td>2018-02-05</td>\n",
       "      <td>2019-12-12</td>\n",
       "      <td>675</td>\n",
       "      <td>13</td>\n",
       "      <td>-688.47</td>\n",
       "      <td>2019-12-18</td>\n",
       "    </tr>\n",
       "    <tr>\n",
       "      <th>6</th>\n",
       "      <td>12</td>\n",
       "      <td>485</td>\n",
       "      <td>2018-12-24</td>\n",
       "      <td>2020-01-06</td>\n",
       "      <td>378</td>\n",
       "      <td>12</td>\n",
       "      <td>-321.75</td>\n",
       "      <td>2019-12-24</td>\n",
       "    </tr>\n",
       "    <tr>\n",
       "      <th>1</th>\n",
       "      <td>3</td>\n",
       "      <td>518</td>\n",
       "      <td>2019-06-20</td>\n",
       "      <td>2020-01-21</td>\n",
       "      <td>215</td>\n",
       "      <td>3</td>\n",
       "      <td>-125.57</td>\n",
       "      <td>2020-01-23</td>\n",
       "    </tr>\n",
       "    <tr>\n",
       "      <th>5</th>\n",
       "      <td>9</td>\n",
       "      <td>1008</td>\n",
       "      <td>2019-02-12</td>\n",
       "      <td>2020-01-21</td>\n",
       "      <td>343</td>\n",
       "      <td>9</td>\n",
       "      <td>0.69</td>\n",
       "      <td>2020-01-24</td>\n",
       "    </tr>\n",
       "    <tr>\n",
       "      <th>14</th>\n",
       "      <td>22</td>\n",
       "      <td>551</td>\n",
       "      <td>2018-12-03</td>\n",
       "      <td>2020-01-20</td>\n",
       "      <td>413</td>\n",
       "      <td>22</td>\n",
       "      <td>0.91</td>\n",
       "      <td>2020-01-24</td>\n",
       "    </tr>\n",
       "    <tr>\n",
       "      <th>3</th>\n",
       "      <td>7</td>\n",
       "      <td>344</td>\n",
       "      <td>2018-12-05</td>\n",
       "      <td>2020-01-22</td>\n",
       "      <td>413</td>\n",
       "      <td>7</td>\n",
       "      <td>2.53</td>\n",
       "      <td>2020-01-24</td>\n",
       "    </tr>\n",
       "    <tr>\n",
       "      <th>26</th>\n",
       "      <td>41</td>\n",
       "      <td>391</td>\n",
       "      <td>2018-03-08</td>\n",
       "      <td>2020-01-23</td>\n",
       "      <td>686</td>\n",
       "      <td>41</td>\n",
       "      <td>2.88</td>\n",
       "      <td>2020-01-24</td>\n",
       "    </tr>\n",
       "    <tr>\n",
       "      <th>0</th>\n",
       "      <td>2</td>\n",
       "      <td>1032</td>\n",
       "      <td>2017-05-26</td>\n",
       "      <td>2020-01-16</td>\n",
       "      <td>965</td>\n",
       "      <td>2</td>\n",
       "      <td>3.52</td>\n",
       "      <td>2020-01-16</td>\n",
       "    </tr>\n",
       "    <tr>\n",
       "      <th>28</th>\n",
       "      <td>43</td>\n",
       "      <td>141</td>\n",
       "      <td>2019-01-03</td>\n",
       "      <td>2019-12-30</td>\n",
       "      <td>361</td>\n",
       "      <td>43</td>\n",
       "      <td>28.26</td>\n",
       "      <td>2019-12-31</td>\n",
       "    </tr>\n",
       "    <tr>\n",
       "      <th>8</th>\n",
       "      <td>14</td>\n",
       "      <td>26</td>\n",
       "      <td>2019-03-14</td>\n",
       "      <td>2019-12-09</td>\n",
       "      <td>270</td>\n",
       "      <td>14</td>\n",
       "      <td>29.58</td>\n",
       "      <td>2019-12-18</td>\n",
       "    </tr>\n",
       "    <tr>\n",
       "      <th>11</th>\n",
       "      <td>18</td>\n",
       "      <td>860</td>\n",
       "      <td>2018-12-01</td>\n",
       "      <td>2020-01-23</td>\n",
       "      <td>418</td>\n",
       "      <td>18</td>\n",
       "      <td>39.31</td>\n",
       "      <td>2020-01-24</td>\n",
       "    </tr>\n",
       "    <tr>\n",
       "      <th>16</th>\n",
       "      <td>25</td>\n",
       "      <td>1440</td>\n",
       "      <td>2018-12-19</td>\n",
       "      <td>2020-01-24</td>\n",
       "      <td>401</td>\n",
       "      <td>25</td>\n",
       "      <td>40.00</td>\n",
       "      <td>2020-01-24</td>\n",
       "    </tr>\n",
       "    <tr>\n",
       "      <th>13</th>\n",
       "      <td>20</td>\n",
       "      <td>103</td>\n",
       "      <td>2018-12-05</td>\n",
       "      <td>2020-01-23</td>\n",
       "      <td>414</td>\n",
       "      <td>20</td>\n",
       "      <td>157.99</td>\n",
       "      <td>2020-01-24</td>\n",
       "    </tr>\n",
       "    <tr>\n",
       "      <th>29</th>\n",
       "      <td>45</td>\n",
       "      <td>1358</td>\n",
       "      <td>2018-12-03</td>\n",
       "      <td>2020-01-23</td>\n",
       "      <td>416</td>\n",
       "      <td>45</td>\n",
       "      <td>228.82</td>\n",
       "      <td>2020-01-24</td>\n",
       "    </tr>\n",
       "    <tr>\n",
       "      <th>10</th>\n",
       "      <td>16</td>\n",
       "      <td>1358</td>\n",
       "      <td>2018-12-03</td>\n",
       "      <td>2020-01-23</td>\n",
       "      <td>416</td>\n",
       "      <td>16</td>\n",
       "      <td>228.82</td>\n",
       "      <td>2020-01-24</td>\n",
       "    </tr>\n",
       "    <tr>\n",
       "      <th>15</th>\n",
       "      <td>24</td>\n",
       "      <td>68</td>\n",
       "      <td>2019-06-05</td>\n",
       "      <td>2020-01-23</td>\n",
       "      <td>232</td>\n",
       "      <td>24</td>\n",
       "      <td>368.56</td>\n",
       "      <td>2020-01-24</td>\n",
       "    </tr>\n",
       "    <tr>\n",
       "      <th>32</th>\n",
       "      <td>49</td>\n",
       "      <td>35</td>\n",
       "      <td>2019-06-07</td>\n",
       "      <td>2020-01-21</td>\n",
       "      <td>228</td>\n",
       "      <td>49</td>\n",
       "      <td>538.84</td>\n",
       "      <td>2020-01-24</td>\n",
       "    </tr>\n",
       "    <tr>\n",
       "      <th>9</th>\n",
       "      <td>15</td>\n",
       "      <td>1244</td>\n",
       "      <td>2018-02-19</td>\n",
       "      <td>2020-01-24</td>\n",
       "      <td>704</td>\n",
       "      <td>15</td>\n",
       "      <td>719.27</td>\n",
       "      <td>2020-01-24</td>\n",
       "    </tr>\n",
       "    <tr>\n",
       "      <th>12</th>\n",
       "      <td>19</td>\n",
       "      <td>49</td>\n",
       "      <td>2018-12-01</td>\n",
       "      <td>2020-01-11</td>\n",
       "      <td>406</td>\n",
       "      <td>19</td>\n",
       "      <td>1047.10</td>\n",
       "      <td>2020-01-24</td>\n",
       "    </tr>\n",
       "    <tr>\n",
       "      <th>18</th>\n",
       "      <td>29</td>\n",
       "      <td>250</td>\n",
       "      <td>2019-04-30</td>\n",
       "      <td>2020-01-23</td>\n",
       "      <td>268</td>\n",
       "      <td>29</td>\n",
       "      <td>1410.25</td>\n",
       "      <td>2020-01-24</td>\n",
       "    </tr>\n",
       "    <tr>\n",
       "      <th>19</th>\n",
       "      <td>30</td>\n",
       "      <td>357</td>\n",
       "      <td>2019-06-17</td>\n",
       "      <td>2020-01-23</td>\n",
       "      <td>220</td>\n",
       "      <td>30</td>\n",
       "      <td>1565.46</td>\n",
       "      <td>2020-01-24</td>\n",
       "    </tr>\n",
       "    <tr>\n",
       "      <th>22</th>\n",
       "      <td>34</td>\n",
       "      <td>261</td>\n",
       "      <td>2018-12-20</td>\n",
       "      <td>2020-01-28</td>\n",
       "      <td>404</td>\n",
       "      <td>34</td>\n",
       "      <td>1830.71</td>\n",
       "      <td>2020-01-23</td>\n",
       "    </tr>\n",
       "    <tr>\n",
       "      <th>31</th>\n",
       "      <td>47</td>\n",
       "      <td>171</td>\n",
       "      <td>2018-07-24</td>\n",
       "      <td>2020-01-20</td>\n",
       "      <td>545</td>\n",
       "      <td>47</td>\n",
       "      <td>2187.22</td>\n",
       "      <td>2020-01-24</td>\n",
       "    </tr>\n",
       "    <tr>\n",
       "      <th>25</th>\n",
       "      <td>40</td>\n",
       "      <td>132</td>\n",
       "      <td>2019-05-31</td>\n",
       "      <td>2020-01-15</td>\n",
       "      <td>229</td>\n",
       "      <td>40</td>\n",
       "      <td>2199.23</td>\n",
       "      <td>2020-01-24</td>\n",
       "    </tr>\n",
       "    <tr>\n",
       "      <th>4</th>\n",
       "      <td>8</td>\n",
       "      <td>1744</td>\n",
       "      <td>2018-10-15</td>\n",
       "      <td>2020-01-23</td>\n",
       "      <td>465</td>\n",
       "      <td>8</td>\n",
       "      <td>2989.05</td>\n",
       "      <td>2020-01-24</td>\n",
       "    </tr>\n",
       "    <tr>\n",
       "      <th>21</th>\n",
       "      <td>33</td>\n",
       "      <td>1207</td>\n",
       "      <td>2018-12-20</td>\n",
       "      <td>2020-01-23</td>\n",
       "      <td>399</td>\n",
       "      <td>33</td>\n",
       "      <td>3899.29</td>\n",
       "      <td>2020-01-23</td>\n",
       "    </tr>\n",
       "    <tr>\n",
       "      <th>23</th>\n",
       "      <td>37</td>\n",
       "      <td>548</td>\n",
       "      <td>2018-02-27</td>\n",
       "      <td>2020-01-22</td>\n",
       "      <td>694</td>\n",
       "      <td>37</td>\n",
       "      <td>3957.71</td>\n",
       "      <td>2020-01-24</td>\n",
       "    </tr>\n",
       "    <tr>\n",
       "      <th>27</th>\n",
       "      <td>42</td>\n",
       "      <td>1065</td>\n",
       "      <td>2018-09-28</td>\n",
       "      <td>2020-01-23</td>\n",
       "      <td>482</td>\n",
       "      <td>42</td>\n",
       "      <td>6433.23</td>\n",
       "      <td>2020-01-24</td>\n",
       "    </tr>\n",
       "    <tr>\n",
       "      <th>24</th>\n",
       "      <td>38</td>\n",
       "      <td>462</td>\n",
       "      <td>2019-06-03</td>\n",
       "      <td>2020-01-23</td>\n",
       "      <td>234</td>\n",
       "      <td>38</td>\n",
       "      <td>6708.67</td>\n",
       "      <td>2020-01-24</td>\n",
       "    </tr>\n",
       "    <tr>\n",
       "      <th>30</th>\n",
       "      <td>46</td>\n",
       "      <td>794</td>\n",
       "      <td>2018-02-09</td>\n",
       "      <td>2020-01-23</td>\n",
       "      <td>713</td>\n",
       "      <td>46</td>\n",
       "      <td>8581.75</td>\n",
       "      <td>2020-01-24</td>\n",
       "    </tr>\n",
       "    <tr>\n",
       "      <th>20</th>\n",
       "      <td>31</td>\n",
       "      <td>263</td>\n",
       "      <td>2019-06-24</td>\n",
       "      <td>2020-01-23</td>\n",
       "      <td>213</td>\n",
       "      <td>31</td>\n",
       "      <td>13590.59</td>\n",
       "      <td>2020-01-23</td>\n",
       "    </tr>\n",
       "    <tr>\n",
       "      <th>17</th>\n",
       "      <td>28</td>\n",
       "      <td>1266</td>\n",
       "      <td>2018-02-19</td>\n",
       "      <td>2020-01-24</td>\n",
       "      <td>704</td>\n",
       "      <td>28</td>\n",
       "      <td>13851.00</td>\n",
       "      <td>2020-01-24</td>\n",
       "    </tr>\n",
       "    <tr>\n",
       "      <th>2</th>\n",
       "      <td>5</td>\n",
       "      <td>216</td>\n",
       "      <td>2018-12-19</td>\n",
       "      <td>2019-12-23</td>\n",
       "      <td>369</td>\n",
       "      <td>5</td>\n",
       "      <td>90893.52</td>\n",
       "      <td>2019-12-23</td>\n",
       "    </tr>\n",
       "  </tbody>\n",
       "</table>\n",
       "</div>"
      ],
      "text/plain": [
       "    account_id  size        min        max  count_days_of_history  id  \\\n",
       "7           13   536 2018-02-05 2019-12-12                    675  13   \n",
       "6           12   485 2018-12-24 2020-01-06                    378  12   \n",
       "1            3   518 2019-06-20 2020-01-21                    215   3   \n",
       "5            9  1008 2019-02-12 2020-01-21                    343   9   \n",
       "14          22   551 2018-12-03 2020-01-20                    413  22   \n",
       "3            7   344 2018-12-05 2020-01-22                    413   7   \n",
       "26          41   391 2018-03-08 2020-01-23                    686  41   \n",
       "0            2  1032 2017-05-26 2020-01-16                    965   2   \n",
       "28          43   141 2019-01-03 2019-12-30                    361  43   \n",
       "8           14    26 2019-03-14 2019-12-09                    270  14   \n",
       "11          18   860 2018-12-01 2020-01-23                    418  18   \n",
       "16          25  1440 2018-12-19 2020-01-24                    401  25   \n",
       "13          20   103 2018-12-05 2020-01-23                    414  20   \n",
       "29          45  1358 2018-12-03 2020-01-23                    416  45   \n",
       "10          16  1358 2018-12-03 2020-01-23                    416  16   \n",
       "15          24    68 2019-06-05 2020-01-23                    232  24   \n",
       "32          49    35 2019-06-07 2020-01-21                    228  49   \n",
       "9           15  1244 2018-02-19 2020-01-24                    704  15   \n",
       "12          19    49 2018-12-01 2020-01-11                    406  19   \n",
       "18          29   250 2019-04-30 2020-01-23                    268  29   \n",
       "19          30   357 2019-06-17 2020-01-23                    220  30   \n",
       "22          34   261 2018-12-20 2020-01-28                    404  34   \n",
       "31          47   171 2018-07-24 2020-01-20                    545  47   \n",
       "25          40   132 2019-05-31 2020-01-15                    229  40   \n",
       "4            8  1744 2018-10-15 2020-01-23                    465   8   \n",
       "21          33  1207 2018-12-20 2020-01-23                    399  33   \n",
       "23          37   548 2018-02-27 2020-01-22                    694  37   \n",
       "27          42  1065 2018-09-28 2020-01-23                    482  42   \n",
       "24          38   462 2019-06-03 2020-01-23                    234  38   \n",
       "30          46   794 2018-02-09 2020-01-23                    713  46   \n",
       "20          31   263 2019-06-24 2020-01-23                    213  31   \n",
       "17          28  1266 2018-02-19 2020-01-24                    704  28   \n",
       "2            5   216 2018-12-19 2019-12-23                    369   5   \n",
       "\n",
       "     balance update_date  \n",
       "7    -688.47  2019-12-18  \n",
       "6    -321.75  2019-12-24  \n",
       "1    -125.57  2020-01-23  \n",
       "5       0.69  2020-01-24  \n",
       "14      0.91  2020-01-24  \n",
       "3       2.53  2020-01-24  \n",
       "26      2.88  2020-01-24  \n",
       "0       3.52  2020-01-16  \n",
       "28     28.26  2019-12-31  \n",
       "8      29.58  2019-12-18  \n",
       "11     39.31  2020-01-24  \n",
       "16     40.00  2020-01-24  \n",
       "13    157.99  2020-01-24  \n",
       "29    228.82  2020-01-24  \n",
       "10    228.82  2020-01-24  \n",
       "15    368.56  2020-01-24  \n",
       "32    538.84  2020-01-24  \n",
       "9     719.27  2020-01-24  \n",
       "12   1047.10  2020-01-24  \n",
       "18   1410.25  2020-01-24  \n",
       "19   1565.46  2020-01-24  \n",
       "22   1830.71  2020-01-23  \n",
       "31   2187.22  2020-01-24  \n",
       "25   2199.23  2020-01-24  \n",
       "4    2989.05  2020-01-24  \n",
       "21   3899.29  2020-01-23  \n",
       "23   3957.71  2020-01-24  \n",
       "27   6433.23  2020-01-24  \n",
       "24   6708.67  2020-01-24  \n",
       "30   8581.75  2020-01-24  \n",
       "20  13590.59  2020-01-23  \n",
       "17  13851.00  2020-01-24  \n",
       "2   90893.52  2019-12-23  "
      ]
     },
     "execution_count": 130,
     "metadata": {},
     "output_type": "execute_result"
    },
    {
     "data": {
      "application/javascript": [
       "\n",
       "            setTimeout(function() {\n",
       "                var nbb_cell_id = 130;\n",
       "                var nbb_unformatted_code = \"df_transactions_and_balance_by_account.sort_values(by=\\\"balance\\\")\";\n",
       "                var nbb_formatted_code = \"df_transactions_and_balance_by_account.sort_values(by=\\\"balance\\\")\";\n",
       "                var nbb_cells = Jupyter.notebook.get_cells();\n",
       "                for (var i = 0; i < nbb_cells.length; ++i) {\n",
       "                    if (nbb_cells[i].input_prompt_number == nbb_cell_id) {\n",
       "                        if (nbb_cells[i].get_text() == nbb_unformatted_code) {\n",
       "                             nbb_cells[i].set_text(nbb_formatted_code);\n",
       "                        }\n",
       "                        break;\n",
       "                    }\n",
       "                }\n",
       "            }, 500);\n",
       "            "
      ],
      "text/plain": [
       "<IPython.core.display.Javascript object>"
      ]
     },
     "metadata": {},
     "output_type": "display_data"
    }
   ],
   "source": [
    "df_transactions_and_balance_by_account.sort_values(by=\"balance\")"
   ]
  },
  {
   "cell_type": "markdown",
   "metadata": {},
   "source": [
    "Let us plot their transactions by date"
   ]
  },
  {
   "cell_type": "code",
   "execution_count": 131,
   "metadata": {},
   "outputs": [
    {
     "data": {
      "text/plain": [
       "Text(0.5, 1.0, 'Transactions made by both accounts 16 and 45')"
      ]
     },
     "execution_count": 131,
     "metadata": {},
     "output_type": "execute_result"
    },
    {
     "data": {
      "image/png": "[encoded data removed]",
      "text/plain": [
       "<Figure size 1152x432 with 1 Axes>"
      ]
     },
     "metadata": {},
     "output_type": "display_data"
    },
    {
     "data": {
      "application/javascript": [
       "\n",
       "            setTimeout(function() {\n",
       "                var nbb_cell_id = 131;\n",
       "                var nbb_unformatted_code = \"plt.figure(figsize=(16, 6))\\nplt.scatter(\\n    df_transactions[df_transactions[\\\"account_id\\\"] == 16][\\\"date\\\"],\\n    df_transactions[df_transactions[\\\"account_id\\\"] == 16][\\\"amount\\\"],\\n    label=\\\"Account ID = 16\\\",\\n    color=\\\"b\\\",\\n)\\nplt.scatter(\\n    df_transactions[df_transactions[\\\"account_id\\\"] == 45][\\\"date\\\"],\\n    df_transactions[df_transactions[\\\"account_id\\\"] == 45][\\\"amount\\\"],\\n    label=\\\"Account ID = 45\\\",\\n    color=\\\"r\\\",\\n)\\nplt.legend()\\nplt.title(\\\"Transactions made by both accounts 16 and 45\\\", fontsize=16)\";\n",
       "                var nbb_formatted_code = \"plt.figure(figsize=(16, 6))\\nplt.scatter(\\n    df_transactions[df_transactions[\\\"account_id\\\"] == 16][\\\"date\\\"],\\n    df_transactions[df_transactions[\\\"account_id\\\"] == 16][\\\"amount\\\"],\\n    label=\\\"Account ID = 16\\\",\\n    color=\\\"b\\\",\\n)\\nplt.scatter(\\n    df_transactions[df_transactions[\\\"account_id\\\"] == 45][\\\"date\\\"],\\n    df_transactions[df_transactions[\\\"account_id\\\"] == 45][\\\"amount\\\"],\\n    label=\\\"Account ID = 45\\\",\\n    color=\\\"r\\\",\\n)\\nplt.legend()\\nplt.title(\\\"Transactions made by both accounts 16 and 45\\\", fontsize=16)\";\n",
       "                var nbb_cells = Jupyter.notebook.get_cells();\n",
       "                for (var i = 0; i < nbb_cells.length; ++i) {\n",
       "                    if (nbb_cells[i].input_prompt_number == nbb_cell_id) {\n",
       "                        if (nbb_cells[i].get_text() == nbb_unformatted_code) {\n",
       "                             nbb_cells[i].set_text(nbb_formatted_code);\n",
       "                        }\n",
       "                        break;\n",
       "                    }\n",
       "                }\n",
       "            }, 500);\n",
       "            "
      ],
      "text/plain": [
       "<IPython.core.display.Javascript object>"
      ]
     },
     "metadata": {},
     "output_type": "display_data"
    }
   ],
   "source": [
    "plt.figure(figsize=(16, 6))\n",
    "plt.scatter(\n",
    "    df_transactions[df_transactions[\"account_id\"] == 16][\"date\"],\n",
    "    df_transactions[df_transactions[\"account_id\"] == 16][\"amount\"],\n",
    "    label=\"Account ID = 16\",\n",
    "    color=\"b\",\n",
    ")\n",
    "plt.scatter(\n",
    "    df_transactions[df_transactions[\"account_id\"] == 45][\"date\"],\n",
    "    df_transactions[df_transactions[\"account_id\"] == 45][\"amount\"],\n",
    "    label=\"Account ID = 45\",\n",
    "    color=\"r\",\n",
    ")\n",
    "plt.legend()\n",
    "plt.title(\"Transactions made by both accounts 16 and 45\", fontsize=16)"
   ]
  },
  {
   "cell_type": "markdown",
   "metadata": {},
   "source": [
    "Let us make a check of similarity between both accounts."
   ]
  },
  {
   "cell_type": "code",
   "execution_count": 132,
   "metadata": {},
   "outputs": [
    {
     "data": {
      "application/javascript": [
       "\n",
       "            setTimeout(function() {\n",
       "                var nbb_cell_id = 132;\n",
       "                var nbb_unformatted_code = \"assert_frame_equal(\\n        df_transactions[df_transactions[\\\"account_id\\\"] == 16]\\n        .drop([\\\"account_id\\\"], axis=1)\\n        .sort_values(by=[\\\"date\\\", \\\"amount\\\"])\\n        .reset_index(drop=True),\\n        df_transactions[df_transactions[\\\"account_id\\\"] == 45]\\n        .drop([\\\"account_id\\\"], axis=1)\\n        .sort_values(by=[\\\"date\\\", \\\"amount\\\"])\\n        .reset_index(drop=True),\\n    )\";\n",
       "                var nbb_formatted_code = \"assert_frame_equal(\\n    df_transactions[df_transactions[\\\"account_id\\\"] == 16]\\n    .drop([\\\"account_id\\\"], axis=1)\\n    .sort_values(by=[\\\"date\\\", \\\"amount\\\"])\\n    .reset_index(drop=True),\\n    df_transactions[df_transactions[\\\"account_id\\\"] == 45]\\n    .drop([\\\"account_id\\\"], axis=1)\\n    .sort_values(by=[\\\"date\\\", \\\"amount\\\"])\\n    .reset_index(drop=True),\\n)\";\n",
       "                var nbb_cells = Jupyter.notebook.get_cells();\n",
       "                for (var i = 0; i < nbb_cells.length; ++i) {\n",
       "                    if (nbb_cells[i].input_prompt_number == nbb_cell_id) {\n",
       "                        if (nbb_cells[i].get_text() == nbb_unformatted_code) {\n",
       "                             nbb_cells[i].set_text(nbb_formatted_code);\n",
       "                        }\n",
       "                        break;\n",
       "                    }\n",
       "                }\n",
       "            }, 500);\n",
       "            "
      ],
      "text/plain": [
       "<IPython.core.display.Javascript object>"
      ]
     },
     "metadata": {},
     "output_type": "display_data"
    }
   ],
   "source": [
    "assert_frame_equal(\n",
    "        df_transactions[df_transactions[\"account_id\"] == 16]\n",
    "        .drop([\"account_id\"], axis=1)\n",
    "        .sort_values(by=[\"date\", \"amount\"])\n",
    "        .reset_index(drop=True),\n",
    "        df_transactions[df_transactions[\"account_id\"] == 45]\n",
    "        .drop([\"account_id\"], axis=1)\n",
    "        .sort_values(by=[\"date\", \"amount\"])\n",
    "        .reset_index(drop=True),\n",
    "    )\n"
   ]
  },
  {
   "cell_type": "markdown",
   "metadata": {},
   "source": [
    "The two accounts have exactly the same transactions. \n",
    "\n",
    "It might me a shared account with two different IDs, or it is just a duplicate. \n",
    "\n",
    "Having the time of transactions can be helpful to better understand the reason of that duplicate.\n",
    "\n",
    "- I will get rid of one of the accounts: 45"
   ]
  },
  {
   "cell_type": "code",
   "execution_count": 133,
   "metadata": {},
   "outputs": [
    {
     "data": {
      "application/javascript": [
       "\n",
       "            setTimeout(function() {\n",
       "                var nbb_cell_id = 133;\n",
       "                var nbb_unformatted_code = \"acounts_to_keep_list.remove(45)\";\n",
       "                var nbb_formatted_code = \"acounts_to_keep_list.remove(45)\";\n",
       "                var nbb_cells = Jupyter.notebook.get_cells();\n",
       "                for (var i = 0; i < nbb_cells.length; ++i) {\n",
       "                    if (nbb_cells[i].input_prompt_number == nbb_cell_id) {\n",
       "                        if (nbb_cells[i].get_text() == nbb_unformatted_code) {\n",
       "                             nbb_cells[i].set_text(nbb_formatted_code);\n",
       "                        }\n",
       "                        break;\n",
       "                    }\n",
       "                }\n",
       "            }, 500);\n",
       "            "
      ],
      "text/plain": [
       "<IPython.core.display.Javascript object>"
      ]
     },
     "metadata": {},
     "output_type": "display_data"
    }
   ],
   "source": [
    "acounts_to_keep_list.remove(45)\n"
   ]
  },
  {
   "cell_type": "markdown",
   "metadata": {},
   "source": [
    "I could check make a function that checks all pairs of accounts we have and see if we have other duplicates, but from the previous dataframe, it seems that we don't"
   ]
  },
  {
   "cell_type": "code",
   "execution_count": 134,
   "metadata": {},
   "outputs": [
    {
     "data": {
      "application/javascript": [
       "\n",
       "            setTimeout(function() {\n",
       "                var nbb_cell_id = 134;\n",
       "                var nbb_unformatted_code = \"# Update input data\\ndf_transactions = df_transactions[\\n    df_transactions[\\\"account_id\\\"].isin(acounts_to_keep_list)\\n]\\ndf_accounts = df_accounts[df_accounts[\\\"id\\\"].isin(acounts_to_keep_list)]\\n\\n# Save new data sets\\ndf_transactions.to_csv(\\\"../data/transactions_enough_history.csv\\\", index=False)\\ndf_accounts.to_csv(\\\"../data/accounts_enough_history.csv\\\", index=False)\";\n",
       "                var nbb_formatted_code = \"# Update input data\\ndf_transactions = df_transactions[\\n    df_transactions[\\\"account_id\\\"].isin(acounts_to_keep_list)\\n]\\ndf_accounts = df_accounts[df_accounts[\\\"id\\\"].isin(acounts_to_keep_list)]\\n\\n# Save new data sets\\ndf_transactions.to_csv(\\\"../data/transactions_enough_history.csv\\\", index=False)\\ndf_accounts.to_csv(\\\"../data/accounts_enough_history.csv\\\", index=False)\";\n",
       "                var nbb_cells = Jupyter.notebook.get_cells();\n",
       "                for (var i = 0; i < nbb_cells.length; ++i) {\n",
       "                    if (nbb_cells[i].input_prompt_number == nbb_cell_id) {\n",
       "                        if (nbb_cells[i].get_text() == nbb_unformatted_code) {\n",
       "                             nbb_cells[i].set_text(nbb_formatted_code);\n",
       "                        }\n",
       "                        break;\n",
       "                    }\n",
       "                }\n",
       "            }, 500);\n",
       "            "
      ],
      "text/plain": [
       "<IPython.core.display.Javascript object>"
      ]
     },
     "metadata": {},
     "output_type": "display_data"
    }
   ],
   "source": [
    "# Update input data\n",
    "df_transactions = df_transactions[\n",
    "    df_transactions[\"account_id\"].isin(acounts_to_keep_list)\n",
    "]\n",
    "df_accounts = df_accounts[df_accounts[\"id\"].isin(acounts_to_keep_list)]\n",
    "\n",
    "# Save new data sets\n",
    "df_transactions.to_csv(\"../data/transactions_enough_history.csv\", index=False)\n",
    "df_accounts.to_csv(\"../data/accounts_enough_history.csv\", index=False)\n"
   ]
  },
  {
   "cell_type": "markdown",
   "metadata": {},
   "source": [
    "### Number of transactions per account"
   ]
  },
  {
   "cell_type": "code",
   "execution_count": 135,
   "metadata": {},
   "outputs": [
    {
     "data": {
      "text/html": [
       "<div>\n",
       "<style scoped>\n",
       "    .dataframe tbody tr th:only-of-type {\n",
       "        vertical-align: middle;\n",
       "    }\n",
       "\n",
       "    .dataframe tbody tr th {\n",
       "        vertical-align: top;\n",
       "    }\n",
       "\n",
       "    .dataframe thead th {\n",
       "        text-align: right;\n",
       "    }\n",
       "</style>\n",
       "<table border=\"1\" class=\"dataframe\">\n",
       "  <thead>\n",
       "    <tr style=\"text-align: right;\">\n",
       "      <th></th>\n",
       "      <th>account_id</th>\n",
       "      <th>count_days_of_history</th>\n",
       "      <th>size</th>\n",
       "      <th>balance</th>\n",
       "    </tr>\n",
       "  </thead>\n",
       "  <tbody>\n",
       "    <tr>\n",
       "      <th>8</th>\n",
       "      <td>14</td>\n",
       "      <td>270</td>\n",
       "      <td>26</td>\n",
       "      <td>29.58</td>\n",
       "    </tr>\n",
       "    <tr>\n",
       "      <th>32</th>\n",
       "      <td>49</td>\n",
       "      <td>228</td>\n",
       "      <td>35</td>\n",
       "      <td>538.84</td>\n",
       "    </tr>\n",
       "    <tr>\n",
       "      <th>12</th>\n",
       "      <td>19</td>\n",
       "      <td>406</td>\n",
       "      <td>49</td>\n",
       "      <td>1047.10</td>\n",
       "    </tr>\n",
       "    <tr>\n",
       "      <th>15</th>\n",
       "      <td>24</td>\n",
       "      <td>232</td>\n",
       "      <td>68</td>\n",
       "      <td>368.56</td>\n",
       "    </tr>\n",
       "    <tr>\n",
       "      <th>13</th>\n",
       "      <td>20</td>\n",
       "      <td>414</td>\n",
       "      <td>103</td>\n",
       "      <td>157.99</td>\n",
       "    </tr>\n",
       "    <tr>\n",
       "      <th>25</th>\n",
       "      <td>40</td>\n",
       "      <td>229</td>\n",
       "      <td>132</td>\n",
       "      <td>2199.23</td>\n",
       "    </tr>\n",
       "    <tr>\n",
       "      <th>28</th>\n",
       "      <td>43</td>\n",
       "      <td>361</td>\n",
       "      <td>141</td>\n",
       "      <td>28.26</td>\n",
       "    </tr>\n",
       "    <tr>\n",
       "      <th>31</th>\n",
       "      <td>47</td>\n",
       "      <td>545</td>\n",
       "      <td>171</td>\n",
       "      <td>2187.22</td>\n",
       "    </tr>\n",
       "    <tr>\n",
       "      <th>2</th>\n",
       "      <td>5</td>\n",
       "      <td>369</td>\n",
       "      <td>216</td>\n",
       "      <td>90893.52</td>\n",
       "    </tr>\n",
       "    <tr>\n",
       "      <th>18</th>\n",
       "      <td>29</td>\n",
       "      <td>268</td>\n",
       "      <td>250</td>\n",
       "      <td>1410.25</td>\n",
       "    </tr>\n",
       "    <tr>\n",
       "      <th>22</th>\n",
       "      <td>34</td>\n",
       "      <td>404</td>\n",
       "      <td>261</td>\n",
       "      <td>1830.71</td>\n",
       "    </tr>\n",
       "    <tr>\n",
       "      <th>20</th>\n",
       "      <td>31</td>\n",
       "      <td>213</td>\n",
       "      <td>263</td>\n",
       "      <td>13590.59</td>\n",
       "    </tr>\n",
       "    <tr>\n",
       "      <th>3</th>\n",
       "      <td>7</td>\n",
       "      <td>413</td>\n",
       "      <td>344</td>\n",
       "      <td>2.53</td>\n",
       "    </tr>\n",
       "    <tr>\n",
       "      <th>19</th>\n",
       "      <td>30</td>\n",
       "      <td>220</td>\n",
       "      <td>357</td>\n",
       "      <td>1565.46</td>\n",
       "    </tr>\n",
       "    <tr>\n",
       "      <th>26</th>\n",
       "      <td>41</td>\n",
       "      <td>686</td>\n",
       "      <td>391</td>\n",
       "      <td>2.88</td>\n",
       "    </tr>\n",
       "    <tr>\n",
       "      <th>24</th>\n",
       "      <td>38</td>\n",
       "      <td>234</td>\n",
       "      <td>462</td>\n",
       "      <td>6708.67</td>\n",
       "    </tr>\n",
       "    <tr>\n",
       "      <th>6</th>\n",
       "      <td>12</td>\n",
       "      <td>378</td>\n",
       "      <td>485</td>\n",
       "      <td>-321.75</td>\n",
       "    </tr>\n",
       "    <tr>\n",
       "      <th>1</th>\n",
       "      <td>3</td>\n",
       "      <td>215</td>\n",
       "      <td>518</td>\n",
       "      <td>-125.57</td>\n",
       "    </tr>\n",
       "    <tr>\n",
       "      <th>7</th>\n",
       "      <td>13</td>\n",
       "      <td>675</td>\n",
       "      <td>536</td>\n",
       "      <td>-688.47</td>\n",
       "    </tr>\n",
       "    <tr>\n",
       "      <th>23</th>\n",
       "      <td>37</td>\n",
       "      <td>694</td>\n",
       "      <td>548</td>\n",
       "      <td>3957.71</td>\n",
       "    </tr>\n",
       "    <tr>\n",
       "      <th>14</th>\n",
       "      <td>22</td>\n",
       "      <td>413</td>\n",
       "      <td>551</td>\n",
       "      <td>0.91</td>\n",
       "    </tr>\n",
       "    <tr>\n",
       "      <th>30</th>\n",
       "      <td>46</td>\n",
       "      <td>713</td>\n",
       "      <td>794</td>\n",
       "      <td>8581.75</td>\n",
       "    </tr>\n",
       "    <tr>\n",
       "      <th>11</th>\n",
       "      <td>18</td>\n",
       "      <td>418</td>\n",
       "      <td>860</td>\n",
       "      <td>39.31</td>\n",
       "    </tr>\n",
       "    <tr>\n",
       "      <th>5</th>\n",
       "      <td>9</td>\n",
       "      <td>343</td>\n",
       "      <td>1008</td>\n",
       "      <td>0.69</td>\n",
       "    </tr>\n",
       "    <tr>\n",
       "      <th>0</th>\n",
       "      <td>2</td>\n",
       "      <td>965</td>\n",
       "      <td>1032</td>\n",
       "      <td>3.52</td>\n",
       "    </tr>\n",
       "    <tr>\n",
       "      <th>27</th>\n",
       "      <td>42</td>\n",
       "      <td>482</td>\n",
       "      <td>1065</td>\n",
       "      <td>6433.23</td>\n",
       "    </tr>\n",
       "    <tr>\n",
       "      <th>21</th>\n",
       "      <td>33</td>\n",
       "      <td>399</td>\n",
       "      <td>1207</td>\n",
       "      <td>3899.29</td>\n",
       "    </tr>\n",
       "    <tr>\n",
       "      <th>9</th>\n",
       "      <td>15</td>\n",
       "      <td>704</td>\n",
       "      <td>1244</td>\n",
       "      <td>719.27</td>\n",
       "    </tr>\n",
       "    <tr>\n",
       "      <th>17</th>\n",
       "      <td>28</td>\n",
       "      <td>704</td>\n",
       "      <td>1266</td>\n",
       "      <td>13851.00</td>\n",
       "    </tr>\n",
       "    <tr>\n",
       "      <th>10</th>\n",
       "      <td>16</td>\n",
       "      <td>416</td>\n",
       "      <td>1358</td>\n",
       "      <td>228.82</td>\n",
       "    </tr>\n",
       "    <tr>\n",
       "      <th>29</th>\n",
       "      <td>45</td>\n",
       "      <td>416</td>\n",
       "      <td>1358</td>\n",
       "      <td>228.82</td>\n",
       "    </tr>\n",
       "    <tr>\n",
       "      <th>16</th>\n",
       "      <td>25</td>\n",
       "      <td>401</td>\n",
       "      <td>1440</td>\n",
       "      <td>40.00</td>\n",
       "    </tr>\n",
       "    <tr>\n",
       "      <th>4</th>\n",
       "      <td>8</td>\n",
       "      <td>465</td>\n",
       "      <td>1744</td>\n",
       "      <td>2989.05</td>\n",
       "    </tr>\n",
       "  </tbody>\n",
       "</table>\n",
       "</div>"
      ],
      "text/plain": [
       "    account_id  count_days_of_history  size   balance\n",
       "8           14                    270    26     29.58\n",
       "32          49                    228    35    538.84\n",
       "12          19                    406    49   1047.10\n",
       "15          24                    232    68    368.56\n",
       "13          20                    414   103    157.99\n",
       "25          40                    229   132   2199.23\n",
       "28          43                    361   141     28.26\n",
       "31          47                    545   171   2187.22\n",
       "2            5                    369   216  90893.52\n",
       "18          29                    268   250   1410.25\n",
       "22          34                    404   261   1830.71\n",
       "20          31                    213   263  13590.59\n",
       "3            7                    413   344      2.53\n",
       "19          30                    220   357   1565.46\n",
       "26          41                    686   391      2.88\n",
       "24          38                    234   462   6708.67\n",
       "6           12                    378   485   -321.75\n",
       "1            3                    215   518   -125.57\n",
       "7           13                    675   536   -688.47\n",
       "23          37                    694   548   3957.71\n",
       "14          22                    413   551      0.91\n",
       "30          46                    713   794   8581.75\n",
       "11          18                    418   860     39.31\n",
       "5            9                    343  1008      0.69\n",
       "0            2                    965  1032      3.52\n",
       "27          42                    482  1065   6433.23\n",
       "21          33                    399  1207   3899.29\n",
       "9           15                    704  1244    719.27\n",
       "17          28                    704  1266  13851.00\n",
       "10          16                    416  1358    228.82\n",
       "29          45                    416  1358    228.82\n",
       "16          25                    401  1440     40.00\n",
       "4            8                    465  1744   2989.05"
      ]
     },
     "execution_count": 135,
     "metadata": {},
     "output_type": "execute_result"
    },
    {
     "data": {
      "application/javascript": [
       "\n",
       "            setTimeout(function() {\n",
       "                var nbb_cell_id = 135;\n",
       "                var nbb_unformatted_code = \"df_transactions_and_balance_by_account[\\n    [\\\"account_id\\\", \\\"count_days_of_history\\\", \\\"size\\\", \\\"balance\\\"]\\n].sort_values(by=\\\"size\\\")\";\n",
       "                var nbb_formatted_code = \"df_transactions_and_balance_by_account[\\n    [\\\"account_id\\\", \\\"count_days_of_history\\\", \\\"size\\\", \\\"balance\\\"]\\n].sort_values(by=\\\"size\\\")\";\n",
       "                var nbb_cells = Jupyter.notebook.get_cells();\n",
       "                for (var i = 0; i < nbb_cells.length; ++i) {\n",
       "                    if (nbb_cells[i].input_prompt_number == nbb_cell_id) {\n",
       "                        if (nbb_cells[i].get_text() == nbb_unformatted_code) {\n",
       "                             nbb_cells[i].set_text(nbb_formatted_code);\n",
       "                        }\n",
       "                        break;\n",
       "                    }\n",
       "                }\n",
       "            }, 500);\n",
       "            "
      ],
      "text/plain": [
       "<IPython.core.display.Javascript object>"
      ]
     },
     "metadata": {},
     "output_type": "display_data"
    }
   ],
   "source": [
    "df_transactions_and_balance_by_account[\n",
    "    [\"account_id\", \"count_days_of_history\", \"size\", \"balance\"]\n",
    "].sort_values(by=\"size\")"
   ]
  },
  {
   "cell_type": "markdown",
   "metadata": {},
   "source": [
    "There is a balance value that is way too high compared to the other values (90893.52 for account_ID=5). Moreover, in Mansa homepage, we see that the maximum amount to lend is 10000. Which is 9 times lower than the previous value. We can consider it as an outlier..\n",
    "\n",
    "However, I won't remove it, since there is only 32 accounts left, and maybe more similar accounts are to come in the future.\n"
   ]
  },
  {
   "cell_type": "code",
   "execution_count": 136,
   "metadata": {},
   "outputs": [
    {
     "name": "stderr",
     "output_type": "stream",
     "text": [
      "/Users/drissdebbaghnour/.pyenv/versions/3.8.2/envs/mansa_test/lib/python3.8/site-packages/seaborn/distributions.py:2551: FutureWarning: `distplot` is a deprecated function and will be removed in a future version. Please adapt your code to use either `displot` (a figure-level function with similar flexibility) or `histplot` (an axes-level function for histograms).\n",
      "  warnings.warn(msg, FutureWarning)\n"
     ]
    },
    {
     "data": {
      "text/plain": [
       "Text(0.5, 1.0, 'Distribution of number of days between oldest and newest transaction per account')"
      ]
     },
     "execution_count": 136,
     "metadata": {},
     "output_type": "execute_result"
    },
    {
     "data": {
      "image/png": "[encoded data removed]",
      "text/plain": [
       "<Figure size 720x288 with 1 Axes>"
      ]
     },
     "metadata": {},
     "output_type": "display_data"
    },
    {
     "data": {
      "application/javascript": [
       "\n",
       "            setTimeout(function() {\n",
       "                var nbb_cell_id = 136;\n",
       "                var nbb_unformatted_code = \"plt.figure(figsize=(10, 4))\\nsns.distplot(\\n    df_transactions_by_account[\\\"count_days_of_history\\\"],\\n    label=\\\"Number of days between oldest and newest transaction\\\",\\n)\\nplt.legend()\\nplt.title(\\n    \\\"Distribution of number of days between oldest and newest transaction per account\\\",\\n    fontsize=14,\\n)\";\n",
       "                var nbb_formatted_code = \"plt.figure(figsize=(10, 4))\\nsns.distplot(\\n    df_transactions_by_account[\\\"count_days_of_history\\\"],\\n    label=\\\"Number of days between oldest and newest transaction\\\",\\n)\\nplt.legend()\\nplt.title(\\n    \\\"Distribution of number of days between oldest and newest transaction per account\\\",\\n    fontsize=14,\\n)\";\n",
       "                var nbb_cells = Jupyter.notebook.get_cells();\n",
       "                for (var i = 0; i < nbb_cells.length; ++i) {\n",
       "                    if (nbb_cells[i].input_prompt_number == nbb_cell_id) {\n",
       "                        if (nbb_cells[i].get_text() == nbb_unformatted_code) {\n",
       "                             nbb_cells[i].set_text(nbb_formatted_code);\n",
       "                        }\n",
       "                        break;\n",
       "                    }\n",
       "                }\n",
       "            }, 500);\n",
       "            "
      ],
      "text/plain": [
       "<IPython.core.display.Javascript object>"
      ]
     },
     "metadata": {},
     "output_type": "display_data"
    }
   ],
   "source": [
    "plt.figure(figsize=(10, 4))\n",
    "sns.distplot(\n",
    "    df_transactions_by_account[\"count_days_of_history\"],\n",
    "    label=\"Number of days between oldest and newest transaction\",\n",
    ")\n",
    "plt.legend()\n",
    "plt.title(\n",
    "    \"Distribution of number of days between oldest and newest transaction per account\",\n",
    "    fontsize=14,\n",
    ")"
   ]
  },
  {
   "cell_type": "code",
   "execution_count": 137,
   "metadata": {},
   "outputs": [
    {
     "name": "stderr",
     "output_type": "stream",
     "text": [
      "/Users/drissdebbaghnour/.pyenv/versions/3.8.2/envs/mansa_test/lib/python3.8/site-packages/seaborn/distributions.py:2551: FutureWarning: `distplot` is a deprecated function and will be removed in a future version. Please adapt your code to use either `displot` (a figure-level function with similar flexibility) or `histplot` (an axes-level function for histograms).\n",
      "  warnings.warn(msg, FutureWarning)\n"
     ]
    },
    {
     "data": {
      "text/plain": [
       "Text(0.5, 1.0, 'Distribution of number of transactions per account')"
      ]
     },
     "execution_count": 137,
     "metadata": {},
     "output_type": "execute_result"
    },
    {
     "data": {
      "image/png": "[encoded data removed]",
      "text/plain": [
       "<Figure size 720x288 with 1 Axes>"
      ]
     },
     "metadata": {},
     "output_type": "display_data"
    },
    {
     "data": {
      "application/javascript": [
       "\n",
       "            setTimeout(function() {\n",
       "                var nbb_cell_id = 137;\n",
       "                var nbb_unformatted_code = \"plt.figure(figsize=(10, 4))\\nsns.distplot(\\n    df_transactions_by_account[\\\"size\\\"],\\n    label=\\\"Number of transactions\\\",\\n)\\nplt.legend()\\nplt.title(\\\"Distribution of number of transactions per account\\\", fontsize=14)\";\n",
       "                var nbb_formatted_code = \"plt.figure(figsize=(10, 4))\\nsns.distplot(\\n    df_transactions_by_account[\\\"size\\\"],\\n    label=\\\"Number of transactions\\\",\\n)\\nplt.legend()\\nplt.title(\\\"Distribution of number of transactions per account\\\", fontsize=14)\";\n",
       "                var nbb_cells = Jupyter.notebook.get_cells();\n",
       "                for (var i = 0; i < nbb_cells.length; ++i) {\n",
       "                    if (nbb_cells[i].input_prompt_number == nbb_cell_id) {\n",
       "                        if (nbb_cells[i].get_text() == nbb_unformatted_code) {\n",
       "                             nbb_cells[i].set_text(nbb_formatted_code);\n",
       "                        }\n",
       "                        break;\n",
       "                    }\n",
       "                }\n",
       "            }, 500);\n",
       "            "
      ],
      "text/plain": [
       "<IPython.core.display.Javascript object>"
      ]
     },
     "metadata": {},
     "output_type": "display_data"
    }
   ],
   "source": [
    "plt.figure(figsize=(10, 4))\n",
    "sns.distplot(\n",
    "    df_transactions_by_account[\"size\"],\n",
    "    label=\"Number of transactions\",\n",
    ")\n",
    "plt.legend()\n",
    "plt.title(\"Distribution of number of transactions per account\", fontsize=14)"
   ]
  },
  {
   "cell_type": "code",
   "execution_count": 138,
   "metadata": {},
   "outputs": [
    {
     "data": {
      "application/javascript": [
       "\n",
       "            setTimeout(function() {\n",
       "                var nbb_cell_id = 138;\n",
       "                var nbb_unformatted_code = \"df_transactions_by_account[\\\"avg_count_transactions_month\\\"] = df_transactions_by_account[\\n    \\\"size\\\"\\n] / (df_transactions_by_account[\\\"count_days_of_history\\\"] / 30.0)\";\n",
       "                var nbb_formatted_code = \"df_transactions_by_account[\\\"avg_count_transactions_month\\\"] = df_transactions_by_account[\\n    \\\"size\\\"\\n] / (df_transactions_by_account[\\\"count_days_of_history\\\"] / 30.0)\";\n",
       "                var nbb_cells = Jupyter.notebook.get_cells();\n",
       "                for (var i = 0; i < nbb_cells.length; ++i) {\n",
       "                    if (nbb_cells[i].input_prompt_number == nbb_cell_id) {\n",
       "                        if (nbb_cells[i].get_text() == nbb_unformatted_code) {\n",
       "                             nbb_cells[i].set_text(nbb_formatted_code);\n",
       "                        }\n",
       "                        break;\n",
       "                    }\n",
       "                }\n",
       "            }, 500);\n",
       "            "
      ],
      "text/plain": [
       "<IPython.core.display.Javascript object>"
      ]
     },
     "metadata": {},
     "output_type": "display_data"
    }
   ],
   "source": [
    "df_transactions_by_account[\"avg_count_transactions_month\"] = df_transactions_by_account[\n",
    "    \"size\"\n",
    "] / (df_transactions_by_account[\"count_days_of_history\"] / 30.0)"
   ]
  },
  {
   "cell_type": "code",
   "execution_count": 139,
   "metadata": {},
   "outputs": [
    {
     "name": "stderr",
     "output_type": "stream",
     "text": [
      "/Users/drissdebbaghnour/.pyenv/versions/3.8.2/envs/mansa_test/lib/python3.8/site-packages/seaborn/distributions.py:2551: FutureWarning: `distplot` is a deprecated function and will be removed in a future version. Please adapt your code to use either `displot` (a figure-level function with similar flexibility) or `histplot` (an axes-level function for histograms).\n",
      "  warnings.warn(msg, FutureWarning)\n"
     ]
    },
    {
     "data": {
      "text/plain": [
       "<matplotlib.legend.Legend at 0x120885910>"
      ]
     },
     "execution_count": 139,
     "metadata": {},
     "output_type": "execute_result"
    },
    {
     "data": {
      "image/png": "[encoded data removed]",
      "text/plain": [
       "<Figure size 864x432 with 1 Axes>"
      ]
     },
     "metadata": {},
     "output_type": "display_data"
    },
    {
     "data": {
      "application/javascript": [
       "\n",
       "            setTimeout(function() {\n",
       "                var nbb_cell_id = 139;\n",
       "                var nbb_unformatted_code = \"plt.figure(figsize=(12, 6))\\nsns.distplot(\\n    df_transactions_by_account[\\\"avg_count_transactions_month\\\"],\\n    label=\\\"Average number of transactions per month\\\",\\n)\\nplt.legend()\";\n",
       "                var nbb_formatted_code = \"plt.figure(figsize=(12, 6))\\nsns.distplot(\\n    df_transactions_by_account[\\\"avg_count_transactions_month\\\"],\\n    label=\\\"Average number of transactions per month\\\",\\n)\\nplt.legend()\";\n",
       "                var nbb_cells = Jupyter.notebook.get_cells();\n",
       "                for (var i = 0; i < nbb_cells.length; ++i) {\n",
       "                    if (nbb_cells[i].input_prompt_number == nbb_cell_id) {\n",
       "                        if (nbb_cells[i].get_text() == nbb_unformatted_code) {\n",
       "                             nbb_cells[i].set_text(nbb_formatted_code);\n",
       "                        }\n",
       "                        break;\n",
       "                    }\n",
       "                }\n",
       "            }, 500);\n",
       "            "
      ],
      "text/plain": [
       "<IPython.core.display.Javascript object>"
      ]
     },
     "metadata": {},
     "output_type": "display_data"
    }
   ],
   "source": [
    "plt.figure(figsize=(12, 6))\n",
    "sns.distplot(\n",
    "    df_transactions_by_account[\"avg_count_transactions_month\"],\n",
    "    label=\"Average number of transactions per month\",\n",
    ")\n",
    "plt.legend()"
   ]
  },
  {
   "cell_type": "code",
   "execution_count": 140,
   "metadata": {},
   "outputs": [
    {
     "name": "stderr",
     "output_type": "stream",
     "text": [
      "/Users/drissdebbaghnour/.pyenv/versions/3.8.2/envs/mansa_test/lib/python3.8/site-packages/seaborn/_decorators.py:36: FutureWarning: Pass the following variables as keyword args: x, y. From version 0.12, the only valid positional argument will be `data`, and passing other arguments without an explicit keyword will result in an error or misinterpretation.\n",
      "  warnings.warn(\n"
     ]
    },
    {
     "data": {
      "text/plain": [
       "<seaborn.axisgrid.JointGrid at 0x121526e20>"
      ]
     },
     "execution_count": 140,
     "metadata": {},
     "output_type": "execute_result"
    },
    {
     "data": {
      "text/plain": [
       "<Figure size 864x576 with 0 Axes>"
      ]
     },
     "metadata": {},
     "output_type": "display_data"
    },
    {
     "data": {
      "image/png": "[encoded data removed]",
      "text/plain": [
       "<Figure size 432x432 with 3 Axes>"
      ]
     },
     "metadata": {},
     "output_type": "display_data"
    },
    {
     "data": {
      "application/javascript": [
       "\n",
       "            setTimeout(function() {\n",
       "                var nbb_cell_id = 140;\n",
       "                var nbb_unformatted_code = \"plt.figure(figsize=(12, 8))\\nsns.jointplot(\\n    \\\"count_days_of_history\\\",\\n    \\\"size\\\",\\n    data=df_transactions_by_account,\\n    kind=\\\"kde\\\",\\n    space=0,\\n    color=\\\"g\\\",\\n)\";\n",
       "                var nbb_formatted_code = \"plt.figure(figsize=(12, 8))\\nsns.jointplot(\\n    \\\"count_days_of_history\\\",\\n    \\\"size\\\",\\n    data=df_transactions_by_account,\\n    kind=\\\"kde\\\",\\n    space=0,\\n    color=\\\"g\\\",\\n)\";\n",
       "                var nbb_cells = Jupyter.notebook.get_cells();\n",
       "                for (var i = 0; i < nbb_cells.length; ++i) {\n",
       "                    if (nbb_cells[i].input_prompt_number == nbb_cell_id) {\n",
       "                        if (nbb_cells[i].get_text() == nbb_unformatted_code) {\n",
       "                             nbb_cells[i].set_text(nbb_formatted_code);\n",
       "                        }\n",
       "                        break;\n",
       "                    }\n",
       "                }\n",
       "            }, 500);\n",
       "            "
      ],
      "text/plain": [
       "<IPython.core.display.Javascript object>"
      ]
     },
     "metadata": {},
     "output_type": "display_data"
    }
   ],
   "source": [
    "plt.figure(figsize=(12, 8))\n",
    "sns.jointplot(\n",
    "    \"count_days_of_history\",\n",
    "    \"size\",\n",
    "    data=df_transactions_by_account,\n",
    "    kind=\"kde\",\n",
    "    space=0,\n",
    "    color=\"g\",\n",
    ")"
   ]
  },
  {
   "cell_type": "markdown",
   "metadata": {},
   "source": [
    "We observe two modes. It might represent two different categories, active and less active users. \n",
    "\n",
    "The accounts might be seperated into two clusters. But for lack of data and time, I will keep them all together. "
   ]
  },
  {
   "cell_type": "markdown",
   "metadata": {},
   "source": [
    "### 0 value transactions"
   ]
  },
  {
   "cell_type": "markdown",
   "metadata": {},
   "source": [
    "We have 80 transactions that are neither expenses nor incomes. Since I am aiming to choose between problem A and problem B, I will remove them."
   ]
  },
  {
   "cell_type": "code",
   "execution_count": 141,
   "metadata": {},
   "outputs": [
    {
     "name": "stdout",
     "output_type": "stream",
     "text": [
      "Number of accounts kept: 32\n",
      "[2, 3, 5, 7, 8, 9, 12, 13, 14, 15, 16, 18, 19, 20, 22, 24, 25, 28, 29, 30, 31, 33, 34, 37, 38, 40, 41, 42, 43, 46, 47, 49]\n"
     ]
    },
    {
     "data": {
      "application/javascript": [
       "\n",
       "            setTimeout(function() {\n",
       "                var nbb_cell_id = 141;\n",
       "                var nbb_unformatted_code = \"# Update input data\\ndf_transactions = df_transactions[df_transactions[\\\"amount\\\"] != 0]\\n\\n# Keep only accounts for which we have more than 180 days of data\\nMIN_DAYS = 180\\ndf_transactions_by_account, acounts_to_keep_list = keep_accounts_by_history(\\n    df=df_transactions, min_days=MIN_DAYS\\n)\\nprint(f\\\"Number of accounts kept: {len(acounts_to_keep_list)}\\\\n{acounts_to_keep_list}\\\")\";\n",
       "                var nbb_formatted_code = \"# Update input data\\ndf_transactions = df_transactions[df_transactions[\\\"amount\\\"] != 0]\\n\\n# Keep only accounts for which we have more than 180 days of data\\nMIN_DAYS = 180\\ndf_transactions_by_account, acounts_to_keep_list = keep_accounts_by_history(\\n    df=df_transactions, min_days=MIN_DAYS\\n)\\nprint(f\\\"Number of accounts kept: {len(acounts_to_keep_list)}\\\\n{acounts_to_keep_list}\\\")\";\n",
       "                var nbb_cells = Jupyter.notebook.get_cells();\n",
       "                for (var i = 0; i < nbb_cells.length; ++i) {\n",
       "                    if (nbb_cells[i].input_prompt_number == nbb_cell_id) {\n",
       "                        if (nbb_cells[i].get_text() == nbb_unformatted_code) {\n",
       "                             nbb_cells[i].set_text(nbb_formatted_code);\n",
       "                        }\n",
       "                        break;\n",
       "                    }\n",
       "                }\n",
       "            }, 500);\n",
       "            "
      ],
      "text/plain": [
       "<IPython.core.display.Javascript object>"
      ]
     },
     "metadata": {},
     "output_type": "display_data"
    }
   ],
   "source": [
    "# Update input data\n",
    "df_transactions = df_transactions[df_transactions[\"amount\"] != 0]\n",
    "\n",
    "# Keep only accounts for which we have more than 180 days of data\n",
    "MIN_DAYS = 180\n",
    "df_transactions_by_account, acounts_to_keep_list = keep_accounts_by_history(\n",
    "    df=df_transactions, min_days=MIN_DAYS\n",
    ")\n",
    "print(f\"Number of accounts kept: {len(acounts_to_keep_list)}\\n{acounts_to_keep_list}\")"
   ]
  },
  {
   "cell_type": "markdown",
   "metadata": {},
   "source": [
    "It didn't change the number of accounts kept."
   ]
  },
  {
   "cell_type": "code",
   "execution_count": 145,
   "metadata": {},
   "outputs": [
    {
     "data": {
      "application/javascript": [
       "\n",
       "            setTimeout(function() {\n",
       "                var nbb_cell_id = 145;\n",
       "                var nbb_unformatted_code = \"# Save new data sets\\ndf_transactions.to_csv(\\\"../data/transactions_enough_history.csv\\\", index=False)\\ndf_accounts.to_csv(\\\"../data/accounts_enough_history.csv\\\", index=False)\";\n",
       "                var nbb_formatted_code = \"# Save new data sets\\ndf_transactions.to_csv(\\\"../data/transactions_enough_history.csv\\\", index=False)\\ndf_accounts.to_csv(\\\"../data/accounts_enough_history.csv\\\", index=False)\";\n",
       "                var nbb_cells = Jupyter.notebook.get_cells();\n",
       "                for (var i = 0; i < nbb_cells.length; ++i) {\n",
       "                    if (nbb_cells[i].input_prompt_number == nbb_cell_id) {\n",
       "                        if (nbb_cells[i].get_text() == nbb_unformatted_code) {\n",
       "                             nbb_cells[i].set_text(nbb_formatted_code);\n",
       "                        }\n",
       "                        break;\n",
       "                    }\n",
       "                }\n",
       "            }, 500);\n",
       "            "
      ],
      "text/plain": [
       "<IPython.core.display.Javascript object>"
      ]
     },
     "metadata": {},
     "output_type": "display_data"
    }
   ],
   "source": [
    "# Save new data sets\n",
    "df_transactions.to_csv(\"../data/transactions_enough_history.csv\", index=False)\n",
    "df_accounts.to_csv(\"../data/accounts_enough_history.csv\", index=False)"
   ]
  },
  {
   "cell_type": "code",
   "execution_count": null,
   "metadata": {},
   "outputs": [],
   "source": []
  }
 ],
 "metadata": {
  "kernelspec": {
   "display_name": "Python 3",
   "language": "python",
   "name": "python3"
  },
  "language_info": {
   "codemirror_mode": {
    "name": "ipython",
    "version": 3
   },
   "file_extension": ".py",
   "mimetype": "text/x-python",
   "name": "python",
   "nbconvert_exporter": "python",
   "pygments_lexer": "ipython3",
   "version": "3.8.2"
  }
 },
 "nbformat": 4,
 "nbformat_minor": 4
}

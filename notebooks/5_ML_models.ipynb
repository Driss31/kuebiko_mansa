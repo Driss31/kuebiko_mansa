{
 "cells": [
  {
   "cell_type": "markdown",
   "metadata": {},
   "source": [
    "In this notebook, I will use a linear and tree models. \n",
    "\n",
    "The data set will be different from the one used in ARIMA models. An obersvation will containg last weeks expenses, incomes and balance. Hence, I need to compute the balance at each week.\n",
    "(many other features can be computed, but I will stick to those, I've already spent a lot of time on previous notebooks)\n",
    "\n",
    "I first split data into train/validate/test sets. Then I train models on train set, predict on validation set, then choose the one that have best results (MAPE and MAE). We can't use a cross validation here, since data should be kept in its chronological order. (This step ois meant to avoid overfitting)\n",
    "\n",
    "Finally I apply it on the test set. \n",
    "I will then compare it to the ARIMA model chosen before.\n",
    "\n",
    "ARIMA model was trained on 80% against opnly 60% of data for the ones used here. This was necessary to test them both on same data (20% last percents).\n",
    "\n",
    "I will not spend time on looking for the best parameters here (grid search) due to lack of time. It is more meant to show the options we got."
   ]
  },
  {
   "cell_type": "code",
   "execution_count": 3,
   "metadata": {},
   "outputs": [],
   "source": [
    "from sklearn.linear_model import LinearRegression\n",
    "\n",
    "import pandas as pd\n",
    "import numpy as np\n",
    "\n",
    "from typing import Tuple\n",
    "\n",
    "from datetime import timedelta\n",
    "\n",
    "import joblib"
   ]
  },
  {
   "cell_type": "markdown",
   "metadata": {},
   "source": [
    "### Read data"
   ]
  },
  {
   "cell_type": "code",
   "execution_count": 4,
   "metadata": {},
   "outputs": [],
   "source": [
    "df_accounts = pd.read_csv(\n",
    "    \"../data/accounts_enough_history.csv\", parse_dates=[\"update_date\"]\n",
    ")\n",
    "df_transactions = pd.read_csv(\n",
    "    \"../data/transactions_enough_history.csv\", parse_dates=[\"date\"]\n",
    ")"
   ]
  },
  {
   "cell_type": "code",
   "execution_count": 5,
   "metadata": {},
   "outputs": [],
   "source": [
    "df_incomes = df_transactions[df_transactions[\"amount\"] > 0]\n",
    "df_expenses = df_transactions[df_transactions[\"amount\"] < 0]"
   ]
  },
  {
   "cell_type": "markdown",
   "metadata": {},
   "source": [
    "### Remove outliers"
   ]
  },
  {
   "cell_type": "code",
   "execution_count": 6,
   "metadata": {},
   "outputs": [],
   "source": [
    "def get_balance_unique_account(\n",
    "    df_transactions_unique_account: pd.DataFrame, balance: float\n",
    ") -> pd.DataFrame:\n",
    "    \"\"\"Compute weekly balance using transactions for a unique account.\"\"\"\n",
    "    grouped_transactions = (\n",
    "        df_transactions_unique_account.groupby([\"account_id\", \"date\"])[\"amount\"]\n",
    "        .sum()\n",
    "        .reset_index()\n",
    "        .sort_values(by=[\"date\"], ascending=False)\n",
    "    )\n",
    "    grouped_transactions[\"balance\"] = round(\n",
    "        balance - grouped_transactions[\"amount\"].cumsum(), 2\n",
    "    )\n",
    "\n",
    "    return grouped_transactions.reset_index(drop=True)"
   ]
  },
  {
   "cell_type": "code",
   "execution_count": 7,
   "metadata": {},
   "outputs": [],
   "source": [
    "def unique_account_week_resampling(df: pd.DataFrame, account_id: int) -> pd.DataFrame:\n",
    "    \"\"\"Resample dates into weeks and sum transactions amounts for a unique account.\"\"\"\n",
    "    temp_df = df.sort_values(by=\"date\", ascending=True)[[\"date\", \"amount\"]]\n",
    "\n",
    "    temp_df = temp_df.set_index(\"date\", drop=True)\n",
    "\n",
    "    temp_df = temp_df.resample(DATES_RESAMPLING_RULE).sum().reset_index()\n",
    "    temp_df[\"account_id\"] = account_id\n",
    "\n",
    "    return temp_df.reset_index(drop=True)"
   ]
  },
  {
   "cell_type": "code",
   "execution_count": 8,
   "metadata": {},
   "outputs": [],
   "source": [
    "def remove_outliers_year_aggregation(df: pd.DataFrame) -> pd.DataFrame:\n",
    "    df[\"year\"] = df[\"date\"].dt.year\n",
    "\n",
    "    df_month_expenses = (\n",
    "        df.groupby([\"account_id\", \"year\"])[\"amount\"].agg([\"mean\", \"std\"]).reset_index()\n",
    "    )\n",
    "    df = pd.merge(\n",
    "        df,\n",
    "        df_month_expenses,\n",
    "        on=[\"account_id\", \"year\"],\n",
    "        how=\"left\",\n",
    "        sort=False,\n",
    "    )\n",
    "    df[\"outlier\"] = df[\"amount\"] > (df[\"mean\"] + 3 * df[\"std\"])\n",
    "    return df"
   ]
  },
  {
   "cell_type": "code",
   "execution_count": 9,
   "metadata": {
    "scrolled": true
   },
   "outputs": [
    {
     "name": "stderr",
     "output_type": "stream",
     "text": [
      "<ipython-input-8-e646f9ddc972>:2: SettingWithCopyWarning: \n",
      "A value is trying to be set on a copy of a slice from a DataFrame.\n",
      "Try using .loc[row_indexer,col_indexer] = value instead\n",
      "\n",
      "See the caveats in the documentation: https://pandas.pydata.org/pandas-docs/stable/user_guide/indexing.html#returning-a-view-versus-a-copy\n",
      "  df[\"year\"] = df[\"date\"].dt.year\n",
      "<ipython-input-9-589335085b07>:4: SettingWithCopyWarning: \n",
      "A value is trying to be set on a copy of a slice from a DataFrame.\n",
      "Try using .loc[row_indexer,col_indexer] = value instead\n",
      "\n",
      "See the caveats in the documentation: https://pandas.pydata.org/pandas-docs/stable/user_guide/indexing.html#returning-a-view-versus-a-copy\n",
      "  df_expenses[\"amount\"] = abs(df_expenses[\"amount\"])\n",
      "<ipython-input-8-e646f9ddc972>:2: SettingWithCopyWarning: \n",
      "A value is trying to be set on a copy of a slice from a DataFrame.\n",
      "Try using .loc[row_indexer,col_indexer] = value instead\n",
      "\n",
      "See the caveats in the documentation: https://pandas.pydata.org/pandas-docs/stable/user_guide/indexing.html#returning-a-view-versus-a-copy\n",
      "  df[\"year\"] = df[\"date\"].dt.year\n"
     ]
    }
   ],
   "source": [
    "df_incomes = remove_outliers_year_aggregation(df=df_incomes)\n",
    "df_incomes = df_incomes[~df_incomes[\"outlier\"]]\n",
    "\n",
    "df_expenses[\"amount\"] = abs(df_expenses[\"amount\"])\n",
    "df_expenses = remove_outliers_year_aggregation(df=df_expenses)\n",
    "df_expenses = df_expenses[~df_expenses[\"outlier\"]]"
   ]
  },
  {
   "cell_type": "markdown",
   "metadata": {},
   "source": [
    "### Week resampling"
   ]
  },
  {
   "cell_type": "code",
   "execution_count": 10,
   "metadata": {},
   "outputs": [],
   "source": [
    "def _resample_per_week_unique_account(df: pd.DataFrame) -> pd.DataFrame:\n",
    "    \"\"\"Resample date into weeks for a unique account.\"\"\"\n",
    "    account_id = df[\"account_id\"].iloc[0]\n",
    "\n",
    "    temp_df = df.sort_values(\n",
    "        by=\"date\", ascending=True\n",
    "    )[[\"date\", \"amount\"]]\n",
    "\n",
    "    temp_df = temp_df.set_index(\"date\", drop=True)\n",
    "\n",
    "    temp_df = (\n",
    "        temp_df.resample(\"W-MON\").sum().reset_index()\n",
    "    )\n",
    "    temp_df[\"account_id\"] = account_id\n",
    "\n",
    "    return temp_df\n",
    "\n",
    "\n",
    "def resample_per_week(df: pd.DataFrame) -> pd.DataFrame:\n",
    "    \"\"\"Return a dataframe with resampled data into weeks.\"\"\"\n",
    "    transactions_dfs = [data for _, data in df.groupby(\"account_id\")]\n",
    "\n",
    "    return pd.concat(\n",
    "        [\n",
    "            _resample_per_week_unique_account(\n",
    "                df=df_unique_account,\n",
    "            )\n",
    "            for df_unique_account in transactions_dfs\n",
    "        ]\n",
    "    ).reset_index(drop=True)"
   ]
  },
  {
   "cell_type": "code",
   "execution_count": 11,
   "metadata": {},
   "outputs": [],
   "source": [
    "df_expenses = resample_per_week(df=df_expenses)\n",
    "df_incomes = resample_per_week(df=df_incomes)"
   ]
  },
  {
   "cell_type": "markdown",
   "metadata": {},
   "source": [
    "### Compute history balance"
   ]
  },
  {
   "cell_type": "markdown",
   "metadata": {},
   "source": [
    "Since I have already removed outliers from data, the balance is not the real one, but only an estimation using only incomes and expenses kept."
   ]
  },
  {
   "cell_type": "code",
   "execution_count": 12,
   "metadata": {},
   "outputs": [],
   "source": [
    "df_expenses[\"amount\"] = df_expenses[\"amount\"] * (-1)\n",
    "\n",
    "df_transactions = pd.concat([df_incomes, df_expenses], axis=0)"
   ]
  },
  {
   "cell_type": "code",
   "execution_count": 13,
   "metadata": {},
   "outputs": [],
   "source": [
    "def _get_balance_unique_account(\n",
    "    df_transactions_unique_account: pd.DataFrame, balance: float, account_id: int\n",
    ") -> pd.DataFrame:\n",
    "    \"\"\"Compute the balance using transactions.\"\"\"\n",
    "    grouped_transactions = (\n",
    "        df_transactions_unique_account.groupby([\"account_id\", \"date\"])[\n",
    "            \"amount\"\n",
    "        ]\n",
    "        .sum()\n",
    "        .reset_index()\n",
    "        .sort_values(by=[\"date\"], ascending=False)\n",
    "    )\n",
    "    grouped_transactions[\"balance\"] = round(\n",
    "        balance - grouped_transactions[\n",
    "        \"amount\"\n",
    "    ].cumsum(), 2\n",
    "    )\n",
    "\n",
    "    return grouped_transactions\n",
    "\n",
    "\n",
    "def get_balance_data(df_accounts: pd.DataFrame, df_trans: pd.DataFrame) -> pd.DataFrame:\n",
    "    \"\"\"Return a dataframe with history accounts balance.\"\"\"\n",
    "    account_dfs = [data for _, data in df_trans.groupby(\"account_id\")]\n",
    "\n",
    "    return pd.concat(\n",
    "        [\n",
    "            _get_balance_unique_account(\n",
    "                df_transactions_unique_account=df,\n",
    "                balance=df_accounts[df_accounts[\"id\"] == df[\"account_id\"].iloc[0]][\n",
    "                    \"balance\"\n",
    "                ].iloc[0],\n",
    "                account_id=df[\"account_id\"].iloc[0],\n",
    "            )\n",
    "            for df in account_dfs\n",
    "        ]\n",
    "    ).reset_index(drop=True)"
   ]
  },
  {
   "cell_type": "code",
   "execution_count": 14,
   "metadata": {},
   "outputs": [],
   "source": [
    "df_balance = get_balance_data(df_accounts=df_accounts, df_trans=df_transactions)"
   ]
  },
  {
   "cell_type": "code",
   "execution_count": 15,
   "metadata": {},
   "outputs": [
    {
     "data": {
      "text/html": [
       "<div>\n",
       "<style scoped>\n",
       "    .dataframe tbody tr th:only-of-type {\n",
       "        vertical-align: middle;\n",
       "    }\n",
       "\n",
       "    .dataframe tbody tr th {\n",
       "        vertical-align: top;\n",
       "    }\n",
       "\n",
       "    .dataframe thead th {\n",
       "        text-align: right;\n",
       "    }\n",
       "</style>\n",
       "<table border=\"1\" class=\"dataframe\">\n",
       "  <thead>\n",
       "    <tr style=\"text-align: right;\">\n",
       "      <th></th>\n",
       "      <th>account_id</th>\n",
       "      <th>date</th>\n",
       "      <th>amount</th>\n",
       "      <th>balance</th>\n",
       "    </tr>\n",
       "  </thead>\n",
       "  <tbody>\n",
       "    <tr>\n",
       "      <th>0</th>\n",
       "      <td>2</td>\n",
       "      <td>2020-01-20</td>\n",
       "      <td>0.00</td>\n",
       "      <td>3.52</td>\n",
       "    </tr>\n",
       "    <tr>\n",
       "      <th>1</th>\n",
       "      <td>2</td>\n",
       "      <td>2020-01-13</td>\n",
       "      <td>-56.00</td>\n",
       "      <td>59.52</td>\n",
       "    </tr>\n",
       "    <tr>\n",
       "      <th>2</th>\n",
       "      <td>2</td>\n",
       "      <td>2020-01-06</td>\n",
       "      <td>-73.85</td>\n",
       "      <td>133.37</td>\n",
       "    </tr>\n",
       "    <tr>\n",
       "      <th>3</th>\n",
       "      <td>2</td>\n",
       "      <td>2019-12-30</td>\n",
       "      <td>0.00</td>\n",
       "      <td>133.37</td>\n",
       "    </tr>\n",
       "    <tr>\n",
       "      <th>4</th>\n",
       "      <td>2</td>\n",
       "      <td>2019-12-23</td>\n",
       "      <td>-78.74</td>\n",
       "      <td>212.11</td>\n",
       "    </tr>\n",
       "    <tr>\n",
       "      <th>...</th>\n",
       "      <td>...</td>\n",
       "      <td>...</td>\n",
       "      <td>...</td>\n",
       "      <td>...</td>\n",
       "    </tr>\n",
       "    <tr>\n",
       "      <th>2012</th>\n",
       "      <td>49</td>\n",
       "      <td>2019-07-08</td>\n",
       "      <td>1.20</td>\n",
       "      <td>500.75</td>\n",
       "    </tr>\n",
       "    <tr>\n",
       "      <th>2013</th>\n",
       "      <td>49</td>\n",
       "      <td>2019-07-01</td>\n",
       "      <td>0.00</td>\n",
       "      <td>500.75</td>\n",
       "    </tr>\n",
       "    <tr>\n",
       "      <th>2014</th>\n",
       "      <td>49</td>\n",
       "      <td>2019-06-24</td>\n",
       "      <td>-9.17</td>\n",
       "      <td>509.92</td>\n",
       "    </tr>\n",
       "    <tr>\n",
       "      <th>2015</th>\n",
       "      <td>49</td>\n",
       "      <td>2019-06-17</td>\n",
       "      <td>0.00</td>\n",
       "      <td>509.92</td>\n",
       "    </tr>\n",
       "    <tr>\n",
       "      <th>2016</th>\n",
       "      <td>49</td>\n",
       "      <td>2019-06-10</td>\n",
       "      <td>509.92</td>\n",
       "      <td>-0.00</td>\n",
       "    </tr>\n",
       "  </tbody>\n",
       "</table>\n",
       "<p>2017 rows × 4 columns</p>\n",
       "</div>"
      ],
      "text/plain": [
       "      account_id       date  amount  balance\n",
       "0              2 2020-01-20    0.00     3.52\n",
       "1              2 2020-01-13  -56.00    59.52\n",
       "2              2 2020-01-06  -73.85   133.37\n",
       "3              2 2019-12-30    0.00   133.37\n",
       "4              2 2019-12-23  -78.74   212.11\n",
       "...          ...        ...     ...      ...\n",
       "2012          49 2019-07-08    1.20   500.75\n",
       "2013          49 2019-07-01    0.00   500.75\n",
       "2014          49 2019-06-24   -9.17   509.92\n",
       "2015          49 2019-06-17    0.00   509.92\n",
       "2016          49 2019-06-10  509.92    -0.00\n",
       "\n",
       "[2017 rows x 4 columns]"
      ]
     },
     "execution_count": 15,
     "metadata": {},
     "output_type": "execute_result"
    }
   ],
   "source": [
    "df_balance"
   ]
  },
  {
   "cell_type": "markdown",
   "metadata": {},
   "source": [
    "### Create final dataset "
   ]
  },
  {
   "cell_type": "code",
   "execution_count": 17,
   "metadata": {},
   "outputs": [],
   "source": [
    "df_week_transactions = pd.merge(df_expenses, df_incomes, on=[\"date\", \"account_id\"], how=\"left\", sort=False, suffixes=[\"_outgoings\", \"_incomes\"])\n"
   ]
  },
  {
   "cell_type": "code",
   "execution_count": 18,
   "metadata": {},
   "outputs": [],
   "source": [
    "df_week_transactions.fillna(0, inplace=True)"
   ]
  },
  {
   "cell_type": "code",
   "execution_count": 19,
   "metadata": {},
   "outputs": [],
   "source": [
    "df_week_transactions = pd.merge(df_week_transactions, df_balance[[\"date\", \"balance\", \"account_id\"]], on=[\"account_id\", \"date\"], how=\"left\", sort=False)\n"
   ]
  },
  {
   "cell_type": "code",
   "execution_count": 20,
   "metadata": {},
   "outputs": [
    {
     "data": {
      "text/html": [
       "<div>\n",
       "<style scoped>\n",
       "    .dataframe tbody tr th:only-of-type {\n",
       "        vertical-align: middle;\n",
       "    }\n",
       "\n",
       "    .dataframe tbody tr th {\n",
       "        vertical-align: top;\n",
       "    }\n",
       "\n",
       "    .dataframe thead th {\n",
       "        text-align: right;\n",
       "    }\n",
       "</style>\n",
       "<table border=\"1\" class=\"dataframe\">\n",
       "  <thead>\n",
       "    <tr style=\"text-align: right;\">\n",
       "      <th></th>\n",
       "      <th>date</th>\n",
       "      <th>amount_outgoings</th>\n",
       "      <th>account_id</th>\n",
       "      <th>amount_incomes</th>\n",
       "      <th>balance</th>\n",
       "    </tr>\n",
       "  </thead>\n",
       "  <tbody>\n",
       "    <tr>\n",
       "      <th>0</th>\n",
       "      <td>2017-05-29</td>\n",
       "      <td>-5.90</td>\n",
       "      <td>2</td>\n",
       "      <td>2300.0</td>\n",
       "      <td>-9335.05</td>\n",
       "    </tr>\n",
       "    <tr>\n",
       "      <th>1</th>\n",
       "      <td>2017-06-05</td>\n",
       "      <td>-2293.69</td>\n",
       "      <td>2</td>\n",
       "      <td>0.0</td>\n",
       "      <td>-7040.95</td>\n",
       "    </tr>\n",
       "    <tr>\n",
       "      <th>2</th>\n",
       "      <td>2017-06-12</td>\n",
       "      <td>-0.00</td>\n",
       "      <td>2</td>\n",
       "      <td>0.0</td>\n",
       "      <td>-9334.64</td>\n",
       "    </tr>\n",
       "    <tr>\n",
       "      <th>3</th>\n",
       "      <td>2017-06-19</td>\n",
       "      <td>-5.90</td>\n",
       "      <td>2</td>\n",
       "      <td>0.0</td>\n",
       "      <td>-9334.64</td>\n",
       "    </tr>\n",
       "    <tr>\n",
       "      <th>4</th>\n",
       "      <td>2017-06-26</td>\n",
       "      <td>-0.00</td>\n",
       "      <td>2</td>\n",
       "      <td>123.0</td>\n",
       "      <td>-9340.54</td>\n",
       "    </tr>\n",
       "    <tr>\n",
       "      <th>...</th>\n",
       "      <td>...</td>\n",
       "      <td>...</td>\n",
       "      <td>...</td>\n",
       "      <td>...</td>\n",
       "      <td>...</td>\n",
       "    </tr>\n",
       "    <tr>\n",
       "      <th>2000</th>\n",
       "      <td>2019-12-09</td>\n",
       "      <td>-10.80</td>\n",
       "      <td>49</td>\n",
       "      <td>0.0</td>\n",
       "      <td>60.44</td>\n",
       "    </tr>\n",
       "    <tr>\n",
       "      <th>2001</th>\n",
       "      <td>2019-12-16</td>\n",
       "      <td>-0.00</td>\n",
       "      <td>49</td>\n",
       "      <td>0.0</td>\n",
       "      <td>49.64</td>\n",
       "    </tr>\n",
       "    <tr>\n",
       "      <th>2002</th>\n",
       "      <td>2019-12-23</td>\n",
       "      <td>-0.00</td>\n",
       "      <td>49</td>\n",
       "      <td>0.0</td>\n",
       "      <td>49.64</td>\n",
       "    </tr>\n",
       "    <tr>\n",
       "      <th>2003</th>\n",
       "      <td>2019-12-30</td>\n",
       "      <td>-0.00</td>\n",
       "      <td>49</td>\n",
       "      <td>0.0</td>\n",
       "      <td>49.64</td>\n",
       "    </tr>\n",
       "    <tr>\n",
       "      <th>2004</th>\n",
       "      <td>2020-01-06</td>\n",
       "      <td>-10.80</td>\n",
       "      <td>49</td>\n",
       "      <td>0.0</td>\n",
       "      <td>49.64</td>\n",
       "    </tr>\n",
       "  </tbody>\n",
       "</table>\n",
       "<p>2005 rows × 5 columns</p>\n",
       "</div>"
      ],
      "text/plain": [
       "           date  amount_outgoings  account_id  amount_incomes  balance\n",
       "0    2017-05-29             -5.90           2          2300.0 -9335.05\n",
       "1    2017-06-05          -2293.69           2             0.0 -7040.95\n",
       "2    2017-06-12             -0.00           2             0.0 -9334.64\n",
       "3    2017-06-19             -5.90           2             0.0 -9334.64\n",
       "4    2017-06-26             -0.00           2           123.0 -9340.54\n",
       "...         ...               ...         ...             ...      ...\n",
       "2000 2019-12-09            -10.80          49             0.0    60.44\n",
       "2001 2019-12-16             -0.00          49             0.0    49.64\n",
       "2002 2019-12-23             -0.00          49             0.0    49.64\n",
       "2003 2019-12-30             -0.00          49             0.0    49.64\n",
       "2004 2020-01-06            -10.80          49             0.0    49.64\n",
       "\n",
       "[2005 rows x 5 columns]"
      ]
     },
     "execution_count": 20,
     "metadata": {},
     "output_type": "execute_result"
    }
   ],
   "source": [
    "df_week_transactions"
   ]
  },
  {
   "cell_type": "code",
   "execution_count": 21,
   "metadata": {},
   "outputs": [],
   "source": [
    "def _create_windows_unique_account(\n",
    "    df: pd.DataFrame, max_empty_weeks: int\n",
    ") -> pd.DataFrame:\n",
    "    \"\"\"Removes windows that have more than `max_empty_weeks` empty weeks for a unique account.\"\"\"\n",
    "    # Expense\n",
    "    for i in range(1, 13):\n",
    "        df[f\"previous_outgoings_{i}\"] = df[\"amount_outgoings\"].shift(i, fill_value=0)\n",
    "    for i in range(1, 13):\n",
    "        df[f\"previous_incomes_{i}\"] = df[\"amount_incomes\"].shift(i, fill_value=0)\n",
    "    for i in range(1, 12):  # Only to 11, since the actual balance is the one from the beginning of the week\n",
    "        df[f\"previous_balance_{i}\"] = df[\"amount_incomes\"].shift(i, fill_value=0)   \n",
    "\n",
    "    return df[(df[[col for col in df.columns if 'expense' in col]] == 0).sum(1) < max_empty_weeks]\n",
    "\n",
    "\n",
    "def create_windows(df: pd.DataFrame, max_empty_weeks: int) -> pd.DataFrame:\n",
    "    \"\"\"Removes windows that have more than `max_empty_weeks` empty weeks.\"\"\"\n",
    "    transactions_dfs = [data for _, data in df.groupby(\"account_id\")]\n",
    "\n",
    "    return pd.concat(\n",
    "        [\n",
    "            _create_windows_unique_account(\n",
    "                df=df_unique_account, max_empty_weeks=max_empty_weeks\n",
    "            )\n",
    "            for df_unique_account in transactions_dfs\n",
    "        ]\n",
    "    ).reset_index(drop=True)"
   ]
  },
  {
   "cell_type": "code",
   "execution_count": 22,
   "metadata": {},
   "outputs": [
    {
     "data": {
      "text/html": [
       "<div>\n",
       "<style scoped>\n",
       "    .dataframe tbody tr th:only-of-type {\n",
       "        vertical-align: middle;\n",
       "    }\n",
       "\n",
       "    .dataframe tbody tr th {\n",
       "        vertical-align: top;\n",
       "    }\n",
       "\n",
       "    .dataframe thead th {\n",
       "        text-align: right;\n",
       "    }\n",
       "</style>\n",
       "<table border=\"1\" class=\"dataframe\">\n",
       "  <thead>\n",
       "    <tr style=\"text-align: right;\">\n",
       "      <th></th>\n",
       "      <th>date</th>\n",
       "      <th>amount_outgoings</th>\n",
       "      <th>account_id</th>\n",
       "      <th>amount_incomes</th>\n",
       "      <th>balance</th>\n",
       "      <th>previous_outgoings_1</th>\n",
       "      <th>previous_outgoings_2</th>\n",
       "      <th>previous_outgoings_3</th>\n",
       "      <th>previous_outgoings_4</th>\n",
       "      <th>previous_outgoings_5</th>\n",
       "      <th>...</th>\n",
       "      <th>previous_balance_2</th>\n",
       "      <th>previous_balance_3</th>\n",
       "      <th>previous_balance_4</th>\n",
       "      <th>previous_balance_5</th>\n",
       "      <th>previous_balance_6</th>\n",
       "      <th>previous_balance_7</th>\n",
       "      <th>previous_balance_8</th>\n",
       "      <th>previous_balance_9</th>\n",
       "      <th>previous_balance_10</th>\n",
       "      <th>previous_balance_11</th>\n",
       "    </tr>\n",
       "  </thead>\n",
       "  <tbody>\n",
       "    <tr>\n",
       "      <th>0</th>\n",
       "      <td>2017-05-29</td>\n",
       "      <td>-5.90</td>\n",
       "      <td>2</td>\n",
       "      <td>2300.0</td>\n",
       "      <td>-9335.05</td>\n",
       "      <td>0.0</td>\n",
       "      <td>0.0</td>\n",
       "      <td>0.0</td>\n",
       "      <td>0.0</td>\n",
       "      <td>0.0</td>\n",
       "      <td>...</td>\n",
       "      <td>0.0</td>\n",
       "      <td>0.0</td>\n",
       "      <td>0.0</td>\n",
       "      <td>0.0</td>\n",
       "      <td>0.0</td>\n",
       "      <td>0.0</td>\n",
       "      <td>0.0</td>\n",
       "      <td>0.0</td>\n",
       "      <td>0.0</td>\n",
       "      <td>0.0</td>\n",
       "    </tr>\n",
       "    <tr>\n",
       "      <th>1</th>\n",
       "      <td>2017-06-05</td>\n",
       "      <td>-2293.69</td>\n",
       "      <td>2</td>\n",
       "      <td>0.0</td>\n",
       "      <td>-7040.95</td>\n",
       "      <td>-5.9</td>\n",
       "      <td>0.0</td>\n",
       "      <td>0.0</td>\n",
       "      <td>0.0</td>\n",
       "      <td>0.0</td>\n",
       "      <td>...</td>\n",
       "      <td>0.0</td>\n",
       "      <td>0.0</td>\n",
       "      <td>0.0</td>\n",
       "      <td>0.0</td>\n",
       "      <td>0.0</td>\n",
       "      <td>0.0</td>\n",
       "      <td>0.0</td>\n",
       "      <td>0.0</td>\n",
       "      <td>0.0</td>\n",
       "      <td>0.0</td>\n",
       "    </tr>\n",
       "  </tbody>\n",
       "</table>\n",
       "<p>2 rows × 40 columns</p>\n",
       "</div>"
      ],
      "text/plain": [
       "        date  amount_outgoings  account_id  amount_incomes  balance  \\\n",
       "0 2017-05-29             -5.90           2          2300.0 -9335.05   \n",
       "1 2017-06-05          -2293.69           2             0.0 -7040.95   \n",
       "\n",
       "   previous_outgoings_1  previous_outgoings_2  previous_outgoings_3  \\\n",
       "0                   0.0                   0.0                   0.0   \n",
       "1                  -5.9                   0.0                   0.0   \n",
       "\n",
       "   previous_outgoings_4  previous_outgoings_5  ...  previous_balance_2  \\\n",
       "0                   0.0                   0.0  ...                 0.0   \n",
       "1                   0.0                   0.0  ...                 0.0   \n",
       "\n",
       "   previous_balance_3  previous_balance_4  previous_balance_5  \\\n",
       "0                 0.0                 0.0                 0.0   \n",
       "1                 0.0                 0.0                 0.0   \n",
       "\n",
       "   previous_balance_6  previous_balance_7  previous_balance_8  \\\n",
       "0                 0.0                 0.0                 0.0   \n",
       "1                 0.0                 0.0                 0.0   \n",
       "\n",
       "   previous_balance_9  previous_balance_10  previous_balance_11  \n",
       "0                 0.0                  0.0                  0.0  \n",
       "1                 0.0                  0.0                  0.0  \n",
       "\n",
       "[2 rows x 40 columns]"
      ]
     },
     "execution_count": 22,
     "metadata": {},
     "output_type": "execute_result"
    }
   ],
   "source": [
    "df_final = create_windows(df=df_week_transactions, max_empty_weeks=6)\n",
    "df_final.head(2)"
   ]
  },
  {
   "cell_type": "markdown",
   "metadata": {},
   "source": [
    "## Split TRAIN / VALIDATION / TEST"
   ]
  },
  {
   "cell_type": "code",
   "execution_count": 23,
   "metadata": {},
   "outputs": [],
   "source": [
    "def split_train_validation_test(\n",
    "    df: pd.DataFrame, ratio_train: float, ratio_validation: float\n",
    ") -> Tuple[pd.DataFrame]:\n",
    "    \"\"\"\n",
    "    Return a tuple of 3 DataFrames containing train, validation and test sets.\n",
    "    The split must respect the chronological order.\n",
    "    \"\"\"\n",
    "    dfs_train = []\n",
    "    dfs_validation = []\n",
    "    dfs_test = []\n",
    "\n",
    "    for account_id in df[\"account_id\"].unique():\n",
    "        df_temp = (\n",
    "            df[df[\"account_id\"] == account_id]\n",
    "            .sort_values(by=\"date\")\n",
    "            .reset_index(drop=True)\n",
    "        )\n",
    "        index_train, index_validation = int(len(df_temp) * ratio_train), int(\n",
    "            len(df_temp) * (ratio_validation + ratio_train)\n",
    "        )\n",
    "        dfs_train.append(df_temp[:index_train])\n",
    "        dfs_validation.append(df_temp[index_train:index_validation])\n",
    "        dfs_test.append(df_temp[index_validation:])\n",
    "\n",
    "    return (\n",
    "        pd.concat(dfs_train, ignore_index=True),\n",
    "        pd.concat(dfs_validation, ignore_index=True),\n",
    "        pd.concat(dfs_test, ignore_index=True),\n",
    "    )\n",
    "\n",
    "\n",
    "df_train, df_validate, df_test = split_train_validation_test(\n",
    "    df=df_final, ratio_train=0.6, ratio_validation=0.2\n",
    ")"
   ]
  },
  {
   "cell_type": "markdown",
   "metadata": {},
   "source": [
    "## Models"
   ]
  },
  {
   "cell_type": "code",
   "execution_count": 24,
   "metadata": {},
   "outputs": [],
   "source": [
    "from sklearn.linear_model import LinearRegression\n",
    "from sklearn.metrics import mean_absolute_error, median_absolute_error\n",
    "from sklearn.linear_model import Ridge, Lasso\n",
    "from xgboost import XGBRegressor\n",
    "\n",
    "def mean_absolute_percentage_error(y_true: np.ndarray, y_pred: np.ndarray) -> float:\n",
    "    return (\n",
    "        np.mean(\n",
    "            np.abs((y_true - y_pred) / y_true)[\n",
    "                np.isfinite(np.abs((y_true - y_pred) / y_true))\n",
    "            ]\n",
    "        )\n",
    "        * 100\n",
    "    )\n"
   ]
  },
  {
   "cell_type": "code",
   "execution_count": 25,
   "metadata": {},
   "outputs": [],
   "source": [
    "y_train = df_train[\"amount_outgoings\"]\n",
    "X_train = df_train.drop([\"amount_outgoings\", \"date\", \"amount_incomes\", \"account_id\"], axis=1)\n",
    "\n",
    "y_val = df_validate[\"amount_outgoings\"]\n",
    "X_val = df_validate.drop([\"amount_outgoings\", \"date\", \"amount_incomes\", \"account_id\"], axis=1)"
   ]
  },
  {
   "cell_type": "code",
   "execution_count": 26,
   "metadata": {},
   "outputs": [],
   "source": [
    "lin_reg = LinearRegression().fit(X_train, y_train)"
   ]
  },
  {
   "cell_type": "code",
   "execution_count": 27,
   "metadata": {},
   "outputs": [
    {
     "data": {
      "text/plain": [
       "309.4085176751912"
      ]
     },
     "execution_count": 27,
     "metadata": {},
     "output_type": "execute_result"
    }
   ],
   "source": [
    "y_val_pred = lin_reg.predict(X_val)\n",
    "positive_mask = y_val_pred > 0\n",
    "y_val_pred[positive_mask] = 0\n",
    "median_absolute_error(y_val_pred, y_val)"
   ]
  },
  {
   "cell_type": "markdown",
   "metadata": {},
   "source": [
    "By computing incomes and balance features and applying a simple linear regression , we obtain a median absolute error higher than the one obtained using ARIMA model. \n"
   ]
  },
  {
   "cell_type": "code",
   "execution_count": 28,
   "metadata": {},
   "outputs": [
    {
     "data": {
      "text/plain": [
       "310.7833587646485"
      ]
     },
     "execution_count": 28,
     "metadata": {},
     "output_type": "execute_result"
    }
   ],
   "source": [
    "xgb = XGBRegressor()\n",
    "xgb.fit(X_train, y_train)\n",
    "y_val_pred = xgb.predict(X_val)\n",
    "positive_mask = y_val_pred > 0\n",
    "y_val_pred[positive_mask] = 0\n",
    "median_absolute_error(y_val_pred, y_val)"
   ]
  },
  {
   "cell_type": "markdown",
   "metadata": {},
   "source": [
    "NB: I had a better result before, and it is to late to change everything, so I kept the xgboost regressor."
   ]
  },
  {
   "cell_type": "markdown",
   "metadata": {},
   "source": [
    "The XGB performs better. It would be appropriate to test other models and parameters (gridsearch), but due to lack of time I will go forward with a classic XGBoost and its defaults parameters."
   ]
  },
  {
   "cell_type": "markdown",
   "metadata": {},
   "source": [
    "- An other improvement would be to add other features:\n",
    "    - moving average\n",
    "    - datetime features (week number in the the month [1, 2, 3, 4])\n",
    "    - statistical metrics (median, quantiles, std...)"
   ]
  },
  {
   "cell_type": "markdown",
   "metadata": {},
   "source": [
    "### Apply model on test set "
   ]
  },
  {
   "cell_type": "code",
   "execution_count": 32,
   "metadata": {},
   "outputs": [],
   "source": [
    "y_test = df_test[\"amount_outgoings\"]\n",
    "X_test = df_test.drop([\"amount_outgoings\", \"date\", \"amount_incomes\", \"account_id\"], axis=1)"
   ]
  },
  {
   "cell_type": "code",
   "execution_count": 33,
   "metadata": {},
   "outputs": [
    {
     "data": {
      "text/plain": [
       "293.7488430786133"
      ]
     },
     "execution_count": 33,
     "metadata": {},
     "output_type": "execute_result"
    }
   ],
   "source": [
    "xgb = XGBRegressor()\n",
    "#xgb.fit(pd.concat([X_train, X_val], axis=0), pd.concat([y_train, y_val], axis=0))\n",
    "xgb.fit(X_train, y_train)\n",
    "y_test_pred = xgb.predict(X_test)\n",
    "median_absolute_error(y_test_pred, y_test)"
   ]
  },
  {
   "cell_type": "markdown",
   "metadata": {},
   "source": [
    "### Save the trained model"
   ]
  },
  {
   "cell_type": "code",
   "execution_count": 34,
   "metadata": {},
   "outputs": [
    {
     "data": {
      "text/plain": [
       "293.7488430786133"
      ]
     },
     "execution_count": 34,
     "metadata": {},
     "output_type": "execute_result"
    }
   ],
   "source": [
    "# save the model to disk\n",
    "filename = 'xgb_model.sav'\n",
    "joblib.dump(xgb, filename)\n",
    " \n",
    "# load the model from disk\n",
    "loaded_model = joblib.load(filename)\n",
    "y_test_pred = loaded_model.predict(X_test)\n",
    "positive_mask = y_test_pred > 0  # Where values are low\n",
    "y_test_pred[positive_mask] = 0\n",
    "\n",
    "median_absolute_error(y_test_pred, y_test)"
   ]
  },
  {
   "cell_type": "code",
   "execution_count": 38,
   "metadata": {},
   "outputs": [
    {
     "data": {
      "text/plain": [
       "array([-10000,  -9999,  -9998, ...,     -4,     -3,     -2])"
      ]
     },
     "execution_count": 38,
     "metadata": {},
     "output_type": "execute_result"
    }
   ],
   "source": [
    "np.arange(-10000, -1)"
   ]
  },
  {
   "cell_type": "code",
   "execution_count": 46,
   "metadata": {},
   "outputs": [
    {
     "data": {
      "text/plain": [
       "Text(0.5, 1.0, 'Predictions against real target')"
      ]
     },
     "execution_count": 46,
     "metadata": {},
     "output_type": "execute_result"
    },
    {
     "data": {
      "image/png": "[encoded data removed]",
      "text/plain": [
       "<Figure size 1152x432 with 1 Axes>"
      ]
     },
     "metadata": {},
     "output_type": "display_data"
    }
   ],
   "source": [
    "import matplotlib.pyplot as plt\n",
    "import seaborn as sns\n",
    "sns.set()\n",
    "\n",
    "plt.figure(figsize=(16, 6))\n",
    "plt.scatter(y_test, y_test_pred)\n",
    "plt.plot(np.arange(-4000, -1), np.arange(-4000, -1), 'black', label=\"x=y line\")\n",
    "plt.xlabel(\"Target\")\n",
    "plt.ylabel(\"Predictions\")\n",
    "plt.legend()\n",
    "plt.title(\"Predictions against real target\", fontsize=14)"
   ]
  },
  {
   "cell_type": "code",
   "execution_count": 50,
   "metadata": {},
   "outputs": [
    {
     "data": {
      "text/html": [
       "<div>\n",
       "<style scoped>\n",
       "    .dataframe tbody tr th:only-of-type {\n",
       "        vertical-align: middle;\n",
       "    }\n",
       "\n",
       "    .dataframe tbody tr th {\n",
       "        vertical-align: top;\n",
       "    }\n",
       "\n",
       "    .dataframe thead th {\n",
       "        text-align: right;\n",
       "    }\n",
       "</style>\n",
       "<table border=\"1\" class=\"dataframe\">\n",
       "  <thead>\n",
       "    <tr style=\"text-align: right;\">\n",
       "      <th></th>\n",
       "      <th>target_quantiles</th>\n",
       "      <th>model_MAE_quantiles</th>\n",
       "      <th>model_MAPE_quantiles</th>\n",
       "    </tr>\n",
       "  </thead>\n",
       "  <tbody>\n",
       "    <tr>\n",
       "      <th>0.05</th>\n",
       "      <td>-4140.4150</td>\n",
       "      <td>15.109157</td>\n",
       "      <td>10.257410</td>\n",
       "    </tr>\n",
       "    <tr>\n",
       "      <th>0.10</th>\n",
       "      <td>-2196.4610</td>\n",
       "      <td>36.891392</td>\n",
       "      <td>17.283926</td>\n",
       "    </tr>\n",
       "    <tr>\n",
       "      <th>0.15</th>\n",
       "      <td>-1502.7685</td>\n",
       "      <td>60.532035</td>\n",
       "      <td>26.226614</td>\n",
       "    </tr>\n",
       "    <tr>\n",
       "      <th>0.20</th>\n",
       "      <td>-945.2440</td>\n",
       "      <td>90.026097</td>\n",
       "      <td>34.896917</td>\n",
       "    </tr>\n",
       "    <tr>\n",
       "      <th>0.25</th>\n",
       "      <td>-698.5000</td>\n",
       "      <td>117.794484</td>\n",
       "      <td>42.129870</td>\n",
       "    </tr>\n",
       "    <tr>\n",
       "      <th>0.30</th>\n",
       "      <td>-563.5930</td>\n",
       "      <td>150.090708</td>\n",
       "      <td>50.079574</td>\n",
       "    </tr>\n",
       "    <tr>\n",
       "      <th>0.35</th>\n",
       "      <td>-475.4415</td>\n",
       "      <td>186.170128</td>\n",
       "      <td>56.643781</td>\n",
       "    </tr>\n",
       "    <tr>\n",
       "      <th>0.40</th>\n",
       "      <td>-377.6260</td>\n",
       "      <td>216.467091</td>\n",
       "      <td>69.253500</td>\n",
       "    </tr>\n",
       "    <tr>\n",
       "      <th>0.45</th>\n",
       "      <td>-322.7875</td>\n",
       "      <td>253.260888</td>\n",
       "      <td>74.316653</td>\n",
       "    </tr>\n",
       "    <tr>\n",
       "      <th>0.50</th>\n",
       "      <td>-263.9450</td>\n",
       "      <td>293.748843</td>\n",
       "      <td>78.444728</td>\n",
       "    </tr>\n",
       "    <tr>\n",
       "      <th>0.55</th>\n",
       "      <td>-199.9010</td>\n",
       "      <td>350.094602</td>\n",
       "      <td>87.856298</td>\n",
       "    </tr>\n",
       "    <tr>\n",
       "      <th>0.60</th>\n",
       "      <td>-154.2380</td>\n",
       "      <td>421.295084</td>\n",
       "      <td>100.000000</td>\n",
       "    </tr>\n",
       "    <tr>\n",
       "      <th>0.65</th>\n",
       "      <td>-104.2120</td>\n",
       "      <td>482.025217</td>\n",
       "      <td>117.642667</td>\n",
       "    </tr>\n",
       "    <tr>\n",
       "      <th>0.70</th>\n",
       "      <td>-73.8950</td>\n",
       "      <td>586.764991</td>\n",
       "      <td>170.060792</td>\n",
       "    </tr>\n",
       "    <tr>\n",
       "      <th>0.75</th>\n",
       "      <td>-37.9900</td>\n",
       "      <td>706.428397</td>\n",
       "      <td>247.478428</td>\n",
       "    </tr>\n",
       "    <tr>\n",
       "      <th>0.80</th>\n",
       "      <td>-14.8300</td>\n",
       "      <td>890.798298</td>\n",
       "      <td>359.202116</td>\n",
       "    </tr>\n",
       "    <tr>\n",
       "      <th>0.85</th>\n",
       "      <td>-1.4505</td>\n",
       "      <td>1277.879058</td>\n",
       "      <td>533.094501</td>\n",
       "    </tr>\n",
       "    <tr>\n",
       "      <th>0.90</th>\n",
       "      <td>-0.0000</td>\n",
       "      <td>1812.750630</td>\n",
       "      <td>935.674621</td>\n",
       "    </tr>\n",
       "    <tr>\n",
       "      <th>0.95</th>\n",
       "      <td>-0.0000</td>\n",
       "      <td>2767.982673</td>\n",
       "      <td>2126.959622</td>\n",
       "    </tr>\n",
       "  </tbody>\n",
       "</table>\n",
       "</div>"
      ],
      "text/plain": [
       "      target_quantiles  model_MAE_quantiles  model_MAPE_quantiles\n",
       "0.05        -4140.4150            15.109157             10.257410\n",
       "0.10        -2196.4610            36.891392             17.283926\n",
       "0.15        -1502.7685            60.532035             26.226614\n",
       "0.20         -945.2440            90.026097             34.896917\n",
       "0.25         -698.5000           117.794484             42.129870\n",
       "0.30         -563.5930           150.090708             50.079574\n",
       "0.35         -475.4415           186.170128             56.643781\n",
       "0.40         -377.6260           216.467091             69.253500\n",
       "0.45         -322.7875           253.260888             74.316653\n",
       "0.50         -263.9450           293.748843             78.444728\n",
       "0.55         -199.9010           350.094602             87.856298\n",
       "0.60         -154.2380           421.295084            100.000000\n",
       "0.65         -104.2120           482.025217            117.642667\n",
       "0.70          -73.8950           586.764991            170.060792\n",
       "0.75          -37.9900           706.428397            247.478428\n",
       "0.80          -14.8300           890.798298            359.202116\n",
       "0.85           -1.4505          1277.879058            533.094501\n",
       "0.90           -0.0000          1812.750630            935.674621\n",
       "0.95           -0.0000          2767.982673           2126.959622"
      ]
     },
     "execution_count": 50,
     "metadata": {},
     "output_type": "execute_result"
    }
   ],
   "source": [
    "import numpy as np\n",
    "\n",
    "FLOAT_FORMAT = \"{:.2f}\"\n",
    "\n",
    "\n",
    "def plot_quantiles(\n",
    "    values: np.ndarray, quantiles: list, name: str\n",
    ") -> pd.DataFrame:\n",
    "    columns_names = [FLOAT_FORMAT.format(quantile) for quantile in quantiles]\n",
    "    return pd.DataFrame(\n",
    "        data=np.quantile(values, quantiles, interpolation=\"linear\"),\n",
    "        index=columns_names,\n",
    "        columns=[f\"{name}_quantiles\"],\n",
    "    )\n",
    "\n",
    "\n",
    "QUANTILES = [0.05 * i for i in range(1, 20)]\n",
    "\n",
    "target_quantiles = plot_quantiles(\n",
    "    values=y_test, quantiles=QUANTILES, name=\"target\"\n",
    ")\n",
    "\n",
    "mae_quantiles = plot_quantiles(\n",
    "    values=abs(y_test_pred - y_test), quantiles=QUANTILES, name=\"model_MAE\"\n",
    ")\n",
    "\n",
    "def absolute_percentage_error(y_true: np.ndarray, y_pred: np.ndarray) -> float:\n",
    "    return (\n",
    "            np.abs((y_true - y_pred) / y_true)[\n",
    "                np.isfinite(np.abs((y_true - y_pred) / y_true))\n",
    "            ]\n",
    "        * 100\n",
    "    )\n",
    "mape_errors = absolute_percentage_error(y_test, y_test_pred)\n",
    "mape_quantiles = plot_quantiles(\n",
    "    values=[x for x in mape_errors if x == x], quantiles=QUANTILES, name=\"model_MAPE\"\n",
    ")\n",
    "\n",
    "\n",
    "pd.concat([target_quantiles, mae_quantiles, mape_quantiles], axis=1)"
   ]
  },
  {
   "cell_type": "markdown",
   "metadata": {},
   "source": [
    "Results here are not satisfying. For 40% of data, our predictions have more than 100% MAPE -> The error is twice higher than the real value."
   ]
  },
  {
   "cell_type": "markdown",
   "metadata": {},
   "source": [
    "Many work has to be done in preprocessing data (I made some suggestions in the notebooks)"
   ]
  },
  {
   "cell_type": "code",
   "execution_count": null,
   "metadata": {},
   "outputs": [],
   "source": []
  }
 ],
 "metadata": {
  "kernelspec": {
   "display_name": "Python 3",
   "language": "python",
   "name": "python3"
  },
  "language_info": {
   "codemirror_mode": {
    "name": "ipython",
    "version": 3
   },
   "file_extension": ".py",
   "mimetype": "text/x-python",
   "name": "python",
   "nbconvert_exporter": "python",
   "pygments_lexer": "ipython3",
   "version": "3.8.2"
  }
 },
 "nbformat": 4,
 "nbformat_minor": 4
}

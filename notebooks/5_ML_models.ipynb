{
 "cells": [
  {
   "cell_type": "markdown",
   "metadata": {},
   "source": [
    "In this notebook, I will use a linear and tree models. \n",
    "\n",
    "The data set will be different from the one used in ARIMA models. An obersvation will containg last weeks expenses, incomes and balance. Hence, I need to compute the balance at each week.\n",
    "(many other features can be computed, but I will stick to those, I've already spent a lot of time on previous notebooks)\n",
    "\n",
    "I first split data into train/validate/test sets. Then I train models on train set, predict on validation set, then choose the one that have best results (MAPE and MAE). We can't use a cross validation here, since data should be kept in its chronological order. (This step ois meant to avoid overfitting)\n",
    "\n",
    "Finally I apply it on the test set. \n",
    "I will then compare it to the ARIMA model chosen before.\n",
    "\n",
    "ARIMA model was trained on 80% against opnly 60% of data for the ones used here. This was necessary to test them both on same data (20% last percents).\n",
    "\n",
    "I will not spend time on looking for the best parameters here (grid search) due to lack of time. It is more meant to show the options we got."
   ]
  },
  {
   "cell_type": "code",
   "execution_count": 146,
   "metadata": {},
   "outputs": [],
   "source": [
    "from sklearn.linear_model import LinearRegression\n",
    "\n",
    "import pandas as pd\n",
    "import numpy as np\n",
    "\n",
    "from typing import Tuple\n",
    "\n",
    "from datetime import timedelta\n",
    "\n",
    "import joblib"
   ]
  },
  {
   "cell_type": "markdown",
   "metadata": {},
   "source": [
    "### Read data"
   ]
  },
  {
   "cell_type": "code",
   "execution_count": 147,
   "metadata": {},
   "outputs": [],
   "source": [
    "df_accounts = pd.read_csv(\n",
    "    \"../data/accounts_enough_history.csv\", parse_dates=[\"update_date\"]\n",
    ")\n",
    "df_transactions = pd.read_csv(\n",
    "    \"../data/transactions_enough_history.csv\", parse_dates=[\"date\"]\n",
    ")"
   ]
  },
  {
   "cell_type": "code",
   "execution_count": 157,
   "metadata": {},
   "outputs": [],
   "source": [
    "df_incomes = df_transactions[df_transactions[\"amount\"] > 0]\n",
    "df_expenses = df_transactions[df_transactions[\"amount\"] < 0]"
   ]
  },
  {
   "cell_type": "markdown",
   "metadata": {},
   "source": [
    "### Remove outliers"
   ]
  },
  {
   "cell_type": "code",
   "execution_count": 158,
   "metadata": {},
   "outputs": [],
   "source": [
    "def remove_outliers_year_aggregation(df: pd.DataFrame) -> pd.DataFrame:\n",
    "    df[\"year\"] = df[\"date\"].dt.year\n",
    "\n",
    "    df_month_expenses = (\n",
    "        df.groupby([\"account_id\", \"year\"])[\"amount\"].agg([\"mean\", \"std\"]).reset_index()\n",
    "    )\n",
    "    df = pd.merge(\n",
    "        df,\n",
    "        df_month_expenses,\n",
    "        on=[\"account_id\", \"year\"],\n",
    "        how=\"left\",\n",
    "        sort=False,\n",
    "    )\n",
    "    df[\"outlier\"] = df[\"amount\"] > (df[\"mean\"] + 3 * df[\"std\"])\n",
    "    return df"
   ]
  },
  {
   "cell_type": "code",
   "execution_count": 159,
   "metadata": {
    "scrolled": true
   },
   "outputs": [
    {
     "name": "stderr",
     "output_type": "stream",
     "text": [
      "<ipython-input-158-e646f9ddc972>:2: SettingWithCopyWarning: \n",
      "A value is trying to be set on a copy of a slice from a DataFrame.\n",
      "Try using .loc[row_indexer,col_indexer] = value instead\n",
      "\n",
      "See the caveats in the documentation: https://pandas.pydata.org/pandas-docs/stable/user_guide/indexing.html#returning-a-view-versus-a-copy\n",
      "  df[\"year\"] = df[\"date\"].dt.year\n",
      "<ipython-input-159-589335085b07>:4: SettingWithCopyWarning: \n",
      "A value is trying to be set on a copy of a slice from a DataFrame.\n",
      "Try using .loc[row_indexer,col_indexer] = value instead\n",
      "\n",
      "See the caveats in the documentation: https://pandas.pydata.org/pandas-docs/stable/user_guide/indexing.html#returning-a-view-versus-a-copy\n",
      "  df_expenses[\"amount\"] = abs(df_expenses[\"amount\"])\n",
      "<ipython-input-158-e646f9ddc972>:2: SettingWithCopyWarning: \n",
      "A value is trying to be set on a copy of a slice from a DataFrame.\n",
      "Try using .loc[row_indexer,col_indexer] = value instead\n",
      "\n",
      "See the caveats in the documentation: https://pandas.pydata.org/pandas-docs/stable/user_guide/indexing.html#returning-a-view-versus-a-copy\n",
      "  df[\"year\"] = df[\"date\"].dt.year\n"
     ]
    }
   ],
   "source": [
    "df_incomes = remove_outliers_year_aggregation(df=df_incomes)\n",
    "df_incomes = df_incomes[~df_incomes[\"outlier\"]]\n",
    "\n",
    "df_expenses[\"amount\"] = abs(df_expenses[\"amount\"])\n",
    "df_expenses = remove_outliers_year_aggregation(df=df_expenses)\n",
    "df_expenses = df_expenses[~df_expenses[\"outlier\"]]"
   ]
  },
  {
   "cell_type": "markdown",
   "metadata": {},
   "source": [
    "### Week resampling"
   ]
  },
  {
   "cell_type": "code",
   "execution_count": 31,
   "metadata": {},
   "outputs": [],
   "source": [
    "def _resample_per_week_unique_account(df: pd.DataFrame) -> pd.DataFrame:\n",
    "    \"\"\"Resample date into weeks for a unique account.\"\"\"\n",
    "    account_id = df[\"account_id\"].iloc[0]\n",
    "\n",
    "    temp_df = df.sort_values(\n",
    "        by=\"date\", ascending=True\n",
    "    )[[\"date\", \"amount\"]]\n",
    "\n",
    "    temp_df = temp_df.set_index(\"date\", drop=True)\n",
    "\n",
    "    temp_df = (\n",
    "        temp_df.resample(\"W-MON\").sum().reset_index()\n",
    "    )\n",
    "    temp_df[\"account_id\"] = account_id\n",
    "\n",
    "    return temp_df\n",
    "\n",
    "\n",
    "def resample_per_week(df: pd.DataFrame) -> pd.DataFrame:\n",
    "    \"\"\"Return a dataframe with resampled data into weeks.\"\"\"\n",
    "    transactions_dfs = [data for _, data in df.groupby(\"account_id\")]\n",
    "\n",
    "    return pd.concat(\n",
    "        [\n",
    "            _resample_per_week_unique_account(\n",
    "                df=df_unique_account,\n",
    "            )\n",
    "            for df_unique_account in transactions_dfs\n",
    "        ]\n",
    "    ).reset_index(drop=True)"
   ]
  },
  {
   "cell_type": "code",
   "execution_count": 32,
   "metadata": {},
   "outputs": [],
   "source": [
    "df_expenses = resample_per_week(df=df_expenses)\n",
    "df_incomes = resample_per_week(df=df_incomes)"
   ]
  },
  {
   "cell_type": "markdown",
   "metadata": {},
   "source": [
    "### Compute history balance"
   ]
  },
  {
   "cell_type": "markdown",
   "metadata": {},
   "source": [
    "Since I have already removed outliers from data, the balance is not the real one, but only an estimation using only incomes and expenses kept."
   ]
  },
  {
   "cell_type": "code",
   "execution_count": 37,
   "metadata": {},
   "outputs": [],
   "source": [
    "df_expenses[\"amount\"] = df_expenses[\"amount\"] * (-1)\n",
    "\n",
    "df_transactions = pd.concat([df_incomes, df_expenses], axis=0)"
   ]
  },
  {
   "cell_type": "code",
   "execution_count": 68,
   "metadata": {},
   "outputs": [],
   "source": [
    "def _get_balance_unique_account(\n",
    "    df_transactions_unique_account: pd.DataFrame, balance: float, account_id: int\n",
    ") -> pd.DataFrame:\n",
    "    \"\"\"Compute the balance using transactions.\"\"\"\n",
    "    grouped_transactions = (\n",
    "        df_transactions_unique_account.groupby([\"account_id\", \"date\"])[\n",
    "            \"amount\"\n",
    "        ]\n",
    "        .sum()\n",
    "        .reset_index()\n",
    "        .sort_values(by=[\"date\"], ascending=False)\n",
    "    )\n",
    "    grouped_transactions[\"balance\"] = round(\n",
    "        balance - grouped_transactions[\n",
    "        \"amount\"\n",
    "    ].cumsum(), 2\n",
    "    )\n",
    "\n",
    "    return grouped_transactions\n",
    "\n",
    "\n",
    "def get_balance_data(df_accounts: pd.DataFrame, df_trans: pd.DataFrame) -> pd.DataFrame:\n",
    "    \"\"\"Return a dataframe with history accounts balance.\"\"\"\n",
    "    account_dfs = [data for _, data in df_trans.groupby(\"account_id\")]\n",
    "\n",
    "    return pd.concat(\n",
    "        [\n",
    "            _get_balance_unique_account(\n",
    "                df_transactions_unique_account=df,\n",
    "                balance=df_accounts[df_accounts[\"id\"] == df[\"account_id\"].iloc[0]][\n",
    "                    \"balance\"\n",
    "                ].iloc[0],\n",
    "                account_id=df[\"account_id\"].iloc[0],\n",
    "            )\n",
    "            for df in account_dfs\n",
    "        ]\n",
    "    ).reset_index(drop=True)"
   ]
  },
  {
   "cell_type": "code",
   "execution_count": 69,
   "metadata": {},
   "outputs": [],
   "source": [
    "df_balance = get_balance_data(df_accounts=df_accounts, df_trans=df_transactions)"
   ]
  },
  {
   "cell_type": "code",
   "execution_count": 145,
   "metadata": {},
   "outputs": [
    {
     "data": {
      "text/html": [
       "<div>\n",
       "<style scoped>\n",
       "    .dataframe tbody tr th:only-of-type {\n",
       "        vertical-align: middle;\n",
       "    }\n",
       "\n",
       "    .dataframe tbody tr th {\n",
       "        vertical-align: top;\n",
       "    }\n",
       "\n",
       "    .dataframe thead th {\n",
       "        text-align: right;\n",
       "    }\n",
       "</style>\n",
       "<table border=\"1\" class=\"dataframe\">\n",
       "  <thead>\n",
       "    <tr style=\"text-align: right;\">\n",
       "      <th></th>\n",
       "      <th>account_id</th>\n",
       "      <th>date</th>\n",
       "      <th>amount</th>\n",
       "      <th>balance</th>\n",
       "    </tr>\n",
       "  </thead>\n",
       "  <tbody>\n",
       "    <tr>\n",
       "      <th>0</th>\n",
       "      <td>2</td>\n",
       "      <td>2020-01-20</td>\n",
       "      <td>0.00</td>\n",
       "      <td>3.52</td>\n",
       "    </tr>\n",
       "    <tr>\n",
       "      <th>1</th>\n",
       "      <td>2</td>\n",
       "      <td>2020-01-13</td>\n",
       "      <td>-56.00</td>\n",
       "      <td>59.52</td>\n",
       "    </tr>\n",
       "    <tr>\n",
       "      <th>2</th>\n",
       "      <td>2</td>\n",
       "      <td>2020-01-06</td>\n",
       "      <td>-73.85</td>\n",
       "      <td>133.37</td>\n",
       "    </tr>\n",
       "    <tr>\n",
       "      <th>3</th>\n",
       "      <td>2</td>\n",
       "      <td>2019-12-30</td>\n",
       "      <td>0.00</td>\n",
       "      <td>133.37</td>\n",
       "    </tr>\n",
       "    <tr>\n",
       "      <th>4</th>\n",
       "      <td>2</td>\n",
       "      <td>2019-12-23</td>\n",
       "      <td>-78.74</td>\n",
       "      <td>212.11</td>\n",
       "    </tr>\n",
       "    <tr>\n",
       "      <th>...</th>\n",
       "      <td>...</td>\n",
       "      <td>...</td>\n",
       "      <td>...</td>\n",
       "      <td>...</td>\n",
       "    </tr>\n",
       "    <tr>\n",
       "      <th>2012</th>\n",
       "      <td>49</td>\n",
       "      <td>2019-07-08</td>\n",
       "      <td>1.20</td>\n",
       "      <td>500.75</td>\n",
       "    </tr>\n",
       "    <tr>\n",
       "      <th>2013</th>\n",
       "      <td>49</td>\n",
       "      <td>2019-07-01</td>\n",
       "      <td>0.00</td>\n",
       "      <td>500.75</td>\n",
       "    </tr>\n",
       "    <tr>\n",
       "      <th>2014</th>\n",
       "      <td>49</td>\n",
       "      <td>2019-06-24</td>\n",
       "      <td>-9.17</td>\n",
       "      <td>509.92</td>\n",
       "    </tr>\n",
       "    <tr>\n",
       "      <th>2015</th>\n",
       "      <td>49</td>\n",
       "      <td>2019-06-17</td>\n",
       "      <td>0.00</td>\n",
       "      <td>509.92</td>\n",
       "    </tr>\n",
       "    <tr>\n",
       "      <th>2016</th>\n",
       "      <td>49</td>\n",
       "      <td>2019-06-10</td>\n",
       "      <td>509.92</td>\n",
       "      <td>-0.00</td>\n",
       "    </tr>\n",
       "  </tbody>\n",
       "</table>\n",
       "<p>2017 rows × 4 columns</p>\n",
       "</div>"
      ],
      "text/plain": [
       "      account_id       date  amount  balance\n",
       "0              2 2020-01-20    0.00     3.52\n",
       "1              2 2020-01-13  -56.00    59.52\n",
       "2              2 2020-01-06  -73.85   133.37\n",
       "3              2 2019-12-30    0.00   133.37\n",
       "4              2 2019-12-23  -78.74   212.11\n",
       "...          ...        ...     ...      ...\n",
       "2012          49 2019-07-08    1.20   500.75\n",
       "2013          49 2019-07-01    0.00   500.75\n",
       "2014          49 2019-06-24   -9.17   509.92\n",
       "2015          49 2019-06-17    0.00   509.92\n",
       "2016          49 2019-06-10  509.92    -0.00\n",
       "\n",
       "[2017 rows x 4 columns]"
      ]
     },
     "execution_count": 145,
     "metadata": {},
     "output_type": "execute_result"
    }
   ],
   "source": [
    "df_balance"
   ]
  },
  {
   "cell_type": "code",
   "execution_count": 84,
   "metadata": {},
   "outputs": [
    {
     "data": {
      "text/html": [
       "<div>\n",
       "<style scoped>\n",
       "    .dataframe tbody tr th:only-of-type {\n",
       "        vertical-align: middle;\n",
       "    }\n",
       "\n",
       "    .dataframe tbody tr th {\n",
       "        vertical-align: top;\n",
       "    }\n",
       "\n",
       "    .dataframe thead th {\n",
       "        text-align: right;\n",
       "    }\n",
       "</style>\n",
       "<table border=\"1\" class=\"dataframe\">\n",
       "  <thead>\n",
       "    <tr style=\"text-align: right;\">\n",
       "      <th></th>\n",
       "      <th>date</th>\n",
       "      <th>amount_expenses</th>\n",
       "      <th>account_id</th>\n",
       "      <th>amount_incomes</th>\n",
       "    </tr>\n",
       "  </thead>\n",
       "  <tbody>\n",
       "    <tr>\n",
       "      <th>0</th>\n",
       "      <td>2017-05-29</td>\n",
       "      <td>-5.90</td>\n",
       "      <td>2</td>\n",
       "      <td>2300.0</td>\n",
       "    </tr>\n",
       "    <tr>\n",
       "      <th>1</th>\n",
       "      <td>2017-06-05</td>\n",
       "      <td>-2293.69</td>\n",
       "      <td>2</td>\n",
       "      <td>0.0</td>\n",
       "    </tr>\n",
       "    <tr>\n",
       "      <th>2</th>\n",
       "      <td>2017-06-12</td>\n",
       "      <td>-0.00</td>\n",
       "      <td>2</td>\n",
       "      <td>0.0</td>\n",
       "    </tr>\n",
       "    <tr>\n",
       "      <th>3</th>\n",
       "      <td>2017-06-19</td>\n",
       "      <td>-5.90</td>\n",
       "      <td>2</td>\n",
       "      <td>0.0</td>\n",
       "    </tr>\n",
       "    <tr>\n",
       "      <th>4</th>\n",
       "      <td>2017-06-26</td>\n",
       "      <td>-0.00</td>\n",
       "      <td>2</td>\n",
       "      <td>123.0</td>\n",
       "    </tr>\n",
       "    <tr>\n",
       "      <th>...</th>\n",
       "      <td>...</td>\n",
       "      <td>...</td>\n",
       "      <td>...</td>\n",
       "      <td>...</td>\n",
       "    </tr>\n",
       "    <tr>\n",
       "      <th>47236</th>\n",
       "      <td>2020-01-06</td>\n",
       "      <td>-10.80</td>\n",
       "      <td>49</td>\n",
       "      <td>0.0</td>\n",
       "    </tr>\n",
       "    <tr>\n",
       "      <th>47237</th>\n",
       "      <td>2020-01-06</td>\n",
       "      <td>-10.80</td>\n",
       "      <td>49</td>\n",
       "      <td>7700.0</td>\n",
       "    </tr>\n",
       "    <tr>\n",
       "      <th>47238</th>\n",
       "      <td>2020-01-06</td>\n",
       "      <td>-10.80</td>\n",
       "      <td>49</td>\n",
       "      <td>1560.0</td>\n",
       "    </tr>\n",
       "    <tr>\n",
       "      <th>47239</th>\n",
       "      <td>2020-01-06</td>\n",
       "      <td>-10.80</td>\n",
       "      <td>49</td>\n",
       "      <td>370.0</td>\n",
       "    </tr>\n",
       "    <tr>\n",
       "      <th>47240</th>\n",
       "      <td>2020-01-06</td>\n",
       "      <td>-10.80</td>\n",
       "      <td>49</td>\n",
       "      <td>0.0</td>\n",
       "    </tr>\n",
       "  </tbody>\n",
       "</table>\n",
       "<p>47241 rows × 4 columns</p>\n",
       "</div>"
      ],
      "text/plain": [
       "            date  amount_expenses  account_id  amount_incomes\n",
       "0     2017-05-29            -5.90           2          2300.0\n",
       "1     2017-06-05         -2293.69           2             0.0\n",
       "2     2017-06-12            -0.00           2             0.0\n",
       "3     2017-06-19            -5.90           2             0.0\n",
       "4     2017-06-26            -0.00           2           123.0\n",
       "...          ...              ...         ...             ...\n",
       "47236 2020-01-06           -10.80          49             0.0\n",
       "47237 2020-01-06           -10.80          49          7700.0\n",
       "47238 2020-01-06           -10.80          49          1560.0\n",
       "47239 2020-01-06           -10.80          49           370.0\n",
       "47240 2020-01-06           -10.80          49             0.0\n",
       "\n",
       "[47241 rows x 4 columns]"
      ]
     },
     "execution_count": 84,
     "metadata": {},
     "output_type": "execute_result"
    }
   ],
   "source": [
    "df_week_transactions"
   ]
  },
  {
   "cell_type": "markdown",
   "metadata": {},
   "source": [
    "### Create final dataset "
   ]
  },
  {
   "cell_type": "code",
   "execution_count": 94,
   "metadata": {},
   "outputs": [],
   "source": [
    "df_week_transactions = pd.merge(df_expenses, df_incomes, on=[\"date\", \"account_id\"], how=\"left\", sort=False, suffixes=[\"_expenses\", \"_incomes\"])\n"
   ]
  },
  {
   "cell_type": "code",
   "execution_count": 97,
   "metadata": {},
   "outputs": [],
   "source": [
    "df_week_transactions.fillna(0, inplace=True)"
   ]
  },
  {
   "cell_type": "code",
   "execution_count": 99,
   "metadata": {},
   "outputs": [],
   "source": [
    "df_week_transactions = pd.merge(df_week_transactions, df_balance[[\"date\", \"balance\", \"account_id\"]], on=[\"account_id\", \"date\"], how=\"left\", sort=False)\n"
   ]
  },
  {
   "cell_type": "code",
   "execution_count": 100,
   "metadata": {},
   "outputs": [
    {
     "data": {
      "text/html": [
       "<div>\n",
       "<style scoped>\n",
       "    .dataframe tbody tr th:only-of-type {\n",
       "        vertical-align: middle;\n",
       "    }\n",
       "\n",
       "    .dataframe tbody tr th {\n",
       "        vertical-align: top;\n",
       "    }\n",
       "\n",
       "    .dataframe thead th {\n",
       "        text-align: right;\n",
       "    }\n",
       "</style>\n",
       "<table border=\"1\" class=\"dataframe\">\n",
       "  <thead>\n",
       "    <tr style=\"text-align: right;\">\n",
       "      <th></th>\n",
       "      <th>date</th>\n",
       "      <th>amount_expenses</th>\n",
       "      <th>account_id</th>\n",
       "      <th>amount_incomes</th>\n",
       "      <th>balance</th>\n",
       "    </tr>\n",
       "  </thead>\n",
       "  <tbody>\n",
       "    <tr>\n",
       "      <th>0</th>\n",
       "      <td>2017-05-29</td>\n",
       "      <td>-5.90</td>\n",
       "      <td>2</td>\n",
       "      <td>2300.0</td>\n",
       "      <td>-9335.05</td>\n",
       "    </tr>\n",
       "    <tr>\n",
       "      <th>1</th>\n",
       "      <td>2017-06-05</td>\n",
       "      <td>-2293.69</td>\n",
       "      <td>2</td>\n",
       "      <td>0.0</td>\n",
       "      <td>-7040.95</td>\n",
       "    </tr>\n",
       "    <tr>\n",
       "      <th>2</th>\n",
       "      <td>2017-06-12</td>\n",
       "      <td>-0.00</td>\n",
       "      <td>2</td>\n",
       "      <td>0.0</td>\n",
       "      <td>-9334.64</td>\n",
       "    </tr>\n",
       "    <tr>\n",
       "      <th>3</th>\n",
       "      <td>2017-06-19</td>\n",
       "      <td>-5.90</td>\n",
       "      <td>2</td>\n",
       "      <td>0.0</td>\n",
       "      <td>-9334.64</td>\n",
       "    </tr>\n",
       "    <tr>\n",
       "      <th>4</th>\n",
       "      <td>2017-06-26</td>\n",
       "      <td>-0.00</td>\n",
       "      <td>2</td>\n",
       "      <td>123.0</td>\n",
       "      <td>-9340.54</td>\n",
       "    </tr>\n",
       "    <tr>\n",
       "      <th>...</th>\n",
       "      <td>...</td>\n",
       "      <td>...</td>\n",
       "      <td>...</td>\n",
       "      <td>...</td>\n",
       "      <td>...</td>\n",
       "    </tr>\n",
       "    <tr>\n",
       "      <th>2000</th>\n",
       "      <td>2019-12-09</td>\n",
       "      <td>-10.80</td>\n",
       "      <td>49</td>\n",
       "      <td>0.0</td>\n",
       "      <td>60.44</td>\n",
       "    </tr>\n",
       "    <tr>\n",
       "      <th>2001</th>\n",
       "      <td>2019-12-16</td>\n",
       "      <td>-0.00</td>\n",
       "      <td>49</td>\n",
       "      <td>0.0</td>\n",
       "      <td>49.64</td>\n",
       "    </tr>\n",
       "    <tr>\n",
       "      <th>2002</th>\n",
       "      <td>2019-12-23</td>\n",
       "      <td>-0.00</td>\n",
       "      <td>49</td>\n",
       "      <td>0.0</td>\n",
       "      <td>49.64</td>\n",
       "    </tr>\n",
       "    <tr>\n",
       "      <th>2003</th>\n",
       "      <td>2019-12-30</td>\n",
       "      <td>-0.00</td>\n",
       "      <td>49</td>\n",
       "      <td>0.0</td>\n",
       "      <td>49.64</td>\n",
       "    </tr>\n",
       "    <tr>\n",
       "      <th>2004</th>\n",
       "      <td>2020-01-06</td>\n",
       "      <td>-10.80</td>\n",
       "      <td>49</td>\n",
       "      <td>0.0</td>\n",
       "      <td>49.64</td>\n",
       "    </tr>\n",
       "  </tbody>\n",
       "</table>\n",
       "<p>2005 rows × 5 columns</p>\n",
       "</div>"
      ],
      "text/plain": [
       "           date  amount_expenses  account_id  amount_incomes  balance\n",
       "0    2017-05-29            -5.90           2          2300.0 -9335.05\n",
       "1    2017-06-05         -2293.69           2             0.0 -7040.95\n",
       "2    2017-06-12            -0.00           2             0.0 -9334.64\n",
       "3    2017-06-19            -5.90           2             0.0 -9334.64\n",
       "4    2017-06-26            -0.00           2           123.0 -9340.54\n",
       "...         ...              ...         ...             ...      ...\n",
       "2000 2019-12-09           -10.80          49             0.0    60.44\n",
       "2001 2019-12-16            -0.00          49             0.0    49.64\n",
       "2002 2019-12-23            -0.00          49             0.0    49.64\n",
       "2003 2019-12-30            -0.00          49             0.0    49.64\n",
       "2004 2020-01-06           -10.80          49             0.0    49.64\n",
       "\n",
       "[2005 rows x 5 columns]"
      ]
     },
     "execution_count": 100,
     "metadata": {},
     "output_type": "execute_result"
    }
   ],
   "source": [
    "df_week_transactions"
   ]
  },
  {
   "cell_type": "code",
   "execution_count": 102,
   "metadata": {},
   "outputs": [],
   "source": [
    "def _create_windows_unique_account(\n",
    "    df: pd.DataFrame, max_empty_weeks: int\n",
    ") -> pd.DataFrame:\n",
    "    \"\"\"Removes windows that have more than `max_empty_weeks` empty weeks for a unique account.\"\"\"\n",
    "    # Expense\n",
    "    for i in range(1, 13):\n",
    "        df[f\"previous_expense_{i}\"] = df[\"amount_expenses\"].shift(i, fill_value=0)\n",
    "    for i in range(1, 13):\n",
    "        df[f\"previous_incomes_{i}\"] = df[\"amount_incomes\"].shift(i, fill_value=0)\n",
    "    for i in range(1, 12):  # Only to 11, since the actual balance is the one from the beginning of the week\n",
    "        df[f\"previous_balance_{i}\"] = df[\"amount_incomes\"].shift(i, fill_value=0)   \n",
    "\n",
    "    return df[(df[[col for col in df.columns if 'expense' in col]] == 0).sum(1) < max_empty_weeks]\n",
    "\n",
    "\n",
    "def create_windows(df: pd.DataFrame, max_empty_weeks: int) -> pd.DataFrame:\n",
    "    \"\"\"Removes windows that have more than `max_empty_weeks` empty weeks.\"\"\"\n",
    "    transactions_dfs = [data for _, data in df.groupby(\"account_id\")]\n",
    "\n",
    "    return pd.concat(\n",
    "        [\n",
    "            _create_windows_unique_account(\n",
    "                df=df_unique_account, max_empty_weeks=max_empty_weeks\n",
    "            )\n",
    "            for df_unique_account in transactions_dfs\n",
    "        ]\n",
    "    ).reset_index(drop=True)"
   ]
  },
  {
   "cell_type": "code",
   "execution_count": 105,
   "metadata": {},
   "outputs": [
    {
     "data": {
      "text/html": [
       "<div>\n",
       "<style scoped>\n",
       "    .dataframe tbody tr th:only-of-type {\n",
       "        vertical-align: middle;\n",
       "    }\n",
       "\n",
       "    .dataframe tbody tr th {\n",
       "        vertical-align: top;\n",
       "    }\n",
       "\n",
       "    .dataframe thead th {\n",
       "        text-align: right;\n",
       "    }\n",
       "</style>\n",
       "<table border=\"1\" class=\"dataframe\">\n",
       "  <thead>\n",
       "    <tr style=\"text-align: right;\">\n",
       "      <th></th>\n",
       "      <th>date</th>\n",
       "      <th>amount_expenses</th>\n",
       "      <th>account_id</th>\n",
       "      <th>amount_incomes</th>\n",
       "      <th>balance</th>\n",
       "      <th>previous_expense_1</th>\n",
       "      <th>previous_expense_2</th>\n",
       "      <th>previous_expense_3</th>\n",
       "      <th>previous_expense_4</th>\n",
       "      <th>previous_expense_5</th>\n",
       "      <th>...</th>\n",
       "      <th>previous_balance_2</th>\n",
       "      <th>previous_balance_3</th>\n",
       "      <th>previous_balance_4</th>\n",
       "      <th>previous_balance_5</th>\n",
       "      <th>previous_balance_6</th>\n",
       "      <th>previous_balance_7</th>\n",
       "      <th>previous_balance_8</th>\n",
       "      <th>previous_balance_9</th>\n",
       "      <th>previous_balance_10</th>\n",
       "      <th>previous_balance_11</th>\n",
       "    </tr>\n",
       "  </thead>\n",
       "  <tbody>\n",
       "    <tr>\n",
       "      <th>0</th>\n",
       "      <td>2017-08-14</td>\n",
       "      <td>-180.0</td>\n",
       "      <td>2</td>\n",
       "      <td>0.0</td>\n",
       "      <td>-9147.16</td>\n",
       "      <td>-11.94</td>\n",
       "      <td>-0.00</td>\n",
       "      <td>-0.0</td>\n",
       "      <td>-5.9</td>\n",
       "      <td>-13.26</td>\n",
       "      <td>...</td>\n",
       "      <td>0.0</td>\n",
       "      <td>15.0</td>\n",
       "      <td>0.0</td>\n",
       "      <td>0.0</td>\n",
       "      <td>150.0</td>\n",
       "      <td>123.0</td>\n",
       "      <td>0.0</td>\n",
       "      <td>0.0</td>\n",
       "      <td>0.0</td>\n",
       "      <td>2300.0</td>\n",
       "    </tr>\n",
       "    <tr>\n",
       "      <th>1</th>\n",
       "      <td>2017-08-21</td>\n",
       "      <td>-375.9</td>\n",
       "      <td>2</td>\n",
       "      <td>530.0</td>\n",
       "      <td>-9327.16</td>\n",
       "      <td>-180.00</td>\n",
       "      <td>-11.94</td>\n",
       "      <td>-0.0</td>\n",
       "      <td>-0.0</td>\n",
       "      <td>-5.90</td>\n",
       "      <td>...</td>\n",
       "      <td>140.0</td>\n",
       "      <td>0.0</td>\n",
       "      <td>15.0</td>\n",
       "      <td>0.0</td>\n",
       "      <td>0.0</td>\n",
       "      <td>150.0</td>\n",
       "      <td>123.0</td>\n",
       "      <td>0.0</td>\n",
       "      <td>0.0</td>\n",
       "      <td>0.0</td>\n",
       "    </tr>\n",
       "  </tbody>\n",
       "</table>\n",
       "<p>2 rows × 40 columns</p>\n",
       "</div>"
      ],
      "text/plain": [
       "        date  amount_expenses  account_id  amount_incomes  balance  \\\n",
       "0 2017-08-14           -180.0           2             0.0 -9147.16   \n",
       "1 2017-08-21           -375.9           2           530.0 -9327.16   \n",
       "\n",
       "   previous_expense_1  previous_expense_2  previous_expense_3  \\\n",
       "0              -11.94               -0.00                -0.0   \n",
       "1             -180.00              -11.94                -0.0   \n",
       "\n",
       "   previous_expense_4  previous_expense_5  ...  previous_balance_2  \\\n",
       "0                -5.9              -13.26  ...                 0.0   \n",
       "1                -0.0               -5.90  ...               140.0   \n",
       "\n",
       "   previous_balance_3  previous_balance_4  previous_balance_5  \\\n",
       "0                15.0                 0.0                 0.0   \n",
       "1                 0.0                15.0                 0.0   \n",
       "\n",
       "   previous_balance_6  previous_balance_7  previous_balance_8  \\\n",
       "0               150.0               123.0                 0.0   \n",
       "1                 0.0               150.0               123.0   \n",
       "\n",
       "   previous_balance_9  previous_balance_10  previous_balance_11  \n",
       "0                 0.0                  0.0               2300.0  \n",
       "1                 0.0                  0.0                  0.0  \n",
       "\n",
       "[2 rows x 40 columns]"
      ]
     },
     "execution_count": 105,
     "metadata": {},
     "output_type": "execute_result"
    }
   ],
   "source": [
    "df_final = create_windows(df=df_week_transactions, max_empty_weeks=6)\n",
    "df_final.head(2)"
   ]
  },
  {
   "cell_type": "markdown",
   "metadata": {},
   "source": [
    "## Split TRAIN / VALIDATION / TEST"
   ]
  },
  {
   "cell_type": "code",
   "execution_count": 106,
   "metadata": {},
   "outputs": [],
   "source": [
    "def split_train_validation_test(\n",
    "    df: pd.DataFrame, ratio_train: float, ratio_validation: float\n",
    ") -> Tuple[pd.DataFrame]:\n",
    "    \"\"\"\n",
    "    Return a tuple of 3 DataFrames containing train, validation and test sets.\n",
    "    The split must respect the chronological order.\n",
    "    \"\"\"\n",
    "    dfs_train = []\n",
    "    dfs_validation = []\n",
    "    dfs_test = []\n",
    "\n",
    "    for account_id in df[\"account_id\"].unique():\n",
    "        df_temp = (\n",
    "            df[df[\"account_id\"] == account_id]\n",
    "            .sort_values(by=\"date\")\n",
    "            .reset_index(drop=True)\n",
    "        )\n",
    "        index_train, index_validation = int(len(df_temp) * ratio_train), int(\n",
    "            len(df_temp) * (ratio_validation + ratio_train)\n",
    "        )\n",
    "        dfs_train.append(df_temp[:index_train])\n",
    "        dfs_validation.append(df_temp[index_train:index_validation])\n",
    "        dfs_test.append(df_temp[index_validation:])\n",
    "\n",
    "    return (\n",
    "        pd.concat(dfs_train, ignore_index=True),\n",
    "        pd.concat(dfs_validation, ignore_index=True),\n",
    "        pd.concat(dfs_test, ignore_index=True),\n",
    "    )\n",
    "\n",
    "\n",
    "df_train, df_validate, df_test = split_train_validation_test(\n",
    "    df=df_final, ratio_train=0.6, ratio_validation=0.2\n",
    ")"
   ]
  },
  {
   "cell_type": "markdown",
   "metadata": {},
   "source": [
    "## Models"
   ]
  },
  {
   "cell_type": "code",
   "execution_count": 127,
   "metadata": {},
   "outputs": [],
   "source": [
    "from sklearn.linear_model import LinearRegression\n",
    "from sklearn.metrics import mean_absolute_error, median_absolute_error\n",
    "from sklearn.linear_model import Ridge, Lasso\n",
    "from xgboost import XGBRegressor\n",
    "\n",
    "def mean_absolute_percentage_error(y_true: np.ndarray, y_pred: np.ndarray) -> float:\n",
    "    return (\n",
    "        np.mean(\n",
    "            np.abs((y_true - y_pred) / y_true)[\n",
    "                np.isfinite(np.abs((y_true - y_pred) / y_true))\n",
    "            ]\n",
    "        )\n",
    "        * 100\n",
    "    )\n"
   ]
  },
  {
   "cell_type": "code",
   "execution_count": 111,
   "metadata": {},
   "outputs": [],
   "source": [
    "y_train = df_train[\"amount_expenses\"]\n",
    "X_train = df_train.drop([\"amount_expenses\", \"date\", \"amount_incomes\", \"account_id\"], axis=1)\n",
    "\n",
    "y_val = df_validate[\"amount_expenses\"]\n",
    "X_val = df_validate.drop([\"amount_expenses\", \"date\", \"amount_incomes\", \"account_id\"], axis=1)"
   ]
  },
  {
   "cell_type": "code",
   "execution_count": 112,
   "metadata": {},
   "outputs": [],
   "source": [
    "lin_reg = LinearRegression().fit(X_train, y_train)"
   ]
  },
  {
   "cell_type": "code",
   "execution_count": 119,
   "metadata": {},
   "outputs": [
    {
     "data": {
      "text/plain": [
       "303.3926222912919"
      ]
     },
     "execution_count": 119,
     "metadata": {},
     "output_type": "execute_result"
    }
   ],
   "source": [
    "y_val_pred = lin_reg.predict(X_val)\n",
    "median_absolute_error(y_val_pred, y_val)"
   ]
  },
  {
   "cell_type": "markdown",
   "metadata": {},
   "source": [
    "By computing incomes and balance features and applying a simple linear regression , we obtain a median absolute error higher than the one obtained using ARIMA model. \n"
   ]
  },
  {
   "cell_type": "markdown",
   "metadata": {},
   "source": [
    "#### Ridge / Lasso"
   ]
  },
  {
   "cell_type": "code",
   "execution_count": 123,
   "metadata": {},
   "outputs": [
    {
     "data": {
      "text/plain": [
       "303.39262227295103"
      ]
     },
     "execution_count": 123,
     "metadata": {},
     "output_type": "execute_result"
    }
   ],
   "source": [
    "reg_ridge = Ridge(alpha=1.0)\n",
    "reg_ridge.fit(X_train, y_train)\n",
    "y_val_pred = reg_ridge.predict(X_val)\n",
    "median_absolute_error(y_val_pred, y_val)"
   ]
  },
  {
   "cell_type": "code",
   "execution_count": 124,
   "metadata": {},
   "outputs": [
    {
     "name": "stderr",
     "output_type": "stream",
     "text": [
      "/Users/drissdebbaghnour/.pyenv/versions/3.8.2/envs/mansa_test/lib/python3.8/site-packages/sklearn/linear_model/_coordinate_descent.py:529: ConvergenceWarning: Objective did not converge. You might want to increase the number of iterations. Duality gap: 56179450.613364756, tolerance: 120829.15585266564\n",
      "  model = cd_fast.enet_coordinate_descent(\n"
     ]
    },
    {
     "data": {
      "text/plain": [
       "303.3926574847005"
      ]
     },
     "execution_count": 124,
     "metadata": {},
     "output_type": "execute_result"
    }
   ],
   "source": [
    "reg_lasso = Lasso(alpha=0.1)\n",
    "reg_lasso.fit(X_train, y_train)\n",
    "y_val_pred = reg_lasso.predict(X_val)\n",
    "median_absolute_error(y_val_pred, y_val)"
   ]
  },
  {
   "cell_type": "code",
   "execution_count": 128,
   "metadata": {},
   "outputs": [
    {
     "data": {
      "text/plain": [
       "273.1235461425781"
      ]
     },
     "execution_count": 128,
     "metadata": {},
     "output_type": "execute_result"
    }
   ],
   "source": [
    "xgb = XGBRegressor()\n",
    "xgb.fit(X_train, y_train)\n",
    "y_val_pred = xgb.predict(X_val)\n",
    "median_absolute_error(y_val_pred, y_val)"
   ]
  },
  {
   "cell_type": "markdown",
   "metadata": {},
   "source": [
    "The XGB performs better. It would be appropriate to test other models and parameters (gridsearch), but due to lack of time I will go forward with a classic XGBoost and its defaults parameters."
   ]
  },
  {
   "cell_type": "markdown",
   "metadata": {},
   "source": [
    "- An other improvement would be to add other features:\n",
    "    - moving average\n",
    "    - datetime features (week number in the the month [1, 2, 3, 4])\n",
    "    - statistical metrics (median, quantiles, std...)"
   ]
  },
  {
   "cell_type": "markdown",
   "metadata": {},
   "source": [
    "### Apply model on test set "
   ]
  },
  {
   "cell_type": "code",
   "execution_count": 130,
   "metadata": {},
   "outputs": [],
   "source": [
    "y_test = df_test[\"amount_expenses\"]\n",
    "X_test = df_test.drop([\"amount_expenses\", \"date\", \"amount_incomes\", \"account_id\"], axis=1)"
   ]
  },
  {
   "cell_type": "code",
   "execution_count": 133,
   "metadata": {},
   "outputs": [
    {
     "data": {
      "text/plain": [
       "299.4901519775391"
      ]
     },
     "execution_count": 133,
     "metadata": {},
     "output_type": "execute_result"
    }
   ],
   "source": [
    "xgb = XGBRegressor()\n",
    "#xgb.fit(pd.concat([X_train, X_val], axis=0), pd.concat([y_train, y_val], axis=0))\n",
    "xgb.fit(X_train, y_train)\n",
    "y_test_pred = xgb.predict(X_test)\n",
    "median_absolute_error(y_test_pred, y_test)"
   ]
  },
  {
   "cell_type": "code",
   "execution_count": 165,
   "metadata": {},
   "outputs": [
    {
     "data": {
      "text/plain": [
       "Index(['balance', 'previous_expense_1', 'previous_expense_2',\n",
       "       'previous_expense_3', 'previous_expense_4', 'previous_expense_5',\n",
       "       'previous_expense_6', 'previous_expense_7', 'previous_expense_8',\n",
       "       'previous_expense_9', 'previous_expense_10', 'previous_expense_11',\n",
       "       'previous_expense_12', 'previous_incomes_1', 'previous_incomes_2',\n",
       "       'previous_incomes_3', 'previous_incomes_4', 'previous_incomes_5',\n",
       "       'previous_incomes_6', 'previous_incomes_7', 'previous_incomes_8',\n",
       "       'previous_incomes_9', 'previous_incomes_10', 'previous_incomes_11',\n",
       "       'previous_incomes_12', 'previous_balance_1', 'previous_balance_2',\n",
       "       'previous_balance_3', 'previous_balance_4', 'previous_balance_5',\n",
       "       'previous_balance_6', 'previous_balance_7', 'previous_balance_8',\n",
       "       'previous_balance_9', 'previous_balance_10', 'previous_balance_11'],\n",
       "      dtype='object')"
      ]
     },
     "execution_count": 165,
     "metadata": {},
     "output_type": "execute_result"
    }
   ],
   "source": [
    "X_train.columns"
   ]
  },
  {
   "cell_type": "markdown",
   "metadata": {},
   "source": [
    "### Save the trained model"
   ]
  },
  {
   "cell_type": "code",
   "execution_count": 136,
   "metadata": {},
   "outputs": [
    {
     "data": {
      "text/plain": [
       "299.4901519775391"
      ]
     },
     "execution_count": 136,
     "metadata": {},
     "output_type": "execute_result"
    }
   ],
   "source": [
    "# save the model to disk\n",
    "filename = 'xgb_model.sav'\n",
    "joblib.dump(xgb, filename)\n",
    " \n",
    "# load the model from disk\n",
    "loaded_model = joblib.load(filename)\n",
    "y_test_pred = loaded_model.predict(X_test)\n",
    "median_absolute_error(y_test_pred, y_test)"
   ]
  },
  {
   "cell_type": "code",
   "execution_count": 166,
   "metadata": {},
   "outputs": [
    {
     "data": {
      "text/plain": [
       "False"
      ]
     },
     "execution_count": 166,
     "metadata": {},
     "output_type": "execute_result"
    }
   ],
   "source": [
    "df_final.empty"
   ]
  },
  {
   "cell_type": "code",
   "execution_count": 167,
   "metadata": {},
   "outputs": [
    {
     "data": {
      "text/plain": [
       "True"
      ]
     },
     "execution_count": 167,
     "metadata": {},
     "output_type": "execute_result"
    }
   ],
   "source": [
    "pd.DataFrame().empty"
   ]
  },
  {
   "cell_type": "code",
   "execution_count": null,
   "metadata": {},
   "outputs": [],
   "source": []
  }
 ],
 "metadata": {
  "kernelspec": {
   "display_name": "Python 3",
   "language": "python",
   "name": "python3"
  },
  "language_info": {
   "codemirror_mode": {
    "name": "ipython",
    "version": 3
   },
   "file_extension": ".py",
   "mimetype": "text/x-python",
   "name": "python",
   "nbconvert_exporter": "python",
   "pygments_lexer": "ipython3",
   "version": "3.8.2"
  }
 },
 "nbformat": 4,
 "nbformat_minor": 4
}
